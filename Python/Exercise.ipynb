{
 "cells": [
  {
   "cell_type": "code",
   "execution_count": 1,
   "metadata": {},
   "outputs": [
    {
     "name": "stdout",
     "output_type": "stream",
     "text": [
      "Enter a year: 2020\n",
      "2020 is a leap year!\n"
     ]
    }
   ],
   "source": [
    "#1) Write a program to check whether an year entered by an user is leap year or not\n",
    "year = int(input(\"Enter a year: \"))\n",
    "\n",
    "check = ( ( (year % 4 == 0) and (year % 100 != 0) ) or (year % 400 == 0) )\n",
    "if check:\n",
    "    print(\"{} is a leap year!\".format(year))\n",
    "else:\n",
    "    print(\"{} is not a leap year!\".format(year))"
   ]
  },
  {
   "cell_type": "code",
   "execution_count": 2,
   "metadata": {},
   "outputs": [
    {
     "name": "stdout",
     "output_type": "stream",
     "text": [
      "Enter a string with puntuation marks: Hello world!! How are you? I am, fine.\n",
      "Without puntuation:  Hello world How are you I am fine\n"
     ]
    }
   ],
   "source": [
    "#2) Take a string containing punctuation marks as an input from user and write a program to remove all the punctuation marks from a string\n",
    "str_punc = input(\"Enter a string with puntuation marks: \")\n",
    "punctuation = \"\"\"!()-[]{};:'\"\\,<>./?@#$%^&*_~\"\"\"\n",
    "\n",
    "for i in str_punc:\n",
    "    if i in punctuation:\n",
    "        str_punc = str_punc.replace(i, \"\")\n",
    "\n",
    "print(\"Without puntuation: \", str_punc)"
   ]
  },
  {
   "cell_type": "code",
   "execution_count": 1,
   "metadata": {},
   "outputs": [
    {
     "name": "stdout",
     "output_type": "stream",
     "text": [
      "Enter 1st Number: 17\n",
      "Enter 2nd Number: 15\n",
      "1st Number:  15\n",
      "2nd Number:  17\n"
     ]
    }
   ],
   "source": [
    "#3) Take two separate numbers as input from the user and Write a program to swap 2 numbers without using temporary variable\n",
    "num1 = int(input(\"Enter 1st Number: \"))\n",
    "num2 = int(input(\"Enter 2nd Number: \"))\n",
    "\n",
    "num1, num2 = num2, num1\n",
    "\n",
    "print(\"1st Number: \", num1)\n",
    "print(\"2nd Number: \", num2)"
   ]
  },
  {
   "cell_type": "code",
   "execution_count": 3,
   "metadata": {},
   "outputs": [
    {
     "name": "stdout",
     "output_type": "stream",
     "text": [
      "Product of  10  and  15  is  150\n"
     ]
    }
   ],
   "source": [
    "#4) Write a program to print product of following variables\n",
    "num_int = 10\n",
    "num_str = \"15\"\n",
    "\n",
    "product = num_int * int(num_str)\n",
    "\n",
    "print(\"Product of \", num_int, \" and \", num_str, \" is \", product)"
   ]
  },
  {
   "cell_type": "code",
   "execution_count": 15,
   "metadata": {},
   "outputs": [
    {
     "name": "stdout",
     "output_type": "stream",
     "text": [
      "Without Ascii:\n",
      "a \n",
      "b c \n",
      "d e f \n",
      "g h i j \n",
      "k l m n o \n",
      "p q r s t u \n",
      "\n",
      "With Ascii:\n",
      "a \n",
      "b c \n",
      "d e f \n",
      "g h i j \n",
      "k l m n o \n",
      "p q r s t u \n"
     ]
    }
   ],
   "source": [
    "#5) Write a program to print following pattern\n",
    "# 65-90: capital Alpha Ascii, 97-122: smaller alpha ascii,  48-56: Numbers ascii\n",
    "\n",
    "#without ascii\n",
    "pattern = \"abcdefghijklmnopqrstu\"\n",
    "\n",
    "print(\"Without Ascii:\")\n",
    "count = 0\n",
    "for i in range(6):\n",
    "    for j in range(i + 1):\n",
    "        print(pattern[count], end=\" \")\n",
    "        count += 1\n",
    "    print()\n",
    "    \n",
    "print()\n",
    "\n",
    "#with ascii\n",
    "print(\"With Ascii:\")\n",
    "asciichr = 97\n",
    "for i in range(6):\n",
    "    for j in range(i + 1):\n",
    "        char = chr(asciichr)\n",
    "        print(char, end=\" \")\n",
    "        asciichr += 1\n",
    "    print()"
   ]
  },
  {
   "cell_type": "code",
   "execution_count": 18,
   "metadata": {},
   "outputs": [
    {
     "name": "stdout",
     "output_type": "stream",
     "text": [
      "Enter tables limit: 5\n",
      "Table of  2 : \n",
      "2  *  1  =  2\n",
      "2  *  2  =  4\n",
      "2  *  3  =  6\n",
      "2  *  4  =  8\n",
      "2  *  5  =  10\n",
      "2  *  6  =  12\n",
      "2  *  7  =  14\n",
      "2  *  8  =  16\n",
      "2  *  9  =  18\n",
      "2  *  10  =  20\n",
      "\n",
      "Table of  3 : \n",
      "3  *  1  =  3\n",
      "3  *  2  =  6\n",
      "3  *  3  =  9\n",
      "3  *  4  =  12\n",
      "3  *  5  =  15\n",
      "3  *  6  =  18\n",
      "3  *  7  =  21\n",
      "3  *  8  =  24\n",
      "3  *  9  =  27\n",
      "3  *  10  =  30\n",
      "\n",
      "Table of  4 : \n",
      "4  *  1  =  4\n",
      "4  *  2  =  8\n",
      "4  *  3  =  12\n",
      "4  *  4  =  16\n",
      "4  *  5  =  20\n",
      "4  *  6  =  24\n",
      "4  *  7  =  28\n",
      "4  *  8  =  32\n",
      "4  *  9  =  36\n",
      "4  *  10  =  40\n",
      "\n",
      "Table of  5 : \n",
      "5  *  1  =  5\n",
      "5  *  2  =  10\n",
      "5  *  3  =  15\n",
      "5  *  4  =  20\n",
      "5  *  5  =  25\n",
      "5  *  6  =  30\n",
      "5  *  7  =  35\n",
      "5  *  8  =  40\n",
      "5  *  9  =  45\n",
      "5  *  10  =  50\n",
      "\n"
     ]
    }
   ],
   "source": [
    "#6) Write a program to print tables from 2 to n, where n is provided by user\n",
    "n = int(input(\"Enter tables limit: \"))\n",
    "\n",
    "for i in range(2, n + 1):\n",
    "    print(\"Table of \", i, \": \")\n",
    "    for j in range(1, 11):\n",
    "        m = i * j\n",
    "        print(i, \" * \", j, \" = \", m)\n",
    "    print()"
   ]
  },
  {
   "cell_type": "code",
   "execution_count": 19,
   "metadata": {},
   "outputs": [
    {
     "name": "stdout",
     "output_type": "stream",
     "text": [
      "Enter your height: 153\n",
      "Height in inches:  60.282000000000004\n",
      "Height in feet:  5.018400000000001\n"
     ]
    }
   ],
   "source": [
    "#7) Write a program to read height (in centimeters) from user and then convert it to feet and inches\n",
    "height = float(input(\"Enter your height: \"))\n",
    "\n",
    "hinches = 0.394 * height\n",
    "hfeet = 0.0328 * height\n",
    "\n",
    "print(\"Height in inches: \", hinches)\n",
    "print(\"Height in feet: \", hfeet)"
   ]
  },
  {
   "cell_type": "code",
   "execution_count": 36,
   "metadata": {},
   "outputs": [
    {
     "name": "stdout",
     "output_type": "stream",
     "text": [
      "Enter number of rows: 3\n",
      "* \n",
      "* * \n",
      "* * * \n",
      "* * \n",
      "* \n",
      "\n"
     ]
    }
   ],
   "source": [
    "#8) Write a program to print following pattern\n",
    "n = int(input(\"Enter number of rows: \"))\n",
    "for i in range(n):\n",
    "    for j in range(i + 1):\n",
    "        print(\"*\", end=\" \")\n",
    "    print()\n",
    "\n",
    "for i in range(n, 0, -1):\n",
    "    for j in range(i - 1):\n",
    "        print(\"*\", end=\" \")\n",
    "    print()"
   ]
  },
  {
   "cell_type": "code",
   "execution_count": 37,
   "metadata": {},
   "outputs": [
    {
     "name": "stdout",
     "output_type": "stream",
     "text": [
      "{'Jon': 26, 'Roger': 34, 'Jessica': 13, 'Monica': 24, 'Ashton': 65}\n",
      "{'Jon': 26, 'Roger': 34, 'Jessica': 13, 'Monica': 24, 'Ashton': 65}\n"
     ]
    }
   ],
   "source": [
    "#9) Below list contains age and name of five students. Convert the list into a dictionary such that the name is taken as key and the age before their name is taken as thier respective value in the dictionary\n",
    "students = [26, 'Jon', 34, 'Roger', 13, 'Jessica', 24, 'Monica', 65, 'Ashton']\n",
    "\n",
    "#Method 1\n",
    "keys = students[1::2]\n",
    "values = students[0::2]\n",
    "\n",
    "student_dict = dict(zip(keys, values))\n",
    "print(student_dict)\n",
    "\n",
    "#Method 2\n",
    "def Convert(lst):\n",
    "    dct = { lst[i + 1]: lst[i] for i in range(0, len(lst), 2) }\n",
    "    return dct\n",
    "\n",
    "student_dict = Convert(students)\n",
    "print(student_dict)"
   ]
  },
  {
   "cell_type": "code",
   "execution_count": 24,
   "metadata": {},
   "outputs": [
    {
     "name": "stdout",
     "output_type": "stream",
     "text": [
      "Enter 1st string: Listen\n",
      "Enter 2nd string: Silent\n",
      "Listen and Silent are anagram!\n"
     ]
    }
   ],
   "source": [
    "#10) Write a program to check whether two strings, taken from user, are anagram or not\n",
    "str1 = input(\"Enter 1st string: \")\n",
    "str2 = input(\"Enter 2nd string: \")\n",
    "\n",
    "if sorted(str1.lower()) == sorted(str2.lower()):\n",
    "    print(\"{0} and {1} are anagram!\".format(str1, str2))\n",
    "else:\n",
    "    print(\"{0} and {1} are not anagram!\".format(str1, str2))\n"
   ]
  },
  {
   "cell_type": "code",
   "execution_count": 38,
   "metadata": {},
   "outputs": [
    {
     "name": "stdout",
     "output_type": "stream",
     "text": [
      "['Apple', 'Cherry', 'Grape', 'Mango', 'Orange']\n"
     ]
    }
   ],
   "source": [
    "#11) Write a program that sorts all the elements of the list according to the first letter, irrespective of their cases (uppercase or lowercase). Note: Do not use any inbuilt sorting function\n",
    "fruits = [\"Mango\", \"Cherry\", \"Grape\", \"Apple\", \"Orange\"]\n",
    "n = len(fruits)\n",
    "\n",
    "for i in range(n - 1): #0, 1, 2, 3, 4\n",
    "    for j in range(n-i-1): #4, 3, 2, 1, 0\n",
    "        if fruits[j].lower() > fruits[j + 1].lower():\n",
    "            fruits[j], fruits[j + 1] = fruits[j + 1], fruits[j]\n",
    "            \n",
    "print(fruits)"
   ]
  },
  {
   "cell_type": "code",
   "execution_count": 42,
   "metadata": {},
   "outputs": [
    {
     "name": "stdout",
     "output_type": "stream",
     "text": [
      "Sour Fruits:  ['Lemon', 'Grapes', 'Kiwi', 'Orange', 'Limes']\n"
     ]
    }
   ],
   "source": [
    "#12) Write a program that prints a list of sour fruits from the below tuple:\n",
    "fruits = (('Lemon','sour'), ('DragonFruit', 'Sweet'), ('Grapes','soUr'), ('Kiwi','Sour'), ('Apples','sweet'), ('Orange','sour'), ('Blueberries','sweet'), ('Limes','Sour'))\n",
    "sour_fruits = []\n",
    "\n",
    "for k, f in fruits:\n",
    "    if f.lower() == \"sour\":\n",
    "        sour_fruits.append(k)\n",
    "        \n",
    "print(\"Sour Fruits: \", sour_fruits)"
   ]
  },
  {
   "cell_type": "code",
   "execution_count": 44,
   "metadata": {},
   "outputs": [
    {
     "name": "stdout",
     "output_type": "stream",
     "text": [
      "Positive Tweets are:  ['This government policies are good', 'The way he played showed that he is one of the best players in the world', 'Her acting in the play was awesome', \"It's nice to hear this little kid's laugh\"]\n",
      "Negative Tweets are:  ['bad implementation', 'The wine tastes awful']\n"
     ]
    }
   ],
   "source": [
    "#13) Given below are the list of positive and negative words. Also a list of tweets is provided. Separate out the positive and negative comments\n",
    "positive = ['good','awesome', 'best', 'nice']\n",
    "negative = ['worst','awful', 'bad']\n",
    "\n",
    "tweets = [\"This government policies are good\", \"bad implementation\", \"The way he played showed that he is one of the best players in the world\", \"Her acting in the play was awesome\", \"The wine tastes awful\", \"It's nice to hear this little kid's laugh\"]\n",
    "tweet_dict = {\"positive\": [], \"negative\": []}\n",
    "\n",
    "for tweet in tweets:\n",
    "    for word in tweet.split():\n",
    "        if word.lower() in positive:\n",
    "            tweet_dict[\"positive\"].append(tweet)\n",
    "        elif word.lower() in negative:\n",
    "            tweet_dict[\"negative\"].append(tweet)\n",
    "\n",
    "print(\"Positive Tweets are: \", tweet_dict[\"positive\"])\n",
    "print(\"Negative Tweets are: \", tweet_dict[\"negative\"])"
   ]
  },
  {
   "cell_type": "code",
   "execution_count": 3,
   "metadata": {},
   "outputs": [
    {
     "name": "stdout",
     "output_type": "stream",
     "text": [
      "Multiplcation: \n",
      "[[ 1 16  3]\n",
      " [12 35 18]\n",
      " [28 40 81]]\n",
      "Dot Product: \n",
      "[[ 19  37  34]\n",
      " [ 43  97  73]\n",
      " [ 67 157 112]]\n"
     ]
    }
   ],
   "source": [
    "#14) Write a program that performs multiplication of the following two matrix\n",
    "import numpy as np\n",
    "\n",
    "X = [[1, 2, 3],\n",
    "    [4, 5, 6],\n",
    "    [7, 8, 9]]\n",
    "\n",
    "Y = [[1, 8, 1],\n",
    "    [3, 7, 3],\n",
    "    [4, 5, 9]]\n",
    "\n",
    "X_arr = np.array(X)\n",
    "Y_arr = np.array(Y)\n",
    "\n",
    "multiplication = X_arr * Y_arr\n",
    "dot_product = np.dot(X_arr, Y_arr)\n",
    "\n",
    "print(\"Multiplcation: \")\n",
    "print(multiplication)\n",
    "\n",
    "print(\"Dot Product: \")\n",
    "print(dot_product)"
   ]
  },
  {
   "cell_type": "code",
   "execution_count": 59,
   "metadata": {},
   "outputs": [
    {
     "name": "stdout",
     "output_type": "stream",
     "text": [
      "{'emp01': 'Raj', 'emp02': 'Sheela', 'emp03': 'Joseph'}\n"
     ]
    }
   ],
   "source": [
    "#15) Write a program to remove space from keys of the given dictionary\n",
    "employee = {'emp 01' : 'Raj', 'emp 02' : 'Sheela', 'emp 0 3 ': 'Joseph'}\n",
    "new_employee = {}\n",
    "\n",
    "for k, v in employee.items():\n",
    "    new_employee[k.replace(\" \", \"\")] = v\n",
    "\n",
    "print(new_employee)"
   ]
  },
  {
   "cell_type": "code",
   "execution_count": 4,
   "metadata": {},
   "outputs": [
    {
     "data": {
      "text/html": [
       "<div>\n",
       "<style scoped>\n",
       "    .dataframe tbody tr th:only-of-type {\n",
       "        vertical-align: middle;\n",
       "    }\n",
       "\n",
       "    .dataframe tbody tr th {\n",
       "        vertical-align: top;\n",
       "    }\n",
       "\n",
       "    .dataframe thead th {\n",
       "        text-align: right;\n",
       "    }\n",
       "</style>\n",
       "<table border=\"1\" class=\"dataframe\">\n",
       "  <thead>\n",
       "    <tr style=\"text-align: right;\">\n",
       "      <th></th>\n",
       "      <th>Subject</th>\n",
       "      <th>Scores</th>\n",
       "    </tr>\n",
       "  </thead>\n",
       "  <tbody>\n",
       "    <tr>\n",
       "      <th>0</th>\n",
       "      <td>Maths</td>\n",
       "      <td>345</td>\n",
       "    </tr>\n",
       "    <tr>\n",
       "      <th>1</th>\n",
       "      <td>Physics</td>\n",
       "      <td>432</td>\n",
       "    </tr>\n",
       "    <tr>\n",
       "      <th>2</th>\n",
       "      <td>Chemistry</td>\n",
       "      <td>456</td>\n",
       "    </tr>\n",
       "  </tbody>\n",
       "</table>\n",
       "</div>"
      ],
      "text/plain": [
       "     Subject  Scores\n",
       "0      Maths     345\n",
       "1    Physics     432\n",
       "2  Chemistry     456"
      ]
     },
     "execution_count": 4,
     "metadata": {},
     "output_type": "execute_result"
    }
   ],
   "source": [
    "#16) Write a program to display the subjects for which the scores are between 300 and 500 (inclusive) in the given dataframe\n",
    "import pandas as pd\n",
    "\n",
    "subjects = {\"Subject\": [\"Maths\", \"Physics\", \"Chemistry\", \"Biology\", \"Geology\"], \"Scores\": [345, 432, 456, 234, 254]}\n",
    "df_subjects = pd.DataFrame(subjects)\n",
    "\n",
    "df_subjects[(df_subjects[\"Scores\"] >= 300) & (df_subjects[\"Scores\"] <= 500)]"
   ]
  },
  {
   "cell_type": "code",
   "execution_count": 63,
   "metadata": {},
   "outputs": [
    {
     "name": "stdout",
     "output_type": "stream",
     "text": [
      "[12459 12447 12678]\n"
     ]
    }
   ],
   "source": [
    "#17) Write a program to find numbers between 10000 to 20000 from a given array\n",
    "Sales = [1432, 143223, 2043332, 1642357, 54327, 754338, 12459, 75435, 224454, 1433, 12447, 25532, 86674, 74338, 12678]\n",
    "sales_arr = np.array(Sales)\n",
    "\n",
    "print(sales_arr[(sales_arr >= 10000) & (sales_arr <= 20000)])"
   ]
  },
  {
   "cell_type": "code",
   "execution_count": 74,
   "metadata": {},
   "outputs": [
    {
     "data": {
      "text/html": [
       "<div>\n",
       "<style scoped>\n",
       "    .dataframe tbody tr th:only-of-type {\n",
       "        vertical-align: middle;\n",
       "    }\n",
       "\n",
       "    .dataframe tbody tr th {\n",
       "        vertical-align: top;\n",
       "    }\n",
       "\n",
       "    .dataframe thead th {\n",
       "        text-align: right;\n",
       "    }\n",
       "</style>\n",
       "<table border=\"1\" class=\"dataframe\">\n",
       "  <thead>\n",
       "    <tr style=\"text-align: right;\">\n",
       "      <th></th>\n",
       "      <th>Name</th>\n",
       "      <th>Rank</th>\n",
       "    </tr>\n",
       "  </thead>\n",
       "  <tbody>\n",
       "    <tr>\n",
       "      <th>3</th>\n",
       "      <td>Tom</td>\n",
       "      <td>84</td>\n",
       "    </tr>\n",
       "    <tr>\n",
       "      <th>0</th>\n",
       "      <td>Joy</td>\n",
       "      <td>115</td>\n",
       "    </tr>\n",
       "    <tr>\n",
       "      <th>2</th>\n",
       "      <td>Karan</td>\n",
       "      <td>341</td>\n",
       "    </tr>\n",
       "    <tr>\n",
       "      <th>1</th>\n",
       "      <td>Mia</td>\n",
       "      <td>451</td>\n",
       "    </tr>\n",
       "  </tbody>\n",
       "</table>\n",
       "</div>"
      ],
      "text/plain": [
       "    Name  Rank\n",
       "3    Tom    84\n",
       "0    Joy   115\n",
       "2  Karan   341\n",
       "1    Mia   451"
      ]
     },
     "execution_count": 74,
     "metadata": {},
     "output_type": "execute_result"
    }
   ],
   "source": [
    "#18) Write a program to sort the dataframe by Rank (in ascending order)\n",
    "students = {\"Name\": [\"Joy\", \"Mia\", \"Karan\", \"Tom\"], \"Rank\": [115, 451, 341, 84]}\n",
    "df_students = pd.DataFrame(students)\n",
    "\n",
    "df_students.sort_values([\"Rank\"])"
   ]
  },
  {
   "cell_type": "code",
   "execution_count": 75,
   "metadata": {
    "scrolled": true
   },
   "outputs": [
    {
     "name": "stdout",
     "output_type": "stream",
     "text": [
      "    Name  Rank\n",
      "0    Joy   115\n",
      "1    Mia   451\n",
      "2  Karan   341\n",
      "3    Tom    84\n"
     ]
    },
    {
     "data": {
      "text/html": [
       "<div>\n",
       "<style scoped>\n",
       "    .dataframe tbody tr th:only-of-type {\n",
       "        vertical-align: middle;\n",
       "    }\n",
       "\n",
       "    .dataframe tbody tr th {\n",
       "        vertical-align: top;\n",
       "    }\n",
       "\n",
       "    .dataframe thead th {\n",
       "        text-align: right;\n",
       "    }\n",
       "</style>\n",
       "<table border=\"1\" class=\"dataframe\">\n",
       "  <thead>\n",
       "    <tr style=\"text-align: right;\">\n",
       "      <th></th>\n",
       "      <th>Name</th>\n",
       "      <th>Rank</th>\n",
       "    </tr>\n",
       "  </thead>\n",
       "  <tbody>\n",
       "    <tr>\n",
       "      <th>0</th>\n",
       "      <td>Mia</td>\n",
       "      <td>451</td>\n",
       "    </tr>\n",
       "    <tr>\n",
       "      <th>1</th>\n",
       "      <td>Joy</td>\n",
       "      <td>115</td>\n",
       "    </tr>\n",
       "    <tr>\n",
       "      <th>2</th>\n",
       "      <td>Karan</td>\n",
       "      <td>341</td>\n",
       "    </tr>\n",
       "    <tr>\n",
       "      <th>3</th>\n",
       "      <td>Tom</td>\n",
       "      <td>84</td>\n",
       "    </tr>\n",
       "  </tbody>\n",
       "</table>\n",
       "</div>"
      ],
      "text/plain": [
       "    Name  Rank\n",
       "0    Mia   451\n",
       "1    Joy   115\n",
       "2  Karan   341\n",
       "3    Tom    84"
      ]
     },
     "execution_count": 75,
     "metadata": {},
     "output_type": "execute_result"
    }
   ],
   "source": [
    "#19) Use the data given in the question 18, to do the following: Write a program to swap the 1st and 2nd row in a dataframe\n",
    "print(df_students)\n",
    "\n",
    "df_students.loc[0], df_students.loc[1] = df_students.loc[1], df_students.loc[0]\n",
    "\n",
    "df_students"
   ]
  },
  {
   "cell_type": "code",
   "execution_count": 77,
   "metadata": {},
   "outputs": [
    {
     "data": {
      "text/html": [
       "<div>\n",
       "<style scoped>\n",
       "    .dataframe tbody tr th:only-of-type {\n",
       "        vertical-align: middle;\n",
       "    }\n",
       "\n",
       "    .dataframe tbody tr th {\n",
       "        vertical-align: top;\n",
       "    }\n",
       "\n",
       "    .dataframe thead th {\n",
       "        text-align: right;\n",
       "    }\n",
       "</style>\n",
       "<table border=\"1\" class=\"dataframe\">\n",
       "  <thead>\n",
       "    <tr style=\"text-align: right;\">\n",
       "      <th></th>\n",
       "      <th>Id</th>\n",
       "      <th>Name</th>\n",
       "      <th>Gender</th>\n",
       "    </tr>\n",
       "  </thead>\n",
       "  <tbody>\n",
       "    <tr>\n",
       "      <th>0</th>\n",
       "      <td>1</td>\n",
       "      <td>Mia</td>\n",
       "      <td>F</td>\n",
       "    </tr>\n",
       "    <tr>\n",
       "      <th>1</th>\n",
       "      <td>2</td>\n",
       "      <td>Sara</td>\n",
       "      <td>F</td>\n",
       "    </tr>\n",
       "    <tr>\n",
       "      <th>2</th>\n",
       "      <td>3</td>\n",
       "      <td>Joy</td>\n",
       "      <td>M</td>\n",
       "    </tr>\n",
       "    <tr>\n",
       "      <th>3</th>\n",
       "      <td>4</td>\n",
       "      <td>Karan</td>\n",
       "      <td>M</td>\n",
       "    </tr>\n",
       "  </tbody>\n",
       "</table>\n",
       "</div>"
      ],
      "text/plain": [
       "   Id   Name Gender\n",
       "0   1    Mia      F\n",
       "1   2   Sara      F\n",
       "2   3    Joy      M\n",
       "3   4  Karan      M"
      ]
     },
     "execution_count": 77,
     "metadata": {},
     "output_type": "execute_result"
    }
   ],
   "source": [
    "#20) Write a program to replace 0 and 1 in Gender variable with M and F\n",
    "gender_data = {\"Id\": np.arange(1,5), \"Name\": [\"Mia\", \"Sara\", \"Joy\", \"Karan\"], \"Gender\": [1, 1, 0, 0]}\n",
    "df_gender = pd.DataFrame(gender_data)\n",
    "\n",
    "df_gender[\"Gender\"] = df_gender[\"Gender\"].replace(to_replace=[1, 0], value=[\"F\", \"M\"])\n",
    "df_gender"
   ]
  },
  {
   "cell_type": "code",
   "execution_count": 47,
   "metadata": {},
   "outputs": [
    {
     "data": {
      "text/plain": [
       "array([[331, 245, 246],\n",
       "       [475, 348, 229]])"
      ]
     },
     "execution_count": 47,
     "metadata": {},
     "output_type": "execute_result"
    }
   ],
   "source": [
    "#21) Convert a 1D array to a 2D array containing 2 rows\n",
    "dim_1 = np.array([331, 245, 246, 475, 348, 229])\n",
    "\n",
    "dim_1 = dim_1.reshape(2, 3)\n",
    "dim_1"
   ]
  },
  {
   "cell_type": "code",
   "execution_count": 27,
   "metadata": {},
   "outputs": [
    {
     "name": "stdout",
     "output_type": "stream",
     "text": [
      "product_a    17.333333\n",
      "product_b    16.333333\n",
      "product_c    21.000000\n",
      "dtype: float64\n"
     ]
    }
   ],
   "source": [
    "#22) Find the average cost of each variety of product available in the three different shops\n",
    "sales_df = pd.DataFrame([[10, 20, 30], [17, 14, 21], [25, 15, 12]], columns=['product_a', 'product_b', 'product_c'], index=['Shop1', 'Shop2', 'Shop3'])\n",
    "print(sales_df.mean())"
   ]
  },
  {
   "cell_type": "code",
   "execution_count": 30,
   "metadata": {},
   "outputs": [
    {
     "data": {
      "image/png": "[encoded data removed]",
      "text/plain": [
       "<Figure size 432x288 with 1 Axes>"
      ]
     },
     "metadata": {
      "needs_background": "light"
     },
     "output_type": "display_data"
    }
   ],
   "source": [
    "#23) Write a program to create a histogram using given data\n",
    "import matplotlib.pyplot as plt\n",
    "\n",
    "weight = [34,56,43,22,2,58,89,78,67,56,65,43,23]\n",
    "df_weight = pd.Series(weight)\n",
    "\n",
    "plt.hist(x=df_weight, color=\"darkviolet\")\n",
    "plt.title(\"Distribution of weight\")\n",
    "plt.xlabel(\"Weight\")\n",
    "plt.ylabel(\"Frequency\")\n",
    "plt.show()"
   ]
  },
  {
   "cell_type": "code",
   "execution_count": 37,
   "metadata": {},
   "outputs": [
    {
     "data": {
      "text/plain": [
       "0    11\n",
       "1    12\n",
       "2    13\n",
       "dtype: int64"
      ]
     },
     "execution_count": 37,
     "metadata": {},
     "output_type": "execute_result"
    }
   ],
   "source": [
    "#24) Write a program to delete items from series_a that are present in series_b and print the updated series_a\n",
    "series_a = pd.Series([11, 12, 13, 14, 15])\n",
    "series_b = pd.Series([14, 15, 16, 17, 18])\n",
    "\n",
    "series_a = pd.Series(np.setdiff1d(series_a, series_b))\n",
    "series_a"
   ]
  },
  {
   "cell_type": "code",
   "execution_count": 42,
   "metadata": {},
   "outputs": [
    {
     "data": {
      "text/html": [
       "<div>\n",
       "<style scoped>\n",
       "    .dataframe tbody tr th:only-of-type {\n",
       "        vertical-align: middle;\n",
       "    }\n",
       "\n",
       "    .dataframe tbody tr th {\n",
       "        vertical-align: top;\n",
       "    }\n",
       "\n",
       "    .dataframe thead th {\n",
       "        text-align: right;\n",
       "    }\n",
       "</style>\n",
       "<table border=\"1\" class=\"dataframe\">\n",
       "  <thead>\n",
       "    <tr style=\"text-align: right;\">\n",
       "      <th></th>\n",
       "      <th>0</th>\n",
       "      <th>1</th>\n",
       "      <th>2</th>\n",
       "      <th>3</th>\n",
       "      <th>4</th>\n",
       "      <th>5</th>\n",
       "      <th>6</th>\n",
       "      <th>7</th>\n",
       "    </tr>\n",
       "  </thead>\n",
       "  <tbody>\n",
       "    <tr>\n",
       "      <th>0</th>\n",
       "      <td>0.108897</td>\n",
       "      <td>0.345569</td>\n",
       "      <td>0.385397</td>\n",
       "      <td>0.333040</td>\n",
       "      <td>0.664339</td>\n",
       "      <td>0.050035</td>\n",
       "      <td>0.060078</td>\n",
       "      <td>0.107290</td>\n",
       "    </tr>\n",
       "    <tr>\n",
       "      <th>1</th>\n",
       "      <td>0.731980</td>\n",
       "      <td>0.522058</td>\n",
       "      <td>0.983275</td>\n",
       "      <td>0.850354</td>\n",
       "      <td>0.431804</td>\n",
       "      <td>0.293495</td>\n",
       "      <td>0.213857</td>\n",
       "      <td>0.892084</td>\n",
       "    </tr>\n",
       "    <tr>\n",
       "      <th>2</th>\n",
       "      <td>0.873360</td>\n",
       "      <td>0.108110</td>\n",
       "      <td>0.703995</td>\n",
       "      <td>0.004795</td>\n",
       "      <td>0.060764</td>\n",
       "      <td>0.352044</td>\n",
       "      <td>0.412313</td>\n",
       "      <td>0.090656</td>\n",
       "    </tr>\n",
       "    <tr>\n",
       "      <th>3</th>\n",
       "      <td>0.066782</td>\n",
       "      <td>0.867666</td>\n",
       "      <td>0.332604</td>\n",
       "      <td>0.555976</td>\n",
       "      <td>0.147835</td>\n",
       "      <td>0.028657</td>\n",
       "      <td>0.036007</td>\n",
       "      <td>0.959599</td>\n",
       "    </tr>\n",
       "    <tr>\n",
       "      <th>4</th>\n",
       "      <td>0.032164</td>\n",
       "      <td>0.705055</td>\n",
       "      <td>0.700672</td>\n",
       "      <td>0.381422</td>\n",
       "      <td>0.737426</td>\n",
       "      <td>0.366489</td>\n",
       "      <td>0.383652</td>\n",
       "      <td>0.464642</td>\n",
       "    </tr>\n",
       "  </tbody>\n",
       "</table>\n",
       "</div>"
      ],
      "text/plain": [
       "          0         1         2         3         4         5         6  \\\n",
       "0  0.108897  0.345569  0.385397  0.333040  0.664339  0.050035  0.060078   \n",
       "1  0.731980  0.522058  0.983275  0.850354  0.431804  0.293495  0.213857   \n",
       "2  0.873360  0.108110  0.703995  0.004795  0.060764  0.352044  0.412313   \n",
       "3  0.066782  0.867666  0.332604  0.555976  0.147835  0.028657  0.036007   \n",
       "4  0.032164  0.705055  0.700672  0.381422  0.737426  0.366489  0.383652   \n",
       "\n",
       "          7  \n",
       "0  0.107290  \n",
       "1  0.892084  \n",
       "2  0.090656  \n",
       "3  0.959599  \n",
       "4  0.464642  "
      ]
     },
     "execution_count": 42,
     "metadata": {},
     "output_type": "execute_result"
    }
   ],
   "source": [
    "#25) Create a series of 40 random numbers and transform it into a dataframe containing seven columns and five rows\n",
    "ser = pd.Series(np.random.random(size=40))\n",
    "ser_df = pd.DataFrame(ser.values.reshape(5, 8))\n",
    "ser_df"
   ]
  },
  {
   "cell_type": "code",
   "execution_count": 45,
   "metadata": {},
   "outputs": [
    {
     "name": "stdout",
     "output_type": "stream",
     "text": [
      "[13 22 44]\n"
     ]
    }
   ],
   "source": [
    "#26) Get common elements from the two arrays\n",
    "test_a = np.array([11, 12, 13, 22, 23, 44, 43, 24, 45, 36])\n",
    "test_b = np.array([17, 22, 13, 22, 47, 34, 39, 44, 29, 28])\n",
    "\n",
    "print(np.intersect1d(test_a, test_b))"
   ]
  },
  {
   "cell_type": "code",
   "execution_count": 49,
   "metadata": {},
   "outputs": [
    {
     "name": "stdout",
     "output_type": "stream",
     "text": [
      "   year month  passengers\n",
      "0  1949   Jan         112\n",
      "1  1949   Feb         118\n",
      "2  1949   Mar         132\n",
      "3  1949   Apr         129\n",
      "4  1949   May         121\n"
     ]
    },
    {
     "data": {
      "text/plain": [
       "year             int64\n",
       "month         category\n",
       "passengers       int64\n",
       "dtype: object"
      ]
     },
     "execution_count": 49,
     "metadata": {},
     "output_type": "execute_result"
    }
   ],
   "source": [
    "#27) Import dataset 'flights' from library seaborn. Check for datatypes of all variable.\n",
    "import seaborn as sns\n",
    "\n",
    "df = sns.load_dataset('flights')\n",
    "print(df.head())\n",
    "df.dtypes"
   ]
  },
  {
   "cell_type": "code",
   "execution_count": 52,
   "metadata": {},
   "outputs": [
    {
     "data": {
      "text/plain": [
       "Product  Country\n",
       "A        Europe     114000\n",
       "         USA        111000\n",
       "J        Japan       81000\n",
       "L        Japan       95600\n",
       "         USA         59000\n",
       "R        Europe      79000\n",
       "         USA         68000\n",
       "Name: Sales, dtype: int64"
      ]
     },
     "execution_count": 52,
     "metadata": {},
     "output_type": "execute_result"
    }
   ],
   "source": [
    "#28) Compute total sales for each product and country\n",
    "sales_dic = {\"Product\": [\"A\", \"J\", \"A\", \"L\", \"R\", \"A\", \"R\", \"J\", \"L\", \"A\"], \n",
    "             \"Country\": [\"USA\", \"Japan\", \"Europe\", \"Japan\", \"Europe\", \"USA\", \"USA\", \"Japan\", \"USA\", \"Europe\"], \n",
    "             \"Sales\": [44000, 43000, 54000, 95600, 79000, 67000, 68000, 38000, 59000, 60000]}\n",
    "\n",
    "sales_df = pd.DataFrame(sales_dic)\n",
    "sales_df.groupby(by=[\"Product\", \"Country\"])[\"Sales\"].sum()"
   ]
  },
  {
   "cell_type": "code",
   "execution_count": 53,
   "metadata": {},
   "outputs": [
    {
     "data": {
      "text/html": [
       "<div>\n",
       "<style scoped>\n",
       "    .dataframe tbody tr th:only-of-type {\n",
       "        vertical-align: middle;\n",
       "    }\n",
       "\n",
       "    .dataframe tbody tr th {\n",
       "        vertical-align: top;\n",
       "    }\n",
       "\n",
       "    .dataframe thead th {\n",
       "        text-align: right;\n",
       "    }\n",
       "</style>\n",
       "<table border=\"1\" class=\"dataframe\">\n",
       "  <thead>\n",
       "    <tr style=\"text-align: right;\">\n",
       "      <th></th>\n",
       "      <th>Sales</th>\n",
       "    </tr>\n",
       "  </thead>\n",
       "  <tbody>\n",
       "    <tr>\n",
       "      <th>count</th>\n",
       "      <td>10.000000</td>\n",
       "    </tr>\n",
       "    <tr>\n",
       "      <th>mean</th>\n",
       "      <td>60760.000000</td>\n",
       "    </tr>\n",
       "    <tr>\n",
       "      <th>std</th>\n",
       "      <td>17643.330499</td>\n",
       "    </tr>\n",
       "    <tr>\n",
       "      <th>min</th>\n",
       "      <td>38000.000000</td>\n",
       "    </tr>\n",
       "    <tr>\n",
       "      <th>25%</th>\n",
       "      <td>46500.000000</td>\n",
       "    </tr>\n",
       "    <tr>\n",
       "      <th>50%</th>\n",
       "      <td>59500.000000</td>\n",
       "    </tr>\n",
       "    <tr>\n",
       "      <th>75%</th>\n",
       "      <td>67750.000000</td>\n",
       "    </tr>\n",
       "    <tr>\n",
       "      <th>max</th>\n",
       "      <td>95600.000000</td>\n",
       "    </tr>\n",
       "  </tbody>\n",
       "</table>\n",
       "</div>"
      ],
      "text/plain": [
       "              Sales\n",
       "count     10.000000\n",
       "mean   60760.000000\n",
       "std    17643.330499\n",
       "min    38000.000000\n",
       "25%    46500.000000\n",
       "50%    59500.000000\n",
       "75%    67750.000000\n",
       "max    95600.000000"
      ]
     },
     "execution_count": 53,
     "metadata": {},
     "output_type": "execute_result"
    }
   ],
   "source": [
    "#29) Get the descriptive statistics of the sales for each Country\n",
    "sales_df.describe()"
   ]
  },
  {
   "cell_type": "code",
   "execution_count": 56,
   "metadata": {},
   "outputs": [
    {
     "name": "stdout",
     "output_type": "stream",
     "text": [
      "Array: \n",
      "[[ 0  1  2  3  4]\n",
      " [ 5  6  7  8  9]\n",
      " [10 11 12 13 14]\n",
      " [15 16 17 18 19]]\n",
      "\n",
      "Reversed Array: \n",
      "[[19 18 17 16 15]\n",
      " [14 13 12 11 10]\n",
      " [ 9  8  7  6  5]\n",
      " [ 4  3  2  1  0]]\n"
     ]
    }
   ],
   "source": [
    "#30) Reverse each of the rows of the 2D array\n",
    "num_array = np.arange(20).reshape(4,5)\n",
    "\n",
    "print(\"Array: \")\n",
    "print(num_array)\n",
    "\n",
    "print()\n",
    "\n",
    "print(\"Reversed Array: \")\n",
    "print(np.flip(num_array))"
   ]
  },
  {
   "cell_type": "code",
   "execution_count": null,
   "metadata": {},
   "outputs": [],
   "source": []
  }
 ],
 "metadata": {
  "kernelspec": {
   "display_name": "Python 3",
   "language": "python",
   "name": "python3"
  },
  "language_info": {
   "codemirror_mode": {
    "name": "ipython",
    "version": 3
   },
   "file_extension": ".py",
   "mimetype": "text/x-python",
   "name": "python",
   "nbconvert_exporter": "python",
   "pygments_lexer": "ipython3",
   "version": "3.8.5"
  }
 },
 "nbformat": 4,
 "nbformat_minor": 4
}
