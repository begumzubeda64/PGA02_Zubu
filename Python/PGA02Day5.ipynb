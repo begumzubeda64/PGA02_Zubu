{
 "cells": [
  {
   "cell_type": "code",
   "execution_count": 3,
   "metadata": {},
   "outputs": [
    {
     "name": "stdout",
     "output_type": "stream",
     "text": [
      "[1 2 3 4 5]\n",
      "<class 'numpy.ndarray'>\n"
     ]
    }
   ],
   "source": [
    "import numpy as np\n",
    "\n",
    "myList = [1, 2, 3, 4, 5]\n",
    "ma = np.array(myList)\n",
    "print(ma)\n",
    "print(type(ma))"
   ]
  },
  {
   "cell_type": "code",
   "execution_count": 3,
   "metadata": {},
   "outputs": [
    {
     "name": "stdout",
     "output_type": "stream",
     "text": [
      "['R' 'Python' 'Spark' 'Hadoop' 'SAS']\n",
      "Spark\n",
      "<class 'numpy.ndarray'>\n"
     ]
    }
   ],
   "source": [
    "books = np.array([\"R\", \"Python\", \"Spark\", \"Hadoop\", \"SAS\"])\n",
    "\n",
    "print(books)\n",
    "print(books[2])\n",
    "print(type(books))"
   ]
  },
  {
   "cell_type": "code",
   "execution_count": 8,
   "metadata": {},
   "outputs": [
    {
     "data": {
      "text/plain": [
       "array([0.87941754, 0.70697881, 0.50479861, 0.91971468, 0.71068577,\n",
       "       0.57905071, 0.5316378 , 0.98931888, 0.94415502, 0.7195182 ,\n",
       "       0.54723629, 0.7237551 , 0.17331025, 0.46635421, 0.88113723,\n",
       "       0.78255181, 0.216637  , 0.41698796, 0.20488085, 0.57485085])"
      ]
     },
     "execution_count": 8,
     "metadata": {},
     "output_type": "execute_result"
    }
   ],
   "source": [
    "np.random.random(size=20)"
   ]
  },
  {
   "cell_type": "code",
   "execution_count": 6,
   "metadata": {},
   "outputs": [
    {
     "data": {
      "text/plain": [
       "array([[0.19021372, 0.9224984 , 0.52123474],\n",
       "       [0.86573556, 0.6536535 , 0.02238962]])"
      ]
     },
     "execution_count": 6,
     "metadata": {},
     "output_type": "execute_result"
    }
   ],
   "source": [
    "np.random.rand(2, 3)"
   ]
  },
  {
   "cell_type": "code",
   "execution_count": 9,
   "metadata": {},
   "outputs": [
    {
     "data": {
      "text/plain": [
       "array([[-1.20678291,  0.83039179, -0.56525399],\n",
       "       [ 1.42827919, -0.58837998, -0.28700009]])"
      ]
     },
     "execution_count": 9,
     "metadata": {},
     "output_type": "execute_result"
    }
   ],
   "source": [
    "np.random.randn(2, 3)"
   ]
  },
  {
   "cell_type": "code",
   "execution_count": 6,
   "metadata": {},
   "outputs": [
    {
     "name": "stdout",
     "output_type": "stream",
     "text": [
      "2\n",
      "[40 71 95 46 93 14 88 85 52 80 60 19 30 53 57]\n"
     ]
    }
   ],
   "source": [
    "print(np.random.randint(2, 20)) #returns one value\n",
    "print(np.random.randint(10, 100, size=15)) #return array of size 15"
   ]
  },
  {
   "cell_type": "code",
   "execution_count": 15,
   "metadata": {},
   "outputs": [
    {
     "name": "stdout",
     "output_type": "stream",
     "text": [
      "[10 12 14 16 18 20 22 24 26 28 30 32 34 36 38 40 42 44 46 48 50 52 54 56\n",
      " 58 60 62 64 66 68 70 72 74 76 78 80 82 84 86 88 90 92 94 96 98]\n",
      "<class 'numpy.ndarray'>\n"
     ]
    }
   ],
   "source": [
    "range(10) #0-9\n",
    "range(1, 10) #1-9\n",
    "range(1, 10, 2) #1-9 with increment 2\n",
    "\n",
    "even_nums = np.arange(start=10, stop=100, step=2)\n",
    "print(even_nums)\n",
    "print(type(even_nums))"
   ]
  },
  {
   "cell_type": "code",
   "execution_count": 19,
   "metadata": {},
   "outputs": [
    {
     "name": "stdout",
     "output_type": "stream",
     "text": [
      "[ 10.  20.  30.  40.  50.  60.  70.  80.  90. 100.]\n",
      "<class 'numpy.ndarray'>\n"
     ]
    }
   ],
   "source": [
    "nums = np.linspace(start=10, stop=100, num=10)\n",
    "print(nums)\n",
    "print(type(nums))"
   ]
  },
  {
   "cell_type": "code",
   "execution_count": 20,
   "metadata": {},
   "outputs": [
    {
     "data": {
      "text/plain": [
       "array([0., 0., 0., 0., 0., 0., 0., 0., 0., 0.])"
      ]
     },
     "execution_count": 20,
     "metadata": {},
     "output_type": "execute_result"
    }
   ],
   "source": [
    "np.zeros(10)"
   ]
  },
  {
   "cell_type": "code",
   "execution_count": 21,
   "metadata": {},
   "outputs": [
    {
     "data": {
      "text/plain": [
       "array([1., 1., 1., 1., 1., 1., 1., 1., 1., 1.])"
      ]
     },
     "execution_count": 21,
     "metadata": {},
     "output_type": "execute_result"
    }
   ],
   "source": [
    "np.ones(10)"
   ]
  },
  {
   "cell_type": "code",
   "execution_count": 25,
   "metadata": {},
   "outputs": [
    {
     "name": "stdout",
     "output_type": "stream",
     "text": [
      "[[None None None]\n",
      " [None None None]\n",
      " [None None None]]\n"
     ]
    }
   ],
   "source": [
    "matrix = np.empty((3, 3), dtype=object)\n",
    "print(matrix)"
   ]
  },
  {
   "cell_type": "code",
   "execution_count": 27,
   "metadata": {},
   "outputs": [
    {
     "name": "stdout",
     "output_type": "stream",
     "text": [
      "[[11 11 11]\n",
      " [11 11 11]\n",
      " [11 11 11]]\n"
     ]
    }
   ],
   "source": [
    "matrix = np.full((3, 3), fill_value=11)\n",
    "print(matrix)"
   ]
  },
  {
   "cell_type": "code",
   "execution_count": 30,
   "metadata": {},
   "outputs": [
    {
     "data": {
      "text/plain": [
       "array([[1., 0., 0., 0., 0.],\n",
       "       [0., 1., 0., 0., 0.],\n",
       "       [0., 0., 1., 0., 0.],\n",
       "       [0., 0., 0., 1., 0.],\n",
       "       [0., 0., 0., 0., 1.]])"
      ]
     },
     "execution_count": 30,
     "metadata": {},
     "output_type": "execute_result"
    }
   ],
   "source": [
    "np.identity(5)"
   ]
  },
  {
   "cell_type": "code",
   "execution_count": 36,
   "metadata": {},
   "outputs": [
    {
     "name": "stdout",
     "output_type": "stream",
     "text": [
      "[[1. 0. 0. 0. 0.]\n",
      " [0. 1. 0. 0. 0.]\n",
      " [0. 0. 1. 0. 0.]\n",
      " [0. 0. 0. 1. 0.]\n",
      " [0. 0. 0. 0. 1.]]\n",
      "\n",
      "[[0. 0. 1. 0. 0.]\n",
      " [0. 0. 0. 1. 0.]\n",
      " [0. 0. 0. 0. 1.]\n",
      " [0. 0. 0. 0. 0.]\n",
      " [0. 0. 0. 0. 0.]]\n",
      "\n",
      "[[0. 0. 0. 0. 0.]\n",
      " [0. 0. 0. 0. 0.]\n",
      " [1. 0. 0. 0. 0.]\n",
      " [0. 1. 0. 0. 0.]\n",
      " [0. 0. 1. 0. 0.]]\n"
     ]
    }
   ],
   "source": [
    "print(np.eye(N=5, M=5, k=0))\n",
    "print()\n",
    "print(np.eye(N=5, M=5, k=2))\n",
    "print()\n",
    "print(np.eye(N=5, M=5, k=-2))"
   ]
  },
  {
   "cell_type": "code",
   "execution_count": 38,
   "metadata": {},
   "outputs": [
    {
     "name": "stdout",
     "output_type": "stream",
     "text": [
      "[['R' 'Python' 'Spark' 'Hadoop' 'SAS']\n",
      " ['500' '600' '800' '700' '1000']]\n",
      "The shape of books is  (2, 5)\n",
      "The size of books is  10\n"
     ]
    }
   ],
   "source": [
    "books = np.array([(\"R\", \"Python\", \"Spark\", \"Hadoop\", \"SAS\"), (500, 600, 800, 700, 1000)])\n",
    "\n",
    "print(books)\n",
    "print(\"The shape of books is \", books.shape)\n",
    "print(\"The size of books is \", books.size)"
   ]
  },
  {
   "cell_type": "code",
   "execution_count": 40,
   "metadata": {},
   "outputs": [
    {
     "name": "stdout",
     "output_type": "stream",
     "text": [
      "Data type of array elements is  float64\n"
     ]
    }
   ],
   "source": [
    "ar_nums = np.array([(2.3, 5.6, 4.5), (1, 3.8, 8.2)])\n",
    "\n",
    "print(\"Data type of array elements is \", ar_nums.dtype)"
   ]
  },
  {
   "cell_type": "code",
   "execution_count": 42,
   "metadata": {},
   "outputs": [
    {
     "name": "stdout",
     "output_type": "stream",
     "text": [
      "1\n",
      "2\n"
     ]
    }
   ],
   "source": [
    "print(ma.ndim)\n",
    "print(books.ndim)"
   ]
  },
  {
   "cell_type": "code",
   "execution_count": 46,
   "metadata": {},
   "outputs": [
    {
     "name": "stdout",
     "output_type": "stream",
     "text": [
      "[['Sachin' '34']\n",
      " ['John' '25']\n",
      " ['Vinayak' '22']]\n",
      "\n",
      " [['Sachin']\n",
      " ['34']\n",
      " ['John']\n",
      " ['25']\n",
      " ['Vinayak']\n",
      " ['22']]\n"
     ]
    }
   ],
   "source": [
    "employee = np.array([(\"Sachin\", 34), (\"John\", 25), (\"Vinayak\", 22)])\n",
    "print(employee)\n",
    "\n",
    "#Num of elements should not change\n",
    "reshaped_employee = employee.reshape(6, 1)\n",
    "print(\"\\n\", reshaped_employee)"
   ]
  },
  {
   "cell_type": "code",
   "execution_count": 49,
   "metadata": {},
   "outputs": [
    {
     "name": "stdout",
     "output_type": "stream",
     "text": [
      "['Vinayak' '22']\n",
      "John age is  25\n",
      "Sachin age is  34\n"
     ]
    }
   ],
   "source": [
    "print(employee[-1]) #last row\n",
    "print(\"John age is \",employee[1, 1])\n",
    "print(\"Sachin age is \",employee[0][1])"
   ]
  },
  {
   "cell_type": "code",
   "execution_count": 10,
   "metadata": {},
   "outputs": [
    {
     "name": "stdout",
     "output_type": "stream",
     "text": [
      "4th and 5th elements are  [92 51]\n",
      "Every 3rd element is start from 1st  [73 92]\n",
      "Elements before 92  [73 45 78 92]\n"
     ]
    }
   ],
   "source": [
    "weight = np.array([73, 45, 78, 92, 51, 88])\n",
    "\n",
    "print(\"4th and 5th elements are \", weight[3:5])\n",
    "print(\"Every 3rd element is start from 1st \", weight[0::3])\n",
    "print(\"Elements before 92 \", weight[:4])"
   ]
  },
  {
   "cell_type": "code",
   "execution_count": 58,
   "metadata": {},
   "outputs": [
    {
     "name": "stdout",
     "output_type": "stream",
     "text": [
      "[[73 68 54]\n",
      " [21 36 19]]\n",
      "1st row 1st 2 cols are  [73 68]\n",
      "2nd row last 2 cols are  [36 19]\n"
     ]
    }
   ],
   "source": [
    "age = np.array([(73, 68, 54), (21, 36, 19)])\n",
    "\n",
    "print(age)\n",
    "print(\"1st row 1st 2 cols are \", age[0, :2])\n",
    "print(\"2nd row last 2 cols are \", age[1, 1:])"
   ]
  },
  {
   "cell_type": "code",
   "execution_count": 59,
   "metadata": {},
   "outputs": [
    {
     "ename": "ValueError",
     "evalue": "operands could not be broadcast together with shapes (4,) (5,) ",
     "output_type": "error",
     "traceback": [
      "\u001b[1;31m---------------------------------------------------------------------------\u001b[0m",
      "\u001b[1;31mValueError\u001b[0m                                Traceback (most recent call last)",
      "\u001b[1;32m<ipython-input-59-74789553870e>\u001b[0m in \u001b[0;36m<module>\u001b[1;34m\u001b[0m\n\u001b[0;32m      2\u001b[0m \u001b[0ms_ar\u001b[0m \u001b[1;33m=\u001b[0m \u001b[0mnp\u001b[0m\u001b[1;33m.\u001b[0m\u001b[0marray\u001b[0m\u001b[1;33m(\u001b[0m\u001b[1;33m[\u001b[0m\u001b[1;36m11\u001b[0m\u001b[1;33m,\u001b[0m \u001b[1;36m12\u001b[0m\u001b[1;33m,\u001b[0m \u001b[1;36m13\u001b[0m\u001b[1;33m,\u001b[0m \u001b[1;36m14\u001b[0m\u001b[1;33m,\u001b[0m \u001b[1;36m15\u001b[0m\u001b[1;33m]\u001b[0m\u001b[1;33m)\u001b[0m\u001b[1;33m\u001b[0m\u001b[1;33m\u001b[0m\u001b[0m\n\u001b[0;32m      3\u001b[0m \u001b[1;33m\u001b[0m\u001b[0m\n\u001b[1;32m----> 4\u001b[1;33m \u001b[0mf_ar\u001b[0m \u001b[1;33m+\u001b[0m \u001b[0ms_ar\u001b[0m\u001b[1;33m\u001b[0m\u001b[1;33m\u001b[0m\u001b[0m\n\u001b[0m",
      "\u001b[1;31mValueError\u001b[0m: operands could not be broadcast together with shapes (4,) (5,) "
     ]
    }
   ],
   "source": [
    "f_ar = np.array([1, 2, 3, 5])\n",
    "s_ar = np.array([11, 12, 13, 14, 15])\n",
    "\n",
    "f_ar + s_ar"
   ]
  },
  {
   "cell_type": "code",
   "execution_count": 77,
   "metadata": {},
   "outputs": [
    {
     "name": "stdout",
     "output_type": "stream",
     "text": [
      "Odd  [1 2 3 5]\n",
      "Even  [12 14 16 18]\n",
      "Addition  [13 16 19 23]\n",
      "Subtraction  [-11 -12 -13 -13]\n",
      "Updated array [ 2  4  6 10]\n",
      "Multiplication  [12 28 48 90]\n",
      "Dot Product  178\n"
     ]
    }
   ],
   "source": [
    "odd_num = np.array([1, 2, 3, 5])\n",
    "even_num = np.array([12, 14, 16, 18])\n",
    "\n",
    "addition = odd_num + even_num\n",
    "subtraction = odd_num - even_num\n",
    "multiplication = odd_num * even_num\n",
    "\n",
    "print(\"Odd \", odd_num)\n",
    "print(\"Even \", even_num)\n",
    "print(\"Addition \", addition)\n",
    "print(\"Subtraction \", subtraction)\n",
    "print(\"Updated array\", odd_num * 2)\n",
    "print(\"Multiplication \", multiplication)\n",
    "print(\"Dot Product \", odd_num.dot(even_num))"
   ]
  },
  {
   "cell_type": "code",
   "execution_count": 62,
   "metadata": {},
   "outputs": [
    {
     "name": "stdout",
     "output_type": "stream",
     "text": [
      "Min Salary  30000\n",
      "Max Salary  90000\n",
      "Salary variance  388555555.5555555\n",
      "Std. Dev Salary  19711.812589296693\n"
     ]
    }
   ],
   "source": [
    "salary = np.array([40000, 38000, 52000, 60000, 30000, 90000])\n",
    "print(\"Min Salary \", salary.min())\n",
    "print(\"Max Salary \", salary.max())\n",
    "print(\"Salary variance \", salary.var())\n",
    "print(\"Std. Dev Salary \", salary.std())"
   ]
  },
  {
   "cell_type": "code",
   "execution_count": 64,
   "metadata": {},
   "outputs": [
    {
     "name": "stdout",
     "output_type": "stream",
     "text": [
      "Square of the numbers are  [ 1  4  9 25]\n"
     ]
    }
   ],
   "source": [
    "print(\"Square of the numbers are \", np.square(odd_num))"
   ]
  },
  {
   "cell_type": "code",
   "execution_count": 66,
   "metadata": {},
   "outputs": [
    {
     "name": "stdout",
     "output_type": "stream",
     "text": [
      "Power of the numbers raise to 3 are  [  1   8  27 125]\n"
     ]
    }
   ],
   "source": [
    "print(\"Power of the numbers raise to 3 are \", np.power(odd_num, 3))"
   ]
  },
  {
   "cell_type": "code",
   "execution_count": 84,
   "metadata": {},
   "outputs": [
    {
     "name": "stdout",
     "output_type": "stream",
     "text": [
      "Original array: \n",
      " [['Sachin' '34']\n",
      " ['John' '25']\n",
      " ['Vinayak' '22']]\n",
      "Transposed array: \n",
      " [['Sachin' 'John' 'Vinayak']\n",
      " ['34' '25' '22']]\n",
      "Dot Product: \n",
      " [[ 39  52]\n",
      " [ 52 120]]\n"
     ]
    }
   ],
   "source": [
    "employee = np.array([(\"Sachin\", 34), (\"John\", 25), (\"Vinayak\", 22)])\n",
    "print(\"Original array: \\n\", employee)\n",
    "\n",
    "transposed_employee = np.transpose(employee)\n",
    "print(\"Transposed array: \\n\", transposed_employee)\n",
    "\n",
    "odd = np.array([(1, 2, 3, 5), (8, 4, 2, 6)])\n",
    "trans_odd = np.transpose(odd)\n",
    "print(\"Dot Product: \\n\", odd.dot(trans_odd))"
   ]
  },
  {
   "cell_type": "code",
   "execution_count": 73,
   "metadata": {},
   "outputs": [
    {
     "name": "stdout",
     "output_type": "stream",
     "text": [
      "Concatenated array:  [ 1  2  3  5 12 14 16 18]\n"
     ]
    }
   ],
   "source": [
    "print(\"Concatenated array: \", np.concatenate([odd_num, even_num]))"
   ]
  },
  {
   "cell_type": "code",
   "execution_count": 13,
   "metadata": {},
   "outputs": [
    {
     "name": "stdout",
     "output_type": "stream",
     "text": [
      "All Employees: \n",
      " [['Sachin' '34']\n",
      " ['John' '25']\n",
      " ['Vinayak' '22']\n",
      " ['Harry' '45']\n",
      " ['Ejaz' '41']]\n"
     ]
    }
   ],
   "source": [
    "employee = np.array([(\"Sachin\", 34), (\"John\", 25), (\"Vinayak\", 22)])\n",
    "consultant = np.array([(\"Harry\", 45), (\"Ejaz\", 41)])\n",
    "\n",
    "all_emp = np.concatenate([employee, consultant])\n",
    "print(\"All Employees: \\n\", all_emp)"
   ]
  },
  {
   "cell_type": "code",
   "execution_count": 79,
   "metadata": {},
   "outputs": [
    {
     "name": "stdout",
     "output_type": "stream",
     "text": [
      "Array Flattened  [73 68 54 21 36 19]\n"
     ]
    }
   ],
   "source": [
    "age = np.array([(73, 68, 54), (21, 36, 19)])\n",
    "\n",
    "print(\"Array Flattened \", np.ndarray.flatten(age))"
   ]
  },
  {
   "cell_type": "code",
   "execution_count": 80,
   "metadata": {},
   "outputs": [
    {
     "name": "stdout",
     "output_type": "stream",
     "text": [
      "R\n",
      "Python\n",
      "Spark\n",
      "Hadoop\n",
      "SAS\n"
     ]
    }
   ],
   "source": [
    "newbooks = np.array([\"R\", \"Python\", \"Spark\", \"Hadoop\", \"SAS\"])\n",
    "\n",
    "for book in newbooks:\n",
    "    print(book)"
   ]
  },
  {
   "cell_type": "code",
   "execution_count": 82,
   "metadata": {},
   "outputs": [
    {
     "name": "stdout",
     "output_type": "stream",
     "text": [
      "['R' 'Python' 'Spark' 'Hadoop' 'SAS']\n",
      "['500' '600' '800' '700' '1000']\n"
     ]
    }
   ],
   "source": [
    "books = np.array([(\"R\", \"Python\", \"Spark\", \"Hadoop\", \"SAS\"), (500, 600, 800, 700, 1000)])\n",
    "\n",
    "for i in books:\n",
    "    print(i)"
   ]
  },
  {
   "cell_type": "code",
   "execution_count": 83,
   "metadata": {},
   "outputs": [
    {
     "name": "stdout",
     "output_type": "stream",
     "text": [
      "R\n",
      "Python\n",
      "Spark\n",
      "Hadoop\n",
      "SAS\n",
      "500\n",
      "600\n",
      "800\n",
      "700\n",
      "1000\n"
     ]
    }
   ],
   "source": [
    "for i in books:\n",
    "    for j in i:\n",
    "        print(j)"
   ]
  },
  {
   "cell_type": "code",
   "execution_count": null,
   "metadata": {},
   "outputs": [],
   "source": []
  }
 ],
 "metadata": {
  "kernelspec": {
   "display_name": "Python 3",
   "language": "python",
   "name": "python3"
  },
  "language_info": {
   "codemirror_mode": {
    "name": "ipython",
    "version": 3
   },
   "file_extension": ".py",
   "mimetype": "text/x-python",
   "name": "python",
   "nbconvert_exporter": "python",
   "pygments_lexer": "ipython3",
   "version": "3.8.5"
  }
 },
 "nbformat": 4,
 "nbformat_minor": 4
}
