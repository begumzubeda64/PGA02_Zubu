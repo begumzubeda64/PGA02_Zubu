{
 "cells": [
  {
   "cell_type": "code",
   "execution_count": 2,
   "metadata": {},
   "outputs": [
    {
     "name": "stdout",
     "output_type": "stream",
     "text": [
      "[1, 4, 9, 16, 25, 36, 49, 64, 81, 100]\n"
     ]
    }
   ],
   "source": [
    "#Without List Comprehension\n",
    "series_num = []\n",
    "for i in range(1, 11):\n",
    "    series_num.append(i*i)\n",
    "print(series_num)"
   ]
  },
  {
   "cell_type": "code",
   "execution_count": 3,
   "metadata": {},
   "outputs": [
    {
     "name": "stdout",
     "output_type": "stream",
     "text": [
      "[1, 4, 9, 16, 25, 36, 49, 64, 81, 100]\n"
     ]
    }
   ],
   "source": [
    "#With List Comprehension\n",
    "sq_num_series = [ i*i for i in range(1, 11) ]\n",
    "print(sq_num_series)"
   ]
  },
  {
   "cell_type": "code",
   "execution_count": 4,
   "metadata": {},
   "outputs": [
    {
     "name": "stdout",
     "output_type": "stream",
     "text": [
      "6.8\n",
      "4\n",
      "11.2\n",
      "16\n",
      "20\n",
      "9.0\n"
     ]
    }
   ],
   "source": [
    "#Without List Comprehension\n",
    "item_prices = [3.4, 2, 5.6, 8, 10, 4.5]\n",
    "for elements in item_prices:\n",
    "    print(elements * 2)"
   ]
  },
  {
   "cell_type": "code",
   "execution_count": 5,
   "metadata": {},
   "outputs": [
    {
     "name": "stdout",
     "output_type": "stream",
     "text": [
      "[6.8, 4, 11.2, 16, 20, 9.0]\n",
      "<class 'list'>\n"
     ]
    }
   ],
   "source": [
    "#With List Comprehension\n",
    "item_prices = [3.4, 2, 5.6, 8, 10, 4.5]\n",
    "result = [ elements * 2 for elements in item_prices ]\n",
    "print(result)\n",
    "print(type(result))"
   ]
  },
  {
   "cell_type": "code",
   "execution_count": 6,
   "metadata": {},
   "outputs": [
    {
     "name": "stdout",
     "output_type": "stream",
     "text": [
      "['D', 'B', 'G', 'C', 'G']\n"
     ]
    }
   ],
   "source": [
    "products = [\"Dairy\", \"Bakery\", \"Grocery\", \"Clothing\", \"Grocery\"]\n",
    "first_letter = [ v[0] for v in products ]\n",
    "print(first_letter)"
   ]
  },
  {
   "cell_type": "code",
   "execution_count": 7,
   "metadata": {},
   "outputs": [
    {
     "name": "stdout",
     "output_type": "stream",
     "text": [
      "[10051, 2000]\n"
     ]
    }
   ],
   "source": [
    "text = 'Eddy employee id is 10051 and his salary is 2000 dollars'\n",
    "numbers = [ int(i) for i in text.split() if i.isdigit() == True ]\n",
    "print(numbers)"
   ]
  },
  {
   "cell_type": "code",
   "execution_count": 7,
   "metadata": {},
   "outputs": [
    {
     "name": "stdout",
     "output_type": "stream",
     "text": [
      "['I', 'i', 'e', 'e', 'o', 'a', 'I', 'i', 'i', 'a']\n",
      "10\n"
     ]
    }
   ],
   "source": [
    "sentence = 'I will steer my boat, I will find my way'\n",
    "vowels = [ vowel for vowel in sentence if vowel in 'aeiouAEIOU' ]\n",
    "print(vowels)\n",
    "print(len(vowels))"
   ]
  },
  {
   "cell_type": "code",
   "execution_count": 14,
   "metadata": {},
   "outputs": [
    {
     "name": "stdout",
     "output_type": "stream",
     "text": [
      "[10, 15, 20, 20, 20]\n"
     ]
    }
   ],
   "source": [
    "Products = [\"Apparels\", \"Crokeries\", \"Cosmetics\", \"Beverages\", \"Detergents\"]\n",
    "Discount = [ 10 if p == \"Apparels\" else 15 if p == \"Crokeries\" else 20 for p in Products ]\n",
    "print(Discount)"
   ]
  },
  {
   "cell_type": "code",
   "execution_count": 13,
   "metadata": {},
   "outputs": [
    {
     "name": "stdout",
     "output_type": "stream",
     "text": [
      "['Detergents']\n"
     ]
    }
   ],
   "source": [
    "Products = [\"Apparels\", \"Crokeries\", \"Cosmetics\", \"Beverages\", \"Detergents\"]\n",
    "Products1 = [ p for p in Products if len(p) > 9 ]\n",
    "print(Products1)"
   ]
  },
  {
   "cell_type": "code",
   "execution_count": 16,
   "metadata": {},
   "outputs": [
    {
     "name": "stdout",
     "output_type": "stream",
     "text": [
      "Hello Everyone!\n"
     ]
    }
   ],
   "source": [
    "def SayHello():\n",
    "    print(\"Hello Everyone!\")\n",
    "\n",
    "SayHello()"
   ]
  },
  {
   "cell_type": "code",
   "execution_count": 18,
   "metadata": {},
   "outputs": [
    {
     "name": "stdout",
     "output_type": "stream",
     "text": [
      "Hello  Zubu  Welcome to Python Coding!\n",
      "Enter your name: Rohan\n",
      "Hello  Rohan  Welcome to Python Coding!\n"
     ]
    }
   ],
   "source": [
    "def Greet(name):\n",
    "    print(\"Hello \", name, \" Welcome to Python Coding!\")\n",
    "\n",
    "Greet(\"Zubu\")\n",
    "nm = input(\"Enter your name: \")\n",
    "Greet(nm)"
   ]
  },
  {
   "cell_type": "code",
   "execution_count": 19,
   "metadata": {},
   "outputs": [
    {
     "name": "stdout",
     "output_type": "stream",
     "text": [
      "The sum is:  168\n"
     ]
    }
   ],
   "source": [
    "def Addition(num1, num2):\n",
    "    return num1 + num2\n",
    "\n",
    "summation = Addition(56, 112)\n",
    "print(\"The sum is: \", summation)"
   ]
  },
  {
   "cell_type": "code",
   "execution_count": 20,
   "metadata": {},
   "outputs": [
    {
     "name": "stdout",
     "output_type": "stream",
     "text": [
      "The sum is:  None\n"
     ]
    }
   ],
   "source": [
    "def Addition(num1, num2):\n",
    "    result = num1 + num2\n",
    "    return \n",
    "\n",
    "summation = Addition(56, 112)\n",
    "print(\"The sum is: \", summation)"
   ]
  },
  {
   "cell_type": "code",
   "execution_count": 22,
   "metadata": {},
   "outputs": [
    {
     "name": "stdout",
     "output_type": "stream",
     "text": [
      "First argument is  45\n",
      "Second argument is 65\n",
      "First argument is  50\n",
      "Second argument is 20\n"
     ]
    }
   ],
   "source": [
    "def reg_arg(num1, num2):\n",
    "    print(\"First argument is \", num1)\n",
    "    print(\"Second argument is\", num2)\n",
    "    \n",
    "reg_arg(45, 65)\n",
    "\n",
    "n1 = 20\n",
    "n2 = 50\n",
    "reg_arg(n2, n1)"
   ]
  },
  {
   "cell_type": "code",
   "execution_count": 23,
   "metadata": {},
   "outputs": [
    {
     "name": "stdout",
     "output_type": "stream",
     "text": [
      "Hello  Rose  Welcome to Python Coding!\n",
      "Hello  John  Welcome to Python Coding!\n"
     ]
    }
   ],
   "source": [
    "Greet(\"Rose\") #Positional passing of parameters\n",
    "Greet(name=\"John\") #Keyword passing of parameters"
   ]
  },
  {
   "cell_type": "code",
   "execution_count": 24,
   "metadata": {},
   "outputs": [
    {
     "name": "stdout",
     "output_type": "stream",
     "text": [
      "Employee name is  John\n",
      "Designation is  Manager\n",
      "Employee name is  Sachin\n",
      "Designation is  Analyst\n"
     ]
    }
   ],
   "source": [
    "def employee(name, designation):\n",
    "    print(\"Employee name is \", name)\n",
    "    print(\"Designation is \", designation)\n",
    "employee(\"John\", \"Manager\")\n",
    "employee(designation = \"Analyst\", name=\"Sachin\")"
   ]
  },
  {
   "cell_type": "code",
   "execution_count": 25,
   "metadata": {},
   "outputs": [
    {
     "name": "stdout",
     "output_type": "stream",
     "text": [
      "Employee name is  Rahul\n",
      "Salary is  700000\n",
      "Employee name is  Harry\n",
      "Salary is  400000\n"
     ]
    }
   ],
   "source": [
    "def emp(name, salary=400000): #Default argument\n",
    "    print(\"Employee name is \", name)\n",
    "    print(\"Salary is \", salary)\n",
    "\n",
    "emp(\"Rahul\", 700000)\n",
    "emp(\"Harry\")"
   ]
  },
  {
   "cell_type": "code",
   "execution_count": 28,
   "metadata": {},
   "outputs": [
    {
     "name": "stdout",
     "output_type": "stream",
     "text": [
      "6\n",
      "15\n",
      "55\n"
     ]
    }
   ],
   "source": [
    "def calsum(*numbers):\n",
    "    result = 0\n",
    "    for num in numbers:\n",
    "        result += num\n",
    "    print(result)\n",
    "\n",
    "calsum(1, 2, 3)\n",
    "calsum(1, 2, 3, 4, 5)\n",
    "calsum(1, 2, 3, 4, 5, 6, 7, 8, 9, 10)"
   ]
  },
  {
   "cell_type": "code",
   "execution_count": 30,
   "metadata": {},
   "outputs": [
    {
     "name": "stdout",
     "output_type": "stream",
     "text": [
      "<class 'dict'>\n",
      "first_name --> Viren\n",
      "salary --> 90000\n",
      "designation --> Programmer\n"
     ]
    }
   ],
   "source": [
    "def Em(**details):\n",
    "    print(type(details))\n",
    "    for k, v in details.items():\n",
    "        print(k, '-->', v)\n",
    "        \n",
    "Em(first_name=\"Viren\", salary=90000, designation=\"Programmer\")"
   ]
  },
  {
   "cell_type": "code",
   "execution_count": 31,
   "metadata": {},
   "outputs": [
    {
     "data": {
      "text/plain": [
       "118"
      ]
     },
     "execution_count": 31,
     "metadata": {},
     "output_type": "execute_result"
    }
   ],
   "source": [
    "#without lambda\n",
    "def greater(num1, num2):\n",
    "    if num1 > num2:\n",
    "        return num1\n",
    "    else:\n",
    "        return num2\n",
    "    \n",
    "great = greater(58, 118)\n",
    "great"
   ]
  },
  {
   "cell_type": "code",
   "execution_count": 32,
   "metadata": {},
   "outputs": [
    {
     "data": {
      "text/plain": [
       "92"
      ]
     },
     "execution_count": 32,
     "metadata": {},
     "output_type": "execute_result"
    }
   ],
   "source": [
    "#with lambda\n",
    "greater = lambda num1, num2: num1 if num1 > num2 else num2\n",
    "greater(92, 48)"
   ]
  },
  {
   "cell_type": "code",
   "execution_count": 33,
   "metadata": {},
   "outputs": [
    {
     "name": "stdout",
     "output_type": "stream",
     "text": [
      "[1, 4, 9, 16, 25, 36, 49, 64, 81, 100]\n"
     ]
    }
   ],
   "source": [
    "num_list = list(range(1, 11))\n",
    "sq_list = list(map(lambda x: x**2, num_list))\n",
    "\n",
    "print(sq_list)"
   ]
  },
  {
   "cell_type": "code",
   "execution_count": 34,
   "metadata": {},
   "outputs": [
    {
     "name": "stdout",
     "output_type": "stream",
     "text": [
      "[2, 4, 6, 8, 10]\n"
     ]
    }
   ],
   "source": [
    "num_list = list(range(1, 11))\n",
    "sq_list = list(filter(lambda x: x%2 == 0, num_list))\n",
    "\n",
    "print(sq_list)"
   ]
  },
  {
   "cell_type": "code",
   "execution_count": 35,
   "metadata": {},
   "outputs": [
    {
     "data": {
      "text/plain": [
       "120"
      ]
     },
     "execution_count": 35,
     "metadata": {},
     "output_type": "execute_result"
    }
   ],
   "source": [
    "from functools import reduce\n",
    "\n",
    "num_list = [1, 2, 3, 4, 5]\n",
    "reduce(lambda a, b: a*b, num_list)"
   ]
  },
  {
   "cell_type": "code",
   "execution_count": 36,
   "metadata": {},
   "outputs": [
    {
     "data": {
      "text/plain": [
       "-325"
      ]
     },
     "execution_count": 36,
     "metadata": {},
     "output_type": "execute_result"
    }
   ],
   "source": [
    "num_tuple = (10, -1, 100, 500, -40, 1000, 90, -325)\n",
    "reduce(lambda x, y: x if x < y else y, num_tuple)"
   ]
  },
  {
   "cell_type": "code",
   "execution_count": null,
   "metadata": {},
   "outputs": [],
   "source": []
  }
 ],
 "metadata": {
  "kernelspec": {
   "display_name": "Python 3",
   "language": "python",
   "name": "python3"
  },
  "language_info": {
   "codemirror_mode": {
    "name": "ipython",
    "version": 3
   },
   "file_extension": ".py",
   "mimetype": "text/x-python",
   "name": "python",
   "nbconvert_exporter": "python",
   "pygments_lexer": "ipython3",
   "version": "3.8.5"
  }
 },
 "nbformat": 4,
 "nbformat_minor": 4
}
