{
 "cells": [
  {
   "cell_type": "code",
   "execution_count": 3,
   "metadata": {},
   "outputs": [
    {
     "name": "stdout",
     "output_type": "stream",
     "text": [
      "['R', 'Python', 'SAS', 'Hadoop', 'Java']\n",
      "Hadoop\n"
     ]
    },
    {
     "data": {
      "text/plain": [
       "list"
      ]
     },
     "execution_count": 3,
     "metadata": {},
     "output_type": "execute_result"
    }
   ],
   "source": [
    "book_list = [\"R\", \"Python\", \"SAS\", \"Hadoop\", \"Java\"]\n",
    "\n",
    "print(book_list)\n",
    "print(book_list[3])\n",
    "type(book_list)"
   ]
  },
  {
   "cell_type": "code",
   "execution_count": 5,
   "metadata": {},
   "outputs": [
    {
     "name": "stdout",
     "output_type": "stream",
     "text": [
      "['R', 'Python', 'SAS', 'Hadoop', 'Java', 'Lord of the Rings', 'Harry Porter and the Half Blood Prince', 'The Hardy Boys']\n",
      "['Lord of the Rings', 'Harry Porter and the Half Blood Prince', 'The Hardy Boys', 'Jumanji']\n"
     ]
    }
   ],
   "source": [
    "data_science_books = [\"R\", \"Python\", \"SAS\", \"Hadoop\", \"Java\"]\n",
    "novels = [\"Lord of the Rings\", \"Harry Porter and the Half Blood Prince\", \"The Hardy Boys\"]\n",
    "\n",
    "library = data_science_books + novels\n",
    "print(library)\n",
    "type(library)\n",
    "\n",
    "novels.append(\"Jumanji\")\n",
    "print(novels)"
   ]
  },
  {
   "cell_type": "code",
   "execution_count": 9,
   "metadata": {},
   "outputs": [
    {
     "name": "stdout",
     "output_type": "stream",
     "text": [
      "['Hadoop', 'Java', 'Python', 'R', 'SAS']\n",
      "[100, 70.2, 56, 40, 40, 20]\n"
     ]
    }
   ],
   "source": [
    "data_science_books = [\"R\", \"Python\", \"SAS\", \"Hadoop\", \"Java\"]\n",
    "avg_prices = [40, 56, 70.2, 40, 100, 20]\n",
    "\n",
    "data_science_books.sort()\n",
    "avg_prices.sort(reverse=True)\n",
    "\n",
    "print(data_science_books)\n",
    "print(avg_prices)"
   ]
  },
  {
   "cell_type": "code",
   "execution_count": 10,
   "metadata": {},
   "outputs": [
    {
     "ename": "TypeError",
     "evalue": "'<' not supported between instances of 'int' and 'str'",
     "output_type": "error",
     "traceback": [
      "\u001b[1;31m---------------------------------------------------------------------------\u001b[0m",
      "\u001b[1;31mTypeError\u001b[0m                                 Traceback (most recent call last)",
      "\u001b[1;32m<ipython-input-10-0c8cd15936aa>\u001b[0m in \u001b[0;36m<module>\u001b[1;34m\u001b[0m\n\u001b[0;32m      1\u001b[0m \u001b[0mdata_science_books\u001b[0m \u001b[1;33m=\u001b[0m \u001b[1;33m[\u001b[0m\u001b[1;34m\"R\"\u001b[0m\u001b[1;33m,\u001b[0m \u001b[1;36m56\u001b[0m\u001b[1;33m,\u001b[0m \u001b[1;34m\"Python\"\u001b[0m\u001b[1;33m,\u001b[0m \u001b[1;34m\"SAS\"\u001b[0m\u001b[1;33m,\u001b[0m \u001b[1;36m34.5\u001b[0m\u001b[1;33m]\u001b[0m\u001b[1;33m\u001b[0m\u001b[1;33m\u001b[0m\u001b[0m\n\u001b[1;32m----> 2\u001b[1;33m \u001b[0mdata_science_books\u001b[0m\u001b[1;33m.\u001b[0m\u001b[0msort\u001b[0m\u001b[1;33m(\u001b[0m\u001b[1;33m)\u001b[0m\u001b[1;33m\u001b[0m\u001b[1;33m\u001b[0m\u001b[0m\n\u001b[0m",
      "\u001b[1;31mTypeError\u001b[0m: '<' not supported between instances of 'int' and 'str'"
     ]
    }
   ],
   "source": [
    "data_science_books = [\"R\", 56, \"Python\", \"SAS\", 34.5]\n",
    "data_science_books.sort()"
   ]
  },
  {
   "cell_type": "code",
   "execution_count": 14,
   "metadata": {},
   "outputs": [
    {
     "name": "stdout",
     "output_type": "stream",
     "text": [
      "[40, 56, 70.2, 40, 100, 20]\n",
      "[100, 70.2, 56, 40, 40, 20]\n"
     ]
    }
   ],
   "source": [
    "avg_prices = [40, 56, 70.2, 40, 100, 20]\n",
    "\n",
    "new_avg_prices = sorted(avg_prices, reverse=True)\n",
    "\n",
    "print(avg_prices)\n",
    "print(new_avg_prices)"
   ]
  },
  {
   "cell_type": "code",
   "execution_count": 15,
   "metadata": {},
   "outputs": [
    {
     "name": "stdout",
     "output_type": "stream",
     "text": [
      "True\n",
      "False\n",
      "True\n",
      "True\n",
      "True\n"
     ]
    }
   ],
   "source": [
    "data_science_books = [\"R\", \"Python\", \"SAS\", \"Hadoop\", \"Java\"]\n",
    "avg_prices = [40, 56, 70.2, 40, 100, 20]\n",
    "\n",
    "print(\"SAS\" in data_science_books)\n",
    "print(\"Spark\" in data_science_books)\n",
    "print(\"Spark\" not in data_science_books)\n",
    "\n",
    "print(100 in avg_prices)\n",
    "print(102 not in avg_prices)"
   ]
  },
  {
   "cell_type": "code",
   "execution_count": 17,
   "metadata": {},
   "outputs": [
    {
     "name": "stdout",
     "output_type": "stream",
     "text": [
      "R\n",
      "Python\n",
      "SAS\n",
      "Hadoop\n",
      "Java\n"
     ]
    }
   ],
   "source": [
    "data_science_books = [\"R\", \"Python\", \"SAS\", \"Hadoop\", \"Java\"]\n",
    "\n",
    "for book in data_science_books:\n",
    "    print(book)"
   ]
  },
  {
   "cell_type": "code",
   "execution_count": 20,
   "metadata": {},
   "outputs": [
    {
     "data": {
      "text/plain": [
       "100"
      ]
     },
     "execution_count": 20,
     "metadata": {},
     "output_type": "execute_result"
    }
   ],
   "source": [
    "avg_prices = [40, 56, 70.2, 40, 100, 20]\n",
    "\n",
    "len(avg_prices)\n",
    "min(avg_prices)\n",
    "max(avg_prices)"
   ]
  },
  {
   "cell_type": "code",
   "execution_count": 21,
   "metadata": {},
   "outputs": [
    {
     "name": "stdout",
     "output_type": "stream",
     "text": [
      "[40, 56, 70.2, 40, 100, 20]\n",
      "[]\n"
     ]
    }
   ],
   "source": [
    "avg_prices = [40, 56, 70.2, 40, 100, 20]\n",
    "\n",
    "print(avg_prices)\n",
    "avg_prices.clear()\n",
    "print(avg_prices)"
   ]
  },
  {
   "cell_type": "code",
   "execution_count": 22,
   "metadata": {},
   "outputs": [
    {
     "name": "stdout",
     "output_type": "stream",
     "text": [
      "['Beverages', 'Cereals', 'Detergents']\n",
      "['Beverages', 'Cereals', 'Detergents']\n",
      "['Beverages', 'Cereals', 'Detergents']\n",
      "['Beverages', 'Cereals', 'Detergents', 'Floor Cleaners']\n"
     ]
    }
   ],
   "source": [
    "Retail_Products = [\"Beverages\", \"Cereals\", \"Detergents\"]\n",
    "New_Products_List = Retail_Products.copy() #Shallow copy - Different list objects\n",
    "print(Retail_Products)\n",
    "print(New_Products_List)\n",
    "\n",
    "New_Products_List.append(\"Floor Cleaners\")\n",
    "print(Retail_Products)\n",
    "print(New_Products_List)"
   ]
  },
  {
   "cell_type": "code",
   "execution_count": 24,
   "metadata": {},
   "outputs": [
    {
     "name": "stdout",
     "output_type": "stream",
     "text": [
      "['Beverages', 'Cereals', 'Detergents']\n",
      "['Beverages', 'Cereals', 'Detergents']\n",
      "['Beverages', 'Cereals', 'Detergents', 'Floor Cleaners']\n",
      "['Beverages', 'Cereals', 'Detergents', 'Floor Cleaners']\n",
      "['Beverages', 'Detergents', 'Floor Cleaners']\n",
      "['Beverages', 'Detergents', 'Floor Cleaners']\n"
     ]
    }
   ],
   "source": [
    "Retail_Products = [\"Beverages\", \"Cereals\", \"Detergents\"]\n",
    "New_Products_List = Retail_Products #Reference Copy - Share same value in same address space\n",
    "print(Retail_Products)\n",
    "print(New_Products_List)\n",
    "\n",
    "New_Products_List.append(\"Floor Cleaners\")\n",
    "print(Retail_Products)\n",
    "print(New_Products_List)\n",
    "\n",
    "Retail_Products.remove(\"Cereals\")\n",
    "print(Retail_Products)\n",
    "print(New_Products_List)"
   ]
  },
  {
   "cell_type": "code",
   "execution_count": 25,
   "metadata": {},
   "outputs": [
    {
     "data": {
      "text/plain": [
       "2"
      ]
     },
     "execution_count": 25,
     "metadata": {},
     "output_type": "execute_result"
    }
   ],
   "source": [
    "avg_prices = [40, 56, 70.2, 40, 100, 20]\n",
    "\n",
    "avg_prices.count(40)\n"
   ]
  },
  {
   "cell_type": "code",
   "execution_count": 26,
   "metadata": {},
   "outputs": [
    {
     "name": "stdout",
     "output_type": "stream",
     "text": [
      "['R', 'Python', 'SAS', 'Hadoop', 'Java', 'Lord of the Rings', 'Harry Porter and the Half Blood Prince', 'The Hardy Boys']\n"
     ]
    }
   ],
   "source": [
    "data_science_books = [\"R\", \"Python\", \"SAS\", \"Hadoop\", \"Java\"]\n",
    "novels = [\"Lord of the Rings\", \"Harry Porter and the Half Blood Prince\", \"The Hardy Boys\"]\n",
    "\n",
    "data_science_books.extend(novels) #change structure of data_science_books\n",
    "print(data_science_books)"
   ]
  },
  {
   "cell_type": "code",
   "execution_count": 27,
   "metadata": {},
   "outputs": [
    {
     "name": "stdout",
     "output_type": "stream",
     "text": [
      "['R', 'Python', 'SPSS', 'SAS', 'Hadoop', 'Java']\n"
     ]
    }
   ],
   "source": [
    "ds = [\"R\", \"Python\", \"SAS\", \"Hadoop\", \"Java\"]\n",
    "\n",
    "ds.insert(2, \"SPSS\")\n",
    "\n",
    "print(ds)"
   ]
  },
  {
   "cell_type": "code",
   "execution_count": 28,
   "metadata": {},
   "outputs": [
    {
     "name": "stdout",
     "output_type": "stream",
     "text": [
      "['R', 'Python', 'SAS', 'Java']\n"
     ]
    }
   ],
   "source": [
    "ds = [\"R\", \"Python\", \"SAS\", \"Hadoop\", \"Java\"]\n",
    "\n",
    "ds.pop(3)\n",
    "\n",
    "print(ds)"
   ]
  },
  {
   "cell_type": "code",
   "execution_count": 30,
   "metadata": {},
   "outputs": [
    {
     "name": "stdout",
     "output_type": "stream",
     "text": [
      "['Java', 'Hadoop', 'SAS', 'Python', 'R']\n"
     ]
    }
   ],
   "source": [
    "ds = [\"R\", \"Python\", \"SAS\", \"Hadoop\", \"Java\"]\n",
    "\n",
    "ds.reverse()\n",
    "\n",
    "print(ds)"
   ]
  },
  {
   "cell_type": "code",
   "execution_count": 31,
   "metadata": {},
   "outputs": [
    {
     "name": "stdout",
     "output_type": "stream",
     "text": [
      "[20, 100, 40, 70.2, 56, 40]\n",
      "[100, 70.2, 56, 40, 40, 20]\n"
     ]
    }
   ],
   "source": [
    "avg_prices = [40, 56, 70.2, 40, 100, 20]\n",
    "\n",
    "avg_prices.reverse()\n",
    "print(avg_prices)\n",
    "\n",
    "avg_prices.sort(reverse=True)\n",
    "print(avg_prices)"
   ]
  },
  {
   "cell_type": "code",
   "execution_count": 36,
   "metadata": {},
   "outputs": [
    {
     "name": "stdout",
     "output_type": "stream",
     "text": [
      "Hadoop\n",
      "SAS\n",
      "['Hadoop', 'Java']\n",
      "['SAS', 'Hadoop']\n"
     ]
    }
   ],
   "source": [
    "s = [\"R\", \"Python\", \"SAS\", \"Hadoop\", \"Java\"]\n",
    "print(s[3])\n",
    "print(s[-3])\n",
    "print(s[3:5]) #index, position/index-1 end i.e starting position is 1\n",
    "print(s[-3:-1]) #third last index to second last index will print"
   ]
  },
  {
   "cell_type": "code",
   "execution_count": 37,
   "metadata": {},
   "outputs": [
    {
     "name": "stdout",
     "output_type": "stream",
     "text": [
      "('Tea', 'Coffee', 'Sugar', 'Noodles', 'Bread', 2.7, 3.2, 5, 3, 10)\n"
     ]
    },
    {
     "data": {
      "text/plain": [
       "tuple"
      ]
     },
     "execution_count": 37,
     "metadata": {},
     "output_type": "execute_result"
    }
   ],
   "source": [
    "item_purchased = (\"Tea\", \"Coffee\", \"Sugar\", \"Noodles\", \"Bread\", 2.70, 3.20, 5, 3, 10)\n",
    "\n",
    "print(item_purchased)\n",
    "\n",
    "type(item_purchased)"
   ]
  },
  {
   "cell_type": "code",
   "execution_count": 38,
   "metadata": {},
   "outputs": [
    {
     "name": "stdout",
     "output_type": "stream",
     "text": [
      "('Tea', 'Coffee', 'Sugar', 'Noodles', 'Bread', 2.7, 3.2, 5, 3, 10)\n"
     ]
    },
    {
     "data": {
      "text/plain": [
       "tuple"
      ]
     },
     "execution_count": 38,
     "metadata": {},
     "output_type": "execute_result"
    }
   ],
   "source": [
    "item_purchased = \"Tea\", \"Coffee\", \"Sugar\", \"Noodles\", \"Bread\", 2.70, 3.20, 5, 3, 10\n",
    "\n",
    "print(item_purchased)\n",
    "\n",
    "type(item_purchased)"
   ]
  },
  {
   "cell_type": "code",
   "execution_count": 41,
   "metadata": {},
   "outputs": [
    {
     "data": {
      "text/plain": [
       "[124.2, 65, 50, 45, 35, 20]"
      ]
     },
     "execution_count": 41,
     "metadata": {},
     "output_type": "execute_result"
    }
   ],
   "source": [
    "items_prices = (45, 20, 124.2, 50, 65, 35)\n",
    "\n",
    "sorted(items_prices)\n",
    "sorted(items_prices, reverse=True)"
   ]
  },
  {
   "cell_type": "code",
   "execution_count": 42,
   "metadata": {},
   "outputs": [
    {
     "name": "stdout",
     "output_type": "stream",
     "text": [
      "('Pizza', 'Cola', 'Pizza', 'Cola')\n"
     ]
    }
   ],
   "source": [
    "order_rec = (\"Pizza\", \"Cola\")\n",
    "n = 2\n",
    "rep_order = order_rec * n\n",
    "print(rep_order)"
   ]
  },
  {
   "cell_type": "code",
   "execution_count": 43,
   "metadata": {},
   "outputs": [
    {
     "name": "stdout",
     "output_type": "stream",
     "text": [
      "('Tea', 'Coffee', 'Sugar', 'Noodles', 'Bread', 2.7, 3.2, 5, 3, 10, 'Pizza', 'Cola')\n"
     ]
    }
   ],
   "source": [
    "item_purchased = \"Tea\", \"Coffee\", \"Sugar\", \"Noodles\", \"Bread\", 2.70, 3.20, 5, 3, 10\n",
    "order_rec = (\"Pizza\", \"Cola\")\n",
    "\n",
    "new_tup = item_purchased + order_rec\n",
    "print(new_tup)"
   ]
  },
  {
   "cell_type": "code",
   "execution_count": 44,
   "metadata": {},
   "outputs": [
    {
     "name": "stdout",
     "output_type": "stream",
     "text": [
      "False\n"
     ]
    }
   ],
   "source": [
    "item_purchased = \"Tea\", \"Coffee\", \"Sugar\", \"Noodles\", \"Bread\", 2.70, 3.20, 5, 3, 10\n",
    "print(\"Sugar\" not in item_purchased)"
   ]
  },
  {
   "cell_type": "code",
   "execution_count": 46,
   "metadata": {},
   "outputs": [
    {
     "name": "stdout",
     "output_type": "stream",
     "text": [
      "Tea\n",
      "Coffee\n",
      "Sugar\n",
      "Noodles\n",
      "Bread\n",
      "2.7\n",
      "3.2\n",
      "5\n",
      "3\n",
      "10\n"
     ]
    }
   ],
   "source": [
    "item_purchased = \"Tea\", \"Coffee\", \"Sugar\", \"Noodles\", \"Bread\", 2.70, 3.20, 5, 3, 10\n",
    "\n",
    "for i in item_purchased:\n",
    "    print(i)"
   ]
  },
  {
   "cell_type": "code",
   "execution_count": 47,
   "metadata": {},
   "outputs": [
    {
     "data": {
      "text/plain": [
       "10"
      ]
     },
     "execution_count": 47,
     "metadata": {},
     "output_type": "execute_result"
    }
   ],
   "source": [
    "item_purchased = \"Tea\", \"Coffee\", \"Sugar\", \"Noodles\", \"Bread\", 2.70, 3.20, 5, 3, 10\n",
    "\n",
    "len(item_purchased)"
   ]
  },
  {
   "cell_type": "code",
   "execution_count": 49,
   "metadata": {},
   "outputs": [
    {
     "name": "stdout",
     "output_type": "stream",
     "text": [
      "20\n",
      "124.2\n"
     ]
    }
   ],
   "source": [
    "items_prices = (45, 20, 124.2, 50, 65, 35)\n",
    "\n",
    "print(min(items_prices))\n",
    "print(max(items_prices))"
   ]
  },
  {
   "cell_type": "code",
   "execution_count": 52,
   "metadata": {},
   "outputs": [
    {
     "data": {
      "text/plain": [
       "(45, 20, 124.2, 50, 65, 35, [10, 20, 30, 40])"
      ]
     },
     "execution_count": 52,
     "metadata": {},
     "output_type": "execute_result"
    }
   ],
   "source": [
    "items_prices = (45, 20, 124.2, 50, 65, 35, [10, 20, 30])\n",
    "len(items_prices)\n",
    "\n",
    "items_prices[6].append(40)\n",
    "items_prices"
   ]
  },
  {
   "cell_type": "code",
   "execution_count": 58,
   "metadata": {},
   "outputs": [
    {
     "name": "stdout",
     "output_type": "stream",
     "text": [
      "Price of R is  500\n",
      "New Price of R is  700\n",
      "{'R': 700, 'Python': 1200, 'SAS': 1500}\n"
     ]
    }
   ],
   "source": [
    "books = {\"R\": 500, \"Python\": 1200, \"SAS\": 1500}\n",
    "\n",
    "print(\"Price of R is \", books[\"R\"])\n",
    "\n",
    "books[\"R\"] = 700\n",
    "\n",
    "print(\"New Price of R is \", books[\"R\"])\n",
    "\n",
    "print(books)"
   ]
  },
  {
   "cell_type": "code",
   "execution_count": 59,
   "metadata": {},
   "outputs": [
    {
     "name": "stdout",
     "output_type": "stream",
     "text": [
      "{'R': 500, 'Python': 1200, 'SAS': 1500, 'SPSS': 600}\n"
     ]
    }
   ],
   "source": [
    "books = {\"R\": 500, \"Python\": 1200, \"SAS\": 1500}\n",
    "\n",
    "books[\"SPSS\"] = 600\n",
    "print(books)"
   ]
  },
  {
   "cell_type": "code",
   "execution_count": 60,
   "metadata": {},
   "outputs": [
    {
     "name": "stdout",
     "output_type": "stream",
     "text": [
      "{'R': 500, 'Python': 1200}\n"
     ]
    }
   ],
   "source": [
    "books = {\"R\": 500, \"Python\": 1200, \"SAS\": 1500}\n",
    "\n",
    "del books[\"SAS\"]\n",
    "print(books)"
   ]
  },
  {
   "cell_type": "code",
   "execution_count": 61,
   "metadata": {},
   "outputs": [
    {
     "name": "stdout",
     "output_type": "stream",
     "text": [
      "{'can': 6, 'you': 1, 'a': 3, 'as': 1, 'canner': 1}\n"
     ]
    }
   ],
   "source": [
    "twister = \"can you can a can as a canner can can a can\"\n",
    "\n",
    "word_count = {}\n",
    "\n",
    "for word in twister.split():\n",
    "    if word not in word_count:\n",
    "        word_count[word] = 1\n",
    "    else:\n",
    "        word_count[word] += 1\n",
    "        \n",
    "print(word_count)"
   ]
  },
  {
   "cell_type": "code",
   "execution_count": 63,
   "metadata": {},
   "outputs": [
    {
     "name": "stdout",
     "output_type": "stream",
     "text": [
      "defaultdict(<class 'int'>, {'can': 6, 'you': 1, 'a': 3, 'as': 1, 'canner': 1})\n",
      "can 6\n",
      "you 1\n",
      "a 3\n",
      "as 1\n",
      "canner 1\n"
     ]
    }
   ],
   "source": [
    "from collections import defaultdict\n",
    "twister = \"can you can a can as a canner can can a can\"\n",
    "\n",
    "word_count = defaultdict(int)\n",
    "\n",
    "for word in twister.split():\n",
    "    word_count[word] += 1\n",
    "        \n",
    "print(word_count)\n",
    "\n",
    "for k,v in word_count.items():\n",
    "    print(k, v)"
   ]
  },
  {
   "cell_type": "code",
   "execution_count": 73,
   "metadata": {},
   "outputs": [
    {
     "name": "stdout",
     "output_type": "stream",
     "text": [
      "Price of python is  1200\n",
      "Price of python is  None\n",
      "{'R': 500, 'Python': 1200, 'SAS': 1500, 'SPSS': 600}\n"
     ]
    }
   ],
   "source": [
    "books = {\"R\": 500, \"Python\": 1200, \"SAS\": 1500}\n",
    "\n",
    "len(books)\n",
    "str(books)\n",
    "type(books)\n",
    "books.keys()\n",
    "books.values()\n",
    "books.items()\n",
    "books.get(\"Python\")\n",
    "print(\"Price of python is \", books[\"Python\"])\n",
    "print(\"Price of python is \", books.get(\"SPSS\"))\n",
    "\n",
    "books.setdefault(\"SPSS\", 600)\n",
    "print(books)"
   ]
  },
  {
   "cell_type": "code",
   "execution_count": 75,
   "metadata": {},
   "outputs": [
    {
     "name": "stdout",
     "output_type": "stream",
     "text": [
      "{'ord_id': 12, 'cust_id': 12, 'amount': 12}\n"
     ]
    }
   ],
   "source": [
    "tup = ('ord_id', 'cust_id', 'amount')\n",
    "\n",
    "dict1 = dict.fromkeys(tup, 12)\n",
    "print(dict1)"
   ]
  },
  {
   "cell_type": "code",
   "execution_count": 76,
   "metadata": {},
   "outputs": [
    {
     "name": "stdout",
     "output_type": "stream",
     "text": [
      "{'R': 500, 'Python': 1200, 'SAS': 1500}\n",
      "{'Python': 1200, 'SAS': 1500}\n"
     ]
    }
   ],
   "source": [
    "books = {\"R\": 500, \"Python\": 1200, \"SAS\": 1500}\n",
    "\n",
    "print(books)\n",
    "del books[\"R\"]\n",
    "print(books)"
   ]
  },
  {
   "cell_type": "code",
   "execution_count": 77,
   "metadata": {},
   "outputs": [
    {
     "name": "stdout",
     "output_type": "stream",
     "text": [
      "{'R': 500, 'Python': 1700, 'SAS': 1500}\n"
     ]
    }
   ],
   "source": [
    "books = {\"R\": 500, \"Python\": 1200, \"Python\": 1700, \"SAS\": 1500}\n",
    "\n",
    "print(books)"
   ]
  },
  {
   "cell_type": "code",
   "execution_count": 78,
   "metadata": {},
   "outputs": [
    {
     "name": "stdout",
     "output_type": "stream",
     "text": [
      "{'Laptop': 45000, 'Desktop': 35000, 'Mobile': 27000}\n"
     ]
    }
   ],
   "source": [
    "item_names = [\"Laptop\", \"Desktop\", \"Mobile\"]\n",
    "selling_price = [45000, 35000, 27000]\n",
    "\n",
    "item_dict = dict(zip(item_names, selling_price))\n",
    "\n",
    "print(item_dict)"
   ]
  },
  {
   "cell_type": "code",
   "execution_count": null,
   "metadata": {},
   "outputs": [],
   "source": []
  }
 ],
 "metadata": {
  "kernelspec": {
   "display_name": "Python 3",
   "language": "python",
   "name": "python3"
  },
  "language_info": {
   "codemirror_mode": {
    "name": "ipython",
    "version": 3
   },
   "file_extension": ".py",
   "mimetype": "text/x-python",
   "name": "python",
   "nbconvert_exporter": "python",
   "pygments_lexer": "ipython3",
   "version": "3.8.5"
  }
 },
 "nbformat": 4,
 "nbformat_minor": 4
}
