{
 "cells": [
  {
   "cell_type": "code",
   "execution_count": 1,
   "metadata": {},
   "outputs": [
    {
     "name": "stdout",
     "output_type": "stream",
     "text": [
      "{'positive': ['He is a good boy', 'He is an awesome player', 'She is the best', 'These burger are really nice'], 'negative': ['Food is the worst here', 'This pizza tastes awful']}\n"
     ]
    }
   ],
   "source": [
    "# Python Exam - Begum Zubeda \n",
    "# 1. Given below are a list of positive and negative words. Also a list of comments is provided. Segregate the comments based on positive and negative sentiments.\n",
    "\n",
    "positive = ['good','awesome', 'best', 'nice'] \n",
    "negative = ['worst','awful']\n",
    "comments = ['He is a good boy', 'Food is the worst here', 'He is an awesome player', 'She is the best', 'This pizza tastes awful', 'These burger are really nice']\n",
    "\n",
    "posneg = { \"positive\": [], \"negative\": [] }\n",
    "\n",
    "for comment in comments:\n",
    "    for word in comment.split():\n",
    "        if word in positive:\n",
    "            posneg[\"positive\"].append(comment)\n",
    "        elif word in negative:\n",
    "            posneg[\"negative\"].append(comment)\n",
    "\n",
    "print(posneg)"
   ]
  },
  {
   "cell_type": "code",
   "execution_count": 4,
   "metadata": {},
   "outputs": [
    {
     "name": "stdout",
     "output_type": "stream",
     "text": [
      "Enter a number: 16\n",
      "Addition of square 256, cube 4096 and square root 4.0 of num 16 is 4356.0\n"
     ]
    }
   ],
   "source": [
    "# 2. Create a dictionary containing three lambda functions square, cube and square root.\n",
    "\n",
    "import math \n",
    "\n",
    "dict1 = {'Square': lambda x: x**2, 'Cube': lambda x: x**3, 'Squareroot': lambda x: math.sqrt(x)}\n",
    "\n",
    "num = int(input(\"Enter a number: \"))\n",
    "\n",
    "sq = dict1['Square'](num)\n",
    "cb = dict1['Cube'](num)\n",
    "sr = dict1['Squareroot'](num)\n",
    "\n",
    "addition = sq + cb + sr\n",
    "\n",
    "print(\"Addition of square {}, cube {} and square root {} of num {} is {}\".format(sq, cb, sr, num, addition))"
   ]
  },
  {
   "cell_type": "code",
   "execution_count": 5,
   "metadata": {},
   "outputs": [
    {
     "name": "stdout",
     "output_type": "stream",
     "text": [
      "Sour fruits list:  ['Lemon', 'Grapes', 'Kiwi', 'Orange', 'Limes']\n"
     ]
    }
   ],
   "source": [
    "# 3. Find the fruits that are sour in taste from the tuple given below.\n",
    "\n",
    "fruits = (('Lemon','sour'), ('DragonFruit', 'Sweet'), ('Grapes','soUr'), ('Kiwi','Sour'), ('Apples','sweet'), ('Orange','sour'), ('Blueberries','sweet'), ('Limes','Sour'))\n",
    "sourlist = []\n",
    "\n",
    "for f, v in fruits:\n",
    "    if v.lower() == \"sour\":\n",
    "        sourlist.append(f)\n",
    "\n",
    "print(\"Sour fruits list: \", sourlist)"
   ]
  },
  {
   "cell_type": "code",
   "execution_count": 7,
   "metadata": {},
   "outputs": [
    {
     "name": "stdout",
     "output_type": "stream",
     "text": [
      "Words with second character in uppercase:  ['hOw', 'ARe']\n"
     ]
    }
   ],
   "source": [
    "# 4. A list of words is given. Find the words from the list that have their second character in uppercase.\n",
    "\n",
    "ls = ['hello', 'Dear', 'hOw', 'ARe', 'You']\n",
    "\n",
    "newls = [ x for x in ls if x[1].isupper() == True ]\n",
    "\n",
    "print(\"Words with second character in uppercase: \", newls)"
   ]
  },
  {
   "cell_type": "code",
   "execution_count": 18,
   "metadata": {},
   "outputs": [
    {
     "name": "stdout",
     "output_type": "stream",
     "text": [
      "Weight on Moon:  {'John': 7.440366972477065, 'Shelly': 10.747196738022426, 'Marry': 5.786952089704383}\n"
     ]
    }
   ],
   "source": [
    "# 5. A dictionary of names and their weights on earth is given. Find how much they will weigh on the moon. (Use map and lambda functions)\n",
    "# Formula : wMoon = (wEarth * GMoon) / GEarth\n",
    "\n",
    "# Weight of people in kg\n",
    "WeightOnEarth = {'John':45, 'Shelly':65, 'Marry':35}\n",
    "\n",
    "# Gravitational force on the Moon: 1.622 m/s2\n",
    "GMoon = 1.622\n",
    "\n",
    "# Gravitational force on the Earth: 9.81 m/s2 GEarth = 9.81\n",
    "GEarth = 9.81\n",
    "\n",
    "MWeight = dict(map(lambda x: (x, (WeightOnEarth[x] * GMoon) / GEarth), WeightOnEarth))\n",
    "\n",
    "print(\"Weight on Moon: \", MWeight)"
   ]
  },
  {
   "cell_type": "code",
   "execution_count": 19,
   "metadata": {},
   "outputs": [
    {
     "name": "stdout",
     "output_type": "stream",
     "text": [
      "Words with 1st character in uppercase:  ['Dear', 'ARe', 'You']\n"
     ]
    }
   ],
   "source": [
    "# 6. Write a program to fetch the words from the given list which have their first character in uppercase.\n",
    "\n",
    "namesList = ['santa Maria', 'Hello World','Merry christmas', 'tHank You']\n",
    "\n",
    "newls = [ x for x in ls if x[0].isupper() == True ]\n",
    "\n",
    "print(\"Words with 1st character in uppercase: \", newls)"
   ]
  },
  {
   "cell_type": "code",
   "execution_count": 26,
   "metadata": {},
   "outputs": [
    {
     "name": "stdout",
     "output_type": "stream",
     "text": [
      "{8, 3}\n"
     ]
    }
   ],
   "source": [
    "# 7. A list containing multiple lists is given. Convert each inner list into sets and find the intersection of all the sets. Use reduce function.\n",
    "from functools import reduce\n",
    "\n",
    "given_sets = [[1, 2, 3, 4, 8], [2, 3, 8, 5, 6], [8, 4, 5, 3, 7], [6, 9, 8, 3], [9, 12, 3, 7, 6, 8, 4, 6, 21, 1, 6]]\n",
    "\n",
    "intersection = set(reduce( lambda x, y: set(x).intersection(set(y)), given_sets ))\n",
    "\n",
    "print(intersection)"
   ]
  },
  {
   "cell_type": "code",
   "execution_count": 1,
   "metadata": {},
   "outputs": [
    {
     "name": "stdout",
     "output_type": "stream",
     "text": [
      "Cumulative Average:  [9.   7.   7.   7.25 6.8 ]\n"
     ]
    }
   ],
   "source": [
    "# 8. Find the cumulative average of the list [9,8,7,6,5] using accumulate() and lambda function.\n",
    "from itertools import accumulate\n",
    "import numpy as np\n",
    "\n",
    "lst = [9, 5, 7, 8, 5]\n",
    "\n",
    "cum = list(accumulate(lst, lambda x, y: x + y)) / np.arange(1, len(lst) + 1)\n",
    "\n",
    "print(\"Cumulative Average: \", cum)"
   ]
  },
  {
   "cell_type": "code",
   "execution_count": 27,
   "metadata": {},
   "outputs": [
    {
     "name": "stdout",
     "output_type": "stream",
     "text": [
      "Uppercase list:  ['TRUE', 'FALSE', 'TRUE', 'TRUE', 'FALSE', 'FALSE']\n"
     ]
    }
   ],
   "source": [
    "# 9. A list of words is given. Convert the words into uppercase. Use lambda and map functions.\n",
    "\n",
    "lsbool = ['True','FALse','tRUe','tRue','False','faLse']\n",
    "\n",
    "upperbool = list(map( lambda x: x.upper(), lsbool ))\n",
    "\n",
    "print(\"Uppercase list: \", upperbool)"
   ]
  },
  {
   "cell_type": "code",
   "execution_count": 28,
   "metadata": {},
   "outputs": [
    {
     "name": "stdout",
     "output_type": "stream",
     "text": [
      "Years list:  ['1997', '2011', '1993', '2020']\n"
     ]
    }
   ],
   "source": [
    "# 10. A list of dates (dd-mm-yyyy) in the form of string is given below. Create a new list that stores years i.e. the 'yyyy' part from the dates in the given list.\n",
    "\n",
    "datesList = ['17-12-1997','22-04-2011','01-05-1993','19-06-2020']\n",
    "\n",
    "yearsList = [ x[-4: ] for x in datesList ]\n",
    "\n",
    "print(\"Years list: \", yearsList)"
   ]
  },
  {
   "cell_type": "code",
   "execution_count": null,
   "metadata": {},
   "outputs": [],
   "source": []
  }
 ],
 "metadata": {
  "kernelspec": {
   "display_name": "Python 3",
   "language": "python",
   "name": "python3"
  },
  "language_info": {
   "codemirror_mode": {
    "name": "ipython",
    "version": 3
   },
   "file_extension": ".py",
   "mimetype": "text/x-python",
   "name": "python",
   "nbconvert_exporter": "python",
   "pygments_lexer": "ipython3",
   "version": "3.8.5"
  }
 },
 "nbformat": 4,
 "nbformat_minor": 4
}
