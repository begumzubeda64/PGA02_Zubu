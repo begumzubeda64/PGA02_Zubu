{
 "cells": [
  {
   "cell_type": "code",
   "execution_count": 1,
   "metadata": {},
   "outputs": [
    {
     "name": "stdout",
     "output_type": "stream",
     "text": [
      "20.0\n"
     ]
    }
   ],
   "source": [
    "total_cost = 2000\n",
    "quantity = 100\n",
    "price_per_unit = total_cost / quantity\n",
    "print(price_per_unit)"
   ]
  },
  {
   "cell_type": "code",
   "execution_count": 2,
   "metadata": {},
   "outputs": [
    {
     "name": "stdout",
     "output_type": "stream",
     "text": [
      "20\n"
     ]
    }
   ],
   "source": [
    "total_cost = 2000\n",
    "quantity = 100\n",
    "price_per_unit = total_cost // quantity\n",
    "print(price_per_unit)"
   ]
  },
  {
   "cell_type": "code",
   "execution_count": 3,
   "metadata": {},
   "outputs": [
    {
     "name": "stdout",
     "output_type": "stream",
     "text": [
      "27\n"
     ]
    }
   ],
   "source": [
    "result = 3 ** 3\n",
    "print(result)"
   ]
  },
  {
   "cell_type": "code",
   "execution_count": 6,
   "metadata": {},
   "outputs": [
    {
     "name": "stdout",
     "output_type": "stream",
     "text": [
      "Enter the price: 500\n",
      "Enter the quantity: 5\n",
      "The total cost is  2500\n"
     ]
    }
   ],
   "source": [
    "price = int(input(\"Enter the price: \"))\n",
    "quantity = input(\"Enter the quantity: \")\n",
    "\n",
    "total_cost = price * int(quantity)\n",
    "print(\"The total cost is \", total_cost)"
   ]
  },
  {
   "cell_type": "code",
   "execution_count": 7,
   "metadata": {},
   "outputs": [
    {
     "data": {
      "text/plain": [
       "True"
      ]
     },
     "execution_count": 7,
     "metadata": {},
     "output_type": "execute_result"
    }
   ],
   "source": [
    "ketty_age = 28\n",
    "kenny_age = 25\n",
    "\n",
    "ketty_age > kenny_age"
   ]
  },
  {
   "cell_type": "code",
   "execution_count": 11,
   "metadata": {},
   "outputs": [
    {
     "data": {
      "text/plain": [
       "True"
      ]
     },
     "execution_count": 11,
     "metadata": {},
     "output_type": "execute_result"
    }
   ],
   "source": [
    "is_student = True\n",
    "in_college = True\n",
    "in_school = False\n",
    "\n",
    "is_student and in_college\n",
    "\n",
    "is_student or in_school\n",
    "\n",
    "is_student and in_school\n",
    "\n",
    "not(in_school)"
   ]
  },
  {
   "cell_type": "code",
   "execution_count": 15,
   "metadata": {},
   "outputs": [
    {
     "name": "stdout",
     "output_type": "stream",
     "text": [
      "True\n",
      "False\n",
      "False\n",
      "True\n"
     ]
    }
   ],
   "source": [
    "vowels = \"aeiou\"\n",
    "\n",
    "print(\"u\" in vowels)\n",
    "print(\"x\" in vowels)\n",
    "\n",
    "print(\"u\" not in vowels)\n",
    "print(\"x\" not in vowels)"
   ]
  },
  {
   "cell_type": "code",
   "execution_count": 17,
   "metadata": {},
   "outputs": [
    {
     "data": {
      "text/plain": [
       "True"
      ]
     },
     "execution_count": 17,
     "metadata": {},
     "output_type": "execute_result"
    }
   ],
   "source": [
    "number = 10\n",
    "\n",
    "(number % 2 == 0) & (number % 3 == 0)\n",
    "(number % 2 == 0) | (number % 3 == 0)"
   ]
  },
  {
   "cell_type": "code",
   "execution_count": 28,
   "metadata": {},
   "outputs": [
    {
     "name": "stdout",
     "output_type": "stream",
     "text": [
      "30\n"
     ]
    }
   ],
   "source": [
    "a = 10\n",
    "# a += 1\n",
    "# a -= 1\n",
    "# a /= 2\n",
    "# a *= 3\n",
    "print(a)"
   ]
  },
  {
   "cell_type": "code",
   "execution_count": 33,
   "metadata": {},
   "outputs": [
    {
     "name": "stdout",
     "output_type": "stream",
     "text": [
      "-8  is less than or equal to 0\n",
      "This message is always printed\n"
     ]
    }
   ],
   "source": [
    "num = -8\n",
    "\n",
    "if num > 0:\n",
    "    print(num, \" is greater than 0\")\n",
    "else:\n",
    "    print(num, \" is less than or equal to 0\")\n",
    "    \n",
    "print(\"This message is always printed\")"
   ]
  },
  {
   "cell_type": "code",
   "execution_count": 37,
   "metadata": {},
   "outputs": [
    {
     "name": "stdout",
     "output_type": "stream",
     "text": [
      "Enter age: 2\n",
      "Bus fare is 3\n"
     ]
    }
   ],
   "source": [
    "age = int(input(\"Enter age: \"))\n",
    "\n",
    "if 0 < age < 3:\n",
    "    print(\"Bus fare is 3\")\n",
    "elif 3 < age < 10:\n",
    "    print(\"Bus fare is 10\")\n",
    "elif 10 < age < 20:\n",
    "    print(\"Bus fare is 15\")\n",
    "else:\n",
    "    print(\"Bus fare is 25\")"
   ]
  },
  {
   "cell_type": "code",
   "execution_count": 43,
   "metadata": {},
   "outputs": [
    {
     "name": "stdout",
     "output_type": "stream",
     "text": [
      "Enter User ID: John\n",
      "Enter password: Brown123\n",
      "Password Accepted. Succesful login!\n"
     ]
    }
   ],
   "source": [
    "user_id = input(\"Enter User ID: \")\n",
    "password = input(\"Enter password: \")\n",
    "if user_id == \"John\":\n",
    "    if password == \"Brown123\":\n",
    "        print(\"Password Accepted. Succesful login!\")\n",
    "    else:\n",
    "        print(\"Incorrect password! Please enter the correct password.\")\n",
    "else:\n",
    "    print(\"Invalid User ID!\")"
   ]
  },
  {
   "cell_type": "code",
   "execution_count": 44,
   "metadata": {},
   "outputs": [
    {
     "name": "stdout",
     "output_type": "stream",
     "text": [
      "Addition is  55\n"
     ]
    }
   ],
   "source": [
    "num = 10\n",
    "addition = 0\n",
    "i = 1\n",
    "\n",
    "while i <= num:\n",
    "    addition += i\n",
    "    i += 1\n",
    "\n",
    "print(\"Addition is \", addition)"
   ]
  },
  {
   "cell_type": "code",
   "execution_count": 47,
   "metadata": {},
   "outputs": [
    {
     "name": "stdout",
     "output_type": "stream",
     "text": [
      "Addition is  55\n"
     ]
    }
   ],
   "source": [
    "number = range(1,11)\n",
    "addition = 0\n",
    "\n",
    "for i in number:\n",
    "    addition += i\n",
    "\n",
    "print(\"Addition is \", addition)"
   ]
  },
  {
   "cell_type": "code",
   "execution_count": 48,
   "metadata": {},
   "outputs": [
    {
     "name": "stdout",
     "output_type": "stream",
     "text": [
      "1\n",
      "2\n",
      "3\n",
      "4\n"
     ]
    }
   ],
   "source": [
    "number = range(1,11)\n",
    "\n",
    "for i in number:\n",
    "    if i == 5:\n",
    "        break\n",
    "    else:\n",
    "        print(i)"
   ]
  },
  {
   "cell_type": "code",
   "execution_count": 49,
   "metadata": {},
   "outputs": [
    {
     "name": "stdout",
     "output_type": "stream",
     "text": [
      "1\n",
      "2\n",
      "3\n",
      "4\n",
      "6\n",
      "7\n",
      "8\n",
      "9\n",
      "10\n"
     ]
    }
   ],
   "source": [
    "number = range(1,11)\n",
    "\n",
    "for i in number:\n",
    "    if i == 5:\n",
    "        continue\n",
    "    else:\n",
    "        print(i)"
   ]
  },
  {
   "cell_type": "code",
   "execution_count": 50,
   "metadata": {},
   "outputs": [
    {
     "name": "stdout",
     "output_type": "stream",
     "text": [
      "Enter the number of levels: 5\n",
      "1 \n",
      "\n",
      "2 2 \n",
      "\n",
      "3 3 3 \n",
      "\n",
      "4 4 4 4 \n",
      "\n",
      "5 5 5 5 5 \n",
      "\n"
     ]
    }
   ],
   "source": [
    "levels = int(input(\"Enter the number of levels: \"))\n",
    "\n",
    "for i in range(1, levels + 1):\n",
    "    for j in range(i):\n",
    "        print(i, end = \" \")\n",
    "    print(\"\\n\")"
   ]
  },
  {
   "cell_type": "code",
   "execution_count": 53,
   "metadata": {},
   "outputs": [
    {
     "name": "stdout",
     "output_type": "stream",
     "text": [
      "Enter grade:70\n",
      "Enter grade:60\n",
      "Enter grade:70\n",
      "Enter grade:0\n",
      "Enter grade:70\n",
      "Enter grade:60\n",
      "Enter grade:80\n",
      "Enter grade:70\n",
      "Enter grade:80\n",
      "Enter grade:90\n",
      "Class average is:  59.09090909090909\n"
     ]
    }
   ],
   "source": [
    "#Case study 1(Counter controlled repitition): Class average program\n",
    "\n",
    "total = 0\n",
    "gradeCounter = 1\n",
    "\n",
    "while gradeCounter <= 10:\n",
    "    grade = int(input(\"Enter grade:\"))\n",
    "    total += grade\n",
    "    gradeCounter += 1\n",
    "\n",
    "average = total/gradeCounter;\n",
    "\n",
    "print(\"Class average is: \", average)"
   ]
  },
  {
   "cell_type": "code",
   "execution_count": 62,
   "metadata": {},
   "outputs": [
    {
     "name": "stdout",
     "output_type": "stream",
     "text": [
      "Enter Grade, -1 to end: 90\n",
      "Enter Grade, -1 to end: 80\n",
      "Enter Grade, -1 to end: 90\n",
      "Enter Grade, -1 to end: -1\n",
      "Class average is  86.66666666666667\n"
     ]
    }
   ],
   "source": [
    "#Case study 2(Sentinal controlled repitition): Class average program\n",
    "\n",
    "#initialization phase\n",
    "total = 0\n",
    "gradeCounter = 0\n",
    "\n",
    "#Processing phase\n",
    "grade = int(input(\"Enter Grade, -1 to end: \")) #get one grade\n",
    "\n",
    "while grade != -1:\n",
    "    total += grade\n",
    "    gradeCounter += 1\n",
    "    grade = int(input(\"Enter Grade, -1 to end: \"))  \n",
    "\n",
    "#termination phase    \n",
    "if gradeCounter != 0:\n",
    "    average = total/gradeCounter\n",
    "    print(\"Class average is \",average)\n",
    "else:\n",
    "    print(\"No grades were entered\")\n"
   ]
  },
  {
   "cell_type": "code",
   "execution_count": 1,
   "metadata": {},
   "outputs": [
    {
     "name": "stdout",
     "output_type": "stream",
     "text": [
      "P\n",
      "n\n",
      "I Love\n",
      "Love Python\n",
      "Python\n",
      " oePto\n",
      " Love Pyth\n",
      "nohtyP evoL I\n",
      "L\n"
     ]
    }
   ],
   "source": [
    "text = \"I Love Python\"\n",
    "\n",
    "print(text[7])\n",
    "print(text[-1])\n",
    "\n",
    "print(text[:6])\n",
    "print(text[2:])\n",
    "print(text[7:13])\n",
    "print(text[1::2])\n",
    "print(text[1:-2])\n",
    "print(text[::-1])\n",
    "print(text[::-1][-3])"
   ]
  },
  {
   "cell_type": "code",
   "execution_count": 76,
   "metadata": {},
   "outputs": [
    {
     "data": {
      "text/plain": [
       "'I Love Data Science'"
      ]
     },
     "execution_count": 76,
     "metadata": {},
     "output_type": "execute_result"
    }
   ],
   "source": [
    "text.replace(\"Python\", \"Data Science\")"
   ]
  },
  {
   "cell_type": "code",
   "execution_count": 78,
   "metadata": {},
   "outputs": [
    {
     "data": {
      "text/plain": [
       "'I LOVE PYTHON'"
      ]
     },
     "execution_count": 78,
     "metadata": {},
     "output_type": "execute_result"
    }
   ],
   "source": [
    "text.upper()"
   ]
  },
  {
   "cell_type": "code",
   "execution_count": 79,
   "metadata": {},
   "outputs": [
    {
     "data": {
      "text/plain": [
       "'i love python'"
      ]
     },
     "execution_count": 79,
     "metadata": {},
     "output_type": "execute_result"
    }
   ],
   "source": [
    "text.lower()"
   ]
  },
  {
   "cell_type": "code",
   "execution_count": 80,
   "metadata": {},
   "outputs": [
    {
     "data": {
      "text/plain": [
       "'I Love Python'"
      ]
     },
     "execution_count": 80,
     "metadata": {},
     "output_type": "execute_result"
    }
   ],
   "source": [
    "text.title()"
   ]
  },
  {
   "cell_type": "code",
   "execution_count": 81,
   "metadata": {},
   "outputs": [
    {
     "data": {
      "text/plain": [
       "'13-10-2021'"
      ]
     },
     "execution_count": 81,
     "metadata": {},
     "output_type": "execute_result"
    }
   ],
   "source": [
    "date = \"13\", \"10\", \"2021\"\n",
    "s = \"-\"\n",
    "s.join(date)"
   ]
  },
  {
   "cell_type": "code",
   "execution_count": 83,
   "metadata": {},
   "outputs": [
    {
     "data": {
      "text/plain": [
       "'Python?for?data?science'"
      ]
     },
     "execution_count": 83,
     "metadata": {},
     "output_type": "execute_result"
    }
   ],
   "source": [
    "text = \"?????Python?for?data?science?????\"\n",
    "text.strip(\"?\")"
   ]
  },
  {
   "cell_type": "code",
   "execution_count": null,
   "metadata": {},
   "outputs": [],
   "source": []
  }
 ],
 "metadata": {
  "kernelspec": {
   "display_name": "Python 3",
   "language": "python",
   "name": "python3"
  },
  "language_info": {
   "codemirror_mode": {
    "name": "ipython",
    "version": 3
   },
   "file_extension": ".py",
   "mimetype": "text/x-python",
   "name": "python",
   "nbconvert_exporter": "python",
   "pygments_lexer": "ipython3",
   "version": "3.8.5"
  }
 },
 "nbformat": 4,
 "nbformat_minor": 4
}
