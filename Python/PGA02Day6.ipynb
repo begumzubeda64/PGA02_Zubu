{
 "cells": [
  {
   "cell_type": "code",
   "execution_count": 2,
   "metadata": {},
   "outputs": [
    {
     "data": {
      "text/plain": [
       "0    30\n",
       "1    45\n",
       "2    24\n",
       "3    28\n",
       "4    32\n",
       "5    36\n",
       "dtype: int64"
      ]
     },
     "execution_count": 2,
     "metadata": {},
     "output_type": "execute_result"
    }
   ],
   "source": [
    "import pandas as pd\n",
    "\n",
    "age_series = pd.Series([30, 45, 24, 28, 32, 36])\n",
    "age_series"
   ]
  },
  {
   "cell_type": "code",
   "execution_count": 3,
   "metadata": {},
   "outputs": [
    {
     "data": {
      "text/plain": [
       "0     50\n",
       "2     52\n",
       "4     44\n",
       "6     21\n",
       "8     37\n",
       "10    49\n",
       "dtype: int32"
      ]
     },
     "execution_count": 3,
     "metadata": {},
     "output_type": "execute_result"
    }
   ],
   "source": [
    "import numpy as np\n",
    "\n",
    "age2_series = pd.Series(np.array([50, 52, 44, 21, 37, 49]), index=np.arange(0, 12, 2))\n",
    "age2_series"
   ]
  },
  {
   "cell_type": "code",
   "execution_count": 8,
   "metadata": {},
   "outputs": [
    {
     "data": {
      "text/plain": [
       "A1    50\n",
       "A2    52\n",
       "A3    44\n",
       "A4    21\n",
       "A5    37\n",
       "A6    49\n",
       "dtype: int32"
      ]
     },
     "execution_count": 8,
     "metadata": {},
     "output_type": "execute_result"
    }
   ],
   "source": [
    "age3_series = pd.Series(np.array([50, 52, 44, 21, 37, 49]), index=['A1', 'A2', 'A3', 'A4', 'A5', 'A6'])\n",
    "\n",
    "age3_series"
   ]
  },
  {
   "cell_type": "code",
   "execution_count": 5,
   "metadata": {},
   "outputs": [
    {
     "data": {
      "text/plain": [
       "Apples     1200\n",
       "Oranges    1150\n",
       "Bananas      50\n",
       "Pears       240\n",
       "dtype: int64"
      ]
     },
     "execution_count": 5,
     "metadata": {},
     "output_type": "execute_result"
    }
   ],
   "source": [
    "prod_dict = { \"Apples\": 1200, \"Oranges\": 1150, \"Bananas\": 50, \"Pears\": 240 }\n",
    "\n",
    "prod_series = pd.Series(prod_dict)\n",
    "prod_series"
   ]
  },
  {
   "cell_type": "code",
   "execution_count": 11,
   "metadata": {},
   "outputs": [
    {
     "name": "stdout",
     "output_type": "stream",
     "text": [
      "X    [Maths, Science, English]\n",
      "Y             [Maths, Science]\n",
      "Z                      Science\n",
      "dtype: object \n",
      "\n",
      "Index(['X', 'Y', 'Z'], dtype='object') \n",
      "\n",
      "[list(['Maths', 'Science', 'English']) list(['Maths', 'Science'])\n",
      " 'Science']\n"
     ]
    }
   ],
   "source": [
    "classes_dict = { \"X\": [\"Maths\", \"Science\", \"English\"],\n",
    "                 \"Y\": [\"Maths\", \"Science\"],\n",
    "                 \"Z\": \"Science\" \n",
    "               }\n",
    "classes_series = pd.Series(classes_dict)\n",
    "\n",
    "print(classes_series, \"\\n\")\n",
    "print(classes_series.index, \"\\n\")\n",
    "print(classes_series.values)"
   ]
  },
  {
   "cell_type": "code",
   "execution_count": 12,
   "metadata": {},
   "outputs": [
    {
     "name": "stdout",
     "output_type": "stream",
     "text": [
      "0    A101\n",
      "1    A102\n",
      "2    A103\n",
      "3    B101\n",
      "4    B102\n",
      "5    B103\n",
      "6    C101\n",
      "7    C102\n",
      "8    C104\n",
      "dtype: object\n",
      "0    A101\n",
      "1    A102\n",
      "2    A103\n",
      "3    B101\n",
      "4    B102\n",
      "dtype: object\n",
      "4    B102\n",
      "5    B103\n",
      "6    C101\n",
      "7    C102\n",
      "8    C104\n",
      "dtype: object\n"
     ]
    }
   ],
   "source": [
    "emp_array = np.array([\"A101\", \"A102\", \"A103\", \"B101\", \"B102\", \"B103\", \"C101\", \"C102\", \"C104\"])\n",
    "\n",
    "emp_id_series = pd.Series(emp_array)\n",
    "\n",
    "print(emp_id_series)\n",
    "print(emp_id_series[:5])\n",
    "print(emp_id_series[-5:])"
   ]
  },
  {
   "cell_type": "code",
   "execution_count": 19,
   "metadata": {},
   "outputs": [
    {
     "name": "stdout",
     "output_type": "stream",
     "text": [
      "X    [Maths, Science, English]\n",
      "Y             [Maths, Science]\n",
      "Z                      Science\n",
      "dtype: object \n",
      "\n",
      "Science \n",
      "\n",
      "X    [Maths, Science, English]\n",
      "Y             [Maths, Science]\n",
      "dtype: object\n"
     ]
    }
   ],
   "source": [
    "print(classes_series, \"\\n\")\n",
    "\n",
    "print( classes_series[\"Z\"], \"\\n\")\n",
    "\n",
    "print(classes_series[[\"X\", \"Y\"]])"
   ]
  },
  {
   "cell_type": "code",
   "execution_count": 20,
   "metadata": {},
   "outputs": [
    {
     "data": {
      "text/plain": [
       "Sophia     450\n",
       "Emma       313\n",
       "William    450\n",
       "dtype: int32"
      ]
     },
     "execution_count": 20,
     "metadata": {},
     "output_type": "execute_result"
    }
   ],
   "source": [
    "student_series = pd.Series(np.array([450, 129, 313, 450, 215, 116]), \n",
    "                           index=[\"Sophia\", \"Mia\", \"Emma\", \"William\", \"lily\", \"Grace\"])\n",
    "\n",
    "student_series[student_series > 300]"
   ]
  },
  {
   "cell_type": "code",
   "execution_count": 21,
   "metadata": {},
   "outputs": [
    {
     "data": {
      "text/plain": [
       "0    2400\n",
       "1    6400\n",
       "2    4800\n",
       "dtype: int32"
      ]
     },
     "execution_count": 21,
     "metadata": {},
     "output_type": "execute_result"
    }
   ],
   "source": [
    "sales_array = np.array([1200, 3200, 2400])\n",
    "\n",
    "sales_series = pd.Series(sales_array)\n",
    "sales_series * 2"
   ]
  },
  {
   "cell_type": "code",
   "execution_count": 23,
   "metadata": {},
   "outputs": [
    {
     "name": "stdout",
     "output_type": "stream",
     "text": [
      "0    276\n",
      "1    645\n",
      "2    578\n",
      "dtype: int64 \n",
      "\n",
      "0    35\n",
      "1    58\n",
      "2    51\n",
      "dtype: int64 \n",
      "\n"
     ]
    }
   ],
   "source": [
    "MRP_series = pd.Series([12, 15, 17])\n",
    "sales_series = pd.Series([23, 43, 34])\n",
    "\n",
    "total_amt_series1 = MRP_series.multiply(sales_series)\n",
    "\n",
    "print(total_amt_series1, \"\\n\")\n",
    "\n",
    "total_amt_series2 = MRP_series + sales_series\n",
    "print(total_amt_series2, \"\\n\")"
   ]
  },
  {
   "cell_type": "code",
   "execution_count": 24,
   "metadata": {},
   "outputs": [
    {
     "data": {
      "text/plain": [
       "0    35.0\n",
       "1    58.0\n",
       "2     NaN\n",
       "dtype: float64"
      ]
     },
     "execution_count": 24,
     "metadata": {},
     "output_type": "execute_result"
    }
   ],
   "source": [
    "MRP_series1 = pd.Series([12, 15, 17])\n",
    "sales_series1 = pd.Series([23, 43])\n",
    "\n",
    "total_amt_series3 = MRP_series1 + sales_series1\n",
    "total_amt_series3"
   ]
  },
  {
   "cell_type": "code",
   "execution_count": 25,
   "metadata": {},
   "outputs": [
    {
     "data": {
      "text/plain": [
       "0     5.0\n",
       "1     7.0\n",
       "2     6.0\n",
       "3     8.0\n",
       "4     1.0\n",
       "5     2.0\n",
       "6    10.0\n",
       "7     3.0\n",
       "8     9.0\n",
       "9     4.0\n",
       "dtype: float64"
      ]
     },
     "execution_count": 25,
     "metadata": {},
     "output_type": "execute_result"
    }
   ],
   "source": [
    "score_array = np.array([121, 212, 153, 214, 115, 116, 237, 118, 219, 120])\n",
    "score_series = pd.Series(score_array)\n",
    "\n",
    "score_series.rank() #rank elements in ascending order starting from 1 rank"
   ]
  },
  {
   "cell_type": "code",
   "execution_count": 27,
   "metadata": {},
   "outputs": [
    {
     "data": {
      "text/plain": [
       "2      NaN\n",
       "6      NaN\n",
       "8      NaN\n",
       "4    115.0\n",
       "5    116.0\n",
       "7    118.0\n",
       "9    120.0\n",
       "0    121.0\n",
       "1    212.0\n",
       "3    214.0\n",
       "dtype: float64"
      ]
     },
     "execution_count": 27,
     "metadata": {},
     "output_type": "execute_result"
    }
   ],
   "source": [
    "score_array1 = np.array([121, 212, np.nan, 214, 115, 116, np.nan, 118, np.nan, 120])\n",
    "score_series1 = pd.Series(score_array1)\n",
    "\n",
    "score_series1.sort_values(ascending=True, na_position = 'last')\n",
    "score_series1.sort_values(ascending=True, na_position = 'first')"
   ]
  },
  {
   "cell_type": "code",
   "execution_count": 28,
   "metadata": {},
   "outputs": [
    {
     "data": {
      "text/plain": [
       "100      NaN\n",
       "101    212.0\n",
       "102    115.0\n",
       "104    214.0\n",
       "105    116.0\n",
       "106      NaN\n",
       "107      NaN\n",
       "109    118.0\n",
       "110    120.0\n",
       "112    121.0\n",
       "dtype: float64"
      ]
     },
     "execution_count": 28,
     "metadata": {},
     "output_type": "execute_result"
    }
   ],
   "source": [
    "score_array2 = np.array([121, 212, np.nan, 214, 115, 116, np.nan, 118, np.nan, 120])\n",
    "score_series2 = pd.Series(score_array2, index = [112, 101, 100, 104, 102, 105, 107, 109, 106, 110])\n",
    "\n",
    "score_series2.sort_index(ascending=True)"
   ]
  },
  {
   "cell_type": "code",
   "execution_count": 29,
   "metadata": {},
   "outputs": [
    {
     "data": {
      "text/plain": [
       "112    False\n",
       "101    False\n",
       "100     True\n",
       "104    False\n",
       "102    False\n",
       "105    False\n",
       "107     True\n",
       "109    False\n",
       "106     True\n",
       "110    False\n",
       "dtype: bool"
      ]
     },
     "execution_count": 29,
     "metadata": {},
     "output_type": "execute_result"
    }
   ],
   "source": [
    "score_series2.isnull()"
   ]
  },
  {
   "cell_type": "code",
   "execution_count": 30,
   "metadata": {},
   "outputs": [
    {
     "data": {
      "text/plain": [
       "112     True\n",
       "101     True\n",
       "100    False\n",
       "104     True\n",
       "102     True\n",
       "105     True\n",
       "107    False\n",
       "109     True\n",
       "106    False\n",
       "110     True\n",
       "dtype: bool"
      ]
     },
     "execution_count": 30,
     "metadata": {},
     "output_type": "execute_result"
    }
   ],
   "source": [
    "score_series2.notnull()"
   ]
  },
  {
   "cell_type": "code",
   "execution_count": 32,
   "metadata": {},
   "outputs": [
    {
     "data": {
      "text/plain": [
       "Category  Index\n",
       "Even      0         0.0\n",
       "          1         2.0\n",
       "          2         4.0\n",
       "          3         6.0\n",
       "          4         8.0\n",
       "          5        10.0\n",
       "          6        12.0\n",
       "          7        14.0\n",
       "          8        16.0\n",
       "          9        18.0\n",
       "          10       20.0\n",
       "Odd       0         1.0\n",
       "          1         3.0\n",
       "          2         5.0\n",
       "          3         7.0\n",
       "          4         9.0\n",
       "          5        11.0\n",
       "          6        13.0\n",
       "          7        15.0\n",
       "          8        17.0\n",
       "          9        19.0\n",
       "          10       21.0\n",
       "dtype: float64"
      ]
     },
     "execution_count": 32,
     "metadata": {},
     "output_type": "execute_result"
    }
   ],
   "source": [
    "class1 = np.linspace(start=0, stop=20, num=11)\n",
    "class2 = np.linspace(start=1, stop=21, num=11)\n",
    "\n",
    "class1_series = pd.Series(data=class1)\n",
    "class2_series = pd.Series(data=class2)\n",
    "\n",
    "pd.concat([class1_series, class2_series], keys=[\"Even\", \"Odd\"], names=[\"Category\", \"Index\"])"
   ]
  },
  {
   "cell_type": "code",
   "execution_count": 34,
   "metadata": {},
   "outputs": [
    {
     "data": {
      "text/plain": [
       "0      0.0\n",
       "1      2.0\n",
       "2      4.0\n",
       "3      6.0\n",
       "4      8.0\n",
       "5     10.0\n",
       "6     12.0\n",
       "7     14.0\n",
       "8     16.0\n",
       "9     18.0\n",
       "10    20.0\n",
       "11     1.0\n",
       "12     3.0\n",
       "13     5.0\n",
       "14     7.0\n",
       "15     9.0\n",
       "16    11.0\n",
       "17    13.0\n",
       "18    15.0\n",
       "19    17.0\n",
       "20    19.0\n",
       "21    21.0\n",
       "dtype: float64"
      ]
     },
     "execution_count": 34,
     "metadata": {},
     "output_type": "execute_result"
    }
   ],
   "source": [
    "class1_series.append(class2_series, ignore_index=True)"
   ]
  },
  {
   "cell_type": "code",
   "execution_count": 36,
   "metadata": {},
   "outputs": [
    {
     "name": "stdout",
     "output_type": "stream",
     "text": [
      "    Tools\n",
      "0       R\n",
      "1  Python\n",
      "2     SAS\n",
      "3    SPSS\n"
     ]
    }
   ],
   "source": [
    "data_science = [\"R\", \"Python\", \"SAS\", \"SPSS\"]\n",
    "\n",
    "df = pd.DataFrame(data_science, columns=['Tools'])\n",
    "print(df)"
   ]
  },
  {
   "cell_type": "code",
   "execution_count": 37,
   "metadata": {},
   "outputs": [
    {
     "name": "stdout",
     "output_type": "stream",
     "text": [
      "     Store   Sales\n",
      "0     Vivo   30000\n",
      "1     Oppo   40000\n",
      "2  Samsung   78000\n",
      "3    Apple  200000\n"
     ]
    }
   ],
   "source": [
    "store_list = [ [\"Vivo\", 30000], [\"Oppo\", 40000], [\"Samsung\", 78000], [\"Apple\", 200000] ]\n",
    "\n",
    "df = pd.DataFrame(store_list, columns = [\"Store\", \"Sales\"])\n",
    "print(df)"
   ]
  },
  {
   "cell_type": "code",
   "execution_count": 38,
   "metadata": {},
   "outputs": [
    {
     "name": "stdout",
     "output_type": "stream",
     "text": [
      "  Product  Sales\n",
      "A     Tea  24000\n",
      "B  Coffee  45000\n",
      "C    Milk  56000\n",
      "D   Sugar  34000\n"
     ]
    }
   ],
   "source": [
    "store_data = {\"Product\": [\"Tea\", \"Coffee\", \"Milk\", \"Sugar\"], \"Sales\": [24000, 45000, 56000, 34000]}\n",
    "\n",
    "df = pd.DataFrame(store_data, index=[\"A\", \"B\", \"C\", \"D\"])\n",
    "print(df)"
   ]
  },
  {
   "cell_type": "code",
   "execution_count": 40,
   "metadata": {},
   "outputs": [
    {
     "name": "stdout",
     "output_type": "stream",
     "text": [
      "   Store-A  Store-B  Store-C\n",
      "0     1010     2102      NaN\n",
      "1     3105     4110   2120.0\n"
     ]
    }
   ],
   "source": [
    "store_data = [ {\"Store-A\": 1010, \"Store-B\": 2102}, {\"Store-A\": 3105, \"Store-B\": 4110, \"Store-C\": 2120} ]\n",
    "\n",
    "df_store = pd.DataFrame(store_data)\n",
    "print(df_store)"
   ]
  },
  {
   "cell_type": "code",
   "execution_count": 41,
   "metadata": {},
   "outputs": [
    {
     "name": "stdout",
     "output_type": "stream",
     "text": [
      "<class 'pandas.core.frame.DataFrame'>\n",
      "<class 'list'>\n",
      "<class 'pandas.core.series.Series'>\n"
     ]
    }
   ],
   "source": [
    "print(type(df_store))\n",
    "print(type(store_data))\n",
    "print(type(df_store[\"Store-A\"]))"
   ]
  },
  {
   "cell_type": "code",
   "execution_count": 58,
   "metadata": {},
   "outputs": [
    {
     "data": {
      "text/html": [
       "<div>\n",
       "<style scoped>\n",
       "    .dataframe tbody tr th:only-of-type {\n",
       "        vertical-align: middle;\n",
       "    }\n",
       "\n",
       "    .dataframe tbody tr th {\n",
       "        vertical-align: top;\n",
       "    }\n",
       "\n",
       "    .dataframe thead th {\n",
       "        text-align: right;\n",
       "    }\n",
       "</style>\n",
       "<table border=\"1\" class=\"dataframe\">\n",
       "  <thead>\n",
       "    <tr style=\"text-align: right;\">\n",
       "      <th></th>\n",
       "      <th>Month</th>\n",
       "      <th>Store</th>\n",
       "      <th>Sales</th>\n",
       "    </tr>\n",
       "  </thead>\n",
       "  <tbody>\n",
       "    <tr>\n",
       "      <th>0</th>\n",
       "      <td>Jan</td>\n",
       "      <td>A</td>\n",
       "      <td>31037</td>\n",
       "    </tr>\n",
       "    <tr>\n",
       "      <th>1</th>\n",
       "      <td>Jan</td>\n",
       "      <td>B</td>\n",
       "      <td>20722</td>\n",
       "    </tr>\n",
       "    <tr>\n",
       "      <th>2</th>\n",
       "      <td>Jan</td>\n",
       "      <td>C</td>\n",
       "      <td>24557</td>\n",
       "    </tr>\n",
       "    <tr>\n",
       "      <th>3</th>\n",
       "      <td>Jan</td>\n",
       "      <td>D</td>\n",
       "      <td>34649</td>\n",
       "    </tr>\n",
       "    <tr>\n",
       "      <th>4</th>\n",
       "      <td>Jan</td>\n",
       "      <td>E</td>\n",
       "      <td>29795</td>\n",
       "    </tr>\n",
       "  </tbody>\n",
       "</table>\n",
       "</div>"
      ],
      "text/plain": [
       "  Month Store  Sales\n",
       "0   Jan     A  31037\n",
       "1   Jan     B  20722\n",
       "2   Jan     C  24557\n",
       "3   Jan     D  34649\n",
       "4   Jan     E  29795"
      ]
     },
     "execution_count": 58,
     "metadata": {},
     "output_type": "execute_result"
    }
   ],
   "source": [
    "my_sales = pd.read_csv(r\"C:\\zubeda\\PGA-02\\Python\\Datasets\\Pandas\\bigmarket.csv\")\n",
    "\n",
    "my_sales.head()"
   ]
  },
  {
   "cell_type": "code",
   "execution_count": 52,
   "metadata": {},
   "outputs": [
    {
     "data": {
      "text/html": [
       "<div>\n",
       "<style scoped>\n",
       "    .dataframe tbody tr th:only-of-type {\n",
       "        vertical-align: middle;\n",
       "    }\n",
       "\n",
       "    .dataframe tbody tr th {\n",
       "        vertical-align: top;\n",
       "    }\n",
       "\n",
       "    .dataframe thead th {\n",
       "        text-align: right;\n",
       "    }\n",
       "</style>\n",
       "<table border=\"1\" class=\"dataframe\">\n",
       "  <thead>\n",
       "    <tr style=\"text-align: right;\">\n",
       "      <th></th>\n",
       "      <th>Month</th>\n",
       "      <th>Store</th>\n",
       "      <th>Sales</th>\n",
       "    </tr>\n",
       "  </thead>\n",
       "  <tbody>\n",
       "    <tr>\n",
       "      <th>20</th>\n",
       "      <td>May</td>\n",
       "      <td>A</td>\n",
       "      <td>29487</td>\n",
       "    </tr>\n",
       "    <tr>\n",
       "      <th>21</th>\n",
       "      <td>May</td>\n",
       "      <td>B</td>\n",
       "      <td>40001</td>\n",
       "    </tr>\n",
       "    <tr>\n",
       "      <th>22</th>\n",
       "      <td>May</td>\n",
       "      <td>C</td>\n",
       "      <td>46482</td>\n",
       "    </tr>\n",
       "    <tr>\n",
       "      <th>23</th>\n",
       "      <td>May</td>\n",
       "      <td>D</td>\n",
       "      <td>46313</td>\n",
       "    </tr>\n",
       "    <tr>\n",
       "      <th>24</th>\n",
       "      <td>May</td>\n",
       "      <td>E</td>\n",
       "      <td>47594</td>\n",
       "    </tr>\n",
       "  </tbody>\n",
       "</table>\n",
       "</div>"
      ],
      "text/plain": [
       "   Month Store  Sales\n",
       "20   May     A  29487\n",
       "21   May     B  40001\n",
       "22   May     C  46482\n",
       "23   May     D  46313\n",
       "24   May     E  47594"
      ]
     },
     "execution_count": 52,
     "metadata": {},
     "output_type": "execute_result"
    }
   ],
   "source": [
    "my_sales.tail()"
   ]
  },
  {
   "cell_type": "code",
   "execution_count": 53,
   "metadata": {},
   "outputs": [
    {
     "name": "stdout",
     "output_type": "stream",
     "text": [
      "    Month Store  Sales\n",
      "0     Jan     A  31037\n",
      "1     Jan     B  20722\n",
      "2     Jan     C  24557\n",
      "3     Jan     D  34649\n",
      "4     Jan     E  29795\n",
      "5     Feb     A  29133\n",
      "6     Feb     B  22695\n",
      "7     Feb     C  28312\n",
      "8     Feb     D  31454\n",
      "9     Feb     E  46267\n",
      "10  March     A  32961\n",
      "11  March     B  26451\n",
      "12  March     C  47814\n",
      "13  March     D  36069\n",
      "14  March     E  31874\n",
      "15    Apr     A  27253\n",
      "16    Apr     B  40241\n",
      "17    Apr     C  47488\n",
      "18    Apr     D  25432\n",
      "19    Apr     E  33880\n",
      "20    May     A  29487\n",
      "21    May     B  40001\n",
      "22    May     C  46482\n",
      "23    May     D  46313\n",
      "24    May     E  47594\n"
     ]
    }
   ],
   "source": [
    "import zipfile\n",
    "with zipfile.ZipFile(r\"C:\\zubeda\\PGA-02\\Python\\Datasets\\Pandas\\bigmarket.zip\") as z:\n",
    "    with z.open(\"bigmarket.csv\") as f:\n",
    "        train = pd.read_csv(f, header=0)\n",
    "        print(train)"
   ]
  },
  {
   "cell_type": "code",
   "execution_count": 59,
   "metadata": {},
   "outputs": [
    {
     "data": {
      "text/html": [
       "<div>\n",
       "<style scoped>\n",
       "    .dataframe tbody tr th:only-of-type {\n",
       "        vertical-align: middle;\n",
       "    }\n",
       "\n",
       "    .dataframe tbody tr th {\n",
       "        vertical-align: top;\n",
       "    }\n",
       "\n",
       "    .dataframe thead th {\n",
       "        text-align: right;\n",
       "    }\n",
       "</style>\n",
       "<table border=\"1\" class=\"dataframe\">\n",
       "  <thead>\n",
       "    <tr style=\"text-align: right;\">\n",
       "      <th></th>\n",
       "      <th>Month</th>\n",
       "      <th>Store</th>\n",
       "      <th>Sales</th>\n",
       "    </tr>\n",
       "  </thead>\n",
       "  <tbody>\n",
       "    <tr>\n",
       "      <th>0</th>\n",
       "      <td>Jan</td>\n",
       "      <td>A</td>\n",
       "      <td>31037</td>\n",
       "    </tr>\n",
       "    <tr>\n",
       "      <th>1</th>\n",
       "      <td>Jan</td>\n",
       "      <td>B</td>\n",
       "      <td>20722</td>\n",
       "    </tr>\n",
       "    <tr>\n",
       "      <th>2</th>\n",
       "      <td>Jan</td>\n",
       "      <td>C</td>\n",
       "      <td>24557</td>\n",
       "    </tr>\n",
       "    <tr>\n",
       "      <th>3</th>\n",
       "      <td>Jan</td>\n",
       "      <td>D</td>\n",
       "      <td>34649</td>\n",
       "    </tr>\n",
       "    <tr>\n",
       "      <th>4</th>\n",
       "      <td>Jan</td>\n",
       "      <td>E</td>\n",
       "      <td>29795</td>\n",
       "    </tr>\n",
       "    <tr>\n",
       "      <th>5</th>\n",
       "      <td>Feb</td>\n",
       "      <td>A</td>\n",
       "      <td>29133</td>\n",
       "    </tr>\n",
       "    <tr>\n",
       "      <th>6</th>\n",
       "      <td>Feb</td>\n",
       "      <td>B</td>\n",
       "      <td>22695</td>\n",
       "    </tr>\n",
       "    <tr>\n",
       "      <th>7</th>\n",
       "      <td>Feb</td>\n",
       "      <td>C</td>\n",
       "      <td>28312</td>\n",
       "    </tr>\n",
       "    <tr>\n",
       "      <th>8</th>\n",
       "      <td>Feb</td>\n",
       "      <td>D</td>\n",
       "      <td>31454</td>\n",
       "    </tr>\n",
       "    <tr>\n",
       "      <th>9</th>\n",
       "      <td>Feb</td>\n",
       "      <td>E</td>\n",
       "      <td>46267</td>\n",
       "    </tr>\n",
       "    <tr>\n",
       "      <th>10</th>\n",
       "      <td>March</td>\n",
       "      <td>A</td>\n",
       "      <td>32961</td>\n",
       "    </tr>\n",
       "    <tr>\n",
       "      <th>11</th>\n",
       "      <td>March</td>\n",
       "      <td>B</td>\n",
       "      <td>26451</td>\n",
       "    </tr>\n",
       "    <tr>\n",
       "      <th>12</th>\n",
       "      <td>March</td>\n",
       "      <td>C</td>\n",
       "      <td>47814</td>\n",
       "    </tr>\n",
       "    <tr>\n",
       "      <th>13</th>\n",
       "      <td>March</td>\n",
       "      <td>D</td>\n",
       "      <td>36069</td>\n",
       "    </tr>\n",
       "    <tr>\n",
       "      <th>14</th>\n",
       "      <td>March</td>\n",
       "      <td>E</td>\n",
       "      <td>31874</td>\n",
       "    </tr>\n",
       "    <tr>\n",
       "      <th>15</th>\n",
       "      <td>Apr</td>\n",
       "      <td>A</td>\n",
       "      <td>27253</td>\n",
       "    </tr>\n",
       "    <tr>\n",
       "      <th>16</th>\n",
       "      <td>Apr</td>\n",
       "      <td>B</td>\n",
       "      <td>40241</td>\n",
       "    </tr>\n",
       "    <tr>\n",
       "      <th>17</th>\n",
       "      <td>Apr</td>\n",
       "      <td>C</td>\n",
       "      <td>47488</td>\n",
       "    </tr>\n",
       "    <tr>\n",
       "      <th>18</th>\n",
       "      <td>Apr</td>\n",
       "      <td>D</td>\n",
       "      <td>25432</td>\n",
       "    </tr>\n",
       "    <tr>\n",
       "      <th>19</th>\n",
       "      <td>Apr</td>\n",
       "      <td>E</td>\n",
       "      <td>33880</td>\n",
       "    </tr>\n",
       "    <tr>\n",
       "      <th>20</th>\n",
       "      <td>May</td>\n",
       "      <td>A</td>\n",
       "      <td>29487</td>\n",
       "    </tr>\n",
       "    <tr>\n",
       "      <th>21</th>\n",
       "      <td>May</td>\n",
       "      <td>B</td>\n",
       "      <td>40001</td>\n",
       "    </tr>\n",
       "    <tr>\n",
       "      <th>22</th>\n",
       "      <td>May</td>\n",
       "      <td>C</td>\n",
       "      <td>46482</td>\n",
       "    </tr>\n",
       "    <tr>\n",
       "      <th>23</th>\n",
       "      <td>May</td>\n",
       "      <td>D</td>\n",
       "      <td>46313</td>\n",
       "    </tr>\n",
       "    <tr>\n",
       "      <th>24</th>\n",
       "      <td>May</td>\n",
       "      <td>E</td>\n",
       "      <td>47594</td>\n",
       "    </tr>\n",
       "  </tbody>\n",
       "</table>\n",
       "</div>"
      ],
      "text/plain": [
       "    Month Store  Sales\n",
       "0     Jan     A  31037\n",
       "1     Jan     B  20722\n",
       "2     Jan     C  24557\n",
       "3     Jan     D  34649\n",
       "4     Jan     E  29795\n",
       "5     Feb     A  29133\n",
       "6     Feb     B  22695\n",
       "7     Feb     C  28312\n",
       "8     Feb     D  31454\n",
       "9     Feb     E  46267\n",
       "10  March     A  32961\n",
       "11  March     B  26451\n",
       "12  March     C  47814\n",
       "13  March     D  36069\n",
       "14  March     E  31874\n",
       "15    Apr     A  27253\n",
       "16    Apr     B  40241\n",
       "17    Apr     C  47488\n",
       "18    Apr     D  25432\n",
       "19    Apr     E  33880\n",
       "20    May     A  29487\n",
       "21    May     B  40001\n",
       "22    May     C  46482\n",
       "23    May     D  46313\n",
       "24    May     E  47594"
      ]
     },
     "execution_count": 59,
     "metadata": {},
     "output_type": "execute_result"
    }
   ],
   "source": [
    "df_sales = pd.read_csv(r\"C:\\zubeda\\PGA-02\\Python\\Datasets\\Pandas\\bigmarket.txt\", sep=\"\\t\")\n",
    "df_sales"
   ]
  },
  {
   "cell_type": "code",
   "execution_count": 60,
   "metadata": {},
   "outputs": [
    {
     "data": {
      "text/html": [
       "<div>\n",
       "<style scoped>\n",
       "    .dataframe tbody tr th:only-of-type {\n",
       "        vertical-align: middle;\n",
       "    }\n",
       "\n",
       "    .dataframe tbody tr th {\n",
       "        vertical-align: top;\n",
       "    }\n",
       "\n",
       "    .dataframe thead th {\n",
       "        text-align: right;\n",
       "    }\n",
       "</style>\n",
       "<table border=\"1\" class=\"dataframe\">\n",
       "  <thead>\n",
       "    <tr style=\"text-align: right;\">\n",
       "      <th></th>\n",
       "      <th>Month</th>\n",
       "      <th>Store</th>\n",
       "      <th>Sales</th>\n",
       "    </tr>\n",
       "  </thead>\n",
       "  <tbody>\n",
       "    <tr>\n",
       "      <th>0</th>\n",
       "      <td>Jan</td>\n",
       "      <td>A</td>\n",
       "      <td>31037</td>\n",
       "    </tr>\n",
       "    <tr>\n",
       "      <th>1</th>\n",
       "      <td>Jan</td>\n",
       "      <td>B</td>\n",
       "      <td>20722</td>\n",
       "    </tr>\n",
       "    <tr>\n",
       "      <th>2</th>\n",
       "      <td>Jan</td>\n",
       "      <td>C</td>\n",
       "      <td>24557</td>\n",
       "    </tr>\n",
       "    <tr>\n",
       "      <th>3</th>\n",
       "      <td>Jan</td>\n",
       "      <td>D</td>\n",
       "      <td>34649</td>\n",
       "    </tr>\n",
       "    <tr>\n",
       "      <th>4</th>\n",
       "      <td>Jan</td>\n",
       "      <td>E</td>\n",
       "      <td>29795</td>\n",
       "    </tr>\n",
       "  </tbody>\n",
       "</table>\n",
       "</div>"
      ],
      "text/plain": [
       "  Month Store  Sales\n",
       "0   Jan     A  31037\n",
       "1   Jan     B  20722\n",
       "2   Jan     C  24557\n",
       "3   Jan     D  34649\n",
       "4   Jan     E  29795"
      ]
     },
     "execution_count": 60,
     "metadata": {},
     "output_type": "execute_result"
    }
   ],
   "source": [
    "df_sales1 = pd.read_json(r\"C:\\zubeda\\PGA-02\\Python\\Datasets\\Pandas\\bigmarket.json\")\n",
    "df_sales1.head()"
   ]
  },
  {
   "cell_type": "code",
   "execution_count": 65,
   "metadata": {},
   "outputs": [],
   "source": [
    "df_sales2 = pd.read_html(r\"C:\\zubeda\\PGA-02\\Python\\Datasets\\Pandas\\bigmarket.html\")"
   ]
  },
  {
   "cell_type": "code",
   "execution_count": 6,
   "metadata": {},
   "outputs": [
    {
     "data": {
      "text/html": [
       "<div>\n",
       "<style scoped>\n",
       "    .dataframe tbody tr th:only-of-type {\n",
       "        vertical-align: middle;\n",
       "    }\n",
       "\n",
       "    .dataframe tbody tr th {\n",
       "        vertical-align: top;\n",
       "    }\n",
       "\n",
       "    .dataframe thead th {\n",
       "        text-align: right;\n",
       "    }\n",
       "</style>\n",
       "<table border=\"1\" class=\"dataframe\">\n",
       "  <thead>\n",
       "    <tr style=\"text-align: right;\">\n",
       "      <th></th>\n",
       "      <th>Month</th>\n",
       "      <th>Store</th>\n",
       "      <th>Sales</th>\n",
       "    </tr>\n",
       "  </thead>\n",
       "  <tbody>\n",
       "    <tr>\n",
       "      <th>0</th>\n",
       "      <td>Jan</td>\n",
       "      <td>A</td>\n",
       "      <td>31037</td>\n",
       "    </tr>\n",
       "    <tr>\n",
       "      <th>1</th>\n",
       "      <td>Jan</td>\n",
       "      <td>B</td>\n",
       "      <td>20722</td>\n",
       "    </tr>\n",
       "    <tr>\n",
       "      <th>2</th>\n",
       "      <td>Jan</td>\n",
       "      <td>C</td>\n",
       "      <td>24557</td>\n",
       "    </tr>\n",
       "    <tr>\n",
       "      <th>3</th>\n",
       "      <td>Jan</td>\n",
       "      <td>D</td>\n",
       "      <td>34649</td>\n",
       "    </tr>\n",
       "    <tr>\n",
       "      <th>4</th>\n",
       "      <td>Jan</td>\n",
       "      <td>E</td>\n",
       "      <td>29795</td>\n",
       "    </tr>\n",
       "  </tbody>\n",
       "</table>\n",
       "</div>"
      ],
      "text/plain": [
       "  Month Store  Sales\n",
       "0   Jan     A  31037\n",
       "1   Jan     B  20722\n",
       "2   Jan     C  24557\n",
       "3   Jan     D  34649\n",
       "4   Jan     E  29795"
      ]
     },
     "execution_count": 6,
     "metadata": {},
     "output_type": "execute_result"
    }
   ],
   "source": [
    "df_sales3 = pd.read_excel(r\"C:\\zubeda\\PGA-02\\Python\\Datasets\\Pandas\\bigmarket.xlsx\")\n",
    "df_sales3.head()"
   ]
  },
  {
   "cell_type": "code",
   "execution_count": null,
   "metadata": {},
   "outputs": [],
   "source": []
  }
 ],
 "metadata": {
  "kernelspec": {
   "display_name": "Python 3",
   "language": "python",
   "name": "python3"
  },
  "language_info": {
   "codemirror_mode": {
    "name": "ipython",
    "version": 3
   },
   "file_extension": ".py",
   "mimetype": "text/x-python",
   "name": "python",
   "nbconvert_exporter": "python",
   "pygments_lexer": "ipython3",
   "version": "3.8.5"
  }
 },
 "nbformat": 4,
 "nbformat_minor": 4
}
