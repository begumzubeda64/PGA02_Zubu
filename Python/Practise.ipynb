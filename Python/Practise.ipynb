{
 "cells": [
  {
   "cell_type": "code",
   "execution_count": null,
   "metadata": {},
   "outputs": [],
   "source": [
    "import datetime\n",
    "import numpy as np\n",
    "\n",
    "df = pd.DataFrame([9.88874, 89.0000, 78.56567])\n",
    "#print(df.round(4))\n",
    "#pd.options.display.float_format = '{:.4f}'.format\n",
    "#pd.set_option('display.float_format', lambda x: '%.4f' % x)\n",
    "#pd.options.display.float_format = None\n",
    "#accumulate\n",
    "s1 = pd.Series([1, 2, 5, 6.5]) \n",
    "s2 = pd.Series(['first', 35, 'college', 62.5])\n",
    "print(s1.dtype)\n",
    "print(s2.dtype)\n",
    "\n",
    "a={3,4,5} \n",
    "b={5,6,7} \n",
    "a | b\n",
    "\n",
    "Num = (56,7,8,9,34,56,78,89)\n",
    "print(sorted(Num, reverse=True))\n",
    "\n",
    "today=datetime.date.today() \n",
    "birthday=datetime.date(2019,12,29) \n",
    "num_days_for_bday=birthday-today \n",
    "print(num_days_for_bday)\n",
    "\n",
    "string = 'pRogRAMmIng' \n",
    "string.swapcase()\n",
    "\n",
    "arr1 = np.array([[1,0,3],[4,5,6],[7,8,9]])\n",
    "arr2 = np.eye(3)\n",
    "print(arr1)\n",
    "print(arr2)\n",
    "sum(arr1) + sum(arr2)\n",
    "\n"
   ]
  }
 ],
 "metadata": {
  "kernelspec": {
   "display_name": "Python 3",
   "language": "python",
   "name": "python3"
  },
  "language_info": {
   "codemirror_mode": {
    "name": "ipython",
    "version": 3
   },
   "file_extension": ".py",
   "mimetype": "text/x-python",
   "name": "python",
   "nbconvert_exporter": "python",
   "pygments_lexer": "ipython3",
   "version": "3.8.5"
  }
 },
 "nbformat": 4,
 "nbformat_minor": 4
}
