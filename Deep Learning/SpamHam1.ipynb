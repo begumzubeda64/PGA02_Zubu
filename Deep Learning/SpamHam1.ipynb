{
 "cells": [
  {
   "cell_type": "code",
   "execution_count": 1,
   "id": "825bb1d2-63e4-4f5a-ad86-77e3756c2761",
   "metadata": {},
   "outputs": [],
   "source": [
    "# !unzip 'Ham-Spam.zip'"
   ]
  },
  {
   "cell_type": "code",
   "execution_count": 2,
   "id": "e01da6cb-b7c5-46e4-83ea-89ea15e4614d",
   "metadata": {
    "tags": []
   },
   "outputs": [],
   "source": [
    "# pip install pandas"
   ]
  },
  {
   "cell_type": "code",
   "execution_count": 3,
   "id": "627d4cdb-0b27-4ca2-b35c-351e1032fc5d",
   "metadata": {
    "tags": []
   },
   "outputs": [],
   "source": [
    "# pip install sklearn"
   ]
  },
  {
   "cell_type": "code",
   "execution_count": 1,
   "id": "59428967-4500-4441-bb53-917b6d2957ee",
   "metadata": {},
   "outputs": [],
   "source": [
    "import pandas as pd\n",
    "import numpy as np\n",
    "import matplotlib.pyplot as plt\n",
    "from sklearn.model_selection import train_test_split\n",
    "from sklearn.feature_extraction.text import TfidfVectorizer, CountVectorizer\n",
    "from sklearn.naive_bayes import GaussianNB\n",
    "from sklearn.metrics import accuracy_score, confusion_matrix, classification_report"
   ]
  },
  {
   "cell_type": "markdown",
   "id": "f5f157a8-cd92-4dbd-9234-fca9c8b88889",
   "metadata": {},
   "source": [
    "### Import the Required data"
   ]
  },
  {
   "cell_type": "code",
   "execution_count": 2,
   "id": "3c0be38f-0623-4521-b3ac-82feab8642bc",
   "metadata": {},
   "outputs": [],
   "source": [
    "df = pd.read_csv('spam.csv', encoding='latin-1')  \n",
    "#latin-1 if symbols like euros, dollars, hash different looking wordings used\n",
    "#utf-8 if it doesn't have such latin letters, symbols and cannot import data directly"
   ]
  },
  {
   "cell_type": "code",
   "execution_count": 3,
   "id": "b256b9b9-ad7e-42a1-80c5-b7a9ce4bdfe3",
   "metadata": {},
   "outputs": [
    {
     "name": "stdout",
     "output_type": "stream",
     "text": [
      "<class 'pandas.core.frame.DataFrame'>\n",
      "RangeIndex: 5572 entries, 0 to 5571\n",
      "Data columns (total 5 columns):\n",
      " #   Column      Non-Null Count  Dtype \n",
      "---  ------      --------------  ----- \n",
      " 0   v1          5572 non-null   object\n",
      " 1   v2          5572 non-null   object\n",
      " 2   Unnamed: 2  50 non-null     object\n",
      " 3   Unnamed: 3  12 non-null     object\n",
      " 4   Unnamed: 4  6 non-null      object\n",
      "dtypes: object(5)\n",
      "memory usage: 217.8+ KB\n"
     ]
    }
   ],
   "source": [
    "df.info()"
   ]
  },
  {
   "cell_type": "code",
   "execution_count": 4,
   "id": "e6b60828-8cf0-4b63-92fd-3859f90112e6",
   "metadata": {},
   "outputs": [],
   "source": [
    "df.drop(['Unnamed: 2', 'Unnamed: 3', 'Unnamed: 4'], axis=1, inplace=True)"
   ]
  },
  {
   "cell_type": "code",
   "execution_count": 5,
   "id": "d87691fa-af43-40a6-b431-5ea7d7266436",
   "metadata": {},
   "outputs": [
    {
     "name": "stdout",
     "output_type": "stream",
     "text": [
      "<class 'pandas.core.frame.DataFrame'>\n",
      "RangeIndex: 5572 entries, 0 to 5571\n",
      "Data columns (total 2 columns):\n",
      " #   Column  Non-Null Count  Dtype \n",
      "---  ------  --------------  ----- \n",
      " 0   v1      5572 non-null   object\n",
      " 1   v2      5572 non-null   object\n",
      "dtypes: object(2)\n",
      "memory usage: 87.2+ KB\n"
     ]
    }
   ],
   "source": [
    "df.info()"
   ]
  },
  {
   "cell_type": "code",
   "execution_count": 6,
   "id": "b0e6e836-3c69-4fda-9d57-03d8cae8acb4",
   "metadata": {},
   "outputs": [
    {
     "data": {
      "text/html": [
       "<div>\n",
       "<style scoped>\n",
       "    .dataframe tbody tr th:only-of-type {\n",
       "        vertical-align: middle;\n",
       "    }\n",
       "\n",
       "    .dataframe tbody tr th {\n",
       "        vertical-align: top;\n",
       "    }\n",
       "\n",
       "    .dataframe thead th {\n",
       "        text-align: right;\n",
       "    }\n",
       "</style>\n",
       "<table border=\"1\" class=\"dataframe\">\n",
       "  <thead>\n",
       "    <tr style=\"text-align: right;\">\n",
       "      <th></th>\n",
       "      <th>v1</th>\n",
       "      <th>v2</th>\n",
       "    </tr>\n",
       "  </thead>\n",
       "  <tbody>\n",
       "    <tr>\n",
       "      <th>0</th>\n",
       "      <td>ham</td>\n",
       "      <td>Go until jurong point, crazy.. Available only ...</td>\n",
       "    </tr>\n",
       "    <tr>\n",
       "      <th>1</th>\n",
       "      <td>ham</td>\n",
       "      <td>Ok lar... Joking wif u oni...</td>\n",
       "    </tr>\n",
       "    <tr>\n",
       "      <th>2</th>\n",
       "      <td>spam</td>\n",
       "      <td>Free entry in 2 a wkly comp to win FA Cup fina...</td>\n",
       "    </tr>\n",
       "    <tr>\n",
       "      <th>3</th>\n",
       "      <td>ham</td>\n",
       "      <td>U dun say so early hor... U c already then say...</td>\n",
       "    </tr>\n",
       "    <tr>\n",
       "      <th>4</th>\n",
       "      <td>ham</td>\n",
       "      <td>Nah I don't think he goes to usf, he lives aro...</td>\n",
       "    </tr>\n",
       "  </tbody>\n",
       "</table>\n",
       "</div>"
      ],
      "text/plain": [
       "     v1                                                 v2\n",
       "0   ham  Go until jurong point, crazy.. Available only ...\n",
       "1   ham                      Ok lar... Joking wif u oni...\n",
       "2  spam  Free entry in 2 a wkly comp to win FA Cup fina...\n",
       "3   ham  U dun say so early hor... U c already then say...\n",
       "4   ham  Nah I don't think he goes to usf, he lives aro..."
      ]
     },
     "execution_count": 6,
     "metadata": {},
     "output_type": "execute_result"
    }
   ],
   "source": [
    "df.head()"
   ]
  },
  {
   "cell_type": "code",
   "execution_count": 7,
   "id": "d2ff2687-0c86-4927-b871-ae7aea11f28b",
   "metadata": {},
   "outputs": [],
   "source": [
    "df.columns = ['SpamHam', 'SMS']"
   ]
  },
  {
   "cell_type": "code",
   "execution_count": 8,
   "id": "d5ed80f4-5358-45ab-b51b-cd9f2b47c5fb",
   "metadata": {
    "tags": []
   },
   "outputs": [],
   "source": [
    "# pip install seaborn"
   ]
  },
  {
   "cell_type": "code",
   "execution_count": 9,
   "id": "574300db-27f4-4428-b2d2-894265a96cc0",
   "metadata": {},
   "outputs": [
    {
     "name": "stderr",
     "output_type": "stream",
     "text": [
      "/home/studio-lab-user/.conda/envs/default/lib/python3.9/site-packages/seaborn/_decorators.py:36: FutureWarning: Pass the following variable as a keyword arg: x. From version 0.12, the only valid positional argument will be `data`, and passing other arguments without an explicit keyword will result in an error or misinterpretation.\n",
      "  warnings.warn(\n"
     ]
    },
    {
     "data": {
      "image/png": "[encoded data removed]",
      "text/plain": [
       "<Figure size 432x288 with 1 Axes>"
      ]
     },
     "metadata": {
      "needs_background": "light"
     },
     "output_type": "display_data"
    }
   ],
   "source": [
    "import seaborn as sns\n",
    "\n",
    "sns.countplot(df['SpamHam'])\n",
    "plt.show()"
   ]
  },
  {
   "cell_type": "code",
   "execution_count": 10,
   "id": "62ca1481-af59-4fbc-94ae-4a5b97ab2f8b",
   "metadata": {},
   "outputs": [
    {
     "name": "stderr",
     "output_type": "stream",
     "text": [
      "[nltk_data] Downloading package stopwords to /home/studio-lab-\n",
      "[nltk_data]     user/nltk_data...\n",
      "[nltk_data]   Package stopwords is already up-to-date!\n",
      "[nltk_data] Downloading package wordnet to /home/studio-lab-\n",
      "[nltk_data]     user/nltk_data...\n",
      "[nltk_data]   Package wordnet is already up-to-date!\n"
     ]
    }
   ],
   "source": [
    "import nltk\n",
    "from nltk.tokenize import RegexpTokenizer\n",
    "from nltk.stem import WordNetLemmatizer, PorterStemmer\n",
    "from nltk.corpus import stopwords\n",
    "import re\n",
    "\n",
    "nltk.download('stopwords')\n",
    "lemmatizer = WordNetLemmatizer()\n",
    "stemmer = PorterStemmer() \n",
    "nltk.download('wordnet')  #Pre-trained Dataset like imagenet\n",
    "\n",
    "def preprocess(sentence):\n",
    "    sentence = str(sentence)     #Convert sentence to into string\n",
    "    sentence = sentence.lower()  #Lowercase\n",
    "    sentence = sentence.replace('{html}',\"\")  #Replace html to blank\n",
    "    cleanr = re.compile('<.*?>')   #Special characters\n",
    "    cleantext = re.sub(cleanr, '', sentence)   #Remove the special characters\n",
    "    rem_url = re.sub(r'http\\S+', '',cleantext) #Remove all the website links\n",
    "    rem_num = re.sub('[0-9]+', '', rem_url)  #Remove all the numbers\n",
    "    tokenizer = RegexpTokenizer(r'\\w+')  #Match all the alphanumeric\n",
    "    tokens = tokenizer.tokenize(rem_num) #Tokenize words\n",
    "    filtered_words = [w for w in tokens if len(w) > 2 if not w in stopwords.words('english')]  #Words that are not in stop words & occured more than 2 times\n",
    "    stem_words = [stemmer.stem(w) for w in filtered_words]  #Stemming\n",
    "    lemma_words = [lemmatizer.lemmatize(w) for w in stem_words]  #Lemmatize\n",
    "    return \" \".join(lemma_words)  #Join the filtered tokens"
   ]
  },
  {
   "cell_type": "code",
   "execution_count": 11,
   "id": "002c0d6d-a48b-4c41-ab66-13f66c6f5aa3",
   "metadata": {},
   "outputs": [
    {
     "name": "stderr",
     "output_type": "stream",
     "text": [
      "[nltk_data] Downloading package omw-1.4 to /home/studio-lab-\n",
      "[nltk_data]     user/nltk_data...\n",
      "[nltk_data]   Package omw-1.4 is already up-to-date!\n"
     ]
    },
    {
     "data": {
      "text/plain": [
       "True"
      ]
     },
     "execution_count": 11,
     "metadata": {},
     "output_type": "execute_result"
    }
   ],
   "source": [
    "nltk.download('omw-1.4')"
   ]
  },
  {
   "cell_type": "code",
   "execution_count": 12,
   "id": "ef3b9194-8701-43ff-8850-e3d5082447c8",
   "metadata": {},
   "outputs": [
    {
     "data": {
      "text/plain": [
       "0       jurong point crazi avail bugi great world buff...\n",
       "1                                        lar joke wif oni\n",
       "2       free entri wkli comp win cup final tkt may tex...\n",
       "3                           dun say earli hor alreadi say\n",
       "4                    nah think goe usf live around though\n",
       "                              ...                        \n",
       "5567    time tri contact pound prize claim easi call p...\n",
       "5568                                     go esplanad home\n",
       "5569                                    piti mood suggest\n",
       "5570    guy bitch act like interest buy someth el next...\n",
       "5571                                       rofl true name\n",
       "Name: SMS, Length: 5572, dtype: object"
      ]
     },
     "execution_count": 12,
     "metadata": {},
     "output_type": "execute_result"
    }
   ],
   "source": [
    "X = df['SMS'].map(lambda s: preprocess(s))\n",
    "X"
   ]
  },
  {
   "cell_type": "code",
   "execution_count": 13,
   "id": "210bf761-8bb6-449d-ac7b-86ec3a147e7a",
   "metadata": {},
   "outputs": [],
   "source": [
    "vect = TfidfVectorizer()"
   ]
  },
  {
   "cell_type": "code",
   "execution_count": 14,
   "id": "d2a15b9f-4bcb-4889-abe2-1a621912555e",
   "metadata": {},
   "outputs": [
    {
     "data": {
      "text/plain": [
       "(5572,)"
      ]
     },
     "execution_count": 14,
     "metadata": {},
     "output_type": "execute_result"
    }
   ],
   "source": [
    "X.shape  #Number of rows/documents"
   ]
  },
  {
   "cell_type": "code",
   "execution_count": 15,
   "id": "bc79c4be-bcbe-4a1e-b355-4eeea05eecf4",
   "metadata": {},
   "outputs": [],
   "source": [
    "X = vect.fit_transform(X)"
   ]
  },
  {
   "cell_type": "code",
   "execution_count": 16,
   "id": "ba567f12-ab01-428f-b1af-553848d0d34a",
   "metadata": {},
   "outputs": [
    {
     "data": {
      "text/plain": [
       "(5572, 6083)"
      ]
     },
     "execution_count": 16,
     "metadata": {},
     "output_type": "execute_result"
    }
   ],
   "source": [
    "X.shape  #Number of documents, Number of cols/tokens"
   ]
  },
  {
   "cell_type": "code",
   "execution_count": 17,
   "id": "be2acd60-6b1a-46b0-880b-ffe53f89bcc5",
   "metadata": {},
   "outputs": [
    {
     "data": {
      "text/plain": [
       "<5572x6083 sparse matrix of type '<class 'numpy.float64'>'\n",
       "\twith 41349 stored elements in Compressed Sparse Row format>"
      ]
     },
     "execution_count": 17,
     "metadata": {},
     "output_type": "execute_result"
    }
   ],
   "source": [
    "X"
   ]
  },
  {
   "cell_type": "code",
   "execution_count": 18,
   "id": "ff7422d3-eb6f-4040-b6cd-7f22f417048e",
   "metadata": {},
   "outputs": [],
   "source": [
    "from sklearn.preprocessing import LabelEncoder\n",
    "\n",
    "le = LabelEncoder()\n",
    "Y = le.fit_transform(df['SpamHam'])"
   ]
  },
  {
   "cell_type": "code",
   "execution_count": 19,
   "id": "169f05ae-a49d-40b8-a09f-afd8020abf5e",
   "metadata": {},
   "outputs": [
    {
     "data": {
      "text/plain": [
       "(5572,)"
      ]
     },
     "execution_count": 19,
     "metadata": {},
     "output_type": "execute_result"
    }
   ],
   "source": [
    "Y.shape"
   ]
  },
  {
   "cell_type": "markdown",
   "id": "1b868f7b-8430-4a3c-a2cb-b78984e1bef0",
   "metadata": {},
   "source": [
    "## Without SMOTE"
   ]
  },
  {
   "cell_type": "code",
   "execution_count": 20,
   "id": "27c6aa23-a3fe-4cea-8d16-68d2c716e8d9",
   "metadata": {},
   "outputs": [],
   "source": [
    "X = X.toarray()\n",
    "X_train, X_test, y_train, y_test = train_test_split(X, Y, test_size=0.15, random_state=1234)"
   ]
  },
  {
   "cell_type": "code",
   "execution_count": 21,
   "id": "7581eb86-82d6-44dc-b4fa-86e04584d4d3",
   "metadata": {},
   "outputs": [
    {
     "name": "stdout",
     "output_type": "stream",
     "text": [
      "(4736, 6083)\n",
      "(836, 6083)\n",
      "(4736,)\n",
      "(836,)\n"
     ]
    }
   ],
   "source": [
    "print(X_train.shape)\n",
    "print(X_test.shape)\n",
    "\n",
    "print(y_train.shape)\n",
    "print(y_test.shape)"
   ]
  },
  {
   "cell_type": "markdown",
   "id": "6f0b6347-fd13-490d-8c03-ab40b6a511f5",
   "metadata": {},
   "source": [
    "### Implement NB Classifier"
   ]
  },
  {
   "cell_type": "code",
   "execution_count": 22,
   "id": "a4323f11-b5ef-4489-b1e3-8b2352baa33c",
   "metadata": {},
   "outputs": [],
   "source": [
    "nb = GaussianNB()\n",
    "nb.fit(X_train, y_train)\n",
    "pred_nb = nb.predict(X_test)"
   ]
  },
  {
   "cell_type": "code",
   "execution_count": 23,
   "id": "81290f35-9095-4ade-a8e6-3a5eaf7692bf",
   "metadata": {},
   "outputs": [],
   "source": [
    "cm_nb = confusion_matrix(y_test, pred_nb)\n",
    "acc_nb = accuracy_score(y_test, pred_nb)\n",
    "classrep_nb = classification_report(y_test, pred_nb)"
   ]
  },
  {
   "cell_type": "code",
   "execution_count": 24,
   "id": "dfb089bb-7026-45f3-a577-16f35ccc420d",
   "metadata": {},
   "outputs": [
    {
     "name": "stdout",
     "output_type": "stream",
     "text": [
      "[[610  98]\n",
      " [ 15 113]]\n",
      "\n",
      "0.8648325358851675\n",
      "\n",
      "              precision    recall  f1-score   support\n",
      "\n",
      "           0       0.98      0.86      0.92       708\n",
      "           1       0.54      0.88      0.67       128\n",
      "\n",
      "    accuracy                           0.86       836\n",
      "   macro avg       0.76      0.87      0.79       836\n",
      "weighted avg       0.91      0.86      0.88       836\n",
      "\n",
      "\n"
     ]
    }
   ],
   "source": [
    "print(cm_nb)\n",
    "print()\n",
    "\n",
    "print(acc_nb)\n",
    "print()\n",
    "\n",
    "print(classrep_nb)\n",
    "print()"
   ]
  },
  {
   "cell_type": "markdown",
   "id": "77d2aa8f-a029-49ed-b9fc-423a80e956a5",
   "metadata": {},
   "source": [
    "## SMOTE"
   ]
  },
  {
   "cell_type": "code",
   "execution_count": 25,
   "id": "ec093363-ded2-4254-bc19-7d63099cb601",
   "metadata": {},
   "outputs": [],
   "source": [
    "# A problem with imbalanced classification is that there are too few examples of the minority class for a model to effectively learn the decision boundary.\n",
    "\n",
    "# One way to solve this problem is to oversample the examples in the minority class. \n",
    "# This can be achieved by simply duplicating examples from the minority class in the training dataset prior to fitting a model. \n",
    "# This can balance the class distribution but does not provide any additional information to the model.\n",
    "\n",
    "# An improvement on duplicating examples from the minority class is to synthesize new examples from the minority class. \n",
    "# This is a type of data augmentation for tabular data and can be very effective."
   ]
  },
  {
   "cell_type": "code",
   "execution_count": 26,
   "id": "2b8e291f-58ec-4e89-a1d1-b1da0484460b",
   "metadata": {},
   "outputs": [],
   "source": [
    "# pip install imblearn"
   ]
  },
  {
   "cell_type": "code",
   "execution_count": 27,
   "id": "43acc51a-1367-4d40-a627-a6668390310d",
   "metadata": {},
   "outputs": [],
   "source": [
    "from imblearn.over_sampling import SMOTE\n",
    "oversample = SMOTE()\n",
    "X, Y = oversample.fit_resample(X, Y)"
   ]
  },
  {
   "cell_type": "code",
   "execution_count": 28,
   "id": "917081bb-e810-4533-aa8b-befd5eb780a8",
   "metadata": {},
   "outputs": [],
   "source": [
    "X_train, X_test, y_train, y_test = train_test_split(X, Y, test_size=0.15, random_state=1234)"
   ]
  },
  {
   "cell_type": "code",
   "execution_count": 29,
   "id": "b994f0a3-a60b-4abf-ac98-3656376da92a",
   "metadata": {},
   "outputs": [
    {
     "name": "stdout",
     "output_type": "stream",
     "text": [
      "(8202, 6083)\n",
      "(1448, 6083)\n",
      "(8202,)\n",
      "(1448,)\n"
     ]
    }
   ],
   "source": [
    "print(X_train.shape)\n",
    "print(X_test.shape)\n",
    "\n",
    "print(y_train.shape)\n",
    "print(y_test.shape)"
   ]
  },
  {
   "cell_type": "markdown",
   "id": "6eab3ddc-b1b0-451d-8dd4-6f345121b325",
   "metadata": {},
   "source": [
    "### Implement NB Classifier"
   ]
  },
  {
   "cell_type": "code",
   "execution_count": 30,
   "id": "8b27bf2c-9edf-4636-ba4a-0c59fec757ba",
   "metadata": {},
   "outputs": [],
   "source": [
    "nb = GaussianNB()\n",
    "nb.fit(X_train, y_train)\n",
    "pred_nb = nb.predict(X_test)"
   ]
  },
  {
   "cell_type": "code",
   "execution_count": 31,
   "id": "225594f6-98d6-4055-88cd-542452c74e47",
   "metadata": {},
   "outputs": [],
   "source": [
    "cm_nb = confusion_matrix(y_test, pred_nb)\n",
    "acc_nb = accuracy_score(y_test, pred_nb)\n",
    "classrep_nb = classification_report(y_test, pred_nb)"
   ]
  },
  {
   "cell_type": "code",
   "execution_count": 32,
   "id": "342b7cea-d15d-4ccf-bf17-d40c24aad5cb",
   "metadata": {},
   "outputs": [
    {
     "name": "stdout",
     "output_type": "stream",
     "text": [
      "[[616 117]\n",
      " [  0 715]]\n",
      "\n",
      "0.9191988950276243\n",
      "\n",
      "              precision    recall  f1-score   support\n",
      "\n",
      "           0       1.00      0.84      0.91       733\n",
      "           1       0.86      1.00      0.92       715\n",
      "\n",
      "    accuracy                           0.92      1448\n",
      "   macro avg       0.93      0.92      0.92      1448\n",
      "weighted avg       0.93      0.92      0.92      1448\n",
      "\n",
      "\n"
     ]
    }
   ],
   "source": [
    "print(cm_nb)\n",
    "print()\n",
    "\n",
    "print(acc_nb)\n",
    "print()\n",
    "\n",
    "print(classrep_nb)\n",
    "print()"
   ]
  },
  {
   "cell_type": "markdown",
   "id": "88187b45-25a5-41ef-a4d1-d29f9f5a23d4",
   "metadata": {},
   "source": [
    "### Implement SVM Classifier"
   ]
  },
  {
   "cell_type": "code",
   "execution_count": 33,
   "id": "402d4066-4651-41f2-8024-10e413b0f25e",
   "metadata": {},
   "outputs": [],
   "source": [
    "from sklearn.svm import SVC\n",
    "svc = SVC()\n",
    "svc.fit(X_train, y_train)\n",
    "pred_svc = svc.predict(X_test)"
   ]
  },
  {
   "cell_type": "code",
   "execution_count": 34,
   "id": "d6e6d494-4026-40f0-9a64-aec0be1fbc5e",
   "metadata": {},
   "outputs": [],
   "source": [
    "cm_svc = confusion_matrix(y_test, pred_svc)\n",
    "acc_svc = accuracy_score(y_test, pred_svc)\n",
    "classrep_svc = classification_report(y_test, pred_svc)"
   ]
  },
  {
   "cell_type": "code",
   "execution_count": 35,
   "id": "278f4397-539a-47cc-b111-e9700334ffd5",
   "metadata": {},
   "outputs": [
    {
     "name": "stdout",
     "output_type": "stream",
     "text": [
      "[[732   1]\n",
      " [  2 713]]\n",
      "\n",
      "0.9979281767955801\n",
      "\n",
      "              precision    recall  f1-score   support\n",
      "\n",
      "           0       1.00      1.00      1.00       733\n",
      "           1       1.00      1.00      1.00       715\n",
      "\n",
      "    accuracy                           1.00      1448\n",
      "   macro avg       1.00      1.00      1.00      1448\n",
      "weighted avg       1.00      1.00      1.00      1448\n",
      "\n",
      "\n"
     ]
    }
   ],
   "source": [
    "print(cm_svc)\n",
    "print()\n",
    "\n",
    "print(acc_svc)\n",
    "print()\n",
    "\n",
    "print(classrep_svc)\n",
    "print()"
   ]
  },
  {
   "cell_type": "code",
   "execution_count": 36,
   "id": "97a1a9be-42c8-484f-963c-3db1d9cfcea8",
   "metadata": {},
   "outputs": [],
   "source": [
    "from sklearn.svm import SVC\n",
    "svc = SVC(C=2)\n",
    "svc.fit(X_train, y_train)\n",
    "pred_svc = svc.predict(X_test)"
   ]
  },
  {
   "cell_type": "code",
   "execution_count": 37,
   "id": "5e0c5ef7-b8f5-4c6c-8814-3710d8a67b48",
   "metadata": {},
   "outputs": [],
   "source": [
    "cm_svc = confusion_matrix(y_test, pred_svc)\n",
    "acc_svc = accuracy_score(y_test, pred_svc)\n",
    "classrep_svc = classification_report(y_test, pred_svc)"
   ]
  },
  {
   "cell_type": "code",
   "execution_count": 38,
   "id": "84bdbd19-5f31-4317-a1ef-9478f25df5c6",
   "metadata": {},
   "outputs": [
    {
     "name": "stdout",
     "output_type": "stream",
     "text": [
      "[[732   1]\n",
      " [  2 713]]\n",
      "\n",
      "0.9979281767955801\n",
      "\n",
      "              precision    recall  f1-score   support\n",
      "\n",
      "           0       1.00      1.00      1.00       733\n",
      "           1       1.00      1.00      1.00       715\n",
      "\n",
      "    accuracy                           1.00      1448\n",
      "   macro avg       1.00      1.00      1.00      1448\n",
      "weighted avg       1.00      1.00      1.00      1448\n",
      "\n",
      "\n"
     ]
    }
   ],
   "source": [
    "print(cm_svc)\n",
    "print()\n",
    "\n",
    "print(acc_svc)\n",
    "print()\n",
    "\n",
    "print(classrep_svc)\n",
    "print()"
   ]
  },
  {
   "cell_type": "code",
   "execution_count": 39,
   "id": "d71c797e-d681-48bd-80d0-30c14d464b3b",
   "metadata": {},
   "outputs": [],
   "source": [
    "sent = 'I will meet my friends for dinner'"
   ]
  },
  {
   "cell_type": "code",
   "execution_count": 40,
   "id": "58c8429a-67cb-4394-aff8-670e6e4baa71",
   "metadata": {},
   "outputs": [],
   "source": [
    "sent = preprocess(sent)"
   ]
  },
  {
   "cell_type": "code",
   "execution_count": null,
   "id": "a4659a39-00b3-4e77-b89a-ab7e67cda0b1",
   "metadata": {},
   "outputs": [],
   "source": []
  }
 ],
 "metadata": {
  "kernelspec": {
   "display_name": "default:Python",
   "language": "python",
   "name": "conda-env-default-py"
  },
  "language_info": {
   "codemirror_mode": {
    "name": "ipython",
    "version": 3
   },
   "file_extension": ".py",
   "mimetype": "text/x-python",
   "name": "python",
   "nbconvert_exporter": "python",
   "pygments_lexer": "ipython3",
   "version": "3.9.7"
  }
 },
 "nbformat": 4,
 "nbformat_minor": 5
}
