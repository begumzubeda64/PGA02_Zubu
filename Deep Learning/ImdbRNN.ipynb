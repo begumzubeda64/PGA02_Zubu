{
 "cells": [
  {
   "cell_type": "markdown",
   "id": "9167264e-1e61-40cc-af1a-3d844b236c17",
   "metadata": {},
   "source": [
    "### Import important libraries"
   ]
  },
  {
   "cell_type": "code",
   "execution_count": null,
   "id": "f0e0c922",
   "metadata": {},
   "outputs": [],
   "source": [
    "# https://www.kaggle.com/lakshmi25npathi/sentiment-analysis-of-imdb-movie-reviews/data"
   ]
  },
  {
   "cell_type": "code",
   "execution_count": 1,
   "id": "26b7089b-defc-40bf-9e5e-9f3f80d0d98c",
   "metadata": {},
   "outputs": [],
   "source": [
    "from keras.layers import SimpleRNN, Embedding, Dense, LSTM, Dropout\n",
    "from keras.models import Sequential\n",
    "import pandas as pd\n",
    "import numpy as np\n",
    "import matplotlib.pyplot as plt\n",
    "import seaborn as sns"
   ]
  },
  {
   "cell_type": "markdown",
   "id": "07f8fe1e-27ad-4333-b4e9-1a88d9505453",
   "metadata": {},
   "source": [
    "### Import dataset"
   ]
  },
  {
   "cell_type": "code",
   "execution_count": 2,
   "id": "871209af-9939-4c89-97a5-c85033ac233d",
   "metadata": {},
   "outputs": [
    {
     "data": {
      "text/html": [
       "<div>\n",
       "<style scoped>\n",
       "    .dataframe tbody tr th:only-of-type {\n",
       "        vertical-align: middle;\n",
       "    }\n",
       "\n",
       "    .dataframe tbody tr th {\n",
       "        vertical-align: top;\n",
       "    }\n",
       "\n",
       "    .dataframe thead th {\n",
       "        text-align: right;\n",
       "    }\n",
       "</style>\n",
       "<table border=\"1\" class=\"dataframe\">\n",
       "  <thead>\n",
       "    <tr style=\"text-align: right;\">\n",
       "      <th></th>\n",
       "      <th>review</th>\n",
       "      <th>sentiment</th>\n",
       "    </tr>\n",
       "  </thead>\n",
       "  <tbody>\n",
       "    <tr>\n",
       "      <th>0</th>\n",
       "      <td>One of the other reviewers has mentioned that ...</td>\n",
       "      <td>positive</td>\n",
       "    </tr>\n",
       "    <tr>\n",
       "      <th>1</th>\n",
       "      <td>A wonderful little production. &lt;br /&gt;&lt;br /&gt;The...</td>\n",
       "      <td>positive</td>\n",
       "    </tr>\n",
       "    <tr>\n",
       "      <th>2</th>\n",
       "      <td>I thought this was a wonderful way to spend ti...</td>\n",
       "      <td>positive</td>\n",
       "    </tr>\n",
       "    <tr>\n",
       "      <th>3</th>\n",
       "      <td>Basically there's a family where a little boy ...</td>\n",
       "      <td>negative</td>\n",
       "    </tr>\n",
       "    <tr>\n",
       "      <th>4</th>\n",
       "      <td>Petter Mattei's \"Love in the Time of Money\" is...</td>\n",
       "      <td>positive</td>\n",
       "    </tr>\n",
       "  </tbody>\n",
       "</table>\n",
       "</div>"
      ],
      "text/plain": [
       "                                              review sentiment\n",
       "0  One of the other reviewers has mentioned that ...  positive\n",
       "1  A wonderful little production. <br /><br />The...  positive\n",
       "2  I thought this was a wonderful way to spend ti...  positive\n",
       "3  Basically there's a family where a little boy ...  negative\n",
       "4  Petter Mattei's \"Love in the Time of Money\" is...  positive"
      ]
     },
     "execution_count": 2,
     "metadata": {},
     "output_type": "execute_result"
    }
   ],
   "source": [
    "data = pd.read_csv(\"IMDB Dataset.csv\")\n",
    "data.head()"
   ]
  },
  {
   "cell_type": "markdown",
   "id": "b7621409-de14-4856-98da-54f496146ba8",
   "metadata": {},
   "source": [
    "### Understanding & Preparing Data"
   ]
  },
  {
   "cell_type": "code",
   "execution_count": 3,
   "id": "0d5d7ff1-482e-4062-b3df-6f81845efb04",
   "metadata": {},
   "outputs": [
    {
     "data": {
      "text/plain": [
       "(50000, 2)"
      ]
     },
     "execution_count": 3,
     "metadata": {},
     "output_type": "execute_result"
    }
   ],
   "source": [
    "data.shape"
   ]
  },
  {
   "cell_type": "code",
   "execution_count": 4,
   "id": "b52b0a3d-182f-46ff-92c4-416196ab0689",
   "metadata": {},
   "outputs": [
    {
     "data": {
      "text/plain": [
       "review       0\n",
       "sentiment    0\n",
       "dtype: int64"
      ]
     },
     "execution_count": 4,
     "metadata": {},
     "output_type": "execute_result"
    }
   ],
   "source": [
    "data.isnull().sum()"
   ]
  },
  {
   "cell_type": "code",
   "execution_count": 5,
   "id": "37ba2386-559a-4a74-9b78-694a03af6b7f",
   "metadata": {},
   "outputs": [
    {
     "data": {
      "text/plain": [
       "0        one reviewers mentioned watching oz episode ho...\n",
       "1        a wonderful little production the filming tech...\n",
       "2        i thought wonderful way spend time hot summer ...\n",
       "3        basically family little boy jake thinks zombie...\n",
       "4        petter mattei love time money visually stunnin...\n",
       "                               ...                        \n",
       "49995    i thought movie right good job it creative ori...\n",
       "49996    bad plot bad dialogue bad acting idiotic direc...\n",
       "49997    i catholic taught parochial elementary schools...\n",
       "49998    i going disagree previous comment side maltin ...\n",
       "49999    no one expects star trek movies high art fans ...\n",
       "Name: review, Length: 50000, dtype: object"
      ]
     },
     "execution_count": 5,
     "metadata": {},
     "output_type": "execute_result"
    }
   ],
   "source": [
    "import re\n",
    "from nltk.corpus import stopwords\n",
    "\n",
    "texts = data[\"review\"]\n",
    "english_stops = set(stopwords.words('english'))\n",
    "\n",
    "texts = texts.replace({'<.*?>': ''}, regex = True)          # remove html tag\n",
    "texts = texts.replace({'[^A-Za-z]': ' '}, regex = True)     # remove non alphabet\n",
    "texts = texts.apply(lambda review: [w for w in review.split() if w not in english_stops])  # remove stop words\n",
    "texts = texts.apply(lambda review: \" \".join([w.lower() for w in review]))   # lower case\n",
    "texts"
   ]
  },
  {
   "cell_type": "code",
   "execution_count": 6,
   "id": "3e41405f-514f-43f2-a20f-dd6d3c0a5827",
   "metadata": {},
   "outputs": [
    {
     "data": {
      "text/plain": [
       "130"
      ]
     },
     "execution_count": 6,
     "metadata": {},
     "output_type": "execute_result"
    }
   ],
   "source": [
    "maxlen = 130\n",
    "maxlen"
   ]
  },
  {
   "cell_type": "code",
   "execution_count": 7,
   "id": "2a4a0809-63ad-47ea-818f-a84e66990e61",
   "metadata": {
    "tags": []
   },
   "outputs": [
    {
     "data": {
      "text/plain": [
       "array(['one reviewers mentioned watching oz episode hooked they right exactly happened the first thing struck oz brutality unflinching scenes violence set right word go trust show faint hearted timid this show pulls punches regards drugs sex violence its hardcore classic use word it called oz nickname given oswald maximum security state penitentary it focuses mainly emerald city experimental section prison cells glass fronts face inwards privacy high agenda em city home many aryans muslims gangstas latinos christians italians irish scuffles death stares dodgy dealings shady agreements never far away i would say main appeal show due fact goes shows dare forget pretty pictures painted mainstream audiences forget charm forget romance oz mess around the first episode i ever saw struck nasty surreal i say i ready i watched i developed taste oz got accustomed high levels graphic violence not violence injustice crooked guards sold nickel inmates kill order get away well mannered middle class inmates turned prison bitches due lack street skills prison experience watching oz may become comfortable uncomfortable viewing thats get touch darker side',\n",
       "       'a wonderful little production the filming technique unassuming old time bbc fashion gives comforting sometimes discomforting sense realism entire piece the actors extremely well chosen michael sheen got polari voices pat you truly see seamless editing guided references williams diary entries well worth watching terrificly written performed piece a masterful production one great master comedy life the realism really comes home little things fantasy guard rather use traditional dream techniques remains solid disappears it plays knowledge senses particularly scenes concerning orton halliwell sets particularly flat halliwell murals decorating every surface terribly well done',\n",
       "       'i thought wonderful way spend time hot summer weekend sitting air conditioned theater watching light hearted comedy the plot simplistic dialogue witty characters likable even well bread suspected serial killer while may disappointed realize match point risk addiction i thought proof woody allen still fully control style many us grown love this i laughed one woody comedies years dare i say decade while i never impressed scarlet johanson managed tone sexy image jumped right average spirited young woman this may crown jewel career wittier devil wears prada interesting superman great comedy go see friends',\n",
       "       ...,\n",
       "       'i catholic taught parochial elementary schools nuns taught jesuit priests high school college i still practicing catholic would considered good catholic church eyes i believe certain things act certain ways church tells so back movie bad two people killed nun supposed satire embodiment female religious figurehead there comedy satire done well acting diane keaton i never saw play different movies may good at first i thought gun might fake first shooting plan female lead four former students attempt demonstrate sister mary emotional intellectual bigotry faith but turns bullets real story tragedy tragedy loss life besides two former students lives aborted babies life student mom tragedy dogmatic authority love people tragedy organized religion replacing true faith god this wrong today islam yesterday judaism christianity',\n",
       "       'i going disagree previous comment side maltin one this second rate excessively vicious western creaks groans trying put across central theme wild west tamed kicked aside steady march time it would like tradition butch cassidy sundance kid lacks film poignancy charm andrew mclaglen direction limp final minutes real botch incomprehensible strategy part heroes charlton heston chris mitchum someone give holler explain set hillside fire there something callous whole treatment rape scene woman reaction afterwards certainly ring true coburn plenty nasty half breed escaped convict revenge fellow escapees underdeveloped like bowling pins knocked one one story lurches forward michael parks gives one typically shifty lethargic mumbling performances case appropriate modern style sheriff symbolizes complacency technological progress bring',\n",
       "       'no one expects star trek movies high art fans expect movie good best episodes unfortunately movie muddled implausible plot left cringing far worst nine far movies even chance watch well known characters interact another movie save movie including goofy scenes kirk spock mccoy yosemite i would say movie worth rental hardly worth watching however true fan needs see movies renting movie way see even cable channels avoid movie'],\n",
       "      dtype=object)"
      ]
     },
     "execution_count": 7,
     "metadata": {},
     "output_type": "execute_result"
    }
   ],
   "source": [
    "texts = np.asarray(texts)\n",
    "labels = np.asarray(data[\"sentiment\"].map({\"positive\": 0, \"negative\": 1}))\n",
    "texts"
   ]
  },
  {
   "cell_type": "code",
   "execution_count": 8,
   "id": "77f58752-cb31-416a-a3ed-c89c8f3714bd",
   "metadata": {},
   "outputs": [
    {
     "data": {
      "text/plain": [
       "679"
      ]
     },
     "execution_count": 8,
     "metadata": {},
     "output_type": "execute_result"
    }
   ],
   "source": [
    "len(texts[1])"
   ]
  },
  {
   "cell_type": "code",
   "execution_count": 9,
   "id": "6573afc7-3294-4824-8e7a-d110e143edb8",
   "metadata": {},
   "outputs": [
    {
     "data": {
      "text/plain": [
       "Counter({0: 25000, 1: 25000})"
      ]
     },
     "execution_count": 9,
     "metadata": {},
     "output_type": "execute_result"
    }
   ],
   "source": [
    "from collections import Counter\n",
    "Counter(labels)"
   ]
  },
  {
   "cell_type": "code",
   "execution_count": 10,
   "id": "d731e5fa-c612-475d-b6af-bbdaee6b5697",
   "metadata": {},
   "outputs": [
    {
     "name": "stdout",
     "output_type": "stream",
     "text": [
      "(40000,)\n",
      "(10000,)\n",
      "(40000,)\n",
      "(10000,)\n"
     ]
    }
   ],
   "source": [
    "from sklearn.model_selection import train_test_split\n",
    "\n",
    "X_train, X_test, y_train, y_test = train_test_split(texts, labels, test_size=0.2, random_state=123)\n",
    "print(X_train.shape)\n",
    "print(X_test.shape)\n",
    "print(y_train.shape)\n",
    "print(y_test.shape)"
   ]
  },
  {
   "cell_type": "code",
   "execution_count": 11,
   "id": "638d5609-becc-4cc2-81f3-4486a79d5b6a",
   "metadata": {
    "collapsed": true,
    "jupyter": {
     "outputs_hidden": true
    },
    "tags": []
   },
   "outputs": [
    {
     "data": {
      "text/plain": [
       "array(['ok first may spoiler since know constitutes giving much information my subject line says surely people want know why stupid first film follows bunch yuppies go sports game chicago wind taking wrong exit winding ghetto scary huh well first emilio driving everyone world overblown rv winnebago tricked satellite dishes crap like so guys going sports game forget though likely bulls white sox since near oh scary ghetto yet even make freeway without onboard viewing command center would put espn shame yet smart enough earn livings would pay stuff sports fans even know exit get way game love i gave movie within half hour reasons plentiful they wind in the ghetto yet main danger existence denis leary a white guy i racist come on in anything resembling reality film was trying urban nightmare denis leary would trying kill emilio estevez hitching ride get f dodge this easily one dumbest movies ever created although i familiar much rest world cinema if mst k still surely would devoted episode one',\n",
       "       'i came new port south expecting surrogate movie columbine school massacre similar gus van sant elephant certainly synopsis tv guide stating student sociopath rebels system give impression boring movie little happens consider warned the story maddox chicago high school student decides strike back perceives authoritarian regime the major problem character underwritten actor plays blake shields unable embellish script deficiencies you gut feeling maddox evil charisma hitler saddam bin laden never comes across anything petulant truculent teenager impossible believe could rally disciples the subtext overthrow one manipulative authoritarian regime replace another manipulative regime obvious means new port south entirely unconvincing drama worth going way see',\n",
       "       'st watched dir brett thompson silly juvenile focused movie three kids zapped favorite cartoon parents experiment the script left much desired hanna barbara like rip saturday morning live action people dinosaur costumes kids show goofy cavemen hanging around nothing really admire nothing much said either i amazed i found blockbuster video store bad way stores ridding old vhs movies i guess even sell back rental rack went',\n",
       "       ...,\n",
       "       'there one moment film laughing this mel brooks one high points cary elwes carries part robin convincing humour every time watch film discover new joke ones noticed never grow old highly recomended',\n",
       "       'for fans troma cyberpunk genre mixed little blood shed film there good amount blood shed within confines film also effects impressionable awesome the plot ridiculous refreshing chained audiences expectant films days also notable little aliens i found cute all good film fans genre also recommended films tetsuo the iron man versus weird japanese film approach filled wonderful obscurity bloodshed of course seeing film already knowledge two',\n",
       "       'this movie really shows age the print i saw terrible due age possible better prints however major problem movie the problem although film made essentially silent film barest dialog scattered sentences film amateur fashion sometimes characters backs turned talking hands faces pathetic attempt obscure lips cleaverly hide fact film dubbed well true czech film would need dubbed many languages way really stupid obvious it looked cheap overall film looked low budget silly it really shame though grain good story young woman marries older man either gay interest women but st century people would really willing sit archaic mess even glimpses naked somewhat chunky hedy lamarr worth fuss accompanied film debuted even standards film poorly made dud about interesting thing film see different lamarr looked compared glamorous image hollywood created came america looks like completely different people it incomplete looking technically inferior film i see gotten rave reviews for technical problems alone movie rate anything near'],\n",
       "      dtype=object)"
      ]
     },
     "execution_count": 11,
     "metadata": {},
     "output_type": "execute_result"
    }
   ],
   "source": [
    "X_train"
   ]
  },
  {
   "cell_type": "markdown",
   "id": "34148416-630b-4870-ab67-50cf0c40f1bc",
   "metadata": {},
   "source": [
    "### Tokenize"
   ]
  },
  {
   "cell_type": "code",
   "execution_count": 12,
   "id": "ca30364e-b401-4089-a68e-1a821b519c04",
   "metadata": {
    "tags": []
   },
   "outputs": [],
   "source": [
    "from keras.preprocessing.text import Tokenizer\n",
    "from keras.preprocessing.sequence import pad_sequences\n",
    "\n",
    "tokenizer = Tokenizer()\n",
    "tokenizer.fit_on_texts(X_train)\n",
    "sequences = tokenizer.texts_to_sequences(X_train)"
   ]
  },
  {
   "cell_type": "code",
   "execution_count": 13,
   "id": "3be52c20-12c6-4542-8346-804b4b52896b",
   "metadata": {},
   "outputs": [],
   "source": [
    "tokenizer.fit_on_texts(X_train)\n",
    "sequences1 = tokenizer.texts_to_sequences(X_test)"
   ]
  },
  {
   "cell_type": "code",
   "execution_count": 14,
   "id": "87e6a0c4-b9c9-489a-a8fc-1a36fcde4bd2",
   "metadata": {},
   "outputs": [
    {
     "name": "stdout",
     "output_type": "stream",
     "text": [
      "Found 92437 unique words\n"
     ]
    }
   ],
   "source": [
    "word_index = tokenizer.word_index\n",
    "print(\"Found {0} unique words\".format(len(word_index)))"
   ]
  },
  {
   "cell_type": "code",
   "execution_count": 15,
   "id": "64656054-f275-410f-af55-49985ddcfef2",
   "metadata": {
    "collapsed": true,
    "jupyter": {
     "outputs_hidden": true
    },
    "tags": []
   },
   "outputs": [
    {
     "data": {
      "text/plain": [
       "{'i': 1,\n",
       " 'the': 2,\n",
       " 'movie': 3,\n",
       " 'film': 4,\n",
       " 'one': 5,\n",
       " 'like': 6,\n",
       " 'it': 7,\n",
       " 'this': 8,\n",
       " 'good': 9,\n",
       " 'time': 10,\n",
       " 'even': 11,\n",
       " 'would': 12,\n",
       " 'story': 13,\n",
       " 'really': 14,\n",
       " 'see': 15,\n",
       " 'well': 16,\n",
       " 'much': 17,\n",
       " 'bad': 18,\n",
       " 'get': 19,\n",
       " 'people': 20,\n",
       " 'great': 21,\n",
       " 'also': 22,\n",
       " 'first': 23,\n",
       " 'made': 24,\n",
       " 'make': 25,\n",
       " 'way': 26,\n",
       " 'could': 27,\n",
       " 'movies': 28,\n",
       " 'but': 29,\n",
       " 'characters': 30,\n",
       " 'think': 31,\n",
       " 'and': 32,\n",
       " 'character': 33,\n",
       " 'watch': 34,\n",
       " 'films': 35,\n",
       " 'two': 36,\n",
       " 'many': 37,\n",
       " 'seen': 38,\n",
       " 'a': 39,\n",
       " 'love': 40,\n",
       " 'plot': 41,\n",
       " 'acting': 42,\n",
       " 'life': 43,\n",
       " 'never': 44,\n",
       " 'show': 45,\n",
       " 'know': 46,\n",
       " 'best': 47,\n",
       " 'little': 48,\n",
       " 'there': 49,\n",
       " 'in': 50,\n",
       " 'ever': 51,\n",
       " 'man': 52,\n",
       " 'better': 53,\n",
       " 'end': 54,\n",
       " 'if': 55,\n",
       " 'scene': 56,\n",
       " 'say': 57,\n",
       " 'still': 58,\n",
       " 'he': 59,\n",
       " 'scenes': 60,\n",
       " 'something': 61,\n",
       " 'go': 62,\n",
       " 'back': 63,\n",
       " 'real': 64,\n",
       " 'watching': 65,\n",
       " 'thing': 66,\n",
       " 'actors': 67,\n",
       " 'director': 68,\n",
       " 'years': 69,\n",
       " 'though': 70,\n",
       " 'funny': 71,\n",
       " 'old': 72,\n",
       " 'another': 73,\n",
       " 'work': 74,\n",
       " 'actually': 75,\n",
       " 'look': 76,\n",
       " 'nothing': 77,\n",
       " 'makes': 78,\n",
       " 'find': 79,\n",
       " 'new': 80,\n",
       " 'going': 81,\n",
       " 'lot': 82,\n",
       " 'every': 83,\n",
       " 'part': 84,\n",
       " 'cast': 85,\n",
       " 'things': 86,\n",
       " 'us': 87,\n",
       " 'world': 88,\n",
       " 'pretty': 89,\n",
       " 'want': 90,\n",
       " 'quite': 91,\n",
       " 'around': 92,\n",
       " 'horror': 93,\n",
       " 'young': 94,\n",
       " 'fact': 95,\n",
       " 'you': 96,\n",
       " 'however': 97,\n",
       " 'take': 98,\n",
       " 'thought': 99,\n",
       " 'seems': 100,\n",
       " 'got': 101,\n",
       " 'big': 102,\n",
       " 'long': 103,\n",
       " 'enough': 104,\n",
       " 'give': 105,\n",
       " 'what': 106,\n",
       " 'may': 107,\n",
       " 'as': 108,\n",
       " 'they': 109,\n",
       " 'action': 110,\n",
       " 'comedy': 111,\n",
       " 'right': 112,\n",
       " 'must': 113,\n",
       " 'series': 114,\n",
       " 'music': 115,\n",
       " 'guy': 116,\n",
       " 'without': 117,\n",
       " 'times': 118,\n",
       " 'saw': 119,\n",
       " 'come': 120,\n",
       " 'always': 121,\n",
       " 'original': 122,\n",
       " 'almost': 123,\n",
       " 'role': 124,\n",
       " 'gets': 125,\n",
       " 'point': 126,\n",
       " 'interesting': 127,\n",
       " 'done': 128,\n",
       " 'least': 129,\n",
       " 'whole': 130,\n",
       " 'bit': 131,\n",
       " 'script': 132,\n",
       " 'far': 133,\n",
       " 'minutes': 134,\n",
       " 'feel': 135,\n",
       " 'anything': 136,\n",
       " 'might': 137,\n",
       " 'making': 138,\n",
       " 'family': 139,\n",
       " 'last': 140,\n",
       " 'that': 141,\n",
       " 'since': 142,\n",
       " 'probably': 143,\n",
       " 'so': 144,\n",
       " 'tv': 145,\n",
       " 'kind': 146,\n",
       " 'girl': 147,\n",
       " 'performance': 148,\n",
       " 'away': 149,\n",
       " 'yet': 150,\n",
       " 'fun': 151,\n",
       " 'woman': 152,\n",
       " 'anyone': 153,\n",
       " 'worst': 154,\n",
       " 'she': 155,\n",
       " 'rather': 156,\n",
       " 'not': 157,\n",
       " 'day': 158,\n",
       " 'sure': 159,\n",
       " 'hard': 160,\n",
       " 'played': 161,\n",
       " 'found': 162,\n",
       " 'screen': 163,\n",
       " 'looking': 164,\n",
       " 'especially': 165,\n",
       " 'although': 166,\n",
       " 'believe': 167,\n",
       " 'dvd': 168,\n",
       " 'when': 169,\n",
       " 'trying': 170,\n",
       " 'course': 171,\n",
       " 'goes': 172,\n",
       " 'set': 173,\n",
       " 'ending': 174,\n",
       " 'comes': 175,\n",
       " 'three': 176,\n",
       " 'everything': 177,\n",
       " 'book': 178,\n",
       " 'put': 179,\n",
       " 'let': 180,\n",
       " 'maybe': 181,\n",
       " 'worth': 182,\n",
       " 'shows': 183,\n",
       " 'place': 184,\n",
       " 'different': 185,\n",
       " 'actor': 186,\n",
       " 'someone': 187,\n",
       " 'main': 188,\n",
       " 'sense': 189,\n",
       " 'looks': 190,\n",
       " 'play': 191,\n",
       " 'everyone': 192,\n",
       " 'money': 193,\n",
       " 'american': 194,\n",
       " 'effects': 195,\n",
       " 'reason': 196,\n",
       " 'job': 197,\n",
       " 'watched': 198,\n",
       " 'true': 199,\n",
       " 'war': 200,\n",
       " 'together': 201,\n",
       " 'year': 202,\n",
       " 'for': 203,\n",
       " 'all': 204,\n",
       " 'said': 205,\n",
       " 'half': 206,\n",
       " 'plays': 207,\n",
       " 'instead': 208,\n",
       " 'later': 209,\n",
       " 'high': 210,\n",
       " 'takes': 211,\n",
       " 'beautiful': 212,\n",
       " 'night': 213,\n",
       " 'audience': 214,\n",
       " 'seem': 215,\n",
       " 'my': 216,\n",
       " 'left': 217,\n",
       " 'special': 218,\n",
       " 'seeing': 219,\n",
       " 'version': 220,\n",
       " 'we': 221,\n",
       " 'black': 222,\n",
       " 'shot': 223,\n",
       " 'john': 224,\n",
       " 'wife': 225,\n",
       " 'house': 226,\n",
       " 'idea': 227,\n",
       " 'star': 228,\n",
       " 'excellent': 229,\n",
       " 'else': 230,\n",
       " 'death': 231,\n",
       " 'mind': 232,\n",
       " 'fan': 233,\n",
       " 'budget': 234,\n",
       " 'father': 235,\n",
       " 'nice': 236,\n",
       " 'second': 237,\n",
       " 'completely': 238,\n",
       " 'simply': 239,\n",
       " 'short': 240,\n",
       " 'used': 241,\n",
       " 'no': 242,\n",
       " 'men': 243,\n",
       " 'poor': 244,\n",
       " 'along': 245,\n",
       " 'top': 246,\n",
       " 'less': 247,\n",
       " 'read': 248,\n",
       " 'home': 249,\n",
       " 'help': 250,\n",
       " 'dead': 251,\n",
       " 'hollywood': 252,\n",
       " 'line': 253,\n",
       " 'either': 254,\n",
       " 'boring': 255,\n",
       " 'friends': 256,\n",
       " 'production': 257,\n",
       " 'try': 258,\n",
       " 'classic': 259,\n",
       " 'kids': 260,\n",
       " 'camera': 261,\n",
       " 'wrong': 262,\n",
       " 'given': 263,\n",
       " 'low': 264,\n",
       " 'school': 265,\n",
       " 'stupid': 266,\n",
       " 'women': 267,\n",
       " 'use': 268,\n",
       " 'enjoy': 269,\n",
       " 'full': 270,\n",
       " 'need': 271,\n",
       " 'performances': 272,\n",
       " 'next': 273,\n",
       " 'sex': 274,\n",
       " 'video': 275,\n",
       " 'awful': 276,\n",
       " 'couple': 277,\n",
       " 'rest': 278,\n",
       " 'to': 279,\n",
       " 'start': 280,\n",
       " 'of': 281,\n",
       " 'recommend': 282,\n",
       " 'tell': 283,\n",
       " 'truly': 284,\n",
       " 'terrible': 285,\n",
       " 'mean': 286,\n",
       " 'understand': 287,\n",
       " 'moments': 288,\n",
       " 'remember': 289,\n",
       " 'came': 290,\n",
       " 'at': 291,\n",
       " 'perhaps': 292,\n",
       " 'name': 293,\n",
       " 'person': 294,\n",
       " 'getting': 295,\n",
       " 'face': 296,\n",
       " 'keep': 297,\n",
       " 'style': 298,\n",
       " 'episode': 299,\n",
       " 'others': 300,\n",
       " 'mother': 301,\n",
       " 'human': 302,\n",
       " 'small': 303,\n",
       " 'wonderful': 304,\n",
       " 'playing': 305,\n",
       " 'head': 306,\n",
       " 'perfect': 307,\n",
       " 'boy': 308,\n",
       " 'after': 309,\n",
       " 'lines': 310,\n",
       " 'definitely': 311,\n",
       " 'early': 312,\n",
       " 'stars': 313,\n",
       " 'dialogue': 314,\n",
       " 'children': 315,\n",
       " 'written': 316,\n",
       " 'often': 317,\n",
       " 'piece': 318,\n",
       " 'gives': 319,\n",
       " 'yes': 320,\n",
       " 'case': 321,\n",
       " 'title': 322,\n",
       " 'laugh': 323,\n",
       " 'oh': 324,\n",
       " 'live': 325,\n",
       " 'went': 326,\n",
       " 'finally': 327,\n",
       " 'friend': 328,\n",
       " 'liked': 329,\n",
       " 'absolutely': 330,\n",
       " 'worse': 331,\n",
       " 'certainly': 332,\n",
       " 'don': 333,\n",
       " 'lost': 334,\n",
       " 'entertaining': 335,\n",
       " 'sort': 336,\n",
       " 'called': 337,\n",
       " 'become': 338,\n",
       " 'picture': 339,\n",
       " 'hope': 340,\n",
       " 'guys': 341,\n",
       " 'loved': 342,\n",
       " 'cinema': 343,\n",
       " 'several': 344,\n",
       " 'supposed': 345,\n",
       " 'mr': 346,\n",
       " 'overall': 347,\n",
       " 'felt': 348,\n",
       " 'his': 349,\n",
       " 'entire': 350,\n",
       " 'drama': 351,\n",
       " 'waste': 352,\n",
       " 'sound': 353,\n",
       " 'based': 354,\n",
       " 'problem': 355,\n",
       " 'white': 356,\n",
       " 'game': 357,\n",
       " 'fans': 358,\n",
       " 'beginning': 359,\n",
       " 'then': 360,\n",
       " 'direction': 361,\n",
       " 'care': 362,\n",
       " 'lead': 363,\n",
       " 'wanted': 364,\n",
       " 'despite': 365,\n",
       " 'evil': 366,\n",
       " 'totally': 367,\n",
       " 'humor': 368,\n",
       " 'lives': 369,\n",
       " 'seemed': 370,\n",
       " 'guess': 371,\n",
       " 'while': 372,\n",
       " 'dark': 373,\n",
       " 'final': 374,\n",
       " 'throughout': 375,\n",
       " 'becomes': 376,\n",
       " 'son': 377,\n",
       " 'already': 378,\n",
       " 'why': 379,\n",
       " 'turn': 380,\n",
       " 'now': 381,\n",
       " 'unfortunately': 382,\n",
       " 'killer': 383,\n",
       " 'history': 384,\n",
       " 'example': 385,\n",
       " 'days': 386,\n",
       " 'able': 387,\n",
       " 'b': 388,\n",
       " 'some': 389,\n",
       " 'quality': 390,\n",
       " 'horrible': 391,\n",
       " 'side': 392,\n",
       " 'run': 393,\n",
       " 'how': 394,\n",
       " 'town': 395,\n",
       " 'wants': 396,\n",
       " 'flick': 397,\n",
       " 'michael': 398,\n",
       " 'writing': 399,\n",
       " 'heart': 400,\n",
       " 'fine': 401,\n",
       " 'amazing': 402,\n",
       " 'art': 403,\n",
       " 'kill': 404,\n",
       " 'god': 405,\n",
       " 'act': 406,\n",
       " 'works': 407,\n",
       " 'genre': 408,\n",
       " 'behind': 409,\n",
       " 'child': 410,\n",
       " 'today': 411,\n",
       " 'with': 412,\n",
       " 'past': 413,\n",
       " 'eyes': 414,\n",
       " 'car': 415,\n",
       " 'stuff': 416,\n",
       " 'etc': 417,\n",
       " 'viewer': 418,\n",
       " 'tries': 419,\n",
       " 'matter': 420,\n",
       " 'gave': 421,\n",
       " 'favorite': 422,\n",
       " 'expect': 423,\n",
       " 'close': 424,\n",
       " 'city': 425,\n",
       " 'turns': 426,\n",
       " 'brilliant': 427,\n",
       " 'hand': 428,\n",
       " 'enjoyed': 429,\n",
       " 'hour': 430,\n",
       " 'actress': 431,\n",
       " 'girls': 432,\n",
       " 'parts': 433,\n",
       " 'directed': 434,\n",
       " 'obviously': 435,\n",
       " 'killed': 436,\n",
       " 'kid': 437,\n",
       " 'daughter': 438,\n",
       " 'soon': 439,\n",
       " 'decent': 440,\n",
       " 'starts': 441,\n",
       " 'thinking': 442,\n",
       " 'on': 443,\n",
       " 'sometimes': 444,\n",
       " 'late': 445,\n",
       " 'just': 446,\n",
       " 'type': 447,\n",
       " 'blood': 448,\n",
       " 'stop': 449,\n",
       " 'voice': 450,\n",
       " 'took': 451,\n",
       " 'group': 452,\n",
       " 'slow': 453,\n",
       " 'says': 454,\n",
       " 'writer': 455,\n",
       " 'fight': 456,\n",
       " 'highly': 457,\n",
       " 'anyway': 458,\n",
       " 'self': 459,\n",
       " 'coming': 460,\n",
       " 'experience': 461,\n",
       " 'feeling': 462,\n",
       " 'except': 463,\n",
       " 'moment': 464,\n",
       " 'known': 465,\n",
       " 'heard': 466,\n",
       " 'extremely': 467,\n",
       " 'happens': 468,\n",
       " 'police': 469,\n",
       " 'violence': 470,\n",
       " 'stories': 471,\n",
       " 'strong': 472,\n",
       " 'told': 473,\n",
       " 'leave': 474,\n",
       " 'lack': 475,\n",
       " 'particularly': 476,\n",
       " 'hero': 477,\n",
       " 'score': 478,\n",
       " 'chance': 479,\n",
       " 'hilarious': 480,\n",
       " 'age': 481,\n",
       " 'involved': 482,\n",
       " 'save': 483,\n",
       " 'roles': 484,\n",
       " 'hell': 485,\n",
       " 'ok': 486,\n",
       " 'hit': 487,\n",
       " 'wonder': 488,\n",
       " 'looked': 489,\n",
       " 'brother': 490,\n",
       " 'david': 491,\n",
       " 'cannot': 492,\n",
       " 'complete': 493,\n",
       " 'living': 494,\n",
       " 'including': 495,\n",
       " 'crap': 496,\n",
       " 'cut': 497,\n",
       " 'cool': 498,\n",
       " 'robert': 499,\n",
       " 'happen': 500,\n",
       " 'obvious': 501,\n",
       " 'please': 502,\n",
       " 'simple': 503,\n",
       " 'gore': 504,\n",
       " 'murder': 505,\n",
       " 'james': 506,\n",
       " 'attempt': 507,\n",
       " 'ago': 508,\n",
       " 'happened': 509,\n",
       " 'song': 510,\n",
       " 'is': 511,\n",
       " 'opening': 512,\n",
       " 'husband': 513,\n",
       " 'taken': 514,\n",
       " 'serious': 515,\n",
       " 'across': 516,\n",
       " 'possible': 517,\n",
       " 'seriously': 518,\n",
       " 'usually': 519,\n",
       " 'number': 520,\n",
       " 'released': 521,\n",
       " 'shown': 522,\n",
       " 'interest': 523,\n",
       " 'none': 524,\n",
       " 'english': 525,\n",
       " 'career': 526,\n",
       " 'documentary': 527,\n",
       " 'sad': 528,\n",
       " 'alone': 529,\n",
       " 'exactly': 530,\n",
       " 'reality': 531,\n",
       " 'view': 532,\n",
       " 'cinematography': 533,\n",
       " 'hours': 534,\n",
       " 'saying': 535,\n",
       " 'jokes': 536,\n",
       " 'relationship': 537,\n",
       " 'order': 538,\n",
       " 'running': 539,\n",
       " 'huge': 540,\n",
       " 'call': 541,\n",
       " 'talent': 542,\n",
       " 'female': 543,\n",
       " 'whose': 544,\n",
       " 'shots': 545,\n",
       " 'ridiculous': 546,\n",
       " 'annoying': 547,\n",
       " 'four': 548,\n",
       " 'wish': 549,\n",
       " 'taking': 550,\n",
       " 'body': 551,\n",
       " 'light': 552,\n",
       " 'country': 553,\n",
       " 'started': 554,\n",
       " 'important': 555,\n",
       " 'word': 556,\n",
       " 'change': 557,\n",
       " 'apparently': 558,\n",
       " 'level': 559,\n",
       " 'turned': 560,\n",
       " 'somewhat': 561,\n",
       " 'silly': 562,\n",
       " 'opinion': 563,\n",
       " 'talking': 564,\n",
       " 'power': 565,\n",
       " 'ends': 566,\n",
       " 'usual': 567,\n",
       " 'middle': 568,\n",
       " 'scary': 569,\n",
       " 'basically': 570,\n",
       " 'major': 571,\n",
       " 'happy': 572,\n",
       " 'jack': 573,\n",
       " 'ones': 574,\n",
       " 'mostly': 575,\n",
       " 'beyond': 576,\n",
       " 'finds': 577,\n",
       " 'knows': 578,\n",
       " 'words': 579,\n",
       " 'novel': 580,\n",
       " 'rating': 581,\n",
       " 'knew': 582,\n",
       " 'room': 583,\n",
       " 'single': 584,\n",
       " 'modern': 585,\n",
       " 'due': 586,\n",
       " 'disappointed': 587,\n",
       " 'attention': 588,\n",
       " 'problems': 589,\n",
       " 'cheap': 590,\n",
       " 'upon': 591,\n",
       " 'episodes': 592,\n",
       " 'clich': 593,\n",
       " 'non': 594,\n",
       " 'television': 595,\n",
       " 'local': 596,\n",
       " 'strange': 597,\n",
       " 'musical': 598,\n",
       " 'team': 599,\n",
       " 'thriller': 600,\n",
       " 'talk': 601,\n",
       " 'fast': 602,\n",
       " 'from': 603,\n",
       " 'miss': 604,\n",
       " 'clearly': 605,\n",
       " 'king': 606,\n",
       " 'earth': 607,\n",
       " 'five': 608,\n",
       " 'sequence': 609,\n",
       " 'moving': 610,\n",
       " 'class': 611,\n",
       " 'review': 612,\n",
       " 'predictable': 613,\n",
       " 'die': 614,\n",
       " 'ten': 615,\n",
       " 'tells': 616,\n",
       " 'space': 617,\n",
       " 'songs': 618,\n",
       " 'british': 619,\n",
       " 'comic': 620,\n",
       " 'events': 621,\n",
       " 'straight': 622,\n",
       " 's': 623,\n",
       " 'sets': 624,\n",
       " 'george': 625,\n",
       " 'giving': 626,\n",
       " 'add': 627,\n",
       " 'whether': 628,\n",
       " 'french': 629,\n",
       " 'romantic': 630,\n",
       " 'hate': 631,\n",
       " 'future': 632,\n",
       " 'near': 633,\n",
       " 'similar': 634,\n",
       " 'entertainment': 635,\n",
       " 'supporting': 636,\n",
       " 'within': 637,\n",
       " 'dialog': 638,\n",
       " 'sister': 639,\n",
       " 'monster': 640,\n",
       " 'lots': 641,\n",
       " 'bring': 642,\n",
       " 'e': 643,\n",
       " 'enjoyable': 644,\n",
       " 'soundtrack': 645,\n",
       " 'eye': 646,\n",
       " 'appears': 647,\n",
       " 'falls': 648,\n",
       " 'certain': 649,\n",
       " 'release': 650,\n",
       " 'easily': 651,\n",
       " 'clear': 652,\n",
       " 'sequel': 653,\n",
       " 'message': 654,\n",
       " 'filmed': 655,\n",
       " 'theater': 656,\n",
       " 'suspense': 657,\n",
       " 'dull': 658,\n",
       " 'needs': 659,\n",
       " 'sorry': 660,\n",
       " 'bunch': 661,\n",
       " 'feature': 662,\n",
       " 'surprised': 663,\n",
       " 'minute': 664,\n",
       " 'lady': 665,\n",
       " 'among': 666,\n",
       " 'storyline': 667,\n",
       " 'showing': 668,\n",
       " 'rock': 669,\n",
       " 'working': 670,\n",
       " 'parents': 671,\n",
       " 'easy': 672,\n",
       " 'buy': 673,\n",
       " 'mention': 674,\n",
       " 'ways': 675,\n",
       " 'stand': 676,\n",
       " 'peter': 677,\n",
       " 'theme': 678,\n",
       " 'using': 679,\n",
       " 'fall': 680,\n",
       " 'named': 681,\n",
       " 'tale': 682,\n",
       " 'tried': 683,\n",
       " 'who': 684,\n",
       " 'stay': 685,\n",
       " 'typical': 686,\n",
       " 'effort': 687,\n",
       " 'mystery': 688,\n",
       " 'viewers': 689,\n",
       " 'th': 690,\n",
       " 'richard': 691,\n",
       " 'elements': 692,\n",
       " 'check': 693,\n",
       " 'dog': 694,\n",
       " 'imagine': 695,\n",
       " 'avoid': 696,\n",
       " 'comments': 697,\n",
       " 'deal': 698,\n",
       " 'realistic': 699,\n",
       " 'rent': 700,\n",
       " 'doubt': 701,\n",
       " 'dr': 702,\n",
       " 'an': 703,\n",
       " 'okay': 704,\n",
       " 'gone': 705,\n",
       " 'kept': 706,\n",
       " 'famous': 707,\n",
       " 'feels': 708,\n",
       " 'points': 709,\n",
       " 'general': 710,\n",
       " 'subject': 711,\n",
       " 'editing': 712,\n",
       " 'red': 713,\n",
       " 'crime': 714,\n",
       " 'means': 715,\n",
       " 'nearly': 716,\n",
       " 'follow': 717,\n",
       " 'viewing': 718,\n",
       " 'oscar': 719,\n",
       " 'paul': 720,\n",
       " 'believable': 721,\n",
       " 'greatest': 722,\n",
       " 'forget': 723,\n",
       " 'actual': 724,\n",
       " 'fantastic': 725,\n",
       " 'brought': 726,\n",
       " 'form': 727,\n",
       " 'tom': 728,\n",
       " 'somehow': 729,\n",
       " 'doctor': 730,\n",
       " 'move': 731,\n",
       " 'material': 732,\n",
       " 'surprise': 733,\n",
       " 'figure': 734,\n",
       " 'begins': 735,\n",
       " 'period': 736,\n",
       " 'its': 737,\n",
       " 'expected': 738,\n",
       " 'york': 739,\n",
       " 'her': 740,\n",
       " 'weak': 741,\n",
       " 'leads': 742,\n",
       " 'fi': 743,\n",
       " 'dance': 744,\n",
       " 'deep': 745,\n",
       " 'most': 746,\n",
       " 'o': 747,\n",
       " 'sci': 748,\n",
       " 'killing': 749,\n",
       " 'america': 750,\n",
       " 'atmosphere': 751,\n",
       " 'average': 752,\n",
       " 'eventually': 753,\n",
       " 'these': 754,\n",
       " 'wait': 755,\n",
       " 'sequences': 756,\n",
       " 'sit': 757,\n",
       " 'third': 758,\n",
       " 'reviews': 759,\n",
       " 'box': 760,\n",
       " 'animation': 761,\n",
       " 'indeed': 762,\n",
       " 'premise': 763,\n",
       " 'whatever': 764,\n",
       " 'hear': 765,\n",
       " 'imdb': 766,\n",
       " 'learn': 767,\n",
       " 'poorly': 768,\n",
       " 'particular': 769,\n",
       " 'de': 770,\n",
       " 'open': 771,\n",
       " 'hot': 772,\n",
       " 'd': 773,\n",
       " 'truth': 774,\n",
       " 'note': 775,\n",
       " 'shame': 776,\n",
       " 'free': 777,\n",
       " 'lame': 778,\n",
       " 'season': 779,\n",
       " 'decided': 780,\n",
       " 'credits': 781,\n",
       " 'lee': 782,\n",
       " 'needed': 783,\n",
       " 'situation': 784,\n",
       " 'romance': 785,\n",
       " 'acted': 786,\n",
       " 'footage': 787,\n",
       " 'sexual': 788,\n",
       " 'by': 789,\n",
       " 'boys': 790,\n",
       " 'unless': 791,\n",
       " 'society': 792,\n",
       " 'difficult': 793,\n",
       " 'street': 794,\n",
       " 'do': 795,\n",
       " 'leaves': 796,\n",
       " 'meet': 797,\n",
       " 'forced': 798,\n",
       " 'emotional': 799,\n",
       " 'male': 800,\n",
       " 'became': 801,\n",
       " 'memorable': 802,\n",
       " 'beauty': 803,\n",
       " 'here': 804,\n",
       " 'write': 805,\n",
       " 'question': 806,\n",
       " 'possibly': 807,\n",
       " 'plus': 808,\n",
       " 'western': 809,\n",
       " 'crew': 810,\n",
       " 'begin': 811,\n",
       " 'reading': 812,\n",
       " 'meets': 813,\n",
       " 'cheesy': 814,\n",
       " 'or': 815,\n",
       " 'nature': 816,\n",
       " 'screenplay': 817,\n",
       " 'island': 818,\n",
       " 'features': 819,\n",
       " 'otherwise': 820,\n",
       " 'hands': 821,\n",
       " 'perfectly': 822,\n",
       " 'joe': 823,\n",
       " 'japanese': 824,\n",
       " 'badly': 825,\n",
       " 'interested': 826,\n",
       " 'masterpiece': 827,\n",
       " 'effect': 828,\n",
       " 'superb': 829,\n",
       " 'forward': 830,\n",
       " 'inside': 831,\n",
       " 'stage': 832,\n",
       " 'result': 833,\n",
       " 'sounds': 834,\n",
       " 't': 835,\n",
       " 'keeps': 836,\n",
       " 'very': 837,\n",
       " 'incredibly': 838,\n",
       " 'comment': 839,\n",
       " 'laughs': 840,\n",
       " 'gay': 841,\n",
       " 'air': 842,\n",
       " 'total': 843,\n",
       " 'quickly': 844,\n",
       " 'personal': 845,\n",
       " 'copy': 846,\n",
       " 'disney': 847,\n",
       " 'previous': 848,\n",
       " 'cop': 849,\n",
       " 'mark': 850,\n",
       " 'weird': 851,\n",
       " 'setting': 852,\n",
       " 'various': 853,\n",
       " 'mess': 854,\n",
       " 'crazy': 855,\n",
       " 'earlier': 856,\n",
       " 'background': 857,\n",
       " 'girlfriend': 858,\n",
       " 'dumb': 859,\n",
       " 'dramatic': 860,\n",
       " 'bill': 861,\n",
       " 'rate': 862,\n",
       " 'worked': 863,\n",
       " 'towards': 864,\n",
       " 'baby': 865,\n",
       " 'unique': 866,\n",
       " 'writers': 867,\n",
       " 'realize': 868,\n",
       " 'fire': 869,\n",
       " 'match': 870,\n",
       " 'fairly': 871,\n",
       " 'front': 872,\n",
       " 'directing': 873,\n",
       " 'battle': 874,\n",
       " 'directors': 875,\n",
       " 'political': 876,\n",
       " 'brings': 877,\n",
       " 'following': 878,\n",
       " 'business': 879,\n",
       " 'development': 880,\n",
       " 'plenty': 881,\n",
       " 'pay': 882,\n",
       " 'older': 883,\n",
       " 'c': 884,\n",
       " 'water': 885,\n",
       " 'admit': 886,\n",
       " 'outside': 887,\n",
       " 'joke': 888,\n",
       " 'cover': 889,\n",
       " 'rich': 890,\n",
       " 'leading': 891,\n",
       " 'powerful': 892,\n",
       " 'wasted': 893,\n",
       " 'creepy': 894,\n",
       " 'apart': 895,\n",
       " 'dream': 896,\n",
       " 'break': 897,\n",
       " 'appear': 898,\n",
       " 'ask': 899,\n",
       " 'portrayed': 900,\n",
       " 'fails': 901,\n",
       " 'success': 902,\n",
       " 'expecting': 903,\n",
       " 'present': 904,\n",
       " 'party': 905,\n",
       " 'era': 906,\n",
       " 'gun': 907,\n",
       " 'missing': 908,\n",
       " 'deserves': 909,\n",
       " 'create': 910,\n",
       " 'spent': 911,\n",
       " 'zombie': 912,\n",
       " 'talented': 913,\n",
       " 'attempts': 914,\n",
       " 'villain': 915,\n",
       " 'reasons': 916,\n",
       " 'fighting': 917,\n",
       " 'ideas': 918,\n",
       " 'clever': 919,\n",
       " 'escape': 920,\n",
       " 'list': 921,\n",
       " 'cute': 922,\n",
       " 'telling': 923,\n",
       " 'ended': 924,\n",
       " 'caught': 925,\n",
       " 'unlike': 926,\n",
       " 'twist': 927,\n",
       " 'manages': 928,\n",
       " 'william': 929,\n",
       " 'agree': 930,\n",
       " 'pure': 931,\n",
       " 'office': 932,\n",
       " 'meant': 933,\n",
       " 'fantasy': 934,\n",
       " 'co': 935,\n",
       " 'company': 936,\n",
       " 'created': 937,\n",
       " 'odd': 938,\n",
       " 'large': 939,\n",
       " 'filmmakers': 940,\n",
       " 'plain': 941,\n",
       " 'recently': 942,\n",
       " 'secret': 943,\n",
       " 'produced': 944,\n",
       " 'remake': 945,\n",
       " 'nudity': 946,\n",
       " 'hardly': 947,\n",
       " 'casting': 948,\n",
       " 'jane': 949,\n",
       " 'cartoon': 950,\n",
       " 'flat': 951,\n",
       " 'members': 952,\n",
       " 'pace': 953,\n",
       " 'potential': 954,\n",
       " 'hold': 955,\n",
       " 'considering': 956,\n",
       " 'german': 957,\n",
       " 'century': 958,\n",
       " 'state': 959,\n",
       " 'spoilers': 960,\n",
       " 'public': 961,\n",
       " 'filled': 962,\n",
       " 'italian': 963,\n",
       " 'return': 964,\n",
       " 'waiting': 965,\n",
       " 'laughing': 966,\n",
       " 'familiar': 967,\n",
       " 'mentioned': 968,\n",
       " 'wrote': 969,\n",
       " 'van': 970,\n",
       " 'visual': 971,\n",
       " 'scott': 972,\n",
       " 'married': 973,\n",
       " 'sweet': 974,\n",
       " 'store': 975,\n",
       " 'died': 976,\n",
       " 'sadly': 977,\n",
       " 'language': 978,\n",
       " 'science': 979,\n",
       " 'anti': 980,\n",
       " 'cold': 981,\n",
       " 'convincing': 982,\n",
       " 'train': 983,\n",
       " 'popular': 984,\n",
       " 'dancing': 985,\n",
       " 'credit': 986,\n",
       " 'speak': 987,\n",
       " 'la': 988,\n",
       " 'mad': 989,\n",
       " 'decides': 990,\n",
       " 'band': 991,\n",
       " 'sees': 992,\n",
       " 'cause': 993,\n",
       " 'cat': 994,\n",
       " 'bored': 995,\n",
       " 'hair': 996,\n",
       " 'value': 997,\n",
       " 'missed': 998,\n",
       " 'former': 999,\n",
       " 'tension': 1000,\n",
       " ...}"
      ]
     },
     "execution_count": 15,
     "metadata": {},
     "output_type": "execute_result"
    }
   ],
   "source": [
    "word_index"
   ]
  },
  {
   "cell_type": "code",
   "execution_count": 16,
   "id": "b2930bce-75a2-4807-a4b9-5e9481e5ca93",
   "metadata": {},
   "outputs": [
    {
     "data": {
      "text/plain": [
       "15000"
      ]
     },
     "execution_count": 16,
     "metadata": {},
     "output_type": "execute_result"
    }
   ],
   "source": [
    "max_features = 15000\n",
    "max_features"
   ]
  },
  {
   "cell_type": "markdown",
   "id": "1d60ad8c-ce73-495c-b6ea-0f2119ba92d1",
   "metadata": {},
   "source": [
    "### Padding Sequences"
   ]
  },
  {
   "cell_type": "code",
   "execution_count": 17,
   "id": "229f08b4-c177-4778-b292-6362904a8e71",
   "metadata": {},
   "outputs": [
    {
     "data": {
      "text/plain": [
       "(40000, 130)"
      ]
     },
     "execution_count": 17,
     "metadata": {},
     "output_type": "execute_result"
    }
   ],
   "source": [
    "X_train = pad_sequences(sequences, maxlen=maxlen)\n",
    "X_train.shape"
   ]
  },
  {
   "cell_type": "code",
   "execution_count": 18,
   "id": "93611314-437e-4bc8-9b16-4336157ef59d",
   "metadata": {},
   "outputs": [
    {
     "data": {
      "text/plain": [
       "(10000, 130)"
      ]
     },
     "execution_count": 18,
     "metadata": {},
     "output_type": "execute_result"
    }
   ],
   "source": [
    "X_test = pad_sequences(sequences1, maxlen=maxlen)\n",
    "X_test.shape"
   ]
  },
  {
   "cell_type": "markdown",
   "id": "ce9070d9-7a78-464d-8db7-fe9c413bcab7",
   "metadata": {},
   "source": [
    "### RNN"
   ]
  },
  {
   "cell_type": "code",
   "execution_count": 19,
   "id": "59de9ac9-feb3-47dd-910c-c1ca6e9e5865",
   "metadata": {},
   "outputs": [
    {
     "name": "stdout",
     "output_type": "stream",
     "text": [
      "Model: \"sequential\"\n",
      "_________________________________________________________________\n",
      " Layer (type)                Output Shape              Param #   \n",
      "=================================================================\n",
      " embedding (Embedding)       (None, 130, 32)           480000    \n",
      "                                                                 \n",
      " simple_rnn (SimpleRNN)      (None, 16)                784       \n",
      "                                                                 \n",
      " dense (Dense)               (None, 1)                 17        \n",
      "                                                                 \n",
      "=================================================================\n",
      "Total params: 480,801\n",
      "Trainable params: 480,801\n",
      "Non-trainable params: 0\n",
      "_________________________________________________________________\n"
     ]
    }
   ],
   "source": [
    "rnn = Sequential()\n",
    "rnn.add(Embedding(max_features, 32, input_length=maxlen))\n",
    "rnn.add(SimpleRNN(16, input_shape = (max_features, maxlen), return_sequences=False, activation=\"relu\"))\n",
    "rnn.add(Dense(1, activation=\"sigmoid\"))\n",
    "\n",
    "rnn.summary()"
   ]
  },
  {
   "cell_type": "code",
   "execution_count": 20,
   "id": "49f5aa74-b314-4145-82e9-3f617b5af5e8",
   "metadata": {},
   "outputs": [
    {
     "name": "stdout",
     "output_type": "stream",
     "text": [
      "Epoch 1/15\n",
      "313/313 [==============================] - 34s 102ms/step - loss: 0.4604 - accuracy: 0.7713 - val_loss: 0.2835 - val_accuracy: 0.8837\n",
      "Epoch 2/15\n",
      "313/313 [==============================] - 32s 102ms/step - loss: 0.2515 - accuracy: 0.9004 - val_loss: 0.2795 - val_accuracy: 0.8894\n",
      "Epoch 3/15\n",
      "313/313 [==============================] - 32s 102ms/step - loss: 0.2064 - accuracy: 0.9196 - val_loss: 0.2711 - val_accuracy: 0.8916\n",
      "Epoch 4/15\n",
      "313/313 [==============================] - 32s 102ms/step - loss: 0.1801 - accuracy: 0.9310 - val_loss: 0.2801 - val_accuracy: 0.8906\n",
      "Epoch 5/15\n",
      "313/313 [==============================] - 32s 103ms/step - loss: 0.1613 - accuracy: 0.9387 - val_loss: 0.3175 - val_accuracy: 0.8768\n",
      "Epoch 6/15\n",
      "313/313 [==============================] - 32s 103ms/step - loss: 0.1473 - accuracy: 0.9445 - val_loss: 0.3131 - val_accuracy: 0.8838\n",
      "Epoch 7/15\n",
      "313/313 [==============================] - 32s 102ms/step - loss: 0.1363 - accuracy: 0.9489 - val_loss: 0.3299 - val_accuracy: 0.8842\n",
      "Epoch 8/15\n",
      "313/313 [==============================] - 32s 102ms/step - loss: 0.1254 - accuracy: 0.9538 - val_loss: 0.3441 - val_accuracy: 0.8824\n",
      "Epoch 9/15\n",
      "313/313 [==============================] - 32s 103ms/step - loss: 0.1164 - accuracy: 0.9582 - val_loss: 0.3431 - val_accuracy: 0.8818\n",
      "Epoch 10/15\n",
      "313/313 [==============================] - 32s 102ms/step - loss: 0.1075 - accuracy: 0.9598 - val_loss: 0.5416 - val_accuracy: 0.8433\n",
      "Epoch 11/15\n",
      "313/313 [==============================] - 32s 103ms/step - loss: 0.1014 - accuracy: 0.9634 - val_loss: 0.3878 - val_accuracy: 0.8640\n",
      "Epoch 12/15\n",
      "313/313 [==============================] - 32s 102ms/step - loss: 0.0940 - accuracy: 0.9652 - val_loss: 0.4058 - val_accuracy: 0.8789\n",
      "Epoch 13/15\n",
      "313/313 [==============================] - 32s 103ms/step - loss: 0.0870 - accuracy: 0.9679 - val_loss: 0.4547 - val_accuracy: 0.8720\n",
      "Epoch 14/15\n",
      "313/313 [==============================] - 32s 103ms/step - loss: 0.0820 - accuracy: 0.9704 - val_loss: 0.4974 - val_accuracy: 0.8754\n",
      "Epoch 15/15\n",
      "313/313 [==============================] - 32s 103ms/step - loss: 0.0767 - accuracy: 0.9727 - val_loss: 0.4084 - val_accuracy: 0.8757\n"
     ]
    }
   ],
   "source": [
    "rnn.compile(loss=\"binary_crossentropy\", optimizer=\"rmsprop\", metrics=[\"accuracy\"])\n",
    "hist_rnn = rnn.fit(X_train, y_train, validation_data=(X_test, y_test), epochs=15, batch_size=128, verbose=1)"
   ]
  },
  {
   "cell_type": "code",
   "execution_count": 21,
   "id": "582a8bb6-f918-4ae1-97d6-f0c140629cb4",
   "metadata": {},
   "outputs": [
    {
     "data": {
      "image/png": "[encoded data removed]",
      "text/plain": [
       "<Figure size 432x288 with 1 Axes>"
      ]
     },
     "metadata": {
      "needs_background": "light"
     },
     "output_type": "display_data"
    },
    {
     "data": {
      "image/png": "[encoded data removed]",
      "text/plain": [
       "<Figure size 432x288 with 1 Axes>"
      ]
     },
     "metadata": {
      "needs_background": "light"
     },
     "output_type": "display_data"
    }
   ],
   "source": [
    "#  \"Accuracy\"\n",
    "plt.plot(hist_rnn.history['accuracy'])\n",
    "plt.plot(hist_rnn.history['val_accuracy'])\n",
    "plt.title('model accuracy')\n",
    "plt.ylabel('accuracy')\n",
    "plt.xlabel('epoch')\n",
    "plt.legend(['train', 'validation'], loc='upper left')\n",
    "plt.show()\n",
    "# \"Loss\"\n",
    "plt.plot(hist_rnn.history['loss'])\n",
    "plt.plot(hist_rnn.history['val_loss'])\n",
    "plt.title('model loss')\n",
    "plt.ylabel('loss')\n",
    "plt.xlabel('epoch')\n",
    "plt.legend(['train', 'validation'], loc='upper left')\n",
    "plt.show()"
   ]
  },
  {
   "cell_type": "code",
   "execution_count": 22,
   "id": "ba13f359-2fa6-46a0-9745-cf8929f0ea68",
   "metadata": {},
   "outputs": [
    {
     "name": "stdout",
     "output_type": "stream",
     "text": [
      "Model: \"sequential_1\"\n",
      "_________________________________________________________________\n",
      " Layer (type)                Output Shape              Param #   \n",
      "=================================================================\n",
      " embedding_1 (Embedding)     (None, 130, 32)           480000    \n",
      "                                                                 \n",
      " simple_rnn_1 (SimpleRNN)    (None, 64)                6208      \n",
      "                                                                 \n",
      " dropout (Dropout)           (None, 64)                0         \n",
      "                                                                 \n",
      " dense_1 (Dense)             (None, 1)                 65        \n",
      "                                                                 \n",
      "=================================================================\n",
      "Total params: 486,273\n",
      "Trainable params: 486,273\n",
      "Non-trainable params: 0\n",
      "_________________________________________________________________\n"
     ]
    }
   ],
   "source": [
    "rnn1 = Sequential()\n",
    "rnn1.add(Embedding(max_features, 32, input_length=maxlen))\n",
    "rnn1.add(SimpleRNN(64, input_shape = (max_features, maxlen), return_sequences=False, activation=\"relu\"))\n",
    "rnn1.add(Dropout(0.25))\n",
    "rnn1.add(Dense(1, activation=\"sigmoid\"))\n",
    "\n",
    "rnn1.summary()"
   ]
  },
  {
   "cell_type": "code",
   "execution_count": 23,
   "id": "7b8c90fd-6659-4a9e-af34-c3227a369f44",
   "metadata": {},
   "outputs": [
    {
     "name": "stdout",
     "output_type": "stream",
     "text": [
      "Epoch 1/15\n",
      "313/313 [==============================] - 33s 103ms/step - loss: 0.5230 - accuracy: 0.7650 - val_loss: 0.3474 - val_accuracy: 0.8632\n",
      "Epoch 2/15\n",
      "313/313 [==============================] - 32s 103ms/step - loss: 0.2833 - accuracy: 0.8918 - val_loss: 0.4551 - val_accuracy: 0.8764\n",
      "Epoch 3/15\n",
      "313/313 [==============================] - 32s 104ms/step - loss: 0.2345 - accuracy: 0.9122 - val_loss: 0.3084 - val_accuracy: 0.8809\n",
      "Epoch 4/15\n",
      "313/313 [==============================] - 33s 105ms/step - loss: 0.2047 - accuracy: 0.9250 - val_loss: 0.3855 - val_accuracy: 0.8555\n",
      "Epoch 5/15\n",
      "313/313 [==============================] - 32s 103ms/step - loss: 0.1888 - accuracy: 0.9321 - val_loss: 0.3312 - val_accuracy: 0.8862\n",
      "Epoch 6/15\n",
      "313/313 [==============================] - 32s 104ms/step - loss: 0.1711 - accuracy: 0.9384 - val_loss: 0.3067 - val_accuracy: 0.8783\n",
      "Epoch 7/15\n",
      "313/313 [==============================] - 33s 104ms/step - loss: 0.1595 - accuracy: 0.9423 - val_loss: 0.4155 - val_accuracy: 0.8619\n",
      "Epoch 8/15\n",
      "313/313 [==============================] - 32s 103ms/step - loss: 0.1535 - accuracy: 0.9445 - val_loss: 0.4362 - val_accuracy: 0.8684\n",
      "Epoch 9/15\n",
      "313/313 [==============================] - 32s 103ms/step - loss: 0.1427 - accuracy: 0.9491 - val_loss: 0.3992 - val_accuracy: 0.8822\n",
      "Epoch 10/15\n",
      "313/313 [==============================] - 32s 104ms/step - loss: 0.1354 - accuracy: 0.9522 - val_loss: 0.3446 - val_accuracy: 0.8819\n",
      "Epoch 11/15\n",
      "313/313 [==============================] - 32s 103ms/step - loss: 0.1266 - accuracy: 0.9554 - val_loss: 0.3790 - val_accuracy: 0.8766\n",
      "Epoch 12/15\n",
      "313/313 [==============================] - 33s 104ms/step - loss: 0.1259 - accuracy: 0.9560 - val_loss: 0.4136 - val_accuracy: 0.8780\n",
      "Epoch 13/15\n",
      "313/313 [==============================] - 33s 104ms/step - loss: 0.1145 - accuracy: 0.9608 - val_loss: 0.3654 - val_accuracy: 0.8790\n",
      "Epoch 14/15\n",
      "313/313 [==============================] - 32s 103ms/step - loss: 0.1070 - accuracy: 0.9627 - val_loss: 0.4416 - val_accuracy: 0.8753\n",
      "Epoch 15/15\n",
      "313/313 [==============================] - 33s 104ms/step - loss: 0.1058 - accuracy: 0.9639 - val_loss: 0.4887 - val_accuracy: 0.8724\n"
     ]
    }
   ],
   "source": [
    "rnn1.compile(loss=\"binary_crossentropy\", optimizer=\"rmsprop\", metrics=[\"accuracy\"])\n",
    "hist_rnn = rnn1.fit(X_train, y_train, validation_data=(X_test, y_test), epochs=15, batch_size=128, verbose=1)"
   ]
  },
  {
   "cell_type": "code",
   "execution_count": 24,
   "id": "ff93a0b5-4ac2-49d4-a4e6-dea7ebc9e4b5",
   "metadata": {},
   "outputs": [
    {
     "data": {
      "image/png": "[encoded data removed]",
      "text/plain": [
       "<Figure size 432x288 with 1 Axes>"
      ]
     },
     "metadata": {
      "needs_background": "light"
     },
     "output_type": "display_data"
    },
    {
     "data": {
      "image/png": "[encoded data removed]",
      "text/plain": [
       "<Figure size 432x288 with 1 Axes>"
      ]
     },
     "metadata": {
      "needs_background": "light"
     },
     "output_type": "display_data"
    }
   ],
   "source": [
    "#  \"Accuracy\"\n",
    "plt.plot(hist_rnn.history['accuracy'])\n",
    "plt.plot(hist_rnn.history['val_accuracy'])\n",
    "plt.title('model accuracy')\n",
    "plt.ylabel('accuracy')\n",
    "plt.xlabel('epoch')\n",
    "plt.legend(['train', 'validation'], loc='upper left')\n",
    "plt.show()\n",
    "# \"Loss\"\n",
    "plt.plot(hist_rnn.history['loss'])\n",
    "plt.plot(hist_rnn.history['val_loss'])\n",
    "plt.title('model loss')\n",
    "plt.ylabel('loss')\n",
    "plt.xlabel('epoch')\n",
    "plt.legend(['train', 'validation'], loc='upper left')\n",
    "plt.show()"
   ]
  },
  {
   "cell_type": "code",
   "execution_count": 25,
   "id": "dad69da3-fae4-419d-95ca-509bc2a98bfc",
   "metadata": {},
   "outputs": [
    {
     "name": "stdout",
     "output_type": "stream",
     "text": [
      "Model: \"sequential_2\"\n",
      "_________________________________________________________________\n",
      " Layer (type)                Output Shape              Param #   \n",
      "=================================================================\n",
      " embedding_2 (Embedding)     (None, 130, 32)           480000    \n",
      "                                                                 \n",
      " simple_rnn_2 (SimpleRNN)    (None, 128)               20608     \n",
      "                                                                 \n",
      " dropout_1 (Dropout)         (None, 128)               0         \n",
      "                                                                 \n",
      " dense_2 (Dense)             (None, 1)                 129       \n",
      "                                                                 \n",
      "=================================================================\n",
      "Total params: 500,737\n",
      "Trainable params: 500,737\n",
      "Non-trainable params: 0\n",
      "_________________________________________________________________\n"
     ]
    }
   ],
   "source": [
    "rnn2 = Sequential()\n",
    "rnn2.add(Embedding(max_features, 32, input_length=maxlen))\n",
    "rnn2.add(SimpleRNN(128, input_shape = (max_features, maxlen), return_sequences=False, activation=\"relu\"))\n",
    "rnn2.add(Dropout(0.3))\n",
    "rnn2.add(Dense(1, activation=\"sigmoid\"))\n",
    "\n",
    "rnn2.summary()"
   ]
  },
  {
   "cell_type": "code",
   "execution_count": 26,
   "id": "c30b1f4e-4e68-4975-8950-98583b7908ea",
   "metadata": {},
   "outputs": [
    {
     "name": "stdout",
     "output_type": "stream",
     "text": [
      "Epoch 1/15\n",
      "313/313 [==============================] - 40s 126ms/step - loss: 7.4370 - accuracy: 0.7035 - val_loss: 0.4904 - val_accuracy: 0.7768\n",
      "Epoch 2/15\n",
      "313/313 [==============================] - 39s 126ms/step - loss: 1.4479 - accuracy: 0.8600 - val_loss: 0.3568 - val_accuracy: 0.8528\n",
      "Epoch 3/15\n",
      "313/313 [==============================] - 39s 126ms/step - loss: 0.2979 - accuracy: 0.8881 - val_loss: 0.3205 - val_accuracy: 0.8737\n",
      "Epoch 4/15\n",
      "313/313 [==============================] - 39s 126ms/step - loss: 0.2707 - accuracy: 0.9058 - val_loss: 0.3827 - val_accuracy: 0.8507\n",
      "Epoch 5/15\n",
      "313/313 [==============================] - 40s 126ms/step - loss: 0.2300 - accuracy: 0.9170 - val_loss: 0.3982 - val_accuracy: 0.8525\n",
      "Epoch 6/15\n",
      "313/313 [==============================] - 40s 127ms/step - loss: 0.2111 - accuracy: 0.9247 - val_loss: 0.3036 - val_accuracy: 0.8828\n",
      "Epoch 7/15\n",
      "313/313 [==============================] - 40s 127ms/step - loss: 0.1926 - accuracy: 0.9309 - val_loss: 0.3836 - val_accuracy: 0.8722\n",
      "Epoch 8/15\n",
      "313/313 [==============================] - 40s 127ms/step - loss: 0.1879 - accuracy: 0.9359 - val_loss: 0.3071 - val_accuracy: 0.8795\n",
      "Epoch 9/15\n",
      "313/313 [==============================] - 40s 127ms/step - loss: 0.1734 - accuracy: 0.9377 - val_loss: 0.3572 - val_accuracy: 0.8794\n",
      "Epoch 10/15\n",
      "313/313 [==============================] - 40s 127ms/step - loss: 0.1643 - accuracy: 0.9427 - val_loss: 0.5017 - val_accuracy: 0.8795\n",
      "Epoch 11/15\n",
      "313/313 [==============================] - 39s 126ms/step - loss: 0.1688 - accuracy: 0.9462 - val_loss: 0.3466 - val_accuracy: 0.8866\n",
      "Epoch 12/15\n",
      "313/313 [==============================] - 39s 126ms/step - loss: 0.1448 - accuracy: 0.9494 - val_loss: 0.3487 - val_accuracy: 0.8840\n",
      "Epoch 13/15\n",
      "313/313 [==============================] - 40s 126ms/step - loss: 15.0506 - accuracy: 0.9552 - val_loss: 0.3901 - val_accuracy: 0.8780\n",
      "Epoch 14/15\n",
      "313/313 [==============================] - 39s 126ms/step - loss: 390066.3125 - accuracy: 0.9549 - val_loss: 558661.8125 - val_accuracy: 0.8787\n",
      "Epoch 15/15\n",
      "313/313 [==============================] - 39s 126ms/step - loss: 25703076593664.0000 - accuracy: 0.9646 - val_loss: 0.3794 - val_accuracy: 0.8788\n"
     ]
    }
   ],
   "source": [
    "rnn2.compile(loss=\"binary_crossentropy\", optimizer=\"rmsprop\", metrics=[\"accuracy\"])\n",
    "hist_rnn = rnn2.fit(X_train, y_train, validation_data=(X_test, y_test), epochs=15, batch_size=128, verbose=1)"
   ]
  },
  {
   "cell_type": "code",
   "execution_count": 27,
   "id": "20e7ec0b-3736-4a75-bfb6-a09c4f41eccb",
   "metadata": {},
   "outputs": [
    {
     "data": {
      "image/png": "[encoded data removed]",
      "text/plain": [
       "<Figure size 432x288 with 1 Axes>"
      ]
     },
     "metadata": {
      "needs_background": "light"
     },
     "output_type": "display_data"
    },
    {
     "data": {
      "image/png": "[encoded data removed]",
      "text/plain": [
       "<Figure size 432x288 with 1 Axes>"
      ]
     },
     "metadata": {
      "needs_background": "light"
     },
     "output_type": "display_data"
    }
   ],
   "source": [
    "#  \"Accuracy\"\n",
    "plt.plot(hist_rnn.history['accuracy'])\n",
    "plt.plot(hist_rnn.history['val_accuracy'])\n",
    "plt.title('model accuracy')\n",
    "plt.ylabel('accuracy')\n",
    "plt.xlabel('epoch')\n",
    "plt.legend(['train', 'validation'], loc='upper left')\n",
    "plt.show()\n",
    "# \"Loss\"\n",
    "plt.plot(hist_rnn.history['loss'])\n",
    "plt.plot(hist_rnn.history['val_loss'])\n",
    "plt.title('model loss')\n",
    "plt.ylabel('loss')\n",
    "plt.xlabel('epoch')\n",
    "plt.legend(['train', 'validation'], loc='upper left')\n",
    "plt.show()"
   ]
  },
  {
   "cell_type": "code",
   "execution_count": 28,
   "id": "60fa4383-c78f-496c-bd28-6ba8eb9bae7a",
   "metadata": {},
   "outputs": [],
   "source": [
    "preds_rnn = rnn2.predict(X_test)"
   ]
  },
  {
   "cell_type": "code",
   "execution_count": 29,
   "id": "e0e82c35-8c94-4001-9690-375a7925e885",
   "metadata": {},
   "outputs": [
    {
     "data": {
      "text/plain": [
       "array([[1.],\n",
       "       [0.],\n",
       "       [0.],\n",
       "       ...,\n",
       "       [0.],\n",
       "       [1.],\n",
       "       [0.]], dtype=float32)"
      ]
     },
     "execution_count": 29,
     "metadata": {},
     "output_type": "execute_result"
    }
   ],
   "source": [
    "preds_final = preds_rnn.round()\n",
    "preds_final"
   ]
  },
  {
   "cell_type": "code",
   "execution_count": 30,
   "id": "13ddfc67-9c74-442f-9ea9-6a5e24aee4d4",
   "metadata": {},
   "outputs": [
    {
     "name": "stdout",
     "output_type": "stream",
     "text": [
      "0.8788\n",
      "[[4391  630]\n",
      " [ 582 4397]]\n",
      "              precision    recall  f1-score   support\n",
      "\n",
      "           0       0.88      0.87      0.88      5021\n",
      "           1       0.87      0.88      0.88      4979\n",
      "\n",
      "    accuracy                           0.88     10000\n",
      "   macro avg       0.88      0.88      0.88     10000\n",
      "weighted avg       0.88      0.88      0.88     10000\n",
      "\n"
     ]
    }
   ],
   "source": [
    "from sklearn.metrics import accuracy_score, confusion_matrix, classification_report\n",
    "acc_rnn = accuracy_score(y_test, preds_final)\n",
    "confusion_rnn = confusion_matrix(y_test, preds_final)\n",
    "clasrep_rnn = classification_report(y_test, preds_final)\n",
    "\n",
    "print(acc_rnn)\n",
    "print(confusion_rnn)\n",
    "print(clasrep_rnn)"
   ]
  },
  {
   "cell_type": "code",
   "execution_count": 31,
   "id": "4f260f22-f754-49b0-9f92-af2f5915849e",
   "metadata": {},
   "outputs": [
    {
     "name": "stdout",
     "output_type": "stream",
     "text": [
      "Model: \"sequential_3\"\n",
      "_________________________________________________________________\n",
      " Layer (type)                Output Shape              Param #   \n",
      "=================================================================\n",
      " embedding_3 (Embedding)     (None, 130, 32)           480000    \n",
      "                                                                 \n",
      " simple_rnn_3 (SimpleRNN)    (None, 512)               279040    \n",
      "                                                                 \n",
      " dropout_2 (Dropout)         (None, 512)               0         \n",
      "                                                                 \n",
      " dense_3 (Dense)             (None, 1)                 513       \n",
      "                                                                 \n",
      "=================================================================\n",
      "Total params: 759,553\n",
      "Trainable params: 759,553\n",
      "Non-trainable params: 0\n",
      "_________________________________________________________________\n"
     ]
    }
   ],
   "source": [
    "rnn3 = Sequential()\n",
    "rnn3.add(Embedding(max_features, 32, input_length=maxlen))\n",
    "rnn3.add(SimpleRNN(512))\n",
    "rnn3.add(Dropout(0.4))\n",
    "rnn3.add(Dense(1, activation=\"sigmoid\"))\n",
    "\n",
    "rnn3.summary()"
   ]
  },
  {
   "cell_type": "code",
   "execution_count": 32,
   "id": "cc822d6b-d394-4698-8055-f1b8f53a951b",
   "metadata": {},
   "outputs": [
    {
     "name": "stdout",
     "output_type": "stream",
     "text": [
      "Epoch 1/25\n",
      "313/313 [==============================] - 42s 133ms/step - loss: 0.8173 - accuracy: 0.4972 - val_loss: 0.6986 - val_accuracy: 0.4979\n",
      "Epoch 2/25\n",
      "313/313 [==============================] - 42s 133ms/step - loss: 0.6781 - accuracy: 0.6051 - val_loss: 0.6034 - val_accuracy: 0.7564\n",
      "Epoch 3/25\n",
      "313/313 [==============================] - 42s 134ms/step - loss: 0.5107 - accuracy: 0.7595 - val_loss: 0.5268 - val_accuracy: 0.7965\n",
      "Epoch 4/25\n",
      "313/313 [==============================] - 42s 133ms/step - loss: 0.4649 - accuracy: 0.7946 - val_loss: 0.4356 - val_accuracy: 0.8182\n",
      "Epoch 5/25\n",
      "313/313 [==============================] - 42s 134ms/step - loss: 0.4632 - accuracy: 0.7969 - val_loss: 0.4311 - val_accuracy: 0.8153\n",
      "Epoch 6/25\n",
      "313/313 [==============================] - 42s 133ms/step - loss: 0.4205 - accuracy: 0.8243 - val_loss: 0.4621 - val_accuracy: 0.8029\n",
      "Epoch 7/25\n",
      "313/313 [==============================] - 42s 133ms/step - loss: 0.3845 - accuracy: 0.8438 - val_loss: 0.6191 - val_accuracy: 0.6308\n",
      "Epoch 8/25\n",
      "313/313 [==============================] - 42s 133ms/step - loss: 0.3788 - accuracy: 0.8448 - val_loss: 0.4633 - val_accuracy: 0.8183\n",
      "Epoch 9/25\n",
      "313/313 [==============================] - 41s 132ms/step - loss: 0.4128 - accuracy: 0.8238 - val_loss: 0.5520 - val_accuracy: 0.7118\n",
      "Epoch 10/25\n",
      "313/313 [==============================] - 42s 133ms/step - loss: 0.3979 - accuracy: 0.8294 - val_loss: 0.4387 - val_accuracy: 0.8343\n",
      "Epoch 11/25\n",
      "313/313 [==============================] - 42s 134ms/step - loss: 0.3952 - accuracy: 0.8406 - val_loss: 0.3921 - val_accuracy: 0.8342\n",
      "Epoch 12/25\n",
      "313/313 [==============================] - 42s 133ms/step - loss: 0.3396 - accuracy: 0.8643 - val_loss: 0.4250 - val_accuracy: 0.8218\n",
      "Epoch 13/25\n",
      "313/313 [==============================] - 42s 134ms/step - loss: 0.3468 - accuracy: 0.8607 - val_loss: 0.4040 - val_accuracy: 0.8281\n",
      "Epoch 14/25\n",
      "313/313 [==============================] - 42s 133ms/step - loss: 0.3868 - accuracy: 0.8368 - val_loss: 0.4353 - val_accuracy: 0.8160\n",
      "Epoch 15/25\n",
      "313/313 [==============================] - 41s 132ms/step - loss: 0.3651 - accuracy: 0.8564 - val_loss: 0.4302 - val_accuracy: 0.8108\n",
      "Epoch 16/25\n",
      "313/313 [==============================] - 42s 133ms/step - loss: 0.3823 - accuracy: 0.8448 - val_loss: 0.4642 - val_accuracy: 0.7860\n",
      "Epoch 17/25\n",
      "313/313 [==============================] - 41s 132ms/step - loss: 0.3476 - accuracy: 0.8618 - val_loss: 0.4181 - val_accuracy: 0.8311\n",
      "Epoch 18/25\n",
      "313/313 [==============================] - 41s 132ms/step - loss: 0.3535 - accuracy: 0.8574 - val_loss: 0.5982 - val_accuracy: 0.7148\n",
      "Epoch 19/25\n",
      "313/313 [==============================] - 41s 132ms/step - loss: 0.4425 - accuracy: 0.7929 - val_loss: 0.5436 - val_accuracy: 0.7501\n",
      "Epoch 20/25\n",
      "313/313 [==============================] - 41s 132ms/step - loss: 0.3485 - accuracy: 0.8572 - val_loss: 0.3656 - val_accuracy: 0.8517\n",
      "Epoch 21/25\n",
      "313/313 [==============================] - 41s 133ms/step - loss: 0.3498 - accuracy: 0.8587 - val_loss: 0.4221 - val_accuracy: 0.8309\n",
      "Epoch 22/25\n",
      "313/313 [==============================] - 42s 134ms/step - loss: 0.3447 - accuracy: 0.8558 - val_loss: 0.4518 - val_accuracy: 0.8093\n",
      "Epoch 23/25\n",
      "313/313 [==============================] - 42s 133ms/step - loss: 0.4385 - accuracy: 0.8013 - val_loss: 0.5401 - val_accuracy: 0.7465\n",
      "Epoch 24/25\n",
      "313/313 [==============================] - 42s 133ms/step - loss: 0.3634 - accuracy: 0.8501 - val_loss: 0.5184 - val_accuracy: 0.7543\n",
      "Epoch 25/25\n",
      "313/313 [==============================] - 41s 132ms/step - loss: 0.4107 - accuracy: 0.8214 - val_loss: 0.4470 - val_accuracy: 0.8150\n"
     ]
    }
   ],
   "source": [
    "rnn3.compile(loss=\"binary_crossentropy\", optimizer=\"rmsprop\", metrics=[\"accuracy\"])\n",
    "hist_rnn = rnn3.fit(X_train, y_train, validation_data=(X_test, y_test), epochs=25, batch_size=128, verbose=1)"
   ]
  },
  {
   "cell_type": "code",
   "execution_count": 33,
   "id": "199291f0-93ce-4723-94f7-6b022feb630e",
   "metadata": {},
   "outputs": [
    {
     "data": {
      "image/png": "[encoded data removed]",
      "text/plain": [
       "<Figure size 432x288 with 1 Axes>"
      ]
     },
     "metadata": {
      "needs_background": "light"
     },
     "output_type": "display_data"
    },
    {
     "data": {
      "image/png": "[encoded data removed]",
      "text/plain": [
       "<Figure size 432x288 with 1 Axes>"
      ]
     },
     "metadata": {
      "needs_background": "light"
     },
     "output_type": "display_data"
    }
   ],
   "source": [
    "#  \"Accuracy\"\n",
    "plt.plot(hist_rnn.history['accuracy'])\n",
    "plt.plot(hist_rnn.history['val_accuracy'])\n",
    "plt.title('model accuracy')\n",
    "plt.ylabel('accuracy')\n",
    "plt.xlabel('epoch')\n",
    "plt.legend(['train', 'validation'], loc='upper left')\n",
    "plt.show()\n",
    "# \"Loss\"\n",
    "plt.plot(hist_rnn.history['loss'])\n",
    "plt.plot(hist_rnn.history['val_loss'])\n",
    "plt.title('model loss')\n",
    "plt.ylabel('loss')\n",
    "plt.xlabel('epoch')\n",
    "plt.legend(['train', 'validation'], loc='upper left')\n",
    "plt.show()"
   ]
  },
  {
   "cell_type": "code",
   "execution_count": 34,
   "id": "c827f6c9-f637-46af-b2d1-4f2073763dee",
   "metadata": {},
   "outputs": [],
   "source": [
    "preds_rnn = rnn3.predict(X_test)"
   ]
  },
  {
   "cell_type": "code",
   "execution_count": 35,
   "id": "613f62d4-bb7e-4d03-a3fd-10dc10bca0d8",
   "metadata": {},
   "outputs": [
    {
     "data": {
      "text/plain": [
       "array([[1.],\n",
       "       [0.],\n",
       "       [0.],\n",
       "       ...,\n",
       "       [0.],\n",
       "       [1.],\n",
       "       [0.]], dtype=float32)"
      ]
     },
     "execution_count": 35,
     "metadata": {},
     "output_type": "execute_result"
    }
   ],
   "source": [
    "preds_final = preds_rnn.round()\n",
    "preds_final"
   ]
  },
  {
   "cell_type": "code",
   "execution_count": 36,
   "id": "a11ebcd0-7a4d-46eb-95d0-8a20afb03ba6",
   "metadata": {},
   "outputs": [
    {
     "name": "stdout",
     "output_type": "stream",
     "text": [
      "0.815\n",
      "[[4478  543]\n",
      " [1307 3672]]\n",
      "              precision    recall  f1-score   support\n",
      "\n",
      "           0       0.77      0.89      0.83      5021\n",
      "           1       0.87      0.74      0.80      4979\n",
      "\n",
      "    accuracy                           0.81     10000\n",
      "   macro avg       0.82      0.81      0.81     10000\n",
      "weighted avg       0.82      0.81      0.81     10000\n",
      "\n"
     ]
    }
   ],
   "source": [
    "from sklearn.metrics import accuracy_score, confusion_matrix, classification_report\n",
    "acc_rnn = accuracy_score(y_test, preds_final)\n",
    "confusion_rnn = confusion_matrix(y_test, preds_final)\n",
    "clasrep_rnn = classification_report(y_test, preds_final)\n",
    "\n",
    "print(acc_rnn)\n",
    "print(confusion_rnn)\n",
    "print(clasrep_rnn)"
   ]
  },
  {
   "cell_type": "markdown",
   "id": "d0b0d9ae-4471-4de5-9cbe-2f3866bbcb2d",
   "metadata": {},
   "source": [
    "### LSTM"
   ]
  },
  {
   "cell_type": "code",
   "execution_count": 41,
   "id": "b04e83d8-e8ea-459e-94fe-ff7ac6d49b3d",
   "metadata": {},
   "outputs": [
    {
     "name": "stdout",
     "output_type": "stream",
     "text": [
      "Model: \"sequential_4\"\n",
      "_________________________________________________________________\n",
      " Layer (type)                Output Shape              Param #   \n",
      "=================================================================\n",
      " embedding_4 (Embedding)     (None, 130, 32)           2958016   \n",
      "                                                                 \n",
      " lstm (LSTM)                 (None, 64)                24832     \n",
      "                                                                 \n",
      " dense_4 (Dense)             (None, 1)                 65        \n",
      "                                                                 \n",
      "=================================================================\n",
      "Total params: 2,982,913\n",
      "Trainable params: 2,982,913\n",
      "Non-trainable params: 0\n",
      "_________________________________________________________________\n"
     ]
    }
   ],
   "source": [
    "model = Sequential()\n",
    "model.add(Embedding(len(tokenizer.word_index) + 1, 32, input_length = maxlen))\n",
    "model.add(LSTM(64))\n",
    "model.add(Dense(1, activation='sigmoid'))\n",
    "\n",
    "model.summary()"
   ]
  },
  {
   "cell_type": "code",
   "execution_count": 43,
   "id": "f57bbbfe-9cea-4342-b662-f2031686b130",
   "metadata": {},
   "outputs": [
    {
     "name": "stdout",
     "output_type": "stream",
     "text": [
      "Epoch 1/5\n",
      "313/313 [==============================] - 6s 10ms/step - loss: 0.3792 - accuracy: 0.8212\n",
      "Epoch 2/5\n",
      "313/313 [==============================] - 3s 10ms/step - loss: 0.1679 - accuracy: 0.9380\n",
      "Epoch 3/5\n",
      "313/313 [==============================] - 3s 10ms/step - loss: 0.0901 - accuracy: 0.9696\n",
      "Epoch 4/5\n",
      "313/313 [==============================] - 3s 10ms/step - loss: 0.0522 - accuracy: 0.9836\n",
      "Epoch 5/5\n",
      "313/313 [==============================] - 3s 10ms/step - loss: 0.0383 - accuracy: 0.9877\n"
     ]
    },
    {
     "data": {
      "text/plain": [
       "<keras.callbacks.History at 0x7f3560d340d0>"
      ]
     },
     "execution_count": 43,
     "metadata": {},
     "output_type": "execute_result"
    }
   ],
   "source": [
    "model.compile(optimizer = 'adam', loss = 'binary_crossentropy', metrics = ['accuracy'])\n",
    "model.fit(X_train, y_train, batch_size = 128, epochs = 5, verbose=1)"
   ]
  },
  {
   "cell_type": "code",
   "execution_count": 47,
   "id": "869746f5-e4d8-4e04-bac7-feb361afc6a8",
   "metadata": {},
   "outputs": [],
   "source": [
    "preds_rnn = model.predict(X_test)"
   ]
  },
  {
   "cell_type": "code",
   "execution_count": 48,
   "id": "16eaf4f6-761a-455e-b29a-f99eb258b437",
   "metadata": {},
   "outputs": [
    {
     "data": {
      "text/plain": [
       "array([[1.],\n",
       "       [0.],\n",
       "       [0.],\n",
       "       ...,\n",
       "       [0.],\n",
       "       [1.],\n",
       "       [0.]], dtype=float32)"
      ]
     },
     "execution_count": 48,
     "metadata": {},
     "output_type": "execute_result"
    }
   ],
   "source": [
    "preds_final = preds_rnn.round()\n",
    "preds_final"
   ]
  },
  {
   "cell_type": "code",
   "execution_count": 49,
   "id": "d67d5bfe-fe12-4fa1-853b-fb55ef029dcb",
   "metadata": {},
   "outputs": [
    {
     "name": "stdout",
     "output_type": "stream",
     "text": [
      "0.8668\n",
      "[[4142  879]\n",
      " [ 453 4526]]\n",
      "              precision    recall  f1-score   support\n",
      "\n",
      "           0       0.90      0.82      0.86      5021\n",
      "           1       0.84      0.91      0.87      4979\n",
      "\n",
      "    accuracy                           0.87     10000\n",
      "   macro avg       0.87      0.87      0.87     10000\n",
      "weighted avg       0.87      0.87      0.87     10000\n",
      "\n"
     ]
    }
   ],
   "source": [
    "acc_rnn = accuracy_score(y_test, preds_final)\n",
    "confusion_rnn = confusion_matrix(y_test, preds_final)\n",
    "clasrep_rnn = classification_report(y_test, preds_final)\n",
    "\n",
    "print(acc_rnn)\n",
    "print(confusion_rnn)\n",
    "print(clasrep_rnn)"
   ]
  },
  {
   "cell_type": "code",
   "execution_count": null,
   "id": "1bb8b8cb-66de-42e8-bfcd-66ec4c74f9d8",
   "metadata": {},
   "outputs": [],
   "source": []
  }
 ],
 "metadata": {
  "kernelspec": {
   "display_name": "default:Python",
   "language": "python",
   "name": "conda-env-default-py"
  },
  "language_info": {
   "codemirror_mode": {
    "name": "ipython",
    "version": 3
   },
   "file_extension": ".py",
   "mimetype": "text/x-python",
   "name": "python",
   "nbconvert_exporter": "python",
   "pygments_lexer": "ipython3",
   "version": "3.9.7"
  }
 },
 "nbformat": 4,
 "nbformat_minor": 5
}
