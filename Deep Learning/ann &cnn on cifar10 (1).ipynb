{
 "cells": [
  {
   "cell_type": "code",
   "execution_count": 1,
   "id": "b165edb7-7f09-4f2b-a120-ec50a8459bd1",
   "metadata": {},
   "outputs": [],
   "source": [
    "import tensorflow as tf\n",
    "from tensorflow.keras import datasets, layers, models\n",
    "import matplotlib.pyplot as plt\n",
    "import numpy as np"
   ]
  },
  {
   "cell_type": "code",
   "execution_count": 2,
   "id": "d4222a9d-08c6-43c8-81f8-05d9e42694f7",
   "metadata": {},
   "outputs": [],
   "source": [
    "\n",
    "import tensorflow\n",
    "from tensorflow.keras.preprocessing import image_dataset_from_directory\n",
    "from tensorflow.keras.preprocessing.image import ImageDataGenerator\n",
    "from tensorflow.keras.models import Sequential\n",
    "from keras.layers import BatchNormalization\n",
    "from tensorflow.keras.layers import Conv2D, MaxPool2D, Flatten, Dense, Dropout\n",
    "from keras.preprocessing import image\n",
    "import matplotlib.pyplot as plt\n",
    "from keras.models import Sequential\n",
    "from keras import layers\n",
    "from keras.layers import Conv2D, MaxPooling2D, Dropout, Flatten, Dense, Activation,GlobalMaxPooling2D\n",
    "from keras import applications\n",
    "from keras.preprocessing.image import ImageDataGenerator\n",
    "from keras import optimizers\n",
    "from tensorflow.keras.applications.vgg16 import VGG16\n",
    "from tensorflow.keras import optimizers\n",
    "from keras.models import Model\n",
    "from tensorflow.keras.optimizers import SGD\n",
    "from keras.datasets import cifar10\n",
    "from tensorflow.keras.utils import to_categorical\n",
    "from keras.layers import BatchNormalization"
   ]
  },
  {
   "cell_type": "code",
   "execution_count": 3,
   "id": "41e4c5c5-80f4-4419-8609-69a1ba9a46cd",
   "metadata": {},
   "outputs": [
    {
     "data": {
      "text/plain": [
       "(50000, 32, 32, 3)"
      ]
     },
     "execution_count": 3,
     "metadata": {},
     "output_type": "execute_result"
    }
   ],
   "source": [
    "## Load the dataset\n",
    "(x_train, y_train), (x_test,y_test) = datasets.cifar10.load_data()\n",
    "x_train.shape"
   ]
  },
  {
   "cell_type": "code",
   "execution_count": 4,
   "id": "e1db931a-f391-4a6d-b092-b79f9ed60e4f",
   "metadata": {},
   "outputs": [
    {
     "data": {
      "text/plain": [
       "(10000, 32, 32, 3)"
      ]
     },
     "execution_count": 4,
     "metadata": {},
     "output_type": "execute_result"
    }
   ],
   "source": [
    "x_test.shape"
   ]
  },
  {
   "cell_type": "markdown",
   "id": "a6f0a5e3-e699-4c6b-894e-8ff8f334780a",
   "metadata": {},
   "source": [
    "Here we see there are 50000 training images and 10000 test images"
   ]
  },
  {
   "cell_type": "code",
   "execution_count": 5,
   "id": "901d0c59-8829-4b29-b3eb-17a3168bdae7",
   "metadata": {},
   "outputs": [
    {
     "data": {
      "text/plain": [
       "(50000, 1)"
      ]
     },
     "execution_count": 5,
     "metadata": {},
     "output_type": "execute_result"
    }
   ],
   "source": [
    "y_train.shape"
   ]
  },
  {
   "cell_type": "code",
   "execution_count": 6,
   "id": "cdba4cd6-9fd8-43b4-878e-e5d8663d2cda",
   "metadata": {},
   "outputs": [
    {
     "data": {
      "text/plain": [
       "array([[6],\n",
       "       [9],\n",
       "       [9],\n",
       "       [4],\n",
       "       [1]], dtype=uint8)"
      ]
     },
     "execution_count": 6,
     "metadata": {},
     "output_type": "execute_result"
    }
   ],
   "source": [
    "y_train[:5]"
   ]
  },
  {
   "cell_type": "markdown",
   "id": "d86be9d8-ec01-4fe6-b19e-91a5b47b882a",
   "metadata": {},
   "source": [
    "y_train is a 2D array, for our classification having 1D array is good enough. so we will convert this to now 1D array"
   ]
  },
  {
   "cell_type": "code",
   "execution_count": 7,
   "id": "aa9f5fc1-e320-4591-9a88-131fa7f92b9b",
   "metadata": {},
   "outputs": [
    {
     "data": {
      "text/plain": [
       "array([6, 9, 9, 4, 1], dtype=uint8)"
      ]
     },
     "execution_count": 7,
     "metadata": {},
     "output_type": "execute_result"
    }
   ],
   "source": [
    "y_train = y_train.reshape(-1,)\n",
    "y_train[:5]"
   ]
  },
  {
   "cell_type": "code",
   "execution_count": 8,
   "id": "ed2ec8b0-de8b-4ab3-ab82-3ca65d2d831f",
   "metadata": {},
   "outputs": [],
   "source": [
    "y_test = y_test.reshape(-1,)"
   ]
  },
  {
   "cell_type": "code",
   "execution_count": 9,
   "id": "f7745323-9a2b-4fbf-8c58-85e7eb47fab2",
   "metadata": {},
   "outputs": [],
   "source": [
    "classes = [\"airplane\",\"automobile\",\"bird\",\"cat\",\"deer\",\"dog\",\"frog\",\"horse\",\"ship\",\"truck\"]"
   ]
  },
  {
   "cell_type": "code",
   "execution_count": 10,
   "id": "b7da04aa-984e-46de-b2da-eedd812516e5",
   "metadata": {},
   "outputs": [],
   "source": [
    "##Let's plot some images to see what they are\n",
    "\n",
    "def plot_sample(x, y, index):\n",
    "    plt.figure(figsize = (15,2))\n",
    "    plt.imshow(x[index])\n",
    "    plt.xlabel(classes[y[index]])"
   ]
  },
  {
   "cell_type": "code",
   "execution_count": null,
   "id": "8ccaa164-348f-4f79-b079-50f058705542",
   "metadata": {},
   "outputs": [],
   "source": []
  },
  {
   "cell_type": "code",
   "execution_count": 11,
   "id": "c1622ca9-bf70-4786-ac0e-ffd36a309849",
   "metadata": {},
   "outputs": [
    {
     "data": {
      "image/png": "[encoded data removed]",
      "text/plain": [
       "<Figure size 1080x144 with 1 Axes>"
      ]
     },
     "metadata": {
      "needs_background": "light"
     },
     "output_type": "display_data"
    }
   ],
   "source": [
    "plot_sample(x_train, y_train, 0)\n"
   ]
  },
  {
   "cell_type": "code",
   "execution_count": 12,
   "id": "f0157e07-086c-4868-94ef-e938b7001096",
   "metadata": {},
   "outputs": [
    {
     "data": {
      "image/png": "[encoded data removed]",
      "text/plain": [
       "<Figure size 1080x144 with 1 Axes>"
      ]
     },
     "metadata": {
      "needs_background": "light"
     },
     "output_type": "display_data"
    }
   ],
   "source": [
    "plot_sample(x_train, y_train, 0)\n"
   ]
  },
  {
   "cell_type": "markdown",
   "id": "8250964e-8d56-4f00-93e4-4148fd150825",
   "metadata": {},
   "source": [
    "Normalize the images to a number from 0 to 1. Image has 3 channels (R,G,B) and each value in the channel can range from 0 to 255. Hence to normalize in 0-->1 range, we need to divide it by 255\n",
    "\n",
    "### Normalizing the training data"
   ]
  },
  {
   "cell_type": "code",
   "execution_count": 13,
   "id": "2415dd1e-4bd9-4794-a61c-72f35cc4db92",
   "metadata": {},
   "outputs": [],
   "source": [
    "x_train = x_train / 255.0\n",
    "x_test = x_test / 255.0"
   ]
  },
  {
   "cell_type": "markdown",
   "id": "dc039066-e06b-4553-bf4f-0c03669ba7d2",
   "metadata": {},
   "source": [
    "### Build simple artificial neural network for image classification"
   ]
  },
  {
   "cell_type": "code",
   "execution_count": 14,
   "id": "a51b7610-0553-4b79-ba0d-9dc4b344ac52",
   "metadata": {},
   "outputs": [
    {
     "name": "stderr",
     "output_type": "stream",
     "text": [
      "2022-02-26 10:57:07.375349: W tensorflow/core/framework/cpu_allocator_impl.cc:82] Allocation of 614400000 exceeds 10% of free system memory.\n",
      "2022-02-26 10:57:08.009777: W tensorflow/core/framework/cpu_allocator_impl.cc:82] Allocation of 614400000 exceeds 10% of free system memory.\n"
     ]
    },
    {
     "name": "stdout",
     "output_type": "stream",
     "text": [
      "Epoch 1/5\n",
      "1563/1563 [==============================] - 6s 3ms/step - loss: 1.8126 - accuracy: 0.3534 - val_loss: 1.7124 - val_accuracy: 0.3849\n",
      "Epoch 2/5\n",
      "1563/1563 [==============================] - 5s 3ms/step - loss: 1.6224 - accuracy: 0.4297 - val_loss: 1.5931 - val_accuracy: 0.4298\n",
      "Epoch 3/5\n",
      "1563/1563 [==============================] - 5s 3ms/step - loss: 1.5403 - accuracy: 0.4591 - val_loss: 1.5538 - val_accuracy: 0.4497\n",
      "Epoch 4/5\n",
      "1563/1563 [==============================] - 5s 3ms/step - loss: 1.4813 - accuracy: 0.4768 - val_loss: 1.5067 - val_accuracy: 0.4649\n",
      "Epoch 5/5\n",
      "1563/1563 [==============================] - 5s 3ms/step - loss: 1.4319 - accuracy: 0.4971 - val_loss: 1.5075 - val_accuracy: 0.4555\n"
     ]
    }
   ],
   "source": [
    "\n",
    "ann = models.Sequential([\n",
    "        layers.Flatten(input_shape=(32,32,3)),\n",
    "        layers.Dense(3000, activation='relu'),\n",
    "        layers.Dense(1000, activation='relu'),\n",
    "        layers.Dense(10, activation='softmax')    \n",
    "    ])\n",
    "\n",
    "ann.compile(optimizer='SGD',\n",
    "              loss='sparse_categorical_crossentropy',\n",
    "              metrics=['accuracy'])\n",
    "\n",
    "ANN = ann.fit(x_train, y_train,validation_data=(x_test, y_test) , epochs=5)"
   ]
  },
  {
   "cell_type": "markdown",
   "id": "054d23c1-ff02-4a34-bfaa-57bc82f6dd74",
   "metadata": {},
   "source": [
    "You can see that at the end of 5 epochs, accuracy is at around 49%"
   ]
  },
  {
   "cell_type": "code",
   "execution_count": 15,
   "id": "880edfef-e892-4ead-a64f-85ff634c4ee6",
   "metadata": {},
   "outputs": [
    {
     "name": "stdout",
     "output_type": "stream",
     "text": [
      "Classification Report: \n",
      "               precision    recall  f1-score   support\n",
      "\n",
      "           0       0.63      0.39      0.48      1000\n",
      "           1       0.65      0.55      0.60      1000\n",
      "           2       0.23      0.70      0.35      1000\n",
      "           3       0.44      0.17      0.25      1000\n",
      "           4       0.53      0.22      0.31      1000\n",
      "           5       0.43      0.34      0.38      1000\n",
      "           6       0.46      0.59      0.52      1000\n",
      "           7       0.71      0.35      0.47      1000\n",
      "           8       0.64      0.60      0.62      1000\n",
      "           9       0.53      0.63      0.57      1000\n",
      "\n",
      "    accuracy                           0.46     10000\n",
      "   macro avg       0.53      0.46      0.46     10000\n",
      "weighted avg       0.53      0.46      0.46     10000\n",
      "\n"
     ]
    }
   ],
   "source": [
    "\n",
    "\n",
    "from sklearn.metrics import confusion_matrix , classification_report\n",
    "import numpy as np\n",
    "y_pred = ann.predict(x_test)\n",
    "y_pred_classes = [np.argmax(element) for element in y_pred]\n",
    "\n",
    "print(\"Classification Report: \\n\", classification_report(y_test, y_pred_classes))"
   ]
  },
  {
   "cell_type": "code",
   "execution_count": 16,
   "id": "0ee2a237-3843-4ae8-9b4e-7359f350f0c8",
   "metadata": {},
   "outputs": [
    {
     "data": {
      "image/png": "[encoded data removed]",
      "text/plain": [
       "<Figure size 432x288 with 1 Axes>"
      ]
     },
     "metadata": {
      "needs_background": "light"
     },
     "output_type": "display_data"
    },
    {
     "data": {
      "image/png": "[encoded data removed]",
      "text/plain": [
       "<Figure size 432x288 with 1 Axes>"
      ]
     },
     "metadata": {
      "needs_background": "light"
     },
     "output_type": "display_data"
    }
   ],
   "source": [
    "#  \"Accuracy\"\n",
    "plt.plot(ANN.history['accuracy'])\n",
    "plt.plot(ANN.history['val_accuracy'])\n",
    "plt.title('model accuracy')\n",
    "plt.ylabel('accuracy')\n",
    "plt.xlabel('epoch')\n",
    "plt.legend(['train', 'validation'], loc='upper left')\n",
    "plt.show()\n",
    "# \"Loss\"\n",
    "plt.plot(ANN.history['loss'])\n",
    "plt.plot(ANN.history['val_loss'])\n",
    "plt.title('model loss')\n",
    "plt.ylabel('loss')\n",
    "plt.xlabel('epoch')\n",
    "plt.legend(['train', 'validation'], loc='upper left')\n",
    "plt.show()"
   ]
  },
  {
   "cell_type": "markdown",
   "id": "7e5d9352-514a-4b89-a215-3eb83735c423",
   "metadata": {},
   "source": [
    "### Now let us build a convolutional neural network to train our images"
   ]
  },
  {
   "cell_type": "code",
   "execution_count": 17,
   "id": "9e2d8f30-3c18-42c7-b2f3-19b03176a64d",
   "metadata": {},
   "outputs": [
    {
     "name": "stdout",
     "output_type": "stream",
     "text": [
      "Model: \"sequential_1\"\n",
      "_________________________________________________________________\n",
      " Layer (type)                Output Shape              Param #   \n",
      "=================================================================\n",
      " conv2d (Conv2D)             (None, 32, 32, 32)        896       \n",
      "                                                                 \n",
      " conv2d_1 (Conv2D)           (None, 32, 32, 32)        9248      \n",
      "                                                                 \n",
      " max_pooling2d (MaxPooling2D  (None, 16, 16, 32)       0         \n",
      " )                                                               \n",
      "                                                                 \n",
      " dropout (Dropout)           (None, 16, 16, 32)        0         \n",
      "                                                                 \n",
      " conv2d_2 (Conv2D)           (None, 16, 16, 64)        18496     \n",
      "                                                                 \n",
      " conv2d_3 (Conv2D)           (None, 16, 16, 64)        36928     \n",
      "                                                                 \n",
      " max_pooling2d_1 (MaxPooling  (None, 8, 8, 64)         0         \n",
      " 2D)                                                             \n",
      "                                                                 \n",
      " dropout_1 (Dropout)         (None, 8, 8, 64)          0         \n",
      "                                                                 \n",
      " conv2d_4 (Conv2D)           (None, 8, 8, 128)         73856     \n",
      "                                                                 \n",
      " conv2d_5 (Conv2D)           (None, 8, 8, 128)         147584    \n",
      "                                                                 \n",
      " max_pooling2d_2 (MaxPooling  (None, 4, 4, 128)        0         \n",
      " 2D)                                                             \n",
      "                                                                 \n",
      " dropout_2 (Dropout)         (None, 4, 4, 128)         0         \n",
      "                                                                 \n",
      " flatten_1 (Flatten)         (None, 2048)              0         \n",
      "                                                                 \n",
      " dense_3 (Dense)             (None, 128)               262272    \n",
      "                                                                 \n",
      " dropout_3 (Dropout)         (None, 128)               0         \n",
      "                                                                 \n",
      " dense_4 (Dense)             (None, 10)                1290      \n",
      "                                                                 \n",
      "=================================================================\n",
      "Total params: 550,570\n",
      "Trainable params: 550,570\n",
      "Non-trainable params: 0\n",
      "_________________________________________________________________\n"
     ]
    }
   ],
   "source": [
    "model = Sequential()\n",
    "model.add(Conv2D(32, (3, 3), activation='relu', kernel_initializer='he_uniform', padding='same', input_shape=(32, 32, 3)))\n",
    "model.add(Conv2D(32, (3, 3), activation='relu', kernel_initializer='he_uniform', padding='same'))\n",
    "model.add(MaxPooling2D((2, 2)))\n",
    "model.add(Dropout(0.2))\n",
    "model.add(Conv2D(64, (3, 3), activation='relu', kernel_initializer='he_uniform', padding='same'))\n",
    "model.add(Conv2D(64, (3, 3), activation='relu', kernel_initializer='he_uniform', padding='same'))\n",
    "model.add(MaxPooling2D((2, 2)))\n",
    "model.add(Dropout(0.3))\n",
    "model.add(Conv2D(128, (3, 3), activation='relu', kernel_initializer='he_uniform', padding='same'))\n",
    "model.add(Conv2D(128, (3, 3), activation='relu', kernel_initializer='he_uniform', padding='same'))\n",
    "model.add(MaxPooling2D((2, 2)))\n",
    "model.add(Dropout(0.4))\n",
    "model.add(Flatten())\n",
    "model.add(Dense(128, activation='relu', kernel_initializer='he_uniform'))\n",
    "model.add(Dropout(0.5))\n",
    "model.add(Dense(10, activation='softmax'))\n",
    "model.summary()"
   ]
  },
  {
   "cell_type": "markdown",
   "id": "09c67fc9-c753-4dd2-a49d-b9680d995d12",
   "metadata": {},
   "source": [
    "compile the model"
   ]
  },
  {
   "cell_type": "code",
   "execution_count": 18,
   "id": "bdcf5ac5-b67f-447e-8ee4-7709e4877505",
   "metadata": {},
   "outputs": [],
   "source": [
    "model.compile(optimizer='adam',\n",
    "              loss='sparse_categorical_crossentropy',\n",
    "              metrics=['accuracy'])"
   ]
  },
  {
   "cell_type": "code",
   "execution_count": 19,
   "id": "a3c8a39d-5ac2-4acf-900d-1a7b4dec346f",
   "metadata": {},
   "outputs": [
    {
     "name": "stderr",
     "output_type": "stream",
     "text": [
      "2022-02-26 10:57:36.871013: W tensorflow/core/framework/cpu_allocator_impl.cc:82] Allocation of 614400000 exceeds 10% of free system memory.\n",
      "2022-02-26 10:57:37.478821: W tensorflow/core/framework/cpu_allocator_impl.cc:82] Allocation of 614400000 exceeds 10% of free system memory.\n"
     ]
    },
    {
     "name": "stdout",
     "output_type": "stream",
     "text": [
      "Epoch 1/100\n",
      "1563/1563 - 11s - loss: 1.7418 - accuracy: 0.3527 - val_loss: 1.3931 - val_accuracy: 0.4911 - 11s/epoch - 7ms/step\n",
      "Epoch 2/100\n",
      "1563/1563 - 8s - loss: 1.3079 - accuracy: 0.5284 - val_loss: 1.1143 - val_accuracy: 0.6043 - 8s/epoch - 5ms/step\n",
      "Epoch 3/100\n",
      "1563/1563 - 8s - loss: 1.1332 - accuracy: 0.5986 - val_loss: 0.9723 - val_accuracy: 0.6569 - 8s/epoch - 5ms/step\n",
      "Epoch 4/100\n",
      "1563/1563 - 8s - loss: 1.0367 - accuracy: 0.6358 - val_loss: 0.8456 - val_accuracy: 0.6992 - 8s/epoch - 5ms/step\n",
      "Epoch 5/100\n",
      "1563/1563 - 8s - loss: 0.9660 - accuracy: 0.6649 - val_loss: 0.8195 - val_accuracy: 0.7132 - 8s/epoch - 5ms/step\n",
      "Epoch 6/100\n",
      "1563/1563 - 8s - loss: 0.9235 - accuracy: 0.6789 - val_loss: 0.8179 - val_accuracy: 0.7154 - 8s/epoch - 5ms/step\n",
      "Epoch 7/100\n",
      "1563/1563 - 8s - loss: 0.8788 - accuracy: 0.6941 - val_loss: 0.7568 - val_accuracy: 0.7364 - 8s/epoch - 5ms/step\n",
      "Epoch 8/100\n",
      "1563/1563 - 8s - loss: 0.8458 - accuracy: 0.7069 - val_loss: 0.7577 - val_accuracy: 0.7350 - 8s/epoch - 5ms/step\n",
      "Epoch 9/100\n",
      "1563/1563 - 8s - loss: 0.8166 - accuracy: 0.7199 - val_loss: 0.7302 - val_accuracy: 0.7462 - 8s/epoch - 5ms/step\n",
      "Epoch 10/100\n",
      "1563/1563 - 8s - loss: 0.8030 - accuracy: 0.7237 - val_loss: 0.6915 - val_accuracy: 0.7652 - 8s/epoch - 5ms/step\n",
      "Epoch 11/100\n",
      "1563/1563 - 9s - loss: 0.7839 - accuracy: 0.7293 - val_loss: 0.7098 - val_accuracy: 0.7554 - 9s/epoch - 6ms/step\n",
      "Epoch 12/100\n",
      "1563/1563 - 8s - loss: 0.7716 - accuracy: 0.7327 - val_loss: 0.6953 - val_accuracy: 0.7635 - 8s/epoch - 5ms/step\n",
      "Epoch 13/100\n",
      "1563/1563 - 8s - loss: 0.7617 - accuracy: 0.7387 - val_loss: 0.7041 - val_accuracy: 0.7611 - 8s/epoch - 5ms/step\n",
      "Epoch 14/100\n",
      "1563/1563 - 8s - loss: 0.7413 - accuracy: 0.7458 - val_loss: 0.6814 - val_accuracy: 0.7654 - 8s/epoch - 5ms/step\n",
      "Epoch 15/100\n",
      "1563/1563 - 8s - loss: 0.7298 - accuracy: 0.7503 - val_loss: 0.6982 - val_accuracy: 0.7624 - 8s/epoch - 5ms/step\n",
      "Epoch 16/100\n",
      "1563/1563 - 8s - loss: 0.7189 - accuracy: 0.7534 - val_loss: 0.6547 - val_accuracy: 0.7786 - 8s/epoch - 5ms/step\n",
      "Epoch 17/100\n",
      "1563/1563 - 8s - loss: 0.7106 - accuracy: 0.7549 - val_loss: 0.6466 - val_accuracy: 0.7783 - 8s/epoch - 5ms/step\n",
      "Epoch 18/100\n",
      "1563/1563 - 8s - loss: 0.7092 - accuracy: 0.7573 - val_loss: 0.7308 - val_accuracy: 0.7620 - 8s/epoch - 5ms/step\n",
      "Epoch 19/100\n",
      "1563/1563 - 8s - loss: 0.6985 - accuracy: 0.7623 - val_loss: 0.6451 - val_accuracy: 0.7891 - 8s/epoch - 5ms/step\n",
      "Epoch 20/100\n",
      "1563/1563 - 8s - loss: 0.6891 - accuracy: 0.7668 - val_loss: 0.6359 - val_accuracy: 0.7872 - 8s/epoch - 5ms/step\n",
      "Epoch 21/100\n",
      "1563/1563 - 8s - loss: 0.6960 - accuracy: 0.7639 - val_loss: 0.6523 - val_accuracy: 0.7794 - 8s/epoch - 5ms/step\n",
      "Epoch 22/100\n",
      "1563/1563 - 8s - loss: 0.6753 - accuracy: 0.7700 - val_loss: 0.6512 - val_accuracy: 0.7801 - 8s/epoch - 5ms/step\n",
      "Epoch 23/100\n",
      "1563/1563 - 8s - loss: 0.6746 - accuracy: 0.7701 - val_loss: 0.6421 - val_accuracy: 0.7853 - 8s/epoch - 5ms/step\n",
      "Epoch 24/100\n",
      "1563/1563 - 8s - loss: 0.6753 - accuracy: 0.7710 - val_loss: 0.6447 - val_accuracy: 0.7831 - 8s/epoch - 5ms/step\n",
      "Epoch 25/100\n",
      "1563/1563 - 8s - loss: 0.6727 - accuracy: 0.7715 - val_loss: 0.6528 - val_accuracy: 0.7778 - 8s/epoch - 5ms/step\n",
      "Epoch 26/100\n",
      "1563/1563 - 8s - loss: 0.6685 - accuracy: 0.7717 - val_loss: 0.6370 - val_accuracy: 0.7867 - 8s/epoch - 5ms/step\n",
      "Epoch 27/100\n",
      "1563/1563 - 8s - loss: 0.6586 - accuracy: 0.7751 - val_loss: 0.6055 - val_accuracy: 0.7989 - 8s/epoch - 5ms/step\n",
      "Epoch 28/100\n",
      "1563/1563 - 8s - loss: 0.6583 - accuracy: 0.7772 - val_loss: 0.6635 - val_accuracy: 0.7825 - 8s/epoch - 5ms/step\n",
      "Epoch 29/100\n",
      "1563/1563 - 8s - loss: 0.6551 - accuracy: 0.7764 - val_loss: 0.6306 - val_accuracy: 0.7961 - 8s/epoch - 5ms/step\n",
      "Epoch 30/100\n",
      "1563/1563 - 8s - loss: 0.6537 - accuracy: 0.7783 - val_loss: 0.6180 - val_accuracy: 0.8004 - 8s/epoch - 5ms/step\n",
      "Epoch 31/100\n",
      "1563/1563 - 8s - loss: 0.6493 - accuracy: 0.7782 - val_loss: 0.6464 - val_accuracy: 0.7858 - 8s/epoch - 5ms/step\n",
      "Epoch 32/100\n",
      "1563/1563 - 8s - loss: 0.6521 - accuracy: 0.7796 - val_loss: 0.6371 - val_accuracy: 0.7877 - 8s/epoch - 5ms/step\n",
      "Epoch 33/100\n",
      "1563/1563 - 8s - loss: 0.6376 - accuracy: 0.7820 - val_loss: 0.6165 - val_accuracy: 0.7967 - 8s/epoch - 5ms/step\n",
      "Epoch 34/100\n",
      "1563/1563 - 8s - loss: 0.6351 - accuracy: 0.7819 - val_loss: 0.6394 - val_accuracy: 0.7910 - 8s/epoch - 5ms/step\n",
      "Epoch 35/100\n",
      "1563/1563 - 8s - loss: 0.6485 - accuracy: 0.7786 - val_loss: 0.6424 - val_accuracy: 0.7960 - 8s/epoch - 5ms/step\n",
      "Epoch 36/100\n",
      "1563/1563 - 8s - loss: 0.6445 - accuracy: 0.7815 - val_loss: 0.6262 - val_accuracy: 0.7940 - 8s/epoch - 5ms/step\n",
      "Epoch 37/100\n",
      "1563/1563 - 8s - loss: 0.6436 - accuracy: 0.7823 - val_loss: 0.6257 - val_accuracy: 0.7960 - 8s/epoch - 5ms/step\n",
      "Epoch 38/100\n",
      "1563/1563 - 8s - loss: 0.6303 - accuracy: 0.7850 - val_loss: 0.6384 - val_accuracy: 0.7926 - 8s/epoch - 5ms/step\n",
      "Epoch 39/100\n",
      "1563/1563 - 8s - loss: 0.6349 - accuracy: 0.7859 - val_loss: 0.6169 - val_accuracy: 0.7968 - 8s/epoch - 5ms/step\n",
      "Epoch 40/100\n",
      "1563/1563 - 8s - loss: 0.6437 - accuracy: 0.7811 - val_loss: 0.6532 - val_accuracy: 0.7882 - 8s/epoch - 5ms/step\n",
      "Epoch 41/100\n",
      "1563/1563 - 8s - loss: 0.6388 - accuracy: 0.7865 - val_loss: 0.6585 - val_accuracy: 0.7860 - 8s/epoch - 5ms/step\n",
      "Epoch 42/100\n",
      "1563/1563 - 8s - loss: 0.6402 - accuracy: 0.7864 - val_loss: 0.6332 - val_accuracy: 0.7915 - 8s/epoch - 5ms/step\n",
      "Epoch 43/100\n",
      "1563/1563 - 8s - loss: 0.6403 - accuracy: 0.7834 - val_loss: 0.6664 - val_accuracy: 0.7907 - 8s/epoch - 5ms/step\n",
      "Epoch 44/100\n",
      "1563/1563 - 8s - loss: 0.6203 - accuracy: 0.7902 - val_loss: 0.6189 - val_accuracy: 0.8007 - 8s/epoch - 5ms/step\n",
      "Epoch 45/100\n",
      "1563/1563 - 8s - loss: 0.6289 - accuracy: 0.7875 - val_loss: 0.6290 - val_accuracy: 0.7961 - 8s/epoch - 5ms/step\n",
      "Epoch 46/100\n",
      "1563/1563 - 8s - loss: 0.6238 - accuracy: 0.7887 - val_loss: 0.6615 - val_accuracy: 0.7911 - 8s/epoch - 5ms/step\n",
      "Epoch 47/100\n",
      "1563/1563 - 8s - loss: 0.6368 - accuracy: 0.7835 - val_loss: 0.6145 - val_accuracy: 0.8037 - 8s/epoch - 5ms/step\n",
      "Epoch 48/100\n",
      "1563/1563 - 8s - loss: 0.6304 - accuracy: 0.7886 - val_loss: 0.6143 - val_accuracy: 0.8024 - 8s/epoch - 5ms/step\n",
      "Epoch 49/100\n",
      "1563/1563 - 8s - loss: 0.6235 - accuracy: 0.7904 - val_loss: 0.6309 - val_accuracy: 0.7941 - 8s/epoch - 5ms/step\n",
      "Epoch 50/100\n",
      "1563/1563 - 8s - loss: 0.6114 - accuracy: 0.7935 - val_loss: 0.6551 - val_accuracy: 0.7894 - 8s/epoch - 5ms/step\n",
      "Epoch 51/100\n",
      "1563/1563 - 8s - loss: 0.6303 - accuracy: 0.7887 - val_loss: 0.6253 - val_accuracy: 0.8048 - 8s/epoch - 5ms/step\n",
      "Epoch 52/100\n",
      "1563/1563 - 8s - loss: 0.6290 - accuracy: 0.7885 - val_loss: 0.6650 - val_accuracy: 0.7837 - 8s/epoch - 5ms/step\n",
      "Epoch 53/100\n",
      "1563/1563 - 8s - loss: 0.6255 - accuracy: 0.7892 - val_loss: 0.6153 - val_accuracy: 0.8020 - 8s/epoch - 5ms/step\n",
      "Epoch 54/100\n",
      "1563/1563 - 8s - loss: 0.6219 - accuracy: 0.7892 - val_loss: 0.6644 - val_accuracy: 0.7909 - 8s/epoch - 5ms/step\n",
      "Epoch 55/100\n",
      "1563/1563 - 8s - loss: 0.6290 - accuracy: 0.7902 - val_loss: 0.6428 - val_accuracy: 0.7888 - 8s/epoch - 5ms/step\n",
      "Epoch 56/100\n",
      "1563/1563 - 8s - loss: 0.6273 - accuracy: 0.7909 - val_loss: 0.6411 - val_accuracy: 0.7903 - 8s/epoch - 5ms/step\n",
      "Epoch 57/100\n",
      "1563/1563 - 8s - loss: 0.6230 - accuracy: 0.7904 - val_loss: 0.6529 - val_accuracy: 0.7873 - 8s/epoch - 5ms/step\n",
      "Epoch 58/100\n",
      "1563/1563 - 8s - loss: 0.6175 - accuracy: 0.7906 - val_loss: 0.6733 - val_accuracy: 0.7920 - 8s/epoch - 5ms/step\n",
      "Epoch 59/100\n",
      "1563/1563 - 8s - loss: 0.6287 - accuracy: 0.7893 - val_loss: 0.6289 - val_accuracy: 0.7982 - 8s/epoch - 5ms/step\n",
      "Epoch 60/100\n",
      "1563/1563 - 8s - loss: 0.6270 - accuracy: 0.7900 - val_loss: 0.6434 - val_accuracy: 0.7908 - 8s/epoch - 5ms/step\n",
      "Epoch 61/100\n",
      "1563/1563 - 8s - loss: 0.6281 - accuracy: 0.7911 - val_loss: 0.6384 - val_accuracy: 0.7988 - 8s/epoch - 5ms/step\n",
      "Epoch 62/100\n",
      "1563/1563 - 8s - loss: 0.6179 - accuracy: 0.7949 - val_loss: 0.6127 - val_accuracy: 0.8072 - 8s/epoch - 5ms/step\n",
      "Epoch 63/100\n",
      "1563/1563 - 8s - loss: 0.6214 - accuracy: 0.7931 - val_loss: 0.6802 - val_accuracy: 0.7899 - 8s/epoch - 5ms/step\n",
      "Epoch 64/100\n",
      "1563/1563 - 8s - loss: 0.6268 - accuracy: 0.7901 - val_loss: 0.6484 - val_accuracy: 0.7994 - 8s/epoch - 5ms/step\n",
      "Epoch 65/100\n",
      "1563/1563 - 8s - loss: 0.6237 - accuracy: 0.7894 - val_loss: 0.6394 - val_accuracy: 0.7993 - 8s/epoch - 5ms/step\n",
      "Epoch 66/100\n",
      "1563/1563 - 8s - loss: 0.6283 - accuracy: 0.7901 - val_loss: 0.6407 - val_accuracy: 0.7956 - 8s/epoch - 5ms/step\n",
      "Epoch 67/100\n",
      "1563/1563 - 8s - loss: 0.6277 - accuracy: 0.7898 - val_loss: 0.6202 - val_accuracy: 0.8006 - 8s/epoch - 5ms/step\n",
      "Epoch 68/100\n",
      "1563/1563 - 8s - loss: 0.6251 - accuracy: 0.7913 - val_loss: 0.6477 - val_accuracy: 0.7920 - 8s/epoch - 5ms/step\n",
      "Epoch 69/100\n",
      "1563/1563 - 8s - loss: 0.6275 - accuracy: 0.7926 - val_loss: 0.6266 - val_accuracy: 0.8040 - 8s/epoch - 5ms/step\n",
      "Epoch 70/100\n",
      "1563/1563 - 8s - loss: 0.6227 - accuracy: 0.7931 - val_loss: 0.6820 - val_accuracy: 0.7872 - 8s/epoch - 5ms/step\n",
      "Epoch 71/100\n",
      "1563/1563 - 8s - loss: 0.6196 - accuracy: 0.7948 - val_loss: 0.6458 - val_accuracy: 0.7916 - 8s/epoch - 5ms/step\n",
      "Epoch 72/100\n",
      "1563/1563 - 8s - loss: 0.6208 - accuracy: 0.7922 - val_loss: 0.6412 - val_accuracy: 0.7968 - 8s/epoch - 5ms/step\n",
      "Epoch 73/100\n",
      "1563/1563 - 8s - loss: 0.6277 - accuracy: 0.7905 - val_loss: 0.6326 - val_accuracy: 0.8024 - 8s/epoch - 5ms/step\n",
      "Epoch 74/100\n",
      "1563/1563 - 8s - loss: 0.6123 - accuracy: 0.7965 - val_loss: 0.6249 - val_accuracy: 0.8043 - 8s/epoch - 5ms/step\n",
      "Epoch 75/100\n",
      "1563/1563 - 8s - loss: 0.6150 - accuracy: 0.7938 - val_loss: 0.6955 - val_accuracy: 0.7835 - 8s/epoch - 5ms/step\n",
      "Epoch 76/100\n",
      "1563/1563 - 8s - loss: 0.6215 - accuracy: 0.7934 - val_loss: 0.6614 - val_accuracy: 0.7974 - 8s/epoch - 5ms/step\n",
      "Epoch 77/100\n",
      "1563/1563 - 8s - loss: 0.6322 - accuracy: 0.7907 - val_loss: 0.6542 - val_accuracy: 0.7977 - 8s/epoch - 5ms/step\n",
      "Epoch 78/100\n",
      "1563/1563 - 8s - loss: 0.6211 - accuracy: 0.7922 - val_loss: 0.6588 - val_accuracy: 0.7943 - 8s/epoch - 5ms/step\n",
      "Epoch 79/100\n",
      "1563/1563 - 8s - loss: 0.6241 - accuracy: 0.7919 - val_loss: 0.7248 - val_accuracy: 0.7765 - 8s/epoch - 5ms/step\n",
      "Epoch 80/100\n",
      "1563/1563 - 8s - loss: 0.6189 - accuracy: 0.7934 - val_loss: 0.6796 - val_accuracy: 0.7838 - 8s/epoch - 5ms/step\n",
      "Epoch 81/100\n",
      "1563/1563 - 8s - loss: 0.6257 - accuracy: 0.7912 - val_loss: 0.6584 - val_accuracy: 0.7866 - 8s/epoch - 5ms/step\n",
      "Epoch 82/100\n",
      "1563/1563 - 8s - loss: 0.6241 - accuracy: 0.7920 - val_loss: 0.6804 - val_accuracy: 0.7895 - 8s/epoch - 5ms/step\n",
      "Epoch 83/100\n",
      "1563/1563 - 8s - loss: 0.6304 - accuracy: 0.7894 - val_loss: 0.6966 - val_accuracy: 0.7858 - 8s/epoch - 5ms/step\n",
      "Epoch 84/100\n",
      "1563/1563 - 8s - loss: 0.6237 - accuracy: 0.7950 - val_loss: 0.6299 - val_accuracy: 0.8019 - 8s/epoch - 5ms/step\n",
      "Epoch 85/100\n",
      "1563/1563 - 8s - loss: 0.6263 - accuracy: 0.7904 - val_loss: 0.6492 - val_accuracy: 0.7987 - 8s/epoch - 5ms/step\n",
      "Epoch 86/100\n",
      "1563/1563 - 8s - loss: 0.6190 - accuracy: 0.7948 - val_loss: 0.6554 - val_accuracy: 0.7967 - 8s/epoch - 5ms/step\n",
      "Epoch 87/100\n",
      "1563/1563 - 8s - loss: 0.6233 - accuracy: 0.7923 - val_loss: 0.6513 - val_accuracy: 0.7920 - 8s/epoch - 5ms/step\n",
      "Epoch 88/100\n",
      "1563/1563 - 8s - loss: 0.6195 - accuracy: 0.7936 - val_loss: 0.6251 - val_accuracy: 0.8059 - 8s/epoch - 5ms/step\n",
      "Epoch 89/100\n",
      "1563/1563 - 8s - loss: 0.6282 - accuracy: 0.7913 - val_loss: 0.6343 - val_accuracy: 0.8018 - 8s/epoch - 5ms/step\n",
      "Epoch 90/100\n",
      "1563/1563 - 8s - loss: 0.6204 - accuracy: 0.7939 - val_loss: 0.6310 - val_accuracy: 0.7995 - 8s/epoch - 5ms/step\n",
      "Epoch 91/100\n",
      "1563/1563 - 8s - loss: 0.6212 - accuracy: 0.7942 - val_loss: 0.6438 - val_accuracy: 0.7983 - 8s/epoch - 5ms/step\n",
      "Epoch 92/100\n",
      "1563/1563 - 8s - loss: 0.6275 - accuracy: 0.7914 - val_loss: 0.6290 - val_accuracy: 0.8005 - 8s/epoch - 5ms/step\n",
      "Epoch 93/100\n",
      "1563/1563 - 8s - loss: 0.6270 - accuracy: 0.7924 - val_loss: 0.6495 - val_accuracy: 0.7929 - 8s/epoch - 5ms/step\n",
      "Epoch 94/100\n",
      "1563/1563 - 8s - loss: 0.6257 - accuracy: 0.7918 - val_loss: 0.6366 - val_accuracy: 0.8012 - 8s/epoch - 5ms/step\n",
      "Epoch 95/100\n",
      "1563/1563 - 8s - loss: 0.6235 - accuracy: 0.7935 - val_loss: 0.6428 - val_accuracy: 0.7953 - 8s/epoch - 5ms/step\n",
      "Epoch 96/100\n",
      "1563/1563 - 8s - loss: 0.6273 - accuracy: 0.7941 - val_loss: 0.6412 - val_accuracy: 0.7965 - 8s/epoch - 5ms/step\n",
      "Epoch 97/100\n",
      "1563/1563 - 8s - loss: 0.6191 - accuracy: 0.7963 - val_loss: 0.6455 - val_accuracy: 0.8004 - 8s/epoch - 5ms/step\n",
      "Epoch 98/100\n",
      "1563/1563 - 8s - loss: 0.6327 - accuracy: 0.7880 - val_loss: 0.6328 - val_accuracy: 0.7967 - 8s/epoch - 5ms/step\n",
      "Epoch 99/100\n",
      "1563/1563 - 8s - loss: 0.6263 - accuracy: 0.7917 - val_loss: 0.6457 - val_accuracy: 0.7922 - 8s/epoch - 5ms/step\n",
      "Epoch 100/100\n",
      "1563/1563 - 8s - loss: 0.6237 - accuracy: 0.7943 - val_loss: 0.6346 - val_accuracy: 0.8019 - 8s/epoch - 5ms/step\n"
     ]
    }
   ],
   "source": [
    "CNN = model.fit(x_train, y_train, validation_data=(x_test, y_test),epochs=100, verbose=2)"
   ]
  },
  {
   "cell_type": "code",
   "execution_count": 20,
   "id": "d42b372e-d73b-48a4-a823-334a0708b8b2",
   "metadata": {},
   "outputs": [
    {
     "data": {
      "image/png": "[encoded data removed]",
      "text/plain": [
       "<Figure size 432x288 with 1 Axes>"
      ]
     },
     "metadata": {
      "needs_background": "light"
     },
     "output_type": "display_data"
    },
    {
     "data": {
      "image/png": "[encoded data removed]",
      "text/plain": [
       "<Figure size 432x288 with 1 Axes>"
      ]
     },
     "metadata": {
      "needs_background": "light"
     },
     "output_type": "display_data"
    }
   ],
   "source": [
    "#  \"Accuracy\"\n",
    "plt.plot(CNN.history['accuracy'])\n",
    "plt.plot(CNN.history['val_accuracy'])\n",
    "plt.title('model accuracy')\n",
    "plt.ylabel('accuracy')\n",
    "plt.xlabel('epoch')\n",
    "plt.legend(['train', 'validation'], loc='upper left')\n",
    "plt.show()\n",
    "# \"Loss\"\n",
    "plt.plot(CNN.history['loss'])\n",
    "plt.plot(CNN.history['val_loss'])\n",
    "plt.title('model loss')\n",
    "plt.ylabel('loss')\n",
    "plt.xlabel('epoch')\n",
    "plt.legend(['train', 'validation'], loc='upper left')\n",
    "plt.show()"
   ]
  },
  {
   "cell_type": "markdown",
   "id": "a6b39600-df24-481e-a4fc-1a0b4e78acb7",
   "metadata": {},
   "source": [
    "### With CNN, at the end 7 epochs, accuracy was at around 70% which is a significant improvement over ANN. CNN's are best for image classification and gives superb accuracy. Also computation is much less compared to simple ANN as maxpooling reduces the image dimensions while still preserving the features"
   ]
  },
  {
   "cell_type": "markdown",
   "id": "4634ea0f-24b1-49f1-bcba-9f2171b176a7",
   "metadata": {},
   "source": [
    "we can add   batch normalization in an effort to stabilize the learning and perhaps accelerate the learning process. To offset this acceleration, we can increase the regularization by changing the dropout from a fixed pattern to an increasing pattern."
   ]
  },
  {
   "cell_type": "code",
   "execution_count": 21,
   "id": "fddba0e7-c28d-4270-b7c9-f5d41214f5e7",
   "metadata": {},
   "outputs": [
    {
     "name": "stdout",
     "output_type": "stream",
     "text": [
      "Model: \"sequential_2\"\n",
      "_________________________________________________________________\n",
      " Layer (type)                Output Shape              Param #   \n",
      "=================================================================\n",
      " conv2d_6 (Conv2D)           (None, 32, 32, 32)        896       \n",
      "                                                                 \n",
      " batch_normalization (BatchN  (None, 32, 32, 32)       128       \n",
      " ormalization)                                                   \n",
      "                                                                 \n",
      " max_pooling2d_3 (MaxPooling  (None, 16, 16, 32)       0         \n",
      " 2D)                                                             \n",
      "                                                                 \n",
      " dropout_4 (Dropout)         (None, 16, 16, 32)        0         \n",
      "                                                                 \n",
      " conv2d_7 (Conv2D)           (None, 14, 14, 64)        18496     \n",
      "                                                                 \n",
      " batch_normalization_1 (Batc  (None, 14, 14, 64)       256       \n",
      " hNormalization)                                                 \n",
      "                                                                 \n",
      " max_pooling2d_4 (MaxPooling  (None, 7, 7, 64)         0         \n",
      " 2D)                                                             \n",
      "                                                                 \n",
      " dropout_5 (Dropout)         (None, 7, 7, 64)          0         \n",
      "                                                                 \n",
      " conv2d_8 (Conv2D)           (None, 5, 5, 128)         73856     \n",
      "                                                                 \n",
      " batch_normalization_2 (Batc  (None, 5, 5, 128)        512       \n",
      " hNormalization)                                                 \n",
      "                                                                 \n",
      " max_pooling2d_5 (MaxPooling  (None, 2, 2, 128)        0         \n",
      " 2D)                                                             \n",
      "                                                                 \n",
      " dropout_6 (Dropout)         (None, 2, 2, 128)         0         \n",
      "                                                                 \n",
      " flatten_2 (Flatten)         (None, 512)               0         \n",
      "                                                                 \n",
      " dense_5 (Dense)             (None, 512)               262656    \n",
      "                                                                 \n",
      " batch_normalization_3 (Batc  (None, 512)              2048      \n",
      " hNormalization)                                                 \n",
      "                                                                 \n",
      " dropout_7 (Dropout)         (None, 512)               0         \n",
      "                                                                 \n",
      " dense_6 (Dense)             (None, 10)                5130      \n",
      "                                                                 \n",
      "=================================================================\n",
      "Total params: 363,978\n",
      "Trainable params: 362,506\n",
      "Non-trainable params: 1,472\n",
      "_________________________________________________________________\n"
     ]
    }
   ],
   "source": [
    "\n",
    "model2 = Sequential()\n",
    "model2.add(Conv2D(32,(3,3),activation='relu', kernel_initializer='he_uniform', padding='same',input_shape=(32, 32, 3))) \n",
    "model2.add(BatchNormalization())\n",
    "model2.add(MaxPool2D(pool_size=(2, 2)))\n",
    "model2.add(Dropout(0.25))\n",
    "\n",
    "model2.add(Conv2D(64, (3, 3), activation='relu'))\n",
    "model2.add(BatchNormalization())\n",
    "model2.add(MaxPool2D(pool_size=(2, 2)))\n",
    "model2.add(Dropout(0.25))\n",
    "\n",
    "model2.add(Conv2D(128, (3, 3), activation='relu'))\n",
    "model2.add(BatchNormalization())\n",
    "model2.add(MaxPool2D(pool_size=(2, 2)))\n",
    "model2.add(Dropout(0.25))\n",
    "\n",
    "model2.add(Flatten())\n",
    "model2.add(Dense(512, activation='relu'))\n",
    "model2.add(BatchNormalization())\n",
    "model2.add(Dropout(0.5))\n",
    "model2.add(Dense(10, activation='softmax')) \n",
    "model2.summary()"
   ]
  },
  {
   "cell_type": "code",
   "execution_count": 22,
   "id": "96babbd3-31ef-4766-950f-efcbe56bab19",
   "metadata": {},
   "outputs": [],
   "source": [
    "model2.compile(optimizer='adam',\n",
    "              loss='sparse_categorical_crossentropy',\n",
    "              metrics=['accuracy'])"
   ]
  },
  {
   "cell_type": "code",
   "execution_count": null,
   "id": "1cbd6c9f-d8ce-4182-94a8-fd776e364189",
   "metadata": {},
   "outputs": [],
   "source": []
  },
  {
   "cell_type": "code",
   "execution_count": 23,
   "id": "83d3b57b-1e69-472b-83ba-50ace459c513",
   "metadata": {},
   "outputs": [
    {
     "name": "stderr",
     "output_type": "stream",
     "text": [
      "2022-02-26 11:11:26.733639: W tensorflow/core/framework/cpu_allocator_impl.cc:82] Allocation of 614400000 exceeds 10% of free system memory.\n"
     ]
    },
    {
     "name": "stdout",
     "output_type": "stream",
     "text": [
      "Epoch 1/100\n",
      "1563/1563 - 9s - loss: 1.7748 - accuracy: 0.3992 - val_loss: 1.4243 - val_accuracy: 0.5024 - 9s/epoch - 6ms/step\n",
      "Epoch 2/100\n",
      "1563/1563 - 8s - loss: 1.3051 - accuracy: 0.5353 - val_loss: 1.2019 - val_accuracy: 0.5782 - 8s/epoch - 5ms/step\n",
      "Epoch 3/100\n",
      "1563/1563 - 8s - loss: 1.1687 - accuracy: 0.5843 - val_loss: 1.0876 - val_accuracy: 0.6153 - 8s/epoch - 5ms/step\n",
      "Epoch 4/100\n",
      "1563/1563 - 8s - loss: 1.0798 - accuracy: 0.6228 - val_loss: 0.9442 - val_accuracy: 0.6674 - 8s/epoch - 5ms/step\n",
      "Epoch 5/100\n",
      "1563/1563 - 8s - loss: 1.0108 - accuracy: 0.6469 - val_loss: 0.9487 - val_accuracy: 0.6613 - 8s/epoch - 5ms/step\n",
      "Epoch 6/100\n",
      "1563/1563 - 8s - loss: 0.9582 - accuracy: 0.6652 - val_loss: 0.8162 - val_accuracy: 0.7118 - 8s/epoch - 5ms/step\n",
      "Epoch 7/100\n",
      "1563/1563 - 8s - loss: 0.9058 - accuracy: 0.6845 - val_loss: 0.8142 - val_accuracy: 0.7185 - 8s/epoch - 5ms/step\n",
      "Epoch 8/100\n",
      "1563/1563 - 8s - loss: 0.8791 - accuracy: 0.6943 - val_loss: 0.7530 - val_accuracy: 0.7368 - 8s/epoch - 5ms/step\n",
      "Epoch 9/100\n",
      "1563/1563 - 8s - loss: 0.8468 - accuracy: 0.7049 - val_loss: 0.7091 - val_accuracy: 0.7540 - 8s/epoch - 5ms/step\n",
      "Epoch 10/100\n",
      "1563/1563 - 8s - loss: 0.8240 - accuracy: 0.7124 - val_loss: 0.7896 - val_accuracy: 0.7296 - 8s/epoch - 5ms/step\n",
      "Epoch 11/100\n",
      "1563/1563 - 8s - loss: 0.8022 - accuracy: 0.7216 - val_loss: 0.7258 - val_accuracy: 0.7465 - 8s/epoch - 5ms/step\n",
      "Epoch 12/100\n",
      "1563/1563 - 8s - loss: 0.7809 - accuracy: 0.7280 - val_loss: 0.8025 - val_accuracy: 0.7205 - 8s/epoch - 5ms/step\n",
      "Epoch 13/100\n",
      "1563/1563 - 8s - loss: 0.7667 - accuracy: 0.7320 - val_loss: 0.7680 - val_accuracy: 0.7369 - 8s/epoch - 5ms/step\n",
      "Epoch 14/100\n",
      "1563/1563 - 8s - loss: 0.7526 - accuracy: 0.7377 - val_loss: 0.7601 - val_accuracy: 0.7416 - 8s/epoch - 5ms/step\n",
      "Epoch 15/100\n",
      "1563/1563 - 8s - loss: 0.7388 - accuracy: 0.7424 - val_loss: 0.6696 - val_accuracy: 0.7653 - 8s/epoch - 5ms/step\n",
      "Epoch 16/100\n",
      "1563/1563 - 8s - loss: 0.7216 - accuracy: 0.7484 - val_loss: 0.6583 - val_accuracy: 0.7754 - 8s/epoch - 5ms/step\n",
      "Epoch 17/100\n",
      "1563/1563 - 8s - loss: 0.7118 - accuracy: 0.7535 - val_loss: 0.7378 - val_accuracy: 0.7502 - 8s/epoch - 5ms/step\n",
      "Epoch 18/100\n",
      "1563/1563 - 8s - loss: 0.7021 - accuracy: 0.7565 - val_loss: 0.6821 - val_accuracy: 0.7679 - 8s/epoch - 5ms/step\n",
      "Epoch 19/100\n",
      "1563/1563 - 8s - loss: 0.6906 - accuracy: 0.7610 - val_loss: 0.6356 - val_accuracy: 0.7780 - 8s/epoch - 5ms/step\n",
      "Epoch 20/100\n",
      "1563/1563 - 8s - loss: 0.6801 - accuracy: 0.7622 - val_loss: 0.7958 - val_accuracy: 0.7339 - 8s/epoch - 5ms/step\n",
      "Epoch 21/100\n",
      "1563/1563 - 8s - loss: 0.6785 - accuracy: 0.7660 - val_loss: 0.6212 - val_accuracy: 0.7837 - 8s/epoch - 5ms/step\n",
      "Epoch 22/100\n",
      "1563/1563 - 8s - loss: 0.6706 - accuracy: 0.7666 - val_loss: 0.6586 - val_accuracy: 0.7738 - 8s/epoch - 5ms/step\n",
      "Epoch 23/100\n",
      "1563/1563 - 8s - loss: 0.6629 - accuracy: 0.7694 - val_loss: 0.6689 - val_accuracy: 0.7711 - 8s/epoch - 5ms/step\n",
      "Epoch 24/100\n",
      "1563/1563 - 8s - loss: 0.6548 - accuracy: 0.7711 - val_loss: 0.6217 - val_accuracy: 0.7855 - 8s/epoch - 5ms/step\n",
      "Epoch 25/100\n",
      "1563/1563 - 8s - loss: 0.6497 - accuracy: 0.7732 - val_loss: 0.6696 - val_accuracy: 0.7735 - 8s/epoch - 5ms/step\n",
      "Epoch 26/100\n",
      "1563/1563 - 8s - loss: 0.6443 - accuracy: 0.7752 - val_loss: 0.6009 - val_accuracy: 0.7958 - 8s/epoch - 5ms/step\n",
      "Epoch 27/100\n",
      "1563/1563 - 8s - loss: 0.6392 - accuracy: 0.7766 - val_loss: 0.7206 - val_accuracy: 0.7612 - 8s/epoch - 5ms/step\n",
      "Epoch 28/100\n",
      "1563/1563 - 8s - loss: 0.6302 - accuracy: 0.7787 - val_loss: 0.8869 - val_accuracy: 0.7077 - 8s/epoch - 5ms/step\n",
      "Epoch 29/100\n",
      "1563/1563 - 8s - loss: 0.6223 - accuracy: 0.7821 - val_loss: 0.5790 - val_accuracy: 0.7997 - 8s/epoch - 5ms/step\n",
      "Epoch 30/100\n",
      "1563/1563 - 8s - loss: 0.6306 - accuracy: 0.7804 - val_loss: 0.6061 - val_accuracy: 0.7917 - 8s/epoch - 5ms/step\n",
      "Epoch 31/100\n",
      "1563/1563 - 8s - loss: 0.6174 - accuracy: 0.7853 - val_loss: 0.7008 - val_accuracy: 0.7614 - 8s/epoch - 5ms/step\n",
      "Epoch 32/100\n",
      "1563/1563 - 8s - loss: 0.6154 - accuracy: 0.7842 - val_loss: 0.6699 - val_accuracy: 0.7705 - 8s/epoch - 5ms/step\n",
      "Epoch 33/100\n",
      "1563/1563 - 8s - loss: 0.6082 - accuracy: 0.7879 - val_loss: 0.6653 - val_accuracy: 0.7742 - 8s/epoch - 5ms/step\n",
      "Epoch 34/100\n",
      "1563/1563 - 8s - loss: 0.6052 - accuracy: 0.7891 - val_loss: 0.6622 - val_accuracy: 0.7772 - 8s/epoch - 5ms/step\n",
      "Epoch 35/100\n",
      "1563/1563 - 8s - loss: 0.6030 - accuracy: 0.7900 - val_loss: 0.8284 - val_accuracy: 0.7304 - 8s/epoch - 5ms/step\n",
      "Epoch 36/100\n",
      "1563/1563 - 8s - loss: 0.5941 - accuracy: 0.7924 - val_loss: 0.6200 - val_accuracy: 0.7880 - 8s/epoch - 5ms/step\n",
      "Epoch 37/100\n",
      "1563/1563 - 8s - loss: 0.5929 - accuracy: 0.7935 - val_loss: 0.6259 - val_accuracy: 0.7906 - 8s/epoch - 5ms/step\n",
      "Epoch 38/100\n",
      "1563/1563 - 8s - loss: 0.5943 - accuracy: 0.7918 - val_loss: 0.6888 - val_accuracy: 0.7699 - 8s/epoch - 5ms/step\n",
      "Epoch 39/100\n",
      "1563/1563 - 8s - loss: 0.5860 - accuracy: 0.7943 - val_loss: 0.5828 - val_accuracy: 0.8050 - 8s/epoch - 5ms/step\n",
      "Epoch 40/100\n",
      "1563/1563 - 8s - loss: 0.5809 - accuracy: 0.7977 - val_loss: 0.6845 - val_accuracy: 0.7691 - 8s/epoch - 5ms/step\n",
      "Epoch 41/100\n",
      "1563/1563 - 8s - loss: 0.5755 - accuracy: 0.7991 - val_loss: 0.5729 - val_accuracy: 0.8076 - 8s/epoch - 5ms/step\n",
      "Epoch 42/100\n",
      "1563/1563 - 8s - loss: 0.5773 - accuracy: 0.7976 - val_loss: 0.7395 - val_accuracy: 0.7570 - 8s/epoch - 5ms/step\n",
      "Epoch 43/100\n",
      "1563/1563 - 8s - loss: 0.5731 - accuracy: 0.7987 - val_loss: 0.5852 - val_accuracy: 0.8017 - 8s/epoch - 5ms/step\n",
      "Epoch 44/100\n",
      "1563/1563 - 8s - loss: 0.5713 - accuracy: 0.8013 - val_loss: 0.5778 - val_accuracy: 0.8027 - 8s/epoch - 5ms/step\n",
      "Epoch 45/100\n",
      "1563/1563 - 8s - loss: 0.5687 - accuracy: 0.8032 - val_loss: 0.7476 - val_accuracy: 0.7539 - 8s/epoch - 5ms/step\n",
      "Epoch 46/100\n",
      "1563/1563 - 8s - loss: 0.5684 - accuracy: 0.8006 - val_loss: 0.5928 - val_accuracy: 0.7972 - 8s/epoch - 5ms/step\n",
      "Epoch 47/100\n",
      "1563/1563 - 8s - loss: 0.5647 - accuracy: 0.8008 - val_loss: 0.6178 - val_accuracy: 0.7906 - 8s/epoch - 5ms/step\n",
      "Epoch 48/100\n",
      "1563/1563 - 8s - loss: 0.5589 - accuracy: 0.8048 - val_loss: 0.6079 - val_accuracy: 0.7951 - 8s/epoch - 5ms/step\n",
      "Epoch 49/100\n",
      "1563/1563 - 8s - loss: 0.5616 - accuracy: 0.8044 - val_loss: 0.5732 - val_accuracy: 0.8043 - 8s/epoch - 5ms/step\n",
      "Epoch 50/100\n",
      "1563/1563 - 8s - loss: 0.5573 - accuracy: 0.8042 - val_loss: 0.7872 - val_accuracy: 0.7442 - 8s/epoch - 5ms/step\n",
      "Epoch 51/100\n",
      "1563/1563 - 8s - loss: 0.5574 - accuracy: 0.8042 - val_loss: 0.5756 - val_accuracy: 0.8041 - 8s/epoch - 5ms/step\n",
      "Epoch 52/100\n",
      "1563/1563 - 8s - loss: 0.5472 - accuracy: 0.8095 - val_loss: 0.5796 - val_accuracy: 0.8038 - 8s/epoch - 5ms/step\n",
      "Epoch 53/100\n",
      "1563/1563 - 8s - loss: 0.5547 - accuracy: 0.8054 - val_loss: 0.6423 - val_accuracy: 0.7857 - 8s/epoch - 5ms/step\n",
      "Epoch 54/100\n",
      "1563/1563 - 8s - loss: 0.5471 - accuracy: 0.8098 - val_loss: 0.7166 - val_accuracy: 0.7640 - 8s/epoch - 5ms/step\n",
      "Epoch 55/100\n",
      "1563/1563 - 8s - loss: 0.5502 - accuracy: 0.8078 - val_loss: 0.5414 - val_accuracy: 0.8179 - 8s/epoch - 5ms/step\n",
      "Epoch 56/100\n",
      "1563/1563 - 8s - loss: 0.5502 - accuracy: 0.8080 - val_loss: 0.5633 - val_accuracy: 0.8076 - 8s/epoch - 5ms/step\n",
      "Epoch 57/100\n",
      "1563/1563 - 8s - loss: 0.5439 - accuracy: 0.8094 - val_loss: 0.7559 - val_accuracy: 0.7580 - 8s/epoch - 5ms/step\n",
      "Epoch 58/100\n",
      "1563/1563 - 8s - loss: 0.5390 - accuracy: 0.8101 - val_loss: 0.5402 - val_accuracy: 0.8165 - 8s/epoch - 5ms/step\n",
      "Epoch 59/100\n",
      "1563/1563 - 8s - loss: 0.5407 - accuracy: 0.8120 - val_loss: 0.5696 - val_accuracy: 0.8098 - 8s/epoch - 5ms/step\n",
      "Epoch 60/100\n",
      "1563/1563 - 8s - loss: 0.5385 - accuracy: 0.8108 - val_loss: 0.6409 - val_accuracy: 0.7850 - 8s/epoch - 5ms/step\n",
      "Epoch 61/100\n",
      "1563/1563 - 8s - loss: 0.5373 - accuracy: 0.8133 - val_loss: 0.6006 - val_accuracy: 0.7955 - 8s/epoch - 5ms/step\n",
      "Epoch 62/100\n",
      "1563/1563 - 8s - loss: 0.5353 - accuracy: 0.8127 - val_loss: 0.5443 - val_accuracy: 0.8138 - 8s/epoch - 5ms/step\n",
      "Epoch 63/100\n",
      "1563/1563 - 8s - loss: 0.5373 - accuracy: 0.8097 - val_loss: 0.5960 - val_accuracy: 0.8021 - 8s/epoch - 5ms/step\n",
      "Epoch 64/100\n",
      "1563/1563 - 8s - loss: 0.5336 - accuracy: 0.8132 - val_loss: 0.5513 - val_accuracy: 0.8111 - 8s/epoch - 5ms/step\n",
      "Epoch 65/100\n",
      "1563/1563 - 8s - loss: 0.5340 - accuracy: 0.8126 - val_loss: 0.7084 - val_accuracy: 0.7651 - 8s/epoch - 5ms/step\n",
      "Epoch 66/100\n",
      "1563/1563 - 8s - loss: 0.5307 - accuracy: 0.8143 - val_loss: 0.5300 - val_accuracy: 0.8185 - 8s/epoch - 5ms/step\n",
      "Epoch 67/100\n",
      "1563/1563 - 8s - loss: 0.5261 - accuracy: 0.8153 - val_loss: 0.5468 - val_accuracy: 0.8151 - 8s/epoch - 5ms/step\n",
      "Epoch 68/100\n",
      "1563/1563 - 8s - loss: 0.5281 - accuracy: 0.8142 - val_loss: 0.6058 - val_accuracy: 0.7945 - 8s/epoch - 5ms/step\n",
      "Epoch 69/100\n",
      "1563/1563 - 8s - loss: 0.5223 - accuracy: 0.8157 - val_loss: 0.7782 - val_accuracy: 0.7506 - 8s/epoch - 5ms/step\n",
      "Epoch 70/100\n",
      "1563/1563 - 8s - loss: 0.5204 - accuracy: 0.8165 - val_loss: 0.5349 - val_accuracy: 0.8205 - 8s/epoch - 5ms/step\n",
      "Epoch 71/100\n",
      "1563/1563 - 8s - loss: 0.5189 - accuracy: 0.8189 - val_loss: 0.5904 - val_accuracy: 0.8032 - 8s/epoch - 5ms/step\n",
      "Epoch 72/100\n",
      "1563/1563 - 8s - loss: 0.5163 - accuracy: 0.8182 - val_loss: 0.5531 - val_accuracy: 0.8141 - 8s/epoch - 5ms/step\n",
      "Epoch 73/100\n",
      "1563/1563 - 8s - loss: 0.5225 - accuracy: 0.8159 - val_loss: 0.6836 - val_accuracy: 0.7744 - 8s/epoch - 5ms/step\n",
      "Epoch 74/100\n",
      "1563/1563 - 8s - loss: 0.5165 - accuracy: 0.8170 - val_loss: 0.5519 - val_accuracy: 0.8168 - 8s/epoch - 5ms/step\n",
      "Epoch 75/100\n",
      "1563/1563 - 8s - loss: 0.5173 - accuracy: 0.8199 - val_loss: 0.5842 - val_accuracy: 0.8030 - 8s/epoch - 5ms/step\n",
      "Epoch 76/100\n",
      "1563/1563 - 8s - loss: 0.5149 - accuracy: 0.8197 - val_loss: 0.5424 - val_accuracy: 0.8159 - 8s/epoch - 5ms/step\n",
      "Epoch 77/100\n",
      "1563/1563 - 8s - loss: 0.5142 - accuracy: 0.8207 - val_loss: 0.5630 - val_accuracy: 0.8087 - 8s/epoch - 5ms/step\n",
      "Epoch 78/100\n",
      "1563/1563 - 8s - loss: 0.5090 - accuracy: 0.8213 - val_loss: 0.5562 - val_accuracy: 0.8122 - 8s/epoch - 5ms/step\n",
      "Epoch 79/100\n",
      "1563/1563 - 8s - loss: 0.5075 - accuracy: 0.8228 - val_loss: 0.6132 - val_accuracy: 0.7976 - 8s/epoch - 5ms/step\n",
      "Epoch 80/100\n",
      "1563/1563 - 8s - loss: 0.5062 - accuracy: 0.8216 - val_loss: 0.8203 - val_accuracy: 0.7447 - 8s/epoch - 5ms/step\n",
      "Epoch 81/100\n",
      "1563/1563 - 8s - loss: 0.5108 - accuracy: 0.8209 - val_loss: 0.6108 - val_accuracy: 0.7986 - 8s/epoch - 5ms/step\n",
      "Epoch 82/100\n",
      "1563/1563 - 8s - loss: 0.5025 - accuracy: 0.8238 - val_loss: 0.5226 - val_accuracy: 0.8239 - 8s/epoch - 5ms/step\n",
      "Epoch 83/100\n",
      "1563/1563 - 8s - loss: 0.5074 - accuracy: 0.8221 - val_loss: 0.5907 - val_accuracy: 0.8002 - 8s/epoch - 5ms/step\n",
      "Epoch 84/100\n",
      "1563/1563 - 8s - loss: 0.5071 - accuracy: 0.8210 - val_loss: 0.5315 - val_accuracy: 0.8196 - 8s/epoch - 5ms/step\n",
      "Epoch 85/100\n",
      "1563/1563 - 8s - loss: 0.5008 - accuracy: 0.8237 - val_loss: 0.6305 - val_accuracy: 0.7879 - 8s/epoch - 5ms/step\n",
      "Epoch 86/100\n",
      "1563/1563 - 8s - loss: 0.4956 - accuracy: 0.8265 - val_loss: 0.5630 - val_accuracy: 0.8145 - 8s/epoch - 5ms/step\n",
      "Epoch 87/100\n",
      "1563/1563 - 8s - loss: 0.5050 - accuracy: 0.8234 - val_loss: 0.6037 - val_accuracy: 0.7998 - 8s/epoch - 5ms/step\n",
      "Epoch 88/100\n",
      "1563/1563 - 8s - loss: 0.4987 - accuracy: 0.8255 - val_loss: 0.5709 - val_accuracy: 0.8039 - 8s/epoch - 5ms/step\n",
      "Epoch 89/100\n",
      "1563/1563 - 8s - loss: 0.4974 - accuracy: 0.8250 - val_loss: 0.5323 - val_accuracy: 0.8200 - 8s/epoch - 5ms/step\n",
      "Epoch 90/100\n",
      "1563/1563 - 8s - loss: 0.4978 - accuracy: 0.8275 - val_loss: 0.5439 - val_accuracy: 0.8150 - 8s/epoch - 5ms/step\n",
      "Epoch 91/100\n",
      "1563/1563 - 8s - loss: 0.4970 - accuracy: 0.8247 - val_loss: 0.5533 - val_accuracy: 0.8111 - 8s/epoch - 5ms/step\n",
      "Epoch 92/100\n",
      "1563/1563 - 8s - loss: 0.5006 - accuracy: 0.8249 - val_loss: 0.5490 - val_accuracy: 0.8132 - 8s/epoch - 5ms/step\n",
      "Epoch 93/100\n",
      "1563/1563 - 8s - loss: 0.5004 - accuracy: 0.8258 - val_loss: 0.6070 - val_accuracy: 0.7963 - 8s/epoch - 5ms/step\n",
      "Epoch 94/100\n",
      "1563/1563 - 8s - loss: 0.4948 - accuracy: 0.8260 - val_loss: 0.6279 - val_accuracy: 0.7928 - 8s/epoch - 5ms/step\n",
      "Epoch 95/100\n",
      "1563/1563 - 8s - loss: 0.4917 - accuracy: 0.8276 - val_loss: 0.6336 - val_accuracy: 0.7938 - 8s/epoch - 5ms/step\n",
      "Epoch 96/100\n",
      "1563/1563 - 8s - loss: 0.4971 - accuracy: 0.8258 - val_loss: 0.6159 - val_accuracy: 0.7976 - 8s/epoch - 5ms/step\n",
      "Epoch 97/100\n",
      "1563/1563 - 8s - loss: 0.4889 - accuracy: 0.8291 - val_loss: 0.5995 - val_accuracy: 0.8007 - 8s/epoch - 5ms/step\n",
      "Epoch 98/100\n",
      "1563/1563 - 8s - loss: 0.4894 - accuracy: 0.8267 - val_loss: 0.5541 - val_accuracy: 0.8101 - 8s/epoch - 5ms/step\n",
      "Epoch 99/100\n",
      "1563/1563 - 8s - loss: 0.4893 - accuracy: 0.8285 - val_loss: 0.5477 - val_accuracy: 0.8169 - 8s/epoch - 5ms/step\n",
      "Epoch 100/100\n",
      "1563/1563 - 8s - loss: 0.4895 - accuracy: 0.8274 - val_loss: 0.5824 - val_accuracy: 0.8087 - 8s/epoch - 5ms/step\n"
     ]
    }
   ],
   "source": [
    "CNN1 = model2.fit(x_train, y_train, validation_data=(x_test, y_test),epochs=100, verbose=2)"
   ]
  },
  {
   "cell_type": "code",
   "execution_count": 24,
   "id": "f498508f-c48c-45eb-9875-0301526a6407",
   "metadata": {},
   "outputs": [
    {
     "data": {
      "image/png": "[encoded data removed]",
      "text/plain": [
       "<Figure size 432x288 with 1 Axes>"
      ]
     },
     "metadata": {
      "needs_background": "light"
     },
     "output_type": "display_data"
    },
    {
     "data": {
      "image/png": "[encoded data removed]",
      "text/plain": [
       "<Figure size 432x288 with 1 Axes>"
      ]
     },
     "metadata": {
      "needs_background": "light"
     },
     "output_type": "display_data"
    }
   ],
   "source": [
    "#  \"Accuracy\"\n",
    "plt.plot(CNN1.history['accuracy'])\n",
    "plt.plot(CNN1.history['val_accuracy'])\n",
    "plt.title('model accuracy')\n",
    "plt.ylabel('accuracy')\n",
    "plt.xlabel('epoch')\n",
    "plt.legend(['train', 'validation'], loc='upper left')\n",
    "plt.show()\n",
    "# \"Loss\"\n",
    "plt.plot(CNN1.history['loss'])\n",
    "plt.plot(CNN1.history['val_loss'])\n",
    "plt.title('model loss')\n",
    "plt.ylabel('loss')\n",
    "plt.xlabel('epoch')\n",
    "plt.legend(['train', 'validation'], loc='upper left')\n",
    "plt.show()"
   ]
  },
  {
   "cell_type": "code",
   "execution_count": 25,
   "id": "e53ac50f-92a6-4c46-9be9-cba1a4157ce5",
   "metadata": {},
   "outputs": [
    {
     "name": "stdout",
     "output_type": "stream",
     "text": [
      "Model: \"sequential_3\"\n",
      "_________________________________________________________________\n",
      " Layer (type)                Output Shape              Param #   \n",
      "=================================================================\n",
      " conv2d_9 (Conv2D)           (None, 32, 32, 32)        896       \n",
      "                                                                 \n",
      " batch_normalization_4 (Batc  (None, 32, 32, 32)       128       \n",
      " hNormalization)                                                 \n",
      "                                                                 \n",
      " conv2d_10 (Conv2D)          (None, 32, 32, 32)        9248      \n",
      "                                                                 \n",
      " batch_normalization_5 (Batc  (None, 32, 32, 32)       128       \n",
      " hNormalization)                                                 \n",
      "                                                                 \n",
      " max_pooling2d_6 (MaxPooling  (None, 16, 16, 32)       0         \n",
      " 2D)                                                             \n",
      "                                                                 \n",
      " dropout_8 (Dropout)         (None, 16, 16, 32)        0         \n",
      "                                                                 \n",
      " conv2d_11 (Conv2D)          (None, 14, 14, 64)        18496     \n",
      "                                                                 \n",
      " batch_normalization_6 (Batc  (None, 14, 14, 64)       256       \n",
      " hNormalization)                                                 \n",
      "                                                                 \n",
      " conv2d_12 (Conv2D)          (None, 12, 12, 64)        36928     \n",
      "                                                                 \n",
      " batch_normalization_7 (Batc  (None, 12, 12, 64)       256       \n",
      " hNormalization)                                                 \n",
      "                                                                 \n",
      " max_pooling2d_7 (MaxPooling  (None, 6, 6, 64)         0         \n",
      " 2D)                                                             \n",
      "                                                                 \n",
      " dropout_9 (Dropout)         (None, 6, 6, 64)          0         \n",
      "                                                                 \n",
      " conv2d_13 (Conv2D)          (None, 4, 4, 128)         73856     \n",
      "                                                                 \n",
      " batch_normalization_8 (Batc  (None, 4, 4, 128)        512       \n",
      " hNormalization)                                                 \n",
      "                                                                 \n",
      " conv2d_14 (Conv2D)          (None, 2, 2, 128)         147584    \n",
      "                                                                 \n",
      " batch_normalization_9 (Batc  (None, 2, 2, 128)        512       \n",
      " hNormalization)                                                 \n",
      "                                                                 \n",
      " max_pooling2d_8 (MaxPooling  (None, 1, 1, 128)        0         \n",
      " 2D)                                                             \n",
      "                                                                 \n",
      " dropout_10 (Dropout)        (None, 1, 1, 128)         0         \n",
      "                                                                 \n",
      " flatten_3 (Flatten)         (None, 128)               0         \n",
      "                                                                 \n",
      " dense_7 (Dense)             (None, 512)               66048     \n",
      "                                                                 \n",
      " batch_normalization_10 (Bat  (None, 512)              2048      \n",
      " chNormalization)                                                \n",
      "                                                                 \n",
      " dropout_11 (Dropout)        (None, 512)               0         \n",
      "                                                                 \n",
      " dense_8 (Dense)             (None, 10)                5130      \n",
      "                                                                 \n",
      "=================================================================\n",
      "Total params: 362,026\n",
      "Trainable params: 360,106\n",
      "Non-trainable params: 1,920\n",
      "_________________________________________________________________\n"
     ]
    }
   ],
   "source": [
    "model3 = Sequential()\n",
    "model3.add(Conv2D(32,(3,3),activation='relu', kernel_initializer='he_uniform', padding='same',input_shape=(32, 32, 3))) \n",
    "model3.add(BatchNormalization())\n",
    "model3.add(Conv2D(32,(3,3),activation='relu', kernel_initializer='he_uniform', padding='same',input_shape=(32, 32, 3))) \n",
    "model3.add(BatchNormalization())\n",
    "model3.add(MaxPool2D(pool_size=(2, 2)))\n",
    "model3.add(Dropout(0.2))\n",
    "\n",
    "model3.add(Conv2D(64, (3, 3), activation='relu'))\n",
    "model3.add(BatchNormalization())\n",
    "model3.add(Conv2D(64, (3, 3), activation='relu'))\n",
    "model3.add(BatchNormalization())\n",
    "model3.add(MaxPool2D(pool_size=(2, 2)))\n",
    "model3.add(Dropout(0.2))\n",
    "\n",
    "model3.add(Conv2D(128, (3, 3), activation='relu'))\n",
    "model3.add(BatchNormalization())\n",
    "model3.add(Conv2D(128, (3, 3), activation='relu'))\n",
    "model3.add(BatchNormalization())\n",
    "model3.add(MaxPool2D(pool_size=(2, 2)))\n",
    "model3.add(Dropout(0.2))\n",
    "\n",
    "model3.add(Flatten())\n",
    "model3.add(Dense(512, activation='relu'))\n",
    "model3.add(BatchNormalization())\n",
    "model3.add(Dropout(0.2))\n",
    "model3.add(Dense(10, activation='softmax')) \n",
    "model3.summary()"
   ]
  },
  {
   "cell_type": "code",
   "execution_count": 28,
   "id": "b43b165a-e806-4e2d-b871-1762d15c9577",
   "metadata": {},
   "outputs": [],
   "source": [
    "model3.compile(optimizer='adam',\n",
    "              loss='sparse_categorical_crossentropy',\n",
    "              metrics=['accuracy'])"
   ]
  },
  {
   "cell_type": "code",
   "execution_count": 29,
   "id": "34e32cc3-f394-4b30-a3c5-42d25f25cd34",
   "metadata": {},
   "outputs": [
    {
     "name": "stdout",
     "output_type": "stream",
     "text": [
      "Epoch 1/100\n",
      "1563/1563 - 14s - loss: 1.7553 - accuracy: 0.4036 - val_loss: 1.2069 - val_accuracy: 0.5687 - 14s/epoch - 9ms/step\n",
      "Epoch 2/100\n",
      "1563/1563 - 11s - loss: 1.1716 - accuracy: 0.5847 - val_loss: 0.9096 - val_accuracy: 0.6780 - 11s/epoch - 7ms/step\n",
      "Epoch 3/100\n",
      "1563/1563 - 10s - loss: 0.9728 - accuracy: 0.6610 - val_loss: 0.8967 - val_accuracy: 0.6954 - 10s/epoch - 7ms/step\n",
      "Epoch 4/100\n",
      "1563/1563 - 10s - loss: 0.8575 - accuracy: 0.7034 - val_loss: 0.8437 - val_accuracy: 0.7056 - 10s/epoch - 7ms/step\n",
      "Epoch 5/100\n",
      "1563/1563 - 10s - loss: 0.7790 - accuracy: 0.7370 - val_loss: 0.6929 - val_accuracy: 0.7569 - 10s/epoch - 7ms/step\n",
      "Epoch 6/100\n",
      "1563/1563 - 10s - loss: 0.7199 - accuracy: 0.7534 - val_loss: 0.6526 - val_accuracy: 0.7738 - 10s/epoch - 7ms/step\n",
      "Epoch 7/100\n",
      "1563/1563 - 10s - loss: 0.6744 - accuracy: 0.7692 - val_loss: 0.6093 - val_accuracy: 0.7900 - 10s/epoch - 7ms/step\n",
      "Epoch 8/100\n",
      "1563/1563 - 10s - loss: 0.6323 - accuracy: 0.7839 - val_loss: 0.6345 - val_accuracy: 0.7823 - 10s/epoch - 7ms/step\n",
      "Epoch 9/100\n",
      "1563/1563 - 10s - loss: 0.5973 - accuracy: 0.7962 - val_loss: 0.6631 - val_accuracy: 0.7761 - 10s/epoch - 7ms/step\n",
      "Epoch 10/100\n",
      "1563/1563 - 10s - loss: 0.5723 - accuracy: 0.8051 - val_loss: 0.5419 - val_accuracy: 0.8203 - 10s/epoch - 7ms/step\n",
      "Epoch 11/100\n",
      "1563/1563 - 10s - loss: 0.5502 - accuracy: 0.8108 - val_loss: 0.5083 - val_accuracy: 0.8264 - 10s/epoch - 7ms/step\n",
      "Epoch 12/100\n",
      "1563/1563 - 10s - loss: 0.5292 - accuracy: 0.8200 - val_loss: 0.5225 - val_accuracy: 0.8226 - 10s/epoch - 7ms/step\n",
      "Epoch 13/100\n",
      "1563/1563 - 10s - loss: 0.5137 - accuracy: 0.8245 - val_loss: 0.5190 - val_accuracy: 0.8247 - 10s/epoch - 7ms/step\n",
      "Epoch 14/100\n",
      "1563/1563 - 10s - loss: 0.4909 - accuracy: 0.8313 - val_loss: 0.5882 - val_accuracy: 0.8027 - 10s/epoch - 7ms/step\n",
      "Epoch 15/100\n",
      "1563/1563 - 10s - loss: 0.4757 - accuracy: 0.8384 - val_loss: 0.5079 - val_accuracy: 0.8294 - 10s/epoch - 7ms/step\n",
      "Epoch 16/100\n",
      "1563/1563 - 10s - loss: 0.4634 - accuracy: 0.8423 - val_loss: 0.4839 - val_accuracy: 0.8378 - 10s/epoch - 7ms/step\n",
      "Epoch 17/100\n",
      "1563/1563 - 10s - loss: 0.4447 - accuracy: 0.8473 - val_loss: 0.4932 - val_accuracy: 0.8342 - 10s/epoch - 7ms/step\n",
      "Epoch 18/100\n",
      "1563/1563 - 10s - loss: 0.4347 - accuracy: 0.8500 - val_loss: 0.4990 - val_accuracy: 0.8329 - 10s/epoch - 7ms/step\n",
      "Epoch 19/100\n",
      "1563/1563 - 10s - loss: 0.4252 - accuracy: 0.8519 - val_loss: 0.5180 - val_accuracy: 0.8245 - 10s/epoch - 7ms/step\n",
      "Epoch 20/100\n",
      "1563/1563 - 10s - loss: 0.4178 - accuracy: 0.8553 - val_loss: 0.5735 - val_accuracy: 0.8092 - 10s/epoch - 7ms/step\n",
      "Epoch 21/100\n",
      "1563/1563 - 10s - loss: 0.4035 - accuracy: 0.8624 - val_loss: 0.5556 - val_accuracy: 0.8177 - 10s/epoch - 7ms/step\n",
      "Epoch 22/100\n",
      "1563/1563 - 10s - loss: 0.3956 - accuracy: 0.8615 - val_loss: 0.4735 - val_accuracy: 0.8427 - 10s/epoch - 7ms/step\n",
      "Epoch 23/100\n",
      "1563/1563 - 10s - loss: 0.3904 - accuracy: 0.8650 - val_loss: 0.5112 - val_accuracy: 0.8319 - 10s/epoch - 7ms/step\n",
      "Epoch 24/100\n",
      "1563/1563 - 11s - loss: 0.3839 - accuracy: 0.8674 - val_loss: 0.4446 - val_accuracy: 0.8520 - 11s/epoch - 7ms/step\n",
      "Epoch 25/100\n",
      "1563/1563 - 10s - loss: 0.3761 - accuracy: 0.8707 - val_loss: 0.5436 - val_accuracy: 0.8253 - 10s/epoch - 7ms/step\n",
      "Epoch 26/100\n",
      "1563/1563 - 10s - loss: 0.3653 - accuracy: 0.8742 - val_loss: 0.5212 - val_accuracy: 0.8304 - 10s/epoch - 7ms/step\n",
      "Epoch 27/100\n",
      "1563/1563 - 10s - loss: 0.3653 - accuracy: 0.8746 - val_loss: 0.4622 - val_accuracy: 0.8455 - 10s/epoch - 7ms/step\n",
      "Epoch 28/100\n",
      "1563/1563 - 10s - loss: 0.3525 - accuracy: 0.8780 - val_loss: 0.5195 - val_accuracy: 0.8337 - 10s/epoch - 7ms/step\n",
      "Epoch 29/100\n",
      "1563/1563 - 10s - loss: 0.3519 - accuracy: 0.8781 - val_loss: 0.4949 - val_accuracy: 0.8413 - 10s/epoch - 7ms/step\n",
      "Epoch 30/100\n",
      "1563/1563 - 11s - loss: 0.3414 - accuracy: 0.8822 - val_loss: 0.4652 - val_accuracy: 0.8509 - 11s/epoch - 7ms/step\n",
      "Epoch 31/100\n",
      "1563/1563 - 10s - loss: 0.3333 - accuracy: 0.8850 - val_loss: 0.4944 - val_accuracy: 0.8410 - 10s/epoch - 7ms/step\n",
      "Epoch 32/100\n",
      "1563/1563 - 10s - loss: 0.3310 - accuracy: 0.8857 - val_loss: 0.4815 - val_accuracy: 0.8418 - 10s/epoch - 7ms/step\n",
      "Epoch 33/100\n",
      "1563/1563 - 10s - loss: 0.3254 - accuracy: 0.8863 - val_loss: 0.4765 - val_accuracy: 0.8456 - 10s/epoch - 7ms/step\n",
      "Epoch 34/100\n",
      "1563/1563 - 10s - loss: 0.3265 - accuracy: 0.8873 - val_loss: 0.4794 - val_accuracy: 0.8428 - 10s/epoch - 7ms/step\n",
      "Epoch 35/100\n",
      "1563/1563 - 11s - loss: 0.3160 - accuracy: 0.8897 - val_loss: 0.5098 - val_accuracy: 0.8365 - 11s/epoch - 7ms/step\n",
      "Epoch 36/100\n",
      "1563/1563 - 10s - loss: 0.3189 - accuracy: 0.8890 - val_loss: 0.4589 - val_accuracy: 0.8529 - 10s/epoch - 7ms/step\n",
      "Epoch 37/100\n",
      "1563/1563 - 10s - loss: 0.3085 - accuracy: 0.8917 - val_loss: 0.4954 - val_accuracy: 0.8437 - 10s/epoch - 7ms/step\n",
      "Epoch 38/100\n",
      "1563/1563 - 10s - loss: 0.3078 - accuracy: 0.8923 - val_loss: 0.5308 - val_accuracy: 0.8350 - 10s/epoch - 7ms/step\n",
      "Epoch 39/100\n",
      "1563/1563 - 10s - loss: 0.3037 - accuracy: 0.8943 - val_loss: 0.4812 - val_accuracy: 0.8471 - 10s/epoch - 7ms/step\n",
      "Epoch 40/100\n",
      "1563/1563 - 10s - loss: 0.2999 - accuracy: 0.8950 - val_loss: 0.5371 - val_accuracy: 0.8311 - 10s/epoch - 7ms/step\n",
      "Epoch 41/100\n",
      "1563/1563 - 10s - loss: 0.2999 - accuracy: 0.8956 - val_loss: 0.5099 - val_accuracy: 0.8418 - 10s/epoch - 7ms/step\n",
      "Epoch 42/100\n",
      "1563/1563 - 10s - loss: 0.2922 - accuracy: 0.8990 - val_loss: 0.4571 - val_accuracy: 0.8580 - 10s/epoch - 7ms/step\n",
      "Epoch 43/100\n",
      "1563/1563 - 10s - loss: 0.2921 - accuracy: 0.8986 - val_loss: 0.4782 - val_accuracy: 0.8493 - 10s/epoch - 7ms/step\n",
      "Epoch 44/100\n",
      "1563/1563 - 10s - loss: 0.2892 - accuracy: 0.8985 - val_loss: 0.4719 - val_accuracy: 0.8501 - 10s/epoch - 7ms/step\n",
      "Epoch 45/100\n",
      "1563/1563 - 10s - loss: 0.2794 - accuracy: 0.9018 - val_loss: 0.4719 - val_accuracy: 0.8535 - 10s/epoch - 7ms/step\n",
      "Epoch 46/100\n",
      "1563/1563 - 10s - loss: 0.2786 - accuracy: 0.9025 - val_loss: 0.4716 - val_accuracy: 0.8526 - 10s/epoch - 7ms/step\n",
      "Epoch 47/100\n",
      "1563/1563 - 10s - loss: 0.2787 - accuracy: 0.9018 - val_loss: 0.5267 - val_accuracy: 0.8426 - 10s/epoch - 7ms/step\n",
      "Epoch 48/100\n",
      "1563/1563 - 10s - loss: 0.2779 - accuracy: 0.9044 - val_loss: 0.4723 - val_accuracy: 0.8527 - 10s/epoch - 7ms/step\n",
      "Epoch 49/100\n",
      "1563/1563 - 10s - loss: 0.2687 - accuracy: 0.9058 - val_loss: 0.5616 - val_accuracy: 0.8284 - 10s/epoch - 7ms/step\n",
      "Epoch 50/100\n",
      "1563/1563 - 10s - loss: 0.2679 - accuracy: 0.9059 - val_loss: 0.4929 - val_accuracy: 0.8487 - 10s/epoch - 7ms/step\n",
      "Epoch 51/100\n",
      "1563/1563 - 10s - loss: 0.2661 - accuracy: 0.9069 - val_loss: 0.4825 - val_accuracy: 0.8548 - 10s/epoch - 7ms/step\n",
      "Epoch 52/100\n",
      "1563/1563 - 10s - loss: 0.2605 - accuracy: 0.9099 - val_loss: 0.5432 - val_accuracy: 0.8380 - 10s/epoch - 7ms/step\n",
      "Epoch 53/100\n",
      "1563/1563 - 11s - loss: 0.2643 - accuracy: 0.9086 - val_loss: 0.4899 - val_accuracy: 0.8507 - 11s/epoch - 7ms/step\n",
      "Epoch 54/100\n",
      "1563/1563 - 10s - loss: 0.2561 - accuracy: 0.9116 - val_loss: 0.5021 - val_accuracy: 0.8495 - 10s/epoch - 7ms/step\n",
      "Epoch 55/100\n",
      "1563/1563 - 10s - loss: 0.2609 - accuracy: 0.9089 - val_loss: 0.4794 - val_accuracy: 0.8570 - 10s/epoch - 7ms/step\n",
      "Epoch 56/100\n",
      "1563/1563 - 10s - loss: 0.2545 - accuracy: 0.9106 - val_loss: 0.4753 - val_accuracy: 0.8556 - 10s/epoch - 7ms/step\n",
      "Epoch 57/100\n",
      "1563/1563 - 10s - loss: 0.2546 - accuracy: 0.9111 - val_loss: 0.5021 - val_accuracy: 0.8496 - 10s/epoch - 7ms/step\n",
      "Epoch 58/100\n",
      "1563/1563 - 11s - loss: 0.2484 - accuracy: 0.9126 - val_loss: 0.5032 - val_accuracy: 0.8494 - 11s/epoch - 7ms/step\n",
      "Epoch 59/100\n",
      "1563/1563 - 10s - loss: 0.2474 - accuracy: 0.9142 - val_loss: 0.4817 - val_accuracy: 0.8555 - 10s/epoch - 7ms/step\n",
      "Epoch 60/100\n",
      "1563/1563 - 10s - loss: 0.2516 - accuracy: 0.9112 - val_loss: 0.4726 - val_accuracy: 0.8593 - 10s/epoch - 7ms/step\n",
      "Epoch 61/100\n",
      "1563/1563 - 10s - loss: 0.2454 - accuracy: 0.9161 - val_loss: 0.4669 - val_accuracy: 0.8579 - 10s/epoch - 7ms/step\n",
      "Epoch 62/100\n",
      "1563/1563 - 10s - loss: 0.2426 - accuracy: 0.9149 - val_loss: 0.4854 - val_accuracy: 0.8570 - 10s/epoch - 7ms/step\n",
      "Epoch 63/100\n",
      "1563/1563 - 10s - loss: 0.2450 - accuracy: 0.9147 - val_loss: 0.4894 - val_accuracy: 0.8556 - 10s/epoch - 7ms/step\n",
      "Epoch 64/100\n",
      "1563/1563 - 10s - loss: 0.2393 - accuracy: 0.9158 - val_loss: 0.4886 - val_accuracy: 0.8533 - 10s/epoch - 7ms/step\n",
      "Epoch 65/100\n",
      "1563/1563 - 10s - loss: 0.2326 - accuracy: 0.9189 - val_loss: 0.4997 - val_accuracy: 0.8533 - 10s/epoch - 7ms/step\n",
      "Epoch 66/100\n",
      "1563/1563 - 10s - loss: 0.2379 - accuracy: 0.9174 - val_loss: 0.4616 - val_accuracy: 0.8581 - 10s/epoch - 7ms/step\n",
      "Epoch 67/100\n",
      "1563/1563 - 10s - loss: 0.2343 - accuracy: 0.9200 - val_loss: 0.4814 - val_accuracy: 0.8598 - 10s/epoch - 7ms/step\n",
      "Epoch 68/100\n",
      "1563/1563 - 10s - loss: 0.2333 - accuracy: 0.9181 - val_loss: 0.4820 - val_accuracy: 0.8614 - 10s/epoch - 7ms/step\n",
      "Epoch 69/100\n",
      "1563/1563 - 10s - loss: 0.2296 - accuracy: 0.9197 - val_loss: 0.4857 - val_accuracy: 0.8573 - 10s/epoch - 7ms/step\n",
      "Epoch 70/100\n",
      "1563/1563 - 10s - loss: 0.2335 - accuracy: 0.9189 - val_loss: 0.5138 - val_accuracy: 0.8501 - 10s/epoch - 7ms/step\n",
      "Epoch 71/100\n",
      "1563/1563 - 10s - loss: 0.2272 - accuracy: 0.9212 - val_loss: 0.4755 - val_accuracy: 0.8573 - 10s/epoch - 7ms/step\n",
      "Epoch 72/100\n",
      "1563/1563 - 10s - loss: 0.2279 - accuracy: 0.9198 - val_loss: 0.5122 - val_accuracy: 0.8548 - 10s/epoch - 7ms/step\n",
      "Epoch 73/100\n",
      "1563/1563 - 10s - loss: 0.2202 - accuracy: 0.9236 - val_loss: 0.5294 - val_accuracy: 0.8494 - 10s/epoch - 7ms/step\n",
      "Epoch 74/100\n",
      "1563/1563 - 10s - loss: 0.2230 - accuracy: 0.9222 - val_loss: 0.4856 - val_accuracy: 0.8562 - 10s/epoch - 7ms/step\n",
      "Epoch 75/100\n",
      "1563/1563 - 10s - loss: 0.2214 - accuracy: 0.9223 - val_loss: 0.4905 - val_accuracy: 0.8568 - 10s/epoch - 7ms/step\n",
      "Epoch 76/100\n",
      "1563/1563 - 10s - loss: 0.2209 - accuracy: 0.9215 - val_loss: 0.4943 - val_accuracy: 0.8558 - 10s/epoch - 7ms/step\n",
      "Epoch 77/100\n",
      "1563/1563 - 10s - loss: 0.2207 - accuracy: 0.9228 - val_loss: 0.4782 - val_accuracy: 0.8604 - 10s/epoch - 7ms/step\n",
      "Epoch 78/100\n",
      "1563/1563 - 10s - loss: 0.2134 - accuracy: 0.9250 - val_loss: 0.4897 - val_accuracy: 0.8571 - 10s/epoch - 7ms/step\n",
      "Epoch 79/100\n",
      "1563/1563 - 10s - loss: 0.2189 - accuracy: 0.9226 - val_loss: 0.4999 - val_accuracy: 0.8517 - 10s/epoch - 7ms/step\n",
      "Epoch 80/100\n",
      "1563/1563 - 10s - loss: 0.2126 - accuracy: 0.9245 - val_loss: 0.4882 - val_accuracy: 0.8634 - 10s/epoch - 7ms/step\n",
      "Epoch 81/100\n",
      "1563/1563 - 10s - loss: 0.2145 - accuracy: 0.9244 - val_loss: 0.5170 - val_accuracy: 0.8542 - 10s/epoch - 7ms/step\n",
      "Epoch 82/100\n",
      "1563/1563 - 10s - loss: 0.2133 - accuracy: 0.9254 - val_loss: 0.4872 - val_accuracy: 0.8600 - 10s/epoch - 7ms/step\n",
      "Epoch 83/100\n",
      "1563/1563 - 10s - loss: 0.2159 - accuracy: 0.9239 - val_loss: 0.4982 - val_accuracy: 0.8589 - 10s/epoch - 7ms/step\n",
      "Epoch 84/100\n",
      "1563/1563 - 10s - loss: 0.2108 - accuracy: 0.9275 - val_loss: 0.5154 - val_accuracy: 0.8546 - 10s/epoch - 7ms/step\n",
      "Epoch 85/100\n",
      "1563/1563 - 10s - loss: 0.2104 - accuracy: 0.9267 - val_loss: 0.5163 - val_accuracy: 0.8585 - 10s/epoch - 7ms/step\n",
      "Epoch 86/100\n",
      "1563/1563 - 10s - loss: 0.2087 - accuracy: 0.9279 - val_loss: 0.4766 - val_accuracy: 0.8603 - 10s/epoch - 7ms/step\n",
      "Epoch 87/100\n",
      "1563/1563 - 10s - loss: 0.2064 - accuracy: 0.9275 - val_loss: 0.5001 - val_accuracy: 0.8609 - 10s/epoch - 7ms/step\n",
      "Epoch 88/100\n",
      "1563/1563 - 10s - loss: 0.2074 - accuracy: 0.9279 - val_loss: 0.4832 - val_accuracy: 0.8610 - 10s/epoch - 7ms/step\n",
      "Epoch 89/100\n",
      "1563/1563 - 10s - loss: 0.1971 - accuracy: 0.9311 - val_loss: 0.5129 - val_accuracy: 0.8580 - 10s/epoch - 7ms/step\n",
      "Epoch 90/100\n",
      "1563/1563 - 10s - loss: 0.2044 - accuracy: 0.9283 - val_loss: 0.5015 - val_accuracy: 0.8578 - 10s/epoch - 7ms/step\n",
      "Epoch 91/100\n",
      "1563/1563 - 10s - loss: 0.2025 - accuracy: 0.9306 - val_loss: 0.4857 - val_accuracy: 0.8636 - 10s/epoch - 7ms/step\n",
      "Epoch 92/100\n",
      "1563/1563 - 10s - loss: 0.2066 - accuracy: 0.9285 - val_loss: 0.4873 - val_accuracy: 0.8616 - 10s/epoch - 7ms/step\n",
      "Epoch 93/100\n",
      "1563/1563 - 11s - loss: 0.1988 - accuracy: 0.9284 - val_loss: 0.5014 - val_accuracy: 0.8594 - 11s/epoch - 7ms/step\n",
      "Epoch 94/100\n",
      "1563/1563 - 10s - loss: 0.2064 - accuracy: 0.9275 - val_loss: 0.4970 - val_accuracy: 0.8538 - 10s/epoch - 7ms/step\n",
      "Epoch 95/100\n",
      "1563/1563 - 10s - loss: 0.1980 - accuracy: 0.9302 - val_loss: 0.5148 - val_accuracy: 0.8519 - 10s/epoch - 7ms/step\n",
      "Epoch 96/100\n",
      "1563/1563 - 10s - loss: 0.1983 - accuracy: 0.9298 - val_loss: 0.4798 - val_accuracy: 0.8629 - 10s/epoch - 7ms/step\n",
      "Epoch 97/100\n",
      "1563/1563 - 10s - loss: 0.1959 - accuracy: 0.9322 - val_loss: 0.5490 - val_accuracy: 0.8472 - 10s/epoch - 7ms/step\n",
      "Epoch 98/100\n",
      "1563/1563 - 10s - loss: 0.1956 - accuracy: 0.9323 - val_loss: 0.4977 - val_accuracy: 0.8588 - 10s/epoch - 7ms/step\n",
      "Epoch 99/100\n",
      "1563/1563 - 10s - loss: 0.1993 - accuracy: 0.9303 - val_loss: 0.4893 - val_accuracy: 0.8535 - 10s/epoch - 7ms/step\n",
      "Epoch 100/100\n",
      "1563/1563 - 10s - loss: 0.1916 - accuracy: 0.9330 - val_loss: 0.5095 - val_accuracy: 0.8557 - 10s/epoch - 7ms/step\n"
     ]
    }
   ],
   "source": [
    "CNN2 = model3.fit(x_train, y_train, validation_data=(x_test, y_test),epochs=100, verbose=2)"
   ]
  },
  {
   "cell_type": "code",
   "execution_count": 30,
   "id": "4d481940-98d4-4411-b1cb-b8fdc0a8394f",
   "metadata": {},
   "outputs": [
    {
     "data": {
      "image/png": "[encoded data removed]",
      "text/plain": [
       "<Figure size 432x288 with 1 Axes>"
      ]
     },
     "metadata": {
      "needs_background": "light"
     },
     "output_type": "display_data"
    },
    {
     "data": {
      "image/png": "[encoded data removed]",
      "text/plain": [
       "<Figure size 432x288 with 1 Axes>"
      ]
     },
     "metadata": {
      "needs_background": "light"
     },
     "output_type": "display_data"
    }
   ],
   "source": [
    "#  \"Accuracy\"\n",
    "plt.plot(CNN2.history['accuracy'])\n",
    "plt.plot(CNN2.history['val_accuracy'])\n",
    "plt.title('model accuracy')\n",
    "plt.ylabel('accuracy')\n",
    "plt.xlabel('epoch')\n",
    "plt.legend(['train', 'validation'], loc='upper left')\n",
    "plt.show()\n",
    "# \"Loss\"\n",
    "plt.plot(CNN2.history['loss'])\n",
    "plt.plot(CNN2.history['val_loss'])\n",
    "plt.title('model loss')\n",
    "plt.ylabel('loss')\n",
    "plt.xlabel('epoch')\n",
    "plt.legend(['train', 'validation'], loc='upper left')\n",
    "plt.show()"
   ]
  },
  {
   "cell_type": "code",
   "execution_count": null,
   "id": "810af4bd-5944-46ad-9932-c2215b4ab785",
   "metadata": {},
   "outputs": [],
   "source": []
  },
  {
   "cell_type": "code",
   "execution_count": 40,
   "id": "1f29278f-c057-4117-ad72-30ab4136a8cd",
   "metadata": {},
   "outputs": [],
   "source": [
    "y_preds_final = model3.predict(x_test)\n"
   ]
  },
  {
   "cell_type": "code",
   "execution_count": 43,
   "id": "fe7638d1-e79c-4125-a24e-85a028ba2a34",
   "metadata": {},
   "outputs": [
    {
     "data": {
      "text/plain": [
       "array([[4.2262814e-06, 1.8693448e-11, 1.1850775e-05, 9.9985540e-01,\n",
       "        1.8903426e-06, 5.8833924e-05, 6.6565357e-05, 7.9341044e-07,\n",
       "        4.5751784e-07, 5.2527864e-11],\n",
       "       [9.8047553e-07, 9.0554074e-08, 1.7671496e-10, 2.2940899e-08,\n",
       "        1.9515520e-09, 1.1168331e-08, 1.3755183e-09, 5.0792139e-09,\n",
       "        9.9999893e-01, 3.4114997e-09],\n",
       "       [1.3293185e-04, 6.4540253e-04, 8.5722995e-06, 3.6435310e-07,\n",
       "        1.4318758e-06, 1.9726388e-06, 3.1402553e-05, 2.0696452e-06,\n",
       "        9.9917018e-01, 5.6642634e-06],\n",
       "       [9.9532408e-01, 2.2065142e-05, 2.6098624e-04, 1.7173932e-05,\n",
       "        5.3459353e-06, 6.1635143e-07, 1.4522911e-06, 1.7219521e-07,\n",
       "        4.1031283e-03, 2.6505673e-04],\n",
       "       [1.3131552e-06, 1.0184359e-06, 1.3984158e-04, 3.5856930e-05,\n",
       "        5.8238518e-05, 8.7837044e-09, 9.9975938e-01, 1.2755580e-10,\n",
       "        2.3101957e-06, 1.9991990e-06]], dtype=float32)"
      ]
     },
     "execution_count": 43,
     "metadata": {},
     "output_type": "execute_result"
    }
   ],
   "source": [
    "y_preds_final[:5]"
   ]
  },
  {
   "cell_type": "code",
   "execution_count": 45,
   "id": "d8522e32-e052-4476-a946-72bc2a5c0ef7",
   "metadata": {},
   "outputs": [
    {
     "data": {
      "text/plain": [
       "[3, 8, 8, 0, 6]"
      ]
     },
     "execution_count": 45,
     "metadata": {},
     "output_type": "execute_result"
    }
   ],
   "source": [
    "y_classes = [np.argmax(element) for element in y_preds_final]\n",
    "y_classes[:5]"
   ]
  },
  {
   "cell_type": "code",
   "execution_count": 46,
   "id": "1186d690-a288-4c9c-8c93-cafc933ffcf6",
   "metadata": {},
   "outputs": [
    {
     "data": {
      "text/plain": [
       "array([3, 8, 8, 0, 6], dtype=uint8)"
      ]
     },
     "execution_count": 46,
     "metadata": {},
     "output_type": "execute_result"
    }
   ],
   "source": [
    "y_test[:5]"
   ]
  },
  {
   "cell_type": "code",
   "execution_count": 47,
   "id": "3928a995-9c22-458d-953f-0d1446cb65ea",
   "metadata": {},
   "outputs": [
    {
     "data": {
      "image/png": "[encoded data removed]",
      "text/plain": [
       "<Figure size 1080x144 with 1 Axes>"
      ]
     },
     "metadata": {
      "needs_background": "light"
     },
     "output_type": "display_data"
    }
   ],
   "source": [
    "plot_sample(x_test, y_test,5)"
   ]
  },
  {
   "cell_type": "code",
   "execution_count": 48,
   "id": "be136e55-767e-4c6f-817c-aa06e0d449e6",
   "metadata": {},
   "outputs": [
    {
     "data": {
      "text/plain": [
       "'frog'"
      ]
     },
     "execution_count": 48,
     "metadata": {},
     "output_type": "execute_result"
    }
   ],
   "source": [
    "classes[y_classes[5]]"
   ]
  },
  {
   "cell_type": "code",
   "execution_count": 49,
   "id": "c0305d1c-8793-4836-b793-6c3f5009050a",
   "metadata": {},
   "outputs": [
    {
     "data": {
      "image/png": "[encoded data removed]",
      "text/plain": [
       "<Figure size 1080x144 with 1 Axes>"
      ]
     },
     "metadata": {
      "needs_background": "light"
     },
     "output_type": "display_data"
    }
   ],
   "source": [
    "plot_sample(x_test, y_test,10)"
   ]
  },
  {
   "cell_type": "code",
   "execution_count": 50,
   "id": "25c3796d-efba-4cb2-a6f7-7354b0934b74",
   "metadata": {},
   "outputs": [
    {
     "data": {
      "text/plain": [
       "'airplane'"
      ]
     },
     "execution_count": 50,
     "metadata": {},
     "output_type": "execute_result"
    }
   ],
   "source": [
    "classes[y_classes[10]]"
   ]
  },
  {
   "cell_type": "code",
   "execution_count": null,
   "id": "e52626c9-19d7-423d-b123-b6155ff17c03",
   "metadata": {},
   "outputs": [],
   "source": []
  }
 ],
 "metadata": {
  "kernelspec": {
   "display_name": "default:Python",
   "language": "python",
   "name": "conda-env-default-py"
  },
  "language_info": {
   "codemirror_mode": {
    "name": "ipython",
    "version": 3
   },
   "file_extension": ".py",
   "mimetype": "text/x-python",
   "name": "python",
   "nbconvert_exporter": "python",
   "pygments_lexer": "ipython3",
   "version": "3.9.7"
  }
 },
 "nbformat": 4,
 "nbformat_minor": 5
}
