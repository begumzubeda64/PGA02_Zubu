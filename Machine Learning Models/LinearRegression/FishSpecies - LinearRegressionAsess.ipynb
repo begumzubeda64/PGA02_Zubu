{
 "cells": [
  {
   "cell_type": "code",
   "execution_count": 1,
   "metadata": {},
   "outputs": [],
   "source": [
    "#MULTIPLE LINEAR REGRESSION MODEL FOR WEIGHT ESTIMATION FROM MEASUREMENTS OF THE FISH\n",
    "\n",
    "#The aim of this case study is to estimate weight of the fish individuals from their measurements\n",
    "#through using linear regression model.\n",
    "#This study can be improved to use in fish farms. Individual fish swimming in front of the camera can\n",
    "#be measured from the video image and the weight of the fish can be estimated through the linear\n",
    "#regression model."
   ]
  },
  {
   "cell_type": "code",
   "execution_count": 2,
   "metadata": {},
   "outputs": [],
   "source": [
    "import numpy as np \n",
    "import pandas as pd \n",
    "import seaborn as sns\n",
    "import matplotlib.pyplot as plt\n",
    "import statsmodels.api as sm\n",
    "import statsmodels.formula.api as smf\n",
    "from sklearn.linear_model import LinearRegression\n",
    "from sklearn.metrics import mean_squared_error, r2_score"
   ]
  },
  {
   "cell_type": "code",
   "execution_count": 3,
   "metadata": {},
   "outputs": [
    {
     "data": {
      "text/html": [
       "<div>\n",
       "<style scoped>\n",
       "    .dataframe tbody tr th:only-of-type {\n",
       "        vertical-align: middle;\n",
       "    }\n",
       "\n",
       "    .dataframe tbody tr th {\n",
       "        vertical-align: top;\n",
       "    }\n",
       "\n",
       "    .dataframe thead th {\n",
       "        text-align: right;\n",
       "    }\n",
       "</style>\n",
       "<table border=\"1\" class=\"dataframe\">\n",
       "  <thead>\n",
       "    <tr style=\"text-align: right;\">\n",
       "      <th></th>\n",
       "      <th>Species</th>\n",
       "      <th>Weight</th>\n",
       "      <th>Length1</th>\n",
       "      <th>Length2</th>\n",
       "      <th>Length3</th>\n",
       "      <th>Height</th>\n",
       "      <th>Width</th>\n",
       "    </tr>\n",
       "  </thead>\n",
       "  <tbody>\n",
       "    <tr>\n",
       "      <th>98</th>\n",
       "      <td>Perch</td>\n",
       "      <td>188.0</td>\n",
       "      <td>22.6</td>\n",
       "      <td>24.6</td>\n",
       "      <td>26.2</td>\n",
       "      <td>6.7334</td>\n",
       "      <td>4.1658</td>\n",
       "    </tr>\n",
       "    <tr>\n",
       "      <th>144</th>\n",
       "      <td>Pike</td>\n",
       "      <td>1650.0</td>\n",
       "      <td>59.0</td>\n",
       "      <td>63.4</td>\n",
       "      <td>68.0</td>\n",
       "      <td>10.8120</td>\n",
       "      <td>7.4800</td>\n",
       "    </tr>\n",
       "    <tr>\n",
       "      <th>134</th>\n",
       "      <td>Pike</td>\n",
       "      <td>456.0</td>\n",
       "      <td>40.0</td>\n",
       "      <td>42.5</td>\n",
       "      <td>45.5</td>\n",
       "      <td>7.2800</td>\n",
       "      <td>4.3225</td>\n",
       "    </tr>\n",
       "    <tr>\n",
       "      <th>63</th>\n",
       "      <td>Parkki</td>\n",
       "      <td>90.0</td>\n",
       "      <td>16.3</td>\n",
       "      <td>17.7</td>\n",
       "      <td>19.8</td>\n",
       "      <td>7.4052</td>\n",
       "      <td>2.6730</td>\n",
       "    </tr>\n",
       "    <tr>\n",
       "      <th>156</th>\n",
       "      <td>Smelt</td>\n",
       "      <td>12.2</td>\n",
       "      <td>12.1</td>\n",
       "      <td>13.0</td>\n",
       "      <td>13.8</td>\n",
       "      <td>2.2770</td>\n",
       "      <td>1.2558</td>\n",
       "    </tr>\n",
       "    <tr>\n",
       "      <th>59</th>\n",
       "      <td>Whitefish</td>\n",
       "      <td>800.0</td>\n",
       "      <td>33.7</td>\n",
       "      <td>36.4</td>\n",
       "      <td>39.6</td>\n",
       "      <td>11.7612</td>\n",
       "      <td>6.5736</td>\n",
       "    </tr>\n",
       "    <tr>\n",
       "      <th>95</th>\n",
       "      <td>Perch</td>\n",
       "      <td>170.0</td>\n",
       "      <td>21.5</td>\n",
       "      <td>23.5</td>\n",
       "      <td>25.0</td>\n",
       "      <td>6.2750</td>\n",
       "      <td>3.7250</td>\n",
       "    </tr>\n",
       "    <tr>\n",
       "      <th>74</th>\n",
       "      <td>Perch</td>\n",
       "      <td>40.0</td>\n",
       "      <td>13.8</td>\n",
       "      <td>15.0</td>\n",
       "      <td>16.0</td>\n",
       "      <td>3.8240</td>\n",
       "      <td>2.4320</td>\n",
       "    </tr>\n",
       "    <tr>\n",
       "      <th>122</th>\n",
       "      <td>Perch</td>\n",
       "      <td>820.0</td>\n",
       "      <td>37.1</td>\n",
       "      <td>40.0</td>\n",
       "      <td>42.5</td>\n",
       "      <td>11.1350</td>\n",
       "      <td>6.6300</td>\n",
       "    </tr>\n",
       "    <tr>\n",
       "      <th>114</th>\n",
       "      <td>Perch</td>\n",
       "      <td>700.0</td>\n",
       "      <td>34.5</td>\n",
       "      <td>37.0</td>\n",
       "      <td>39.4</td>\n",
       "      <td>10.8350</td>\n",
       "      <td>6.2646</td>\n",
       "    </tr>\n",
       "  </tbody>\n",
       "</table>\n",
       "</div>"
      ],
      "text/plain": [
       "       Species  Weight  Length1  Length2  Length3   Height   Width\n",
       "98       Perch   188.0     22.6     24.6     26.2   6.7334  4.1658\n",
       "144       Pike  1650.0     59.0     63.4     68.0  10.8120  7.4800\n",
       "134       Pike   456.0     40.0     42.5     45.5   7.2800  4.3225\n",
       "63      Parkki    90.0     16.3     17.7     19.8   7.4052  2.6730\n",
       "156      Smelt    12.2     12.1     13.0     13.8   2.2770  1.2558\n",
       "59   Whitefish   800.0     33.7     36.4     39.6  11.7612  6.5736\n",
       "95       Perch   170.0     21.5     23.5     25.0   6.2750  3.7250\n",
       "74       Perch    40.0     13.8     15.0     16.0   3.8240  2.4320\n",
       "122      Perch   820.0     37.1     40.0     42.5  11.1350  6.6300\n",
       "114      Perch   700.0     34.5     37.0     39.4  10.8350  6.2646"
      ]
     },
     "execution_count": 3,
     "metadata": {},
     "output_type": "execute_result"
    }
   ],
   "source": [
    "data = pd.read_csv(r\"C:\\zubeda\\PGA02_Zubu\\Machine Learning Models\\LinearRegression\\Fish_dataset.csv\")\n",
    "df = data.copy()\n",
    "df.sample(10)"
   ]
  },
  {
   "cell_type": "code",
   "execution_count": 4,
   "metadata": {},
   "outputs": [
    {
     "data": {
      "text/html": [
       "<div>\n",
       "<style scoped>\n",
       "    .dataframe tbody tr th:only-of-type {\n",
       "        vertical-align: middle;\n",
       "    }\n",
       "\n",
       "    .dataframe tbody tr th {\n",
       "        vertical-align: top;\n",
       "    }\n",
       "\n",
       "    .dataframe thead th {\n",
       "        text-align: right;\n",
       "    }\n",
       "</style>\n",
       "<table border=\"1\" class=\"dataframe\">\n",
       "  <thead>\n",
       "    <tr style=\"text-align: right;\">\n",
       "      <th></th>\n",
       "      <th>Species</th>\n",
       "      <th>Weight</th>\n",
       "      <th>LengthVer</th>\n",
       "      <th>LengthDia</th>\n",
       "      <th>LengthCro</th>\n",
       "      <th>Height</th>\n",
       "      <th>Width</th>\n",
       "    </tr>\n",
       "  </thead>\n",
       "  <tbody>\n",
       "    <tr>\n",
       "      <th>0</th>\n",
       "      <td>Bream</td>\n",
       "      <td>242.0</td>\n",
       "      <td>23.2</td>\n",
       "      <td>25.4</td>\n",
       "      <td>30.0</td>\n",
       "      <td>11.5200</td>\n",
       "      <td>4.0200</td>\n",
       "    </tr>\n",
       "    <tr>\n",
       "      <th>1</th>\n",
       "      <td>Bream</td>\n",
       "      <td>290.0</td>\n",
       "      <td>24.0</td>\n",
       "      <td>26.3</td>\n",
       "      <td>31.2</td>\n",
       "      <td>12.4800</td>\n",
       "      <td>4.3056</td>\n",
       "    </tr>\n",
       "    <tr>\n",
       "      <th>2</th>\n",
       "      <td>Bream</td>\n",
       "      <td>340.0</td>\n",
       "      <td>23.9</td>\n",
       "      <td>26.5</td>\n",
       "      <td>31.1</td>\n",
       "      <td>12.3778</td>\n",
       "      <td>4.6961</td>\n",
       "    </tr>\n",
       "    <tr>\n",
       "      <th>3</th>\n",
       "      <td>Bream</td>\n",
       "      <td>363.0</td>\n",
       "      <td>26.3</td>\n",
       "      <td>29.0</td>\n",
       "      <td>33.5</td>\n",
       "      <td>12.7300</td>\n",
       "      <td>4.4555</td>\n",
       "    </tr>\n",
       "    <tr>\n",
       "      <th>4</th>\n",
       "      <td>Bream</td>\n",
       "      <td>430.0</td>\n",
       "      <td>26.5</td>\n",
       "      <td>29.0</td>\n",
       "      <td>34.0</td>\n",
       "      <td>12.4440</td>\n",
       "      <td>5.1340</td>\n",
       "    </tr>\n",
       "  </tbody>\n",
       "</table>\n",
       "</div>"
      ],
      "text/plain": [
       "  Species  Weight  LengthVer  LengthDia  LengthCro   Height   Width\n",
       "0   Bream   242.0       23.2       25.4       30.0  11.5200  4.0200\n",
       "1   Bream   290.0       24.0       26.3       31.2  12.4800  4.3056\n",
       "2   Bream   340.0       23.9       26.5       31.1  12.3778  4.6961\n",
       "3   Bream   363.0       26.3       29.0       33.5  12.7300  4.4555\n",
       "4   Bream   430.0       26.5       29.0       34.0  12.4440  5.1340"
      ]
     },
     "execution_count": 4,
     "metadata": {},
     "output_type": "execute_result"
    }
   ],
   "source": [
    "df.rename(columns= {'Length1':'LengthVer', 'Length2':'LengthDia', 'Length3':'LengthCro'}, inplace=True)\n",
    "df.head()"
   ]
  },
  {
   "cell_type": "code",
   "execution_count": 5,
   "metadata": {},
   "outputs": [
    {
     "data": {
      "text/html": [
       "<div>\n",
       "<style scoped>\n",
       "    .dataframe tbody tr th:only-of-type {\n",
       "        vertical-align: middle;\n",
       "    }\n",
       "\n",
       "    .dataframe tbody tr th {\n",
       "        vertical-align: top;\n",
       "    }\n",
       "\n",
       "    .dataframe thead th {\n",
       "        text-align: right;\n",
       "    }\n",
       "</style>\n",
       "<table border=\"1\" class=\"dataframe\">\n",
       "  <thead>\n",
       "    <tr style=\"text-align: right;\">\n",
       "      <th></th>\n",
       "      <th>Perch</th>\n",
       "      <th>Bream</th>\n",
       "      <th>Roach</th>\n",
       "      <th>Pike</th>\n",
       "      <th>Smelt</th>\n",
       "      <th>Parkki</th>\n",
       "      <th>Whitefish</th>\n",
       "    </tr>\n",
       "  </thead>\n",
       "  <tbody>\n",
       "    <tr>\n",
       "      <th>Species</th>\n",
       "      <td>56</td>\n",
       "      <td>35</td>\n",
       "      <td>20</td>\n",
       "      <td>17</td>\n",
       "      <td>14</td>\n",
       "      <td>11</td>\n",
       "      <td>6</td>\n",
       "    </tr>\n",
       "  </tbody>\n",
       "</table>\n",
       "</div>"
      ],
      "text/plain": [
       "         Perch  Bream  Roach  Pike  Smelt  Parkki  Whitefish\n",
       "Species     56     35     20    17     14      11          6"
      ]
     },
     "execution_count": 5,
     "metadata": {},
     "output_type": "execute_result"
    }
   ],
   "source": [
    "sp = df['Species'].value_counts()\n",
    "sp = pd.DataFrame(sp)\n",
    "sp.T"
   ]
  },
  {
   "cell_type": "code",
   "execution_count": 6,
   "metadata": {},
   "outputs": [
    {
     "data": {
      "image/png": "[encoded data removed]",
      "text/plain": [
       "<Figure size 432x288 with 1 Axes>"
      ]
     },
     "metadata": {
      "needs_background": "light"
     },
     "output_type": "display_data"
    }
   ],
   "source": [
    "# 1.Plot a bar chart showing count of individual species\n",
    "sns.barplot(x=sp.index, y=sp['Species']);\n",
    "plt.xlabel('Species')\n",
    "plt.ylabel('Counts of Species')\n",
    "plt.show()"
   ]
  },
  {
   "cell_type": "code",
   "execution_count": 7,
   "metadata": {},
   "outputs": [
    {
     "data": {
      "image/png": "[encoded data removed]",
      "text/plain": [
       "<Figure size 432x288 with 1 Axes>"
      ]
     },
     "metadata": {
      "needs_background": "light"
     },
     "output_type": "display_data"
    }
   ],
   "source": [
    "sp = df['Species'].value_counts()\n",
    "sp = pd.DataFrame(sp)\n",
    "sns.barplot(x=sp.index, y=sp['Species']);\n",
    "plt.xlabel('Species')\n",
    "plt.ylabel('Counts of Species')\n",
    "plt.show()"
   ]
  },
  {
   "cell_type": "code",
   "execution_count": 8,
   "metadata": {},
   "outputs": [
    {
     "data": {
      "text/plain": [
       "<AxesSubplot:xlabel='Weight'>"
      ]
     },
     "execution_count": 8,
     "metadata": {},
     "output_type": "execute_result"
    },
    {
     "data": {
      "image/png": "[encoded data removed]",
      "text/plain": [
       "<Figure size 432x288 with 1 Axes>"
      ]
     },
     "metadata": {
      "needs_background": "light"
     },
     "output_type": "display_data"
    }
   ],
   "source": [
    "# 2.Identify outliers and remove if any\n",
    "\n",
    "sns.boxplot(x=df['Weight'])"
   ]
  },
  {
   "cell_type": "code",
   "execution_count": 9,
   "metadata": {},
   "outputs": [],
   "source": [
    "dfw = df['Weight']\n",
    "dfw_Q1 = dfw.quantile(0.25)\n",
    "dfw_Q3 = dfw.quantile(0.75)\n",
    "dfw_IQR = dfw_Q3 - dfw_Q1\n",
    "dfw_lowerend = dfw_Q1 - (1.5 * dfw_IQR)\n",
    "dfw_upperend = dfw_Q3 + (1.5 * dfw_IQR)"
   ]
  },
  {
   "cell_type": "code",
   "execution_count": 10,
   "metadata": {},
   "outputs": [
    {
     "data": {
      "text/plain": [
       "142    1600.0\n",
       "143    1550.0\n",
       "144    1650.0\n",
       "Name: Weight, dtype: float64"
      ]
     },
     "execution_count": 10,
     "metadata": {},
     "output_type": "execute_result"
    }
   ],
   "source": [
    "dfw_outliers = dfw[(dfw < dfw_lowerend) | (dfw > dfw_upperend)]\n",
    "dfw_outliers"
   ]
  },
  {
   "cell_type": "code",
   "execution_count": 11,
   "metadata": {},
   "outputs": [
    {
     "data": {
      "text/plain": [
       "<AxesSubplot:xlabel='LengthVer'>"
      ]
     },
     "execution_count": 11,
     "metadata": {},
     "output_type": "execute_result"
    },
    {
     "data": {
      "image/png": "[encoded data removed]",
      "text/plain": [
       "<Figure size 432x288 with 1 Axes>"
      ]
     },
     "metadata": {
      "needs_background": "light"
     },
     "output_type": "display_data"
    }
   ],
   "source": [
    "sns.boxplot(x=df['LengthVer'])"
   ]
  },
  {
   "cell_type": "code",
   "execution_count": 12,
   "metadata": {},
   "outputs": [
    {
     "data": {
      "text/plain": [
       "142    56.0\n",
       "143    56.0\n",
       "144    59.0\n",
       "Name: LengthVer, dtype: float64"
      ]
     },
     "execution_count": 12,
     "metadata": {},
     "output_type": "execute_result"
    }
   ],
   "source": [
    "dflv = df['LengthVer']\n",
    "dflv_Q1 = dflv.quantile(0.25)\n",
    "dflv_Q3 = dflv.quantile(0.75)\n",
    "dflv_IQR = dflv_Q3 - dflv_Q1\n",
    "dflv_lowerend = dflv_Q1 - (1.5 * dflv_IQR)\n",
    "dflv_upperend = dflv_Q3 + (1.5 * dflv_IQR)\n",
    "\n",
    "dflv_outliers = dflv[(dflv < dflv_lowerend) | (dflv > dflv_upperend)]\n",
    "dflv_outliers"
   ]
  },
  {
   "cell_type": "code",
   "execution_count": 13,
   "metadata": {},
   "outputs": [
    {
     "data": {
      "text/plain": [
       "<AxesSubplot:xlabel='LengthDia'>"
      ]
     },
     "execution_count": 13,
     "metadata": {},
     "output_type": "execute_result"
    },
    {
     "data": {
      "image/png": "[encoded data removed]",
      "text/plain": [
       "<Figure size 432x288 with 1 Axes>"
      ]
     },
     "metadata": {
      "needs_background": "light"
     },
     "output_type": "display_data"
    }
   ],
   "source": [
    "sns.boxplot(x=df['LengthDia'])"
   ]
  },
  {
   "cell_type": "code",
   "execution_count": 14,
   "metadata": {},
   "outputs": [
    {
     "data": {
      "text/plain": [
       "142    60.0\n",
       "143    60.0\n",
       "144    63.4\n",
       "Name: LengthDia, dtype: float64"
      ]
     },
     "execution_count": 14,
     "metadata": {},
     "output_type": "execute_result"
    }
   ],
   "source": [
    "dfdia = df['LengthDia']\n",
    "dfdia_Q1 = dfdia.quantile(0.25)\n",
    "dfdia_Q3 = dfdia.quantile(0.75)\n",
    "dfdia_IQR = dfdia_Q3 - dfdia_Q1\n",
    "dfdia_lowerend = dfdia_Q1 - (1.5 * dfdia_IQR)\n",
    "dfdia_upperend = dfdia_Q3 + (1.5 * dfdia_IQR)\n",
    "\n",
    "dfdia_outliers = dfdia[(dfdia < dfdia_lowerend) | (dfdia > dfdia_upperend)]\n",
    "dfdia_outliers"
   ]
  },
  {
   "cell_type": "code",
   "execution_count": 15,
   "metadata": {},
   "outputs": [
    {
     "data": {
      "text/plain": [
       "<AxesSubplot:xlabel='LengthCro'>"
      ]
     },
     "execution_count": 15,
     "metadata": {},
     "output_type": "execute_result"
    },
    {
     "data": {
      "image/png": "[encoded data removed]",
      "text/plain": [
       "<Figure size 432x288 with 1 Axes>"
      ]
     },
     "metadata": {
      "needs_background": "light"
     },
     "output_type": "display_data"
    }
   ],
   "source": [
    "sns.boxplot(x=df['LengthCro'])"
   ]
  },
  {
   "cell_type": "code",
   "execution_count": 16,
   "metadata": {},
   "outputs": [
    {
     "data": {
      "text/plain": [
       "144    68.0\n",
       "Name: LengthCro, dtype: float64"
      ]
     },
     "execution_count": 16,
     "metadata": {},
     "output_type": "execute_result"
    }
   ],
   "source": [
    "dfcro = df['LengthCro']\n",
    "dfcro_Q1 = dfcro.quantile(0.25)\n",
    "dfcro_Q3 = dfcro.quantile(0.75)\n",
    "dfcro_IQR = dfcro_Q3 - dfcro_Q1\n",
    "dfcro_lowerend = dfcro_Q1 - (1.5 * dfcro_IQR)\n",
    "dfcro_upperend = dfcro_Q3 + (1.5 * dfcro_IQR)\n",
    "\n",
    "dfcro_outliers = dfcro[(dfcro < dfcro_lowerend) | (dfcro > dfcro_upperend)]\n",
    "dfcro_outliers"
   ]
  },
  {
   "cell_type": "code",
   "execution_count": 17,
   "metadata": {},
   "outputs": [
    {
     "data": {
      "text/html": [
       "<div>\n",
       "<style scoped>\n",
       "    .dataframe tbody tr th:only-of-type {\n",
       "        vertical-align: middle;\n",
       "    }\n",
       "\n",
       "    .dataframe tbody tr th {\n",
       "        vertical-align: top;\n",
       "    }\n",
       "\n",
       "    .dataframe thead th {\n",
       "        text-align: right;\n",
       "    }\n",
       "</style>\n",
       "<table border=\"1\" class=\"dataframe\">\n",
       "  <thead>\n",
       "    <tr style=\"text-align: right;\">\n",
       "      <th></th>\n",
       "      <th>count</th>\n",
       "      <th>mean</th>\n",
       "      <th>std</th>\n",
       "      <th>min</th>\n",
       "      <th>25%</th>\n",
       "      <th>50%</th>\n",
       "      <th>75%</th>\n",
       "      <th>max</th>\n",
       "    </tr>\n",
       "  </thead>\n",
       "  <tbody>\n",
       "    <tr>\n",
       "      <th>Weight</th>\n",
       "      <td>156.0</td>\n",
       "      <td>375.217308</td>\n",
       "      <td>319.546978</td>\n",
       "      <td>0.0000</td>\n",
       "      <td>120.000000</td>\n",
       "      <td>271.0000</td>\n",
       "      <td>612.500000</td>\n",
       "      <td>1250.000</td>\n",
       "    </tr>\n",
       "    <tr>\n",
       "      <th>LengthVer</th>\n",
       "      <td>156.0</td>\n",
       "      <td>25.655769</td>\n",
       "      <td>9.119630</td>\n",
       "      <td>7.5000</td>\n",
       "      <td>19.000000</td>\n",
       "      <td>25.0000</td>\n",
       "      <td>32.125000</td>\n",
       "      <td>52.000</td>\n",
       "    </tr>\n",
       "    <tr>\n",
       "      <th>LengthDia</th>\n",
       "      <td>156.0</td>\n",
       "      <td>27.786538</td>\n",
       "      <td>9.792651</td>\n",
       "      <td>8.4000</td>\n",
       "      <td>21.000000</td>\n",
       "      <td>26.7500</td>\n",
       "      <td>35.000000</td>\n",
       "      <td>56.000</td>\n",
       "    </tr>\n",
       "    <tr>\n",
       "      <th>LengthCro</th>\n",
       "      <td>156.0</td>\n",
       "      <td>30.571154</td>\n",
       "      <td>10.695359</td>\n",
       "      <td>8.8000</td>\n",
       "      <td>23.025000</td>\n",
       "      <td>29.2500</td>\n",
       "      <td>39.425000</td>\n",
       "      <td>59.700</td>\n",
       "    </tr>\n",
       "    <tr>\n",
       "      <th>Height</th>\n",
       "      <td>156.0</td>\n",
       "      <td>8.951128</td>\n",
       "      <td>4.324325</td>\n",
       "      <td>1.7284</td>\n",
       "      <td>5.931675</td>\n",
       "      <td>7.6478</td>\n",
       "      <td>12.378550</td>\n",
       "      <td>18.957</td>\n",
       "    </tr>\n",
       "    <tr>\n",
       "      <th>Width</th>\n",
       "      <td>156.0</td>\n",
       "      <td>4.375719</td>\n",
       "      <td>1.672188</td>\n",
       "      <td>1.0476</td>\n",
       "      <td>3.369600</td>\n",
       "      <td>4.2433</td>\n",
       "      <td>5.424375</td>\n",
       "      <td>8.142</td>\n",
       "    </tr>\n",
       "  </tbody>\n",
       "</table>\n",
       "</div>"
      ],
      "text/plain": [
       "           count        mean         std     min         25%       50%  \\\n",
       "Weight     156.0  375.217308  319.546978  0.0000  120.000000  271.0000   \n",
       "LengthVer  156.0   25.655769    9.119630  7.5000   19.000000   25.0000   \n",
       "LengthDia  156.0   27.786538    9.792651  8.4000   21.000000   26.7500   \n",
       "LengthCro  156.0   30.571154   10.695359  8.8000   23.025000   29.2500   \n",
       "Height     156.0    8.951128    4.324325  1.7284    5.931675    7.6478   \n",
       "Width      156.0    4.375719    1.672188  1.0476    3.369600    4.2433   \n",
       "\n",
       "                  75%       max  \n",
       "Weight     612.500000  1250.000  \n",
       "LengthVer   32.125000    52.000  \n",
       "LengthDia   35.000000    56.000  \n",
       "LengthCro   39.425000    59.700  \n",
       "Height      12.378550    18.957  \n",
       "Width        5.424375     8.142  "
      ]
     },
     "execution_count": 17,
     "metadata": {},
     "output_type": "execute_result"
    }
   ],
   "source": [
    "df1 = df.drop([142, 143, 144])\n",
    "df1.describe().T"
   ]
  },
  {
   "cell_type": "code",
   "execution_count": 19,
   "metadata": {},
   "outputs": [
    {
     "data": {
      "text/plain": [
       "<AxesSubplot:xlabel='LengthCro'>"
      ]
     },
     "execution_count": 19,
     "metadata": {},
     "output_type": "execute_result"
    },
    {
     "data": {
      "image/png": "[encoded data removed]",
      "text/plain": [
       "<Figure size 432x288 with 1 Axes>"
      ]
     },
     "metadata": {
      "needs_background": "light"
     },
     "output_type": "display_data"
    }
   ],
   "source": [
    "sns.boxplot(x=df1['LengthCro'])"
   ]
  },
  {
   "cell_type": "code",
   "execution_count": 20,
   "metadata": {},
   "outputs": [],
   "source": [
    "# 3.Build a regression model and print regression equation\n",
    "\n",
    "# Dependant (Target) Variable:\n",
    "y = df1['Weight']\n",
    "# Independant Variables:\n",
    "X = df1.iloc[:,2:7]  #Species is avoided because its categorical and does not have much significance"
   ]
  },
  {
   "cell_type": "code",
   "execution_count": 21,
   "metadata": {},
   "outputs": [
    {
     "name": "stdout",
     "output_type": "stream",
     "text": [
      "How many samples do we have in our test and train datasets?\n",
      "X_train:  (124, 5)\n",
      "y_train:  (124,)\n",
      "X_test:  (32, 5)\n",
      "y_test:  (32,)\n"
     ]
    }
   ],
   "source": [
    "from sklearn.model_selection import train_test_split\n",
    "X_train, X_test, y_train, y_test = train_test_split(X, y, test_size=0.2, random_state=1)\n",
    "\n",
    "print('How many samples do we have in our test and train datasets?')\n",
    "print('X_train: ', np.shape(X_train))\n",
    "print('y_train: ', np.shape(y_train))\n",
    "print('X_test: ', np.shape(X_test))\n",
    "print('y_test: ', np.shape(y_test))"
   ]
  },
  {
   "cell_type": "code",
   "execution_count": 22,
   "metadata": {},
   "outputs": [
    {
     "data": {
      "text/plain": [
       "LinearRegression()"
      ]
     },
     "execution_count": 22,
     "metadata": {},
     "output_type": "execute_result"
    }
   ],
   "source": [
    "reg = LinearRegression()\n",
    "reg.fit(X_train, y_train)"
   ]
  },
  {
   "cell_type": "code",
   "execution_count": 23,
   "metadata": {},
   "outputs": [
    {
     "name": "stdout",
     "output_type": "stream",
     "text": [
      "Model intercept:  -441.0088725388175\n",
      "Model coefficients:  [ 89.93843031 -32.68619524 -37.53063323  33.07275974  60.72005923]\n"
     ]
    }
   ],
   "source": [
    "# My model's parameters\n",
    "print('Model intercept: ', reg.intercept_)\n",
    "print('Model coefficients: ', reg.coef_)"
   ]
  },
  {
   "cell_type": "code",
   "execution_count": 24,
   "metadata": {},
   "outputs": [
    {
     "name": "stdout",
     "output_type": "stream",
     "text": [
      "y = -441.01 + 89.94*X1 -32.69*X2 -37.53*X3 + 33.07*X4 + 60.72*X5\n"
     ]
    }
   ],
   "source": [
    "print('y = ' + str('%.2f' % reg.intercept_) + ' + ' + str('%.2f' % reg.coef_[0]) + '*X1 ' + str('%.2f' % reg.coef_[1]) + ' + ' + '*X2 ' +\n",
    "      str('%.2f' % reg.coef_[2]) + '*X3 + ' + str('%.2f' % reg.coef_[3]) + '*X4 + ' + str('%.2f' % reg.coef_[4]) + '*X5')"
   ]
  },
  {
   "cell_type": "code",
   "execution_count": 25,
   "metadata": {},
   "outputs": [],
   "source": [
    "# 4.What is the mean score of the model at 95% confidence interval?\n",
    "\n",
    "y_pred = reg.predict(X_test)"
   ]
  },
  {
   "cell_type": "code",
   "execution_count": 26,
   "metadata": {},
   "outputs": [
    {
     "name": "stdout",
     "output_type": "stream",
     "text": [
      "[0.89119112 0.93859621 0.92572295 0.88550794 0.83504798]\n"
     ]
    }
   ],
   "source": [
    "from sklearn.model_selection import cross_val_score\n",
    "cross_val_score_train = cross_val_score(reg, X_train, y_train, cv=5, scoring='r2')\n",
    "print(cross_val_score_train)"
   ]
  },
  {
   "cell_type": "code",
   "execution_count": 27,
   "metadata": {},
   "outputs": [
    {
     "data": {
      "text/plain": [
       "0.8952132388952405"
      ]
     },
     "execution_count": 27,
     "metadata": {},
     "output_type": "execute_result"
    }
   ],
   "source": [
    "cross_val_score_train.mean()"
   ]
  },
  {
   "cell_type": "code",
   "execution_count": null,
   "metadata": {},
   "outputs": [],
   "source": [
    "# 5.Compare real and predicted weights and give a conclusion statement based on it?"
   ]
  }
 ],
 "metadata": {
  "kernelspec": {
   "display_name": "Python 3",
   "language": "python",
   "name": "python3"
  },
  "language_info": {
   "codemirror_mode": {
    "name": "ipython",
    "version": 3
   },
   "file_extension": ".py",
   "mimetype": "text/x-python",
   "name": "python",
   "nbconvert_exporter": "python",
   "pygments_lexer": "ipython3",
   "version": "3.8.5"
  }
 },
 "nbformat": 4,
 "nbformat_minor": 4
}
