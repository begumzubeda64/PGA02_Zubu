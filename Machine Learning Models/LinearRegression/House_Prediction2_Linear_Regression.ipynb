{
 "cells": [
  {
   "cell_type": "markdown",
   "metadata": {},
   "source": [
    "### 1. Import packages"
   ]
  },
  {
   "cell_type": "code",
   "execution_count": 1,
   "metadata": {},
   "outputs": [],
   "source": [
    "#'Pandas' is used for data manipulation and analysis\n",
    "import pandas as pd\n",
    "\n",
    "#'Numpy' is used for mathematical operations on large, multi-dimensional arrays and matrices\n",
    "import numpy as np\n",
    "\n",
    "#'Matplotlib' is a data visualization library for 2D & 3D plots, built on numpy\n",
    "import matplotlib.pyplot as plt\n",
    "\n",
    "#'datetime' is used to perform date & time operations\n",
    "import datetime as dt\n",
    "\n",
    "#'StandardScaler' is from sklearn.preprocessing module is used to scale the data\n",
    "from sklearn.preprocessing import StandardScaler\n",
    "\n",
    "#'eig' from numpy.linalg to calculate eigen values & eigen vectors\n",
    "from numpy.linalg import eig\n",
    "\n",
    "#'PCA' function to perform Pricipal Component Analysis using sklearn library\n",
    "from sklearn.decomposition import PCA"
   ]
  },
  {
   "cell_type": "markdown",
   "metadata": {},
   "source": [
    "### 2. Read the Data"
   ]
  },
  {
   "cell_type": "code",
   "execution_count": 2,
   "metadata": {},
   "outputs": [
    {
     "data": {
      "text/html": [
       "<div>\n",
       "<style scoped>\n",
       "    .dataframe tbody tr th:only-of-type {\n",
       "        vertical-align: middle;\n",
       "    }\n",
       "\n",
       "    .dataframe tbody tr th {\n",
       "        vertical-align: top;\n",
       "    }\n",
       "\n",
       "    .dataframe thead th {\n",
       "        text-align: right;\n",
       "    }\n",
       "</style>\n",
       "<table border=\"1\" class=\"dataframe\">\n",
       "  <thead>\n",
       "    <tr style=\"text-align: right;\">\n",
       "      <th></th>\n",
       "      <th>Id</th>\n",
       "      <th>MSSubClass</th>\n",
       "      <th>MSZoning</th>\n",
       "      <th>LotFrontage</th>\n",
       "      <th>LotArea</th>\n",
       "      <th>Street</th>\n",
       "      <th>Alley</th>\n",
       "      <th>LotShape</th>\n",
       "      <th>LandContour</th>\n",
       "      <th>Utilities</th>\n",
       "      <th>...</th>\n",
       "      <th>PoolArea</th>\n",
       "      <th>PoolQC</th>\n",
       "      <th>Fence</th>\n",
       "      <th>MiscFeature</th>\n",
       "      <th>MiscVal</th>\n",
       "      <th>MoSold</th>\n",
       "      <th>YrSold</th>\n",
       "      <th>SaleType</th>\n",
       "      <th>SaleCondition</th>\n",
       "      <th>SalePrice</th>\n",
       "    </tr>\n",
       "  </thead>\n",
       "  <tbody>\n",
       "    <tr>\n",
       "      <th>0</th>\n",
       "      <td>1</td>\n",
       "      <td>60</td>\n",
       "      <td>RL</td>\n",
       "      <td>65.0</td>\n",
       "      <td>8450</td>\n",
       "      <td>Pave</td>\n",
       "      <td>NaN</td>\n",
       "      <td>Reg</td>\n",
       "      <td>Lvl</td>\n",
       "      <td>AllPub</td>\n",
       "      <td>...</td>\n",
       "      <td>0</td>\n",
       "      <td>NaN</td>\n",
       "      <td>NaN</td>\n",
       "      <td>NaN</td>\n",
       "      <td>0</td>\n",
       "      <td>2</td>\n",
       "      <td>2008</td>\n",
       "      <td>WD</td>\n",
       "      <td>Normal</td>\n",
       "      <td>208500</td>\n",
       "    </tr>\n",
       "    <tr>\n",
       "      <th>1</th>\n",
       "      <td>2</td>\n",
       "      <td>20</td>\n",
       "      <td>RL</td>\n",
       "      <td>80.0</td>\n",
       "      <td>9600</td>\n",
       "      <td>Pave</td>\n",
       "      <td>NaN</td>\n",
       "      <td>Reg</td>\n",
       "      <td>Lvl</td>\n",
       "      <td>AllPub</td>\n",
       "      <td>...</td>\n",
       "      <td>0</td>\n",
       "      <td>NaN</td>\n",
       "      <td>NaN</td>\n",
       "      <td>NaN</td>\n",
       "      <td>0</td>\n",
       "      <td>5</td>\n",
       "      <td>2007</td>\n",
       "      <td>WD</td>\n",
       "      <td>Normal</td>\n",
       "      <td>181500</td>\n",
       "    </tr>\n",
       "    <tr>\n",
       "      <th>2</th>\n",
       "      <td>3</td>\n",
       "      <td>60</td>\n",
       "      <td>RL</td>\n",
       "      <td>68.0</td>\n",
       "      <td>11250</td>\n",
       "      <td>Pave</td>\n",
       "      <td>NaN</td>\n",
       "      <td>IR1</td>\n",
       "      <td>Lvl</td>\n",
       "      <td>AllPub</td>\n",
       "      <td>...</td>\n",
       "      <td>0</td>\n",
       "      <td>NaN</td>\n",
       "      <td>NaN</td>\n",
       "      <td>NaN</td>\n",
       "      <td>0</td>\n",
       "      <td>9</td>\n",
       "      <td>2008</td>\n",
       "      <td>WD</td>\n",
       "      <td>Normal</td>\n",
       "      <td>223500</td>\n",
       "    </tr>\n",
       "    <tr>\n",
       "      <th>3</th>\n",
       "      <td>4</td>\n",
       "      <td>70</td>\n",
       "      <td>RL</td>\n",
       "      <td>60.0</td>\n",
       "      <td>9550</td>\n",
       "      <td>Pave</td>\n",
       "      <td>NaN</td>\n",
       "      <td>IR1</td>\n",
       "      <td>Lvl</td>\n",
       "      <td>AllPub</td>\n",
       "      <td>...</td>\n",
       "      <td>0</td>\n",
       "      <td>NaN</td>\n",
       "      <td>NaN</td>\n",
       "      <td>NaN</td>\n",
       "      <td>0</td>\n",
       "      <td>2</td>\n",
       "      <td>2006</td>\n",
       "      <td>WD</td>\n",
       "      <td>Abnorml</td>\n",
       "      <td>140000</td>\n",
       "    </tr>\n",
       "    <tr>\n",
       "      <th>4</th>\n",
       "      <td>5</td>\n",
       "      <td>60</td>\n",
       "      <td>RL</td>\n",
       "      <td>84.0</td>\n",
       "      <td>14260</td>\n",
       "      <td>Pave</td>\n",
       "      <td>NaN</td>\n",
       "      <td>IR1</td>\n",
       "      <td>Lvl</td>\n",
       "      <td>AllPub</td>\n",
       "      <td>...</td>\n",
       "      <td>0</td>\n",
       "      <td>NaN</td>\n",
       "      <td>NaN</td>\n",
       "      <td>NaN</td>\n",
       "      <td>0</td>\n",
       "      <td>12</td>\n",
       "      <td>2008</td>\n",
       "      <td>WD</td>\n",
       "      <td>Normal</td>\n",
       "      <td>250000</td>\n",
       "    </tr>\n",
       "  </tbody>\n",
       "</table>\n",
       "<p>5 rows × 81 columns</p>\n",
       "</div>"
      ],
      "text/plain": [
       "   Id  MSSubClass MSZoning  LotFrontage  LotArea Street Alley LotShape  \\\n",
       "0   1          60       RL         65.0     8450   Pave   NaN      Reg   \n",
       "1   2          20       RL         80.0     9600   Pave   NaN      Reg   \n",
       "2   3          60       RL         68.0    11250   Pave   NaN      IR1   \n",
       "3   4          70       RL         60.0     9550   Pave   NaN      IR1   \n",
       "4   5          60       RL         84.0    14260   Pave   NaN      IR1   \n",
       "\n",
       "  LandContour Utilities  ... PoolArea PoolQC Fence MiscFeature MiscVal MoSold  \\\n",
       "0         Lvl    AllPub  ...        0    NaN   NaN         NaN       0      2   \n",
       "1         Lvl    AllPub  ...        0    NaN   NaN         NaN       0      5   \n",
       "2         Lvl    AllPub  ...        0    NaN   NaN         NaN       0      9   \n",
       "3         Lvl    AllPub  ...        0    NaN   NaN         NaN       0      2   \n",
       "4         Lvl    AllPub  ...        0    NaN   NaN         NaN       0     12   \n",
       "\n",
       "  YrSold  SaleType  SaleCondition  SalePrice  \n",
       "0   2008        WD         Normal     208500  \n",
       "1   2007        WD         Normal     181500  \n",
       "2   2008        WD         Normal     223500  \n",
       "3   2006        WD        Abnorml     140000  \n",
       "4   2008        WD         Normal     250000  \n",
       "\n",
       "[5 rows x 81 columns]"
      ]
     },
     "execution_count": 2,
     "metadata": {},
     "output_type": "execute_result"
    }
   ],
   "source": [
    "#read the data\n",
    "raw_data = pd.read_csv(r\"C:\\zubeda\\PGA02_Zubu\\Machine Learning Models\\PCA\\Principal Component Analysis (PCA)\\Dataset\\houseprice.csv\")\n",
    "\n",
    "#print first 5 rows\n",
    "raw_data.head()"
   ]
  },
  {
   "cell_type": "markdown",
   "metadata": {},
   "source": [
    "### 3. Understand and Prepare the Data"
   ]
  },
  {
   "cell_type": "code",
   "execution_count": 3,
   "metadata": {},
   "outputs": [
    {
     "name": "stdout",
     "output_type": "stream",
     "text": [
      "<class 'pandas.core.frame.DataFrame'>\n",
      "RangeIndex: 1460 entries, 0 to 1459\n",
      "Data columns (total 81 columns):\n",
      " #   Column         Non-Null Count  Dtype  \n",
      "---  ------         --------------  -----  \n",
      " 0   Id             1460 non-null   int64  \n",
      " 1   MSSubClass     1460 non-null   int64  \n",
      " 2   MSZoning       1460 non-null   object \n",
      " 3   LotFrontage    1201 non-null   float64\n",
      " 4   LotArea        1460 non-null   int64  \n",
      " 5   Street         1460 non-null   object \n",
      " 6   Alley          91 non-null     object \n",
      " 7   LotShape       1460 non-null   object \n",
      " 8   LandContour    1460 non-null   object \n",
      " 9   Utilities      1460 non-null   object \n",
      " 10  LotConfig      1460 non-null   object \n",
      " 11  LandSlope      1460 non-null   object \n",
      " 12  Neighborhood   1460 non-null   object \n",
      " 13  Condition1     1460 non-null   object \n",
      " 14  Condition2     1460 non-null   object \n",
      " 15  BldgType       1460 non-null   object \n",
      " 16  HouseStyle     1460 non-null   object \n",
      " 17  OverallQual    1460 non-null   int64  \n",
      " 18  OverallCond    1460 non-null   int64  \n",
      " 19  YearBuilt      1460 non-null   int64  \n",
      " 20  YearRemodAdd   1460 non-null   int64  \n",
      " 21  RoofStyle      1460 non-null   object \n",
      " 22  RoofMatl       1460 non-null   object \n",
      " 23  Exterior1st    1460 non-null   object \n",
      " 24  Exterior2nd    1460 non-null   object \n",
      " 25  MasVnrType     1452 non-null   object \n",
      " 26  MasVnrArea     1452 non-null   float64\n",
      " 27  ExterQual      1460 non-null   object \n",
      " 28  ExterCond      1460 non-null   object \n",
      " 29  Foundation     1460 non-null   object \n",
      " 30  BsmtQual       1423 non-null   object \n",
      " 31  BsmtCond       1423 non-null   object \n",
      " 32  BsmtExposure   1422 non-null   object \n",
      " 33  BsmtFinType1   1423 non-null   object \n",
      " 34  BsmtFinSF1     1460 non-null   int64  \n",
      " 35  BsmtFinType2   1422 non-null   object \n",
      " 36  BsmtFinSF2     1460 non-null   int64  \n",
      " 37  BsmtUnfSF      1460 non-null   int64  \n",
      " 38  TotalBsmtSF    1460 non-null   int64  \n",
      " 39  Heating        1460 non-null   object \n",
      " 40  HeatingQC      1460 non-null   object \n",
      " 41  CentralAir     1460 non-null   object \n",
      " 42  Electrical     1459 non-null   object \n",
      " 43  1stFlrSF       1460 non-null   int64  \n",
      " 44  2ndFlrSF       1460 non-null   int64  \n",
      " 45  LowQualFinSF   1460 non-null   int64  \n",
      " 46  GrLivArea      1460 non-null   int64  \n",
      " 47  BsmtFullBath   1460 non-null   int64  \n",
      " 48  BsmtHalfBath   1460 non-null   int64  \n",
      " 49  FullBath       1460 non-null   int64  \n",
      " 50  HalfBath       1460 non-null   int64  \n",
      " 51  BedroomAbvGr   1460 non-null   int64  \n",
      " 52  KitchenAbvGr   1460 non-null   int64  \n",
      " 53  KitchenQual    1460 non-null   object \n",
      " 54  TotRmsAbvGrd   1460 non-null   int64  \n",
      " 55  Functional     1460 non-null   object \n",
      " 56  Fireplaces     1460 non-null   int64  \n",
      " 57  FireplaceQu    770 non-null    object \n",
      " 58  GarageType     1379 non-null   object \n",
      " 59  GarageYrBlt    1379 non-null   float64\n",
      " 60  GarageFinish   1379 non-null   object \n",
      " 61  GarageCars     1460 non-null   int64  \n",
      " 62  GarageArea     1460 non-null   int64  \n",
      " 63  GarageQual     1379 non-null   object \n",
      " 64  GarageCond     1379 non-null   object \n",
      " 65  PavedDrive     1460 non-null   object \n",
      " 66  WoodDeckSF     1460 non-null   int64  \n",
      " 67  OpenPorchSF    1460 non-null   int64  \n",
      " 68  EnclosedPorch  1460 non-null   int64  \n",
      " 69  3SsnPorch      1460 non-null   int64  \n",
      " 70  ScreenPorch    1460 non-null   int64  \n",
      " 71  PoolArea       1460 non-null   int64  \n",
      " 72  PoolQC         7 non-null      object \n",
      " 73  Fence          281 non-null    object \n",
      " 74  MiscFeature    54 non-null     object \n",
      " 75  MiscVal        1460 non-null   int64  \n",
      " 76  MoSold         1460 non-null   int64  \n",
      " 77  YrSold         1460 non-null   int64  \n",
      " 78  SaleType       1460 non-null   object \n",
      " 79  SaleCondition  1460 non-null   object \n",
      " 80  SalePrice      1460 non-null   int64  \n",
      "dtypes: float64(3), int64(35), object(43)\n",
      "memory usage: 924.0+ KB\n"
     ]
    }
   ],
   "source": [
    "#chect the data types for variables\n",
    "raw_data.info()"
   ]
  },
  {
   "cell_type": "code",
   "execution_count": 4,
   "metadata": {},
   "outputs": [
    {
     "name": "stdout",
     "output_type": "stream",
     "text": [
      "(1460, 81)\n"
     ]
    }
   ],
   "source": [
    "#get the shape\n",
    "print(raw_data.shape)"
   ]
  },
  {
   "cell_type": "code",
   "execution_count": 5,
   "metadata": {},
   "outputs": [],
   "source": [
    "#Use .astype() to change the data type\n",
    "#Use ' for loop' to change the data type of a large number of columns\n",
    "for feature in ['MSSubClass', 'OverallQual', 'OverallCond']:\n",
    "    raw_data[feature] = raw_data[feature].astype('object')"
   ]
  },
  {
   "cell_type": "code",
   "execution_count": 6,
   "metadata": {},
   "outputs": [],
   "source": [
    "#'now().year' gives the current year\n",
    "#store the year as 'current_year'\n",
    "current_year = int(dt.datetime.now().year)"
   ]
  },
  {
   "cell_type": "code",
   "execution_count": 7,
   "metadata": {},
   "outputs": [],
   "source": [
    "#creating 2 new columns as 'Building_age' and 'Remodel_age'\n",
    "Building_age = current_year - raw_data.YearBuilt\n",
    "Remodel_age = current_year - raw_data.YearRemodAdd"
   ]
  },
  {
   "cell_type": "code",
   "execution_count": 8,
   "metadata": {},
   "outputs": [],
   "source": [
    "#add the above columns in our dataframe\n",
    "raw_data['Building_age'] = Building_age\n",
    "raw_data['Remodel_age'] = Remodel_age"
   ]
  },
  {
   "cell_type": "code",
   "execution_count": 9,
   "metadata": {},
   "outputs": [
    {
     "data": {
      "text/html": [
       "<div>\n",
       "<style scoped>\n",
       "    .dataframe tbody tr th:only-of-type {\n",
       "        vertical-align: middle;\n",
       "    }\n",
       "\n",
       "    .dataframe tbody tr th {\n",
       "        vertical-align: top;\n",
       "    }\n",
       "\n",
       "    .dataframe thead th {\n",
       "        text-align: right;\n",
       "    }\n",
       "</style>\n",
       "<table border=\"1\" class=\"dataframe\">\n",
       "  <thead>\n",
       "    <tr style=\"text-align: right;\">\n",
       "      <th></th>\n",
       "      <th>Id</th>\n",
       "      <th>MSSubClass</th>\n",
       "      <th>MSZoning</th>\n",
       "      <th>LotFrontage</th>\n",
       "      <th>LotArea</th>\n",
       "      <th>Street</th>\n",
       "      <th>Alley</th>\n",
       "      <th>LotShape</th>\n",
       "      <th>LandContour</th>\n",
       "      <th>Utilities</th>\n",
       "      <th>...</th>\n",
       "      <th>Fence</th>\n",
       "      <th>MiscFeature</th>\n",
       "      <th>MiscVal</th>\n",
       "      <th>MoSold</th>\n",
       "      <th>YrSold</th>\n",
       "      <th>SaleType</th>\n",
       "      <th>SaleCondition</th>\n",
       "      <th>SalePrice</th>\n",
       "      <th>Building_age</th>\n",
       "      <th>Remodel_age</th>\n",
       "    </tr>\n",
       "  </thead>\n",
       "  <tbody>\n",
       "    <tr>\n",
       "      <th>0</th>\n",
       "      <td>1</td>\n",
       "      <td>60</td>\n",
       "      <td>RL</td>\n",
       "      <td>65.0</td>\n",
       "      <td>8450</td>\n",
       "      <td>Pave</td>\n",
       "      <td>NaN</td>\n",
       "      <td>Reg</td>\n",
       "      <td>Lvl</td>\n",
       "      <td>AllPub</td>\n",
       "      <td>...</td>\n",
       "      <td>NaN</td>\n",
       "      <td>NaN</td>\n",
       "      <td>0</td>\n",
       "      <td>2</td>\n",
       "      <td>2008</td>\n",
       "      <td>WD</td>\n",
       "      <td>Normal</td>\n",
       "      <td>208500</td>\n",
       "      <td>18</td>\n",
       "      <td>18</td>\n",
       "    </tr>\n",
       "    <tr>\n",
       "      <th>1</th>\n",
       "      <td>2</td>\n",
       "      <td>20</td>\n",
       "      <td>RL</td>\n",
       "      <td>80.0</td>\n",
       "      <td>9600</td>\n",
       "      <td>Pave</td>\n",
       "      <td>NaN</td>\n",
       "      <td>Reg</td>\n",
       "      <td>Lvl</td>\n",
       "      <td>AllPub</td>\n",
       "      <td>...</td>\n",
       "      <td>NaN</td>\n",
       "      <td>NaN</td>\n",
       "      <td>0</td>\n",
       "      <td>5</td>\n",
       "      <td>2007</td>\n",
       "      <td>WD</td>\n",
       "      <td>Normal</td>\n",
       "      <td>181500</td>\n",
       "      <td>45</td>\n",
       "      <td>45</td>\n",
       "    </tr>\n",
       "    <tr>\n",
       "      <th>2</th>\n",
       "      <td>3</td>\n",
       "      <td>60</td>\n",
       "      <td>RL</td>\n",
       "      <td>68.0</td>\n",
       "      <td>11250</td>\n",
       "      <td>Pave</td>\n",
       "      <td>NaN</td>\n",
       "      <td>IR1</td>\n",
       "      <td>Lvl</td>\n",
       "      <td>AllPub</td>\n",
       "      <td>...</td>\n",
       "      <td>NaN</td>\n",
       "      <td>NaN</td>\n",
       "      <td>0</td>\n",
       "      <td>9</td>\n",
       "      <td>2008</td>\n",
       "      <td>WD</td>\n",
       "      <td>Normal</td>\n",
       "      <td>223500</td>\n",
       "      <td>20</td>\n",
       "      <td>19</td>\n",
       "    </tr>\n",
       "    <tr>\n",
       "      <th>3</th>\n",
       "      <td>4</td>\n",
       "      <td>70</td>\n",
       "      <td>RL</td>\n",
       "      <td>60.0</td>\n",
       "      <td>9550</td>\n",
       "      <td>Pave</td>\n",
       "      <td>NaN</td>\n",
       "      <td>IR1</td>\n",
       "      <td>Lvl</td>\n",
       "      <td>AllPub</td>\n",
       "      <td>...</td>\n",
       "      <td>NaN</td>\n",
       "      <td>NaN</td>\n",
       "      <td>0</td>\n",
       "      <td>2</td>\n",
       "      <td>2006</td>\n",
       "      <td>WD</td>\n",
       "      <td>Abnorml</td>\n",
       "      <td>140000</td>\n",
       "      <td>106</td>\n",
       "      <td>51</td>\n",
       "    </tr>\n",
       "    <tr>\n",
       "      <th>4</th>\n",
       "      <td>5</td>\n",
       "      <td>60</td>\n",
       "      <td>RL</td>\n",
       "      <td>84.0</td>\n",
       "      <td>14260</td>\n",
       "      <td>Pave</td>\n",
       "      <td>NaN</td>\n",
       "      <td>IR1</td>\n",
       "      <td>Lvl</td>\n",
       "      <td>AllPub</td>\n",
       "      <td>...</td>\n",
       "      <td>NaN</td>\n",
       "      <td>NaN</td>\n",
       "      <td>0</td>\n",
       "      <td>12</td>\n",
       "      <td>2008</td>\n",
       "      <td>WD</td>\n",
       "      <td>Normal</td>\n",
       "      <td>250000</td>\n",
       "      <td>21</td>\n",
       "      <td>21</td>\n",
       "    </tr>\n",
       "  </tbody>\n",
       "</table>\n",
       "<p>5 rows × 83 columns</p>\n",
       "</div>"
      ],
      "text/plain": [
       "   Id MSSubClass MSZoning  LotFrontage  LotArea Street Alley LotShape  \\\n",
       "0   1         60       RL         65.0     8450   Pave   NaN      Reg   \n",
       "1   2         20       RL         80.0     9600   Pave   NaN      Reg   \n",
       "2   3         60       RL         68.0    11250   Pave   NaN      IR1   \n",
       "3   4         70       RL         60.0     9550   Pave   NaN      IR1   \n",
       "4   5         60       RL         84.0    14260   Pave   NaN      IR1   \n",
       "\n",
       "  LandContour Utilities  ... Fence MiscFeature MiscVal MoSold YrSold SaleType  \\\n",
       "0         Lvl    AllPub  ...   NaN         NaN       0      2   2008       WD   \n",
       "1         Lvl    AllPub  ...   NaN         NaN       0      5   2007       WD   \n",
       "2         Lvl    AllPub  ...   NaN         NaN       0      9   2008       WD   \n",
       "3         Lvl    AllPub  ...   NaN         NaN       0      2   2006       WD   \n",
       "4         Lvl    AllPub  ...   NaN         NaN       0     12   2008       WD   \n",
       "\n",
       "  SaleCondition SalePrice Building_age  Remodel_age  \n",
       "0        Normal    208500           18           18  \n",
       "1        Normal    181500           45           45  \n",
       "2        Normal    223500           20           19  \n",
       "3       Abnorml    140000          106           51  \n",
       "4        Normal    250000           21           21  \n",
       "\n",
       "[5 rows x 83 columns]"
      ]
     },
     "execution_count": 9,
     "metadata": {},
     "output_type": "execute_result"
    }
   ],
   "source": [
    "#print the head of the data to check whether the new columns are added or not\n",
    "raw_data.head()"
   ]
  },
  {
   "cell_type": "code",
   "execution_count": 10,
   "metadata": {},
   "outputs": [
    {
     "data": {
      "text/plain": [
       "(1460, 83)"
      ]
     },
     "execution_count": 10,
     "metadata": {},
     "output_type": "execute_result"
    }
   ],
   "source": [
    "raw_data.shape"
   ]
  },
  {
   "cell_type": "markdown",
   "metadata": {},
   "source": [
    "**Missing Data Treatment**"
   ]
  },
  {
   "cell_type": "code",
   "execution_count": 11,
   "metadata": {},
   "outputs": [
    {
     "data": {
      "text/html": [
       "<div>\n",
       "<style scoped>\n",
       "    .dataframe tbody tr th:only-of-type {\n",
       "        vertical-align: middle;\n",
       "    }\n",
       "\n",
       "    .dataframe tbody tr th {\n",
       "        vertical-align: top;\n",
       "    }\n",
       "\n",
       "    .dataframe thead th {\n",
       "        text-align: right;\n",
       "    }\n",
       "</style>\n",
       "<table border=\"1\" class=\"dataframe\">\n",
       "  <thead>\n",
       "    <tr style=\"text-align: right;\">\n",
       "      <th></th>\n",
       "      <th>Total</th>\n",
       "      <th>Percent</th>\n",
       "    </tr>\n",
       "  </thead>\n",
       "  <tbody>\n",
       "    <tr>\n",
       "      <th>PoolQC</th>\n",
       "      <td>1453</td>\n",
       "      <td>1750.602410</td>\n",
       "    </tr>\n",
       "    <tr>\n",
       "      <th>MiscFeature</th>\n",
       "      <td>1406</td>\n",
       "      <td>1693.975904</td>\n",
       "    </tr>\n",
       "    <tr>\n",
       "      <th>Alley</th>\n",
       "      <td>1369</td>\n",
       "      <td>1649.397590</td>\n",
       "    </tr>\n",
       "    <tr>\n",
       "      <th>Fence</th>\n",
       "      <td>1179</td>\n",
       "      <td>1420.481928</td>\n",
       "    </tr>\n",
       "    <tr>\n",
       "      <th>FireplaceQu</th>\n",
       "      <td>690</td>\n",
       "      <td>831.325301</td>\n",
       "    </tr>\n",
       "    <tr>\n",
       "      <th>...</th>\n",
       "      <td>...</td>\n",
       "      <td>...</td>\n",
       "    </tr>\n",
       "    <tr>\n",
       "      <th>FullBath</th>\n",
       "      <td>0</td>\n",
       "      <td>0.000000</td>\n",
       "    </tr>\n",
       "    <tr>\n",
       "      <th>HalfBath</th>\n",
       "      <td>0</td>\n",
       "      <td>0.000000</td>\n",
       "    </tr>\n",
       "    <tr>\n",
       "      <th>BedroomAbvGr</th>\n",
       "      <td>0</td>\n",
       "      <td>0.000000</td>\n",
       "    </tr>\n",
       "    <tr>\n",
       "      <th>KitchenAbvGr</th>\n",
       "      <td>0</td>\n",
       "      <td>0.000000</td>\n",
       "    </tr>\n",
       "    <tr>\n",
       "      <th>Id</th>\n",
       "      <td>0</td>\n",
       "      <td>0.000000</td>\n",
       "    </tr>\n",
       "  </tbody>\n",
       "</table>\n",
       "<p>83 rows × 2 columns</p>\n",
       "</div>"
      ],
      "text/plain": [
       "              Total      Percent\n",
       "PoolQC         1453  1750.602410\n",
       "MiscFeature    1406  1693.975904\n",
       "Alley          1369  1649.397590\n",
       "Fence          1179  1420.481928\n",
       "FireplaceQu     690   831.325301\n",
       "...             ...          ...\n",
       "FullBath          0     0.000000\n",
       "HalfBath          0     0.000000\n",
       "BedroomAbvGr      0     0.000000\n",
       "KitchenAbvGr      0     0.000000\n",
       "Id                0     0.000000\n",
       "\n",
       "[83 rows x 2 columns]"
      ]
     },
     "execution_count": 11,
     "metadata": {},
     "output_type": "execute_result"
    }
   ],
   "source": [
    "# sorting variables on the basis of null values\n",
    "# 'ascending = False' sorts values in descending order\n",
    "Total = raw_data.isnull().sum().sort_values(ascending=False)\n",
    "\n",
    "# percentage  of missing values\n",
    "Percent = (raw_data.isnull().sum() * 100 / raw_data.isnull().sum().count()).sort_values(ascending=False)\n",
    "\n",
    "# concat the 'Total' and 'Percent' columns using 'concat' function\n",
    "# 'keys' is the list of column names\n",
    "# 'axis = 1' concats along the columns\n",
    "missing_data = pd.concat([Total, Percent], axis=1, keys=['Total', 'Percent'])\n",
    "missing_data"
   ]
  },
  {
   "cell_type": "markdown",
   "metadata": {},
   "source": [
    "**Replace the 'NA' values with their actual meaning as per the data definition**"
   ]
  },
  {
   "cell_type": "code",
   "execution_count": 12,
   "metadata": {},
   "outputs": [],
   "source": [
    "# replcae the NA values in 'Alley' with a valid value, 'No alley access'\n",
    "raw_data['Alley'].fillna('No alley access', inplace=True)"
   ]
  },
  {
   "cell_type": "code",
   "execution_count": 13,
   "metadata": {},
   "outputs": [],
   "source": [
    "# replcae the NA values in 'Alley' with a valid value, 'None'\n",
    "raw_data['MasVnrType'].fillna('None', inplace=True)"
   ]
  },
  {
   "cell_type": "code",
   "execution_count": 14,
   "metadata": {},
   "outputs": [],
   "source": [
    "# use 'for' loop for filling NA with 'No Basement' in the following 5 columns\n",
    "for col in ['BsmtQual', 'BsmtCond', 'BsmtExposure', 'BsmtFinType1', 'BsmtFinType2']:\n",
    "    raw_data[col].fillna('No Basement', inplace=True)"
   ]
  },
  {
   "cell_type": "code",
   "execution_count": 15,
   "metadata": {},
   "outputs": [],
   "source": [
    "# replace NA values in 'Electrical' with mode 'SBrkr'\n",
    "raw_data['Electrical'].fillna('SBrkr', inplace=True)"
   ]
  },
  {
   "cell_type": "code",
   "execution_count": 16,
   "metadata": {},
   "outputs": [],
   "source": [
    "# replace NA values in 'FireplaceQu' with valid value 'No Fireplace'\n",
    "raw_data['FireplaceQu'].fillna('No Fireplace', inplace=True)"
   ]
  },
  {
   "cell_type": "code",
   "execution_count": 17,
   "metadata": {},
   "outputs": [],
   "source": [
    "# use 'for' loop for filling NA with 'No Garage' in the following columns\n",
    "for col in ['GarageType', 'GarageFinish', 'GarageQual', 'GarageCond']:\n",
    "    raw_data[col].fillna('No Garage', inplace=True)"
   ]
  },
  {
   "cell_type": "code",
   "execution_count": 18,
   "metadata": {},
   "outputs": [],
   "source": [
    "# replace NA values in 'PoolQC' with valid value 'No Pool'\n",
    "raw_data['PoolQC'].fillna('No Pool', inplace=True)"
   ]
  },
  {
   "cell_type": "code",
   "execution_count": 19,
   "metadata": {},
   "outputs": [],
   "source": [
    "# replace NA values in 'Fence' with valid value 'No Fence'\n",
    "raw_data['Fence'].fillna('No Fence', inplace=True)"
   ]
  },
  {
   "cell_type": "code",
   "execution_count": 20,
   "metadata": {},
   "outputs": [],
   "source": [
    "# replace NA values in 'MiscFeature' with valid value 'None'\n",
    "raw_data['MiscFeature'].fillna('None', inplace=True)"
   ]
  },
  {
   "cell_type": "code",
   "execution_count": 21,
   "metadata": {},
   "outputs": [],
   "source": [
    "# Replace 'LotFrontage' 17.74% of missing values with its median value\n",
    "raw_data['LotFrontage'].fillna(raw_data['LotFrontage'].median(), inplace=True)"
   ]
  },
  {
   "cell_type": "code",
   "execution_count": 22,
   "metadata": {},
   "outputs": [],
   "source": [
    "# Replace 'MasVnrArea' 0.55% of missing values with 0 mode\n",
    "raw_data['MasVnrArea'].fillna(0, inplace=True)"
   ]
  },
  {
   "cell_type": "code",
   "execution_count": 23,
   "metadata": {},
   "outputs": [],
   "source": [
    "# Replace 'GarageYrBlt' missing values with 0 mode\n",
    "raw_data['GarageYrBlt'].fillna(0, inplace=True)"
   ]
  },
  {
   "cell_type": "code",
   "execution_count": 24,
   "metadata": {},
   "outputs": [
    {
     "data": {
      "text/plain": [
       "0"
      ]
     },
     "execution_count": 24,
     "metadata": {},
     "output_type": "execute_result"
    }
   ],
   "source": [
    "raw_data.isnull().any().sum()"
   ]
  },
  {
   "cell_type": "markdown",
   "metadata": {},
   "source": [
    "### 4. Compute PCA"
   ]
  },
  {
   "cell_type": "markdown",
   "metadata": {},
   "source": [
    "**1) Prepare the Data**"
   ]
  },
  {
   "cell_type": "code",
   "execution_count": 25,
   "metadata": {},
   "outputs": [
    {
     "data": {
      "text/html": [
       "<div>\n",
       "<style scoped>\n",
       "    .dataframe tbody tr th:only-of-type {\n",
       "        vertical-align: middle;\n",
       "    }\n",
       "\n",
       "    .dataframe tbody tr th {\n",
       "        vertical-align: top;\n",
       "    }\n",
       "\n",
       "    .dataframe thead th {\n",
       "        text-align: right;\n",
       "    }\n",
       "</style>\n",
       "<table border=\"1\" class=\"dataframe\">\n",
       "  <thead>\n",
       "    <tr style=\"text-align: right;\">\n",
       "      <th></th>\n",
       "      <th>Id</th>\n",
       "      <th>LotFrontage</th>\n",
       "      <th>LotArea</th>\n",
       "      <th>YearBuilt</th>\n",
       "      <th>YearRemodAdd</th>\n",
       "      <th>MasVnrArea</th>\n",
       "      <th>BsmtFinSF1</th>\n",
       "      <th>BsmtFinSF2</th>\n",
       "      <th>BsmtUnfSF</th>\n",
       "      <th>TotalBsmtSF</th>\n",
       "      <th>...</th>\n",
       "      <th>OpenPorchSF</th>\n",
       "      <th>EnclosedPorch</th>\n",
       "      <th>3SsnPorch</th>\n",
       "      <th>ScreenPorch</th>\n",
       "      <th>PoolArea</th>\n",
       "      <th>MiscVal</th>\n",
       "      <th>MoSold</th>\n",
       "      <th>YrSold</th>\n",
       "      <th>Building_age</th>\n",
       "      <th>Remodel_age</th>\n",
       "    </tr>\n",
       "  </thead>\n",
       "  <tbody>\n",
       "    <tr>\n",
       "      <th>0</th>\n",
       "      <td>1</td>\n",
       "      <td>65.0</td>\n",
       "      <td>8450</td>\n",
       "      <td>2003</td>\n",
       "      <td>2003</td>\n",
       "      <td>196.0</td>\n",
       "      <td>706</td>\n",
       "      <td>0</td>\n",
       "      <td>150</td>\n",
       "      <td>856</td>\n",
       "      <td>...</td>\n",
       "      <td>61</td>\n",
       "      <td>0</td>\n",
       "      <td>0</td>\n",
       "      <td>0</td>\n",
       "      <td>0</td>\n",
       "      <td>0</td>\n",
       "      <td>2</td>\n",
       "      <td>2008</td>\n",
       "      <td>18</td>\n",
       "      <td>18</td>\n",
       "    </tr>\n",
       "    <tr>\n",
       "      <th>1</th>\n",
       "      <td>2</td>\n",
       "      <td>80.0</td>\n",
       "      <td>9600</td>\n",
       "      <td>1976</td>\n",
       "      <td>1976</td>\n",
       "      <td>0.0</td>\n",
       "      <td>978</td>\n",
       "      <td>0</td>\n",
       "      <td>284</td>\n",
       "      <td>1262</td>\n",
       "      <td>...</td>\n",
       "      <td>0</td>\n",
       "      <td>0</td>\n",
       "      <td>0</td>\n",
       "      <td>0</td>\n",
       "      <td>0</td>\n",
       "      <td>0</td>\n",
       "      <td>5</td>\n",
       "      <td>2007</td>\n",
       "      <td>45</td>\n",
       "      <td>45</td>\n",
       "    </tr>\n",
       "    <tr>\n",
       "      <th>2</th>\n",
       "      <td>3</td>\n",
       "      <td>68.0</td>\n",
       "      <td>11250</td>\n",
       "      <td>2001</td>\n",
       "      <td>2002</td>\n",
       "      <td>162.0</td>\n",
       "      <td>486</td>\n",
       "      <td>0</td>\n",
       "      <td>434</td>\n",
       "      <td>920</td>\n",
       "      <td>...</td>\n",
       "      <td>42</td>\n",
       "      <td>0</td>\n",
       "      <td>0</td>\n",
       "      <td>0</td>\n",
       "      <td>0</td>\n",
       "      <td>0</td>\n",
       "      <td>9</td>\n",
       "      <td>2008</td>\n",
       "      <td>20</td>\n",
       "      <td>19</td>\n",
       "    </tr>\n",
       "    <tr>\n",
       "      <th>3</th>\n",
       "      <td>4</td>\n",
       "      <td>60.0</td>\n",
       "      <td>9550</td>\n",
       "      <td>1915</td>\n",
       "      <td>1970</td>\n",
       "      <td>0.0</td>\n",
       "      <td>216</td>\n",
       "      <td>0</td>\n",
       "      <td>540</td>\n",
       "      <td>756</td>\n",
       "      <td>...</td>\n",
       "      <td>35</td>\n",
       "      <td>272</td>\n",
       "      <td>0</td>\n",
       "      <td>0</td>\n",
       "      <td>0</td>\n",
       "      <td>0</td>\n",
       "      <td>2</td>\n",
       "      <td>2006</td>\n",
       "      <td>106</td>\n",
       "      <td>51</td>\n",
       "    </tr>\n",
       "    <tr>\n",
       "      <th>4</th>\n",
       "      <td>5</td>\n",
       "      <td>84.0</td>\n",
       "      <td>14260</td>\n",
       "      <td>2000</td>\n",
       "      <td>2000</td>\n",
       "      <td>350.0</td>\n",
       "      <td>655</td>\n",
       "      <td>0</td>\n",
       "      <td>490</td>\n",
       "      <td>1145</td>\n",
       "      <td>...</td>\n",
       "      <td>84</td>\n",
       "      <td>0</td>\n",
       "      <td>0</td>\n",
       "      <td>0</td>\n",
       "      <td>0</td>\n",
       "      <td>0</td>\n",
       "      <td>12</td>\n",
       "      <td>2008</td>\n",
       "      <td>21</td>\n",
       "      <td>21</td>\n",
       "    </tr>\n",
       "  </tbody>\n",
       "</table>\n",
       "<p>5 rows × 36 columns</p>\n",
       "</div>"
      ],
      "text/plain": [
       "   Id  LotFrontage  LotArea  YearBuilt  YearRemodAdd  MasVnrArea  BsmtFinSF1  \\\n",
       "0   1         65.0     8450       2003          2003       196.0         706   \n",
       "1   2         80.0     9600       1976          1976         0.0         978   \n",
       "2   3         68.0    11250       2001          2002       162.0         486   \n",
       "3   4         60.0     9550       1915          1970         0.0         216   \n",
       "4   5         84.0    14260       2000          2000       350.0         655   \n",
       "\n",
       "   BsmtFinSF2  BsmtUnfSF  TotalBsmtSF  ...  OpenPorchSF  EnclosedPorch  \\\n",
       "0           0        150          856  ...           61              0   \n",
       "1           0        284         1262  ...            0              0   \n",
       "2           0        434          920  ...           42              0   \n",
       "3           0        540          756  ...           35            272   \n",
       "4           0        490         1145  ...           84              0   \n",
       "\n",
       "   3SsnPorch  ScreenPorch  PoolArea  MiscVal  MoSold  YrSold  Building_age  \\\n",
       "0          0            0         0        0       2    2008            18   \n",
       "1          0            0         0        0       5    2007            45   \n",
       "2          0            0         0        0       9    2008            20   \n",
       "3          0            0         0        0       2    2006           106   \n",
       "4          0            0         0        0      12    2008            21   \n",
       "\n",
       "   Remodel_age  \n",
       "0           18  \n",
       "1           45  \n",
       "2           19  \n",
       "3           51  \n",
       "4           21  \n",
       "\n",
       "[5 rows x 36 columns]"
      ]
     },
     "execution_count": 25,
     "metadata": {},
     "output_type": "execute_result"
    }
   ],
   "source": [
    "# Select the numerical variables and store it as 'df_numerical_features'\n",
    "df_numerical_features = raw_data.select_dtypes(include=[np.number])\n",
    "\n",
    "# to select all the 'numerical' features(independent variables), drop the target variable from 'df_numerical_features'\n",
    "# use 'drop' function to drop entire column\n",
    "df_num = df_numerical_features.drop(['SalePrice'], axis=1)\n",
    "\n",
    "# head() to display top 5 rows\n",
    "df_num.head()"
   ]
  },
  {
   "cell_type": "markdown",
   "metadata": {},
   "source": [
    "**2) Scale the Data**"
   ]
  },
  {
   "cell_type": "code",
   "execution_count": 26,
   "metadata": {},
   "outputs": [
    {
     "name": "stdout",
     "output_type": "stream",
     "text": [
      "[[-1.73086488 -0.22087509 -0.20714171 ...  0.13877749 -1.05099379\n",
      "  -0.87866809]\n",
      " [-1.7284922   0.46031974 -0.09188637 ... -0.61443862 -0.15673371\n",
      "   0.42957697]\n",
      " [-1.72611953 -0.08463612  0.07347998 ...  0.13877749 -0.9847523\n",
      "  -0.83021457]\n",
      " ...\n",
      " [ 1.72611953 -0.1754621  -0.14781027 ...  1.64520971  1.00249232\n",
      "  -1.02402865]\n",
      " [ 1.7284922  -0.08463612 -0.08016039 ...  1.64520971  0.70440562\n",
      "  -0.53949344]\n",
      " [ 1.73086488  0.23325479 -0.05811155 ...  0.13877749  0.20759447\n",
      "   0.96256569]]\n"
     ]
    }
   ],
   "source": [
    "#fit_transform() transforms the data by first computing the mean and sd & later scaling the data\n",
    "df_num_std = StandardScaler().fit_transform(df_num)\n",
    "\n",
    "print(df_num_std)"
   ]
  },
  {
   "cell_type": "code",
   "execution_count": 27,
   "metadata": {},
   "outputs": [
    {
     "data": {
      "text/plain": [
       "(1460, 36)"
      ]
     },
     "execution_count": 27,
     "metadata": {},
     "output_type": "execute_result"
    }
   ],
   "source": [
    "# 'shape' function gives the total number of rows and columns in the scaled data\n",
    "df_num_std.shape"
   ]
  },
  {
   "cell_type": "markdown",
   "metadata": {},
   "source": [
    "**3) Covariance Matrix**"
   ]
  },
  {
   "cell_type": "code",
   "execution_count": 28,
   "metadata": {},
   "outputs": [
    {
     "name": "stdout",
     "output_type": "stream",
     "text": [
      "[[ 1.00068540e+00 -9.92826576e-03 -3.32482914e-02 -1.27214287e-02\n",
      "  -2.20127191e-02 -5.11064057e-02 -5.02749253e-03 -5.97176221e-03\n",
      "  -7.94514524e-03 -1.54251313e-02  1.05032350e-02  5.59368017e-03\n",
      "  -4.42602733e-02  8.27842782e-03  2.29012418e-03 -2.01685593e-02\n",
      "   5.59128255e-03  6.78846092e-03  3.77444066e-02  2.95325914e-03\n",
      "   2.72573939e-02 -1.97851839e-02  1.35004074e-02  1.65810340e-02\n",
      "   1.76458647e-02 -2.96635146e-02 -4.77238200e-04  2.89119814e-03\n",
      "  -4.66667524e-02  1.33112036e-03  5.70830027e-02 -6.24668340e-03\n",
      "   2.11866880e-02  7.12281881e-04  1.27214287e-02  2.20127191e-02]\n",
      " [-9.92826576e-03  1.00068540e+00  3.04730891e-01  1.16765369e-01\n",
      "   8.34052140e-02  1.78590896e-01  2.14513541e-01  4.24923323e-02\n",
      "   1.24183267e-01  3.63721436e-01  4.14056133e-01  7.24376356e-02\n",
      "   3.74949923e-02  3.68259672e-01  9.04047865e-02 -6.98377770e-03\n",
      "   1.80657531e-01  4.72540062e-02  2.37002365e-01 -4.90803219e-03\n",
      "   3.20737339e-01  2.33380490e-01  9.92638352e-02  2.69723997e-01\n",
      "   3.23732664e-01  7.55938857e-02  1.37107470e-01  1.02942634e-02\n",
      "   6.19876851e-02  3.76808863e-02  1.80942511e-01 -2.55539426e-04\n",
      "   1.04578463e-02  6.38480650e-03 -1.16765369e-01 -8.34052140e-02]\n",
      " [-3.32482914e-02  3.04730891e-01  1.00068540e+00  1.42374034e-02\n",
      "   1.37978777e-02  1.03391322e-01  2.14249877e-01  1.11245941e-01\n",
      "  -2.62015458e-03  2.61011910e-01  2.99679839e-01  5.10208941e-02\n",
      "   4.78224538e-03  2.63296507e-01  1.58262930e-01  4.80785014e-02\n",
      "   1.26117008e-01  1.42692420e-02  1.19771944e-01 -1.77960596e-02\n",
      "   1.90145014e-01  2.71550003e-01  7.26485272e-02  1.54976888e-01\n",
      "   1.80526403e-01  1.71815369e-01  8.48319129e-02 -1.83523037e-02\n",
      "   2.04368274e-02  4.31899599e-02  7.77256286e-02  3.80937837e-02\n",
      "   1.20581412e-03 -1.42711821e-02 -1.42374034e-02 -1.37978777e-02]\n",
      " [-1.27214287e-02  1.16765369e-01  1.42374034e-02  1.00068540e+00\n",
      "   5.93261320e-01  3.11813678e-01  2.49674206e-01 -4.91404891e-02\n",
      "   1.49142544e-01  3.91720304e-01  2.82179132e-01  1.03147245e-02\n",
      "  -1.83910310e-01  1.99146115e-01  1.87727130e-01 -3.81879618e-02\n",
      "   4.68591740e-01  2.42822227e-01 -7.06996413e-02 -1.74920054e-01\n",
      "   9.56546452e-02  1.47817644e-01  2.72215770e-01  5.38218735e-01\n",
      "   4.79282095e-01  2.25034275e-01  1.88815165e-01 -3.87533217e-01\n",
      "   3.13760035e-02 -5.03989544e-02  4.95312016e-03 -3.44067050e-02\n",
      "   1.24069685e-02 -1.36270136e-02 -1.00068540e+00 -5.93261320e-01]\n",
      " [-2.20127191e-02  8.34052140e-02  1.37978777e-02  5.93261320e-01\n",
      "   1.00068540e+00  1.76650174e-01  1.28538587e-01 -6.78049553e-02\n",
      "   1.81257236e-01  2.91265079e-01  2.40544024e-01  1.40119751e-01\n",
      "  -6.24618822e-02  2.87585496e-01  1.19551764e-01 -1.23454879e-02\n",
      "   4.39347407e-01  1.83456267e-01 -4.06087423e-02 -1.49700055e-01\n",
      "   1.91871235e-01  1.12658482e-01  1.46457537e-01  4.20910450e-01\n",
      "   3.71854504e-01  2.05866925e-01  2.26452737e-01 -1.94052059e-01\n",
      "   4.53168488e-02 -3.87665632e-02  5.83336749e-03 -1.02932990e-02\n",
      "   2.15047315e-02  3.57677456e-02 -5.93261320e-01 -1.00068540e+00]]\n"
     ]
    }
   ],
   "source": [
    "# generate the covariance matric using 'cov' function\n",
    "cov_mat = np.cov(df_num_std.T)\n",
    "\n",
    "# as 'cov_mat' is a numpy array, select first 5 observations with [0:5]\n",
    "print(cov_mat[0:5])"
   ]
  },
  {
   "cell_type": "markdown",
   "metadata": {},
   "source": [
    "**4) Compute Eigenvalues and Eigenvectors**"
   ]
  },
  {
   "cell_type": "code",
   "execution_count": 29,
   "metadata": {},
   "outputs": [
    {
     "name": "stdout",
     "output_type": "stream",
     "text": [
      "Eigenvalues:  \n",
      " \n",
      " [ 7.02179173e+00+0.00000000e+00j  3.31318344e+00+0.00000000e+00j\n",
      "  2.62014376e+00+0.00000000e+00j  1.89714381e+00+0.00000000e+00j\n",
      "  1.49857119e+00+0.00000000e+00j  9.99262867e-02+0.00000000e+00j\n",
      "  1.36211771e-01+0.00000000e+00j  1.94640489e-01+0.00000000e+00j\n",
      "  2.13801472e-01+0.00000000e+00j  3.00380456e-01+0.00000000e+00j\n",
      "  3.53762644e-01+0.00000000e+00j  4.01128263e-01+0.00000000e+00j\n",
      "  1.27687245e+00+0.00000000e+00j  5.43959006e-01+0.00000000e+00j\n",
      "  5.57115248e-01+0.00000000e+00j  6.14431186e-01+0.00000000e+00j\n",
      "  6.59132631e-01+0.00000000e+00j  6.52840604e-01+0.00000000e+00j\n",
      "  1.17647102e+00+0.00000000e+00j  1.13447502e+00+0.00000000e+00j\n",
      "  1.12592768e+00+0.00000000e+00j  1.09343693e+00+0.00000000e+00j\n",
      "  1.04401166e+00+0.00000000e+00j  1.02896692e+00+0.00000000e+00j\n",
      "  9.99080608e-01+0.00000000e+00j  9.66885771e-01+0.00000000e+00j\n",
      "  9.57630937e-01+0.00000000e+00j  8.94025715e-01+0.00000000e+00j\n",
      "  8.34764729e-01+0.00000000e+00j  8.45966165e-01+0.00000000e+00j\n",
      "  7.97564899e-01+0.00000000e+00j  7.70429936e-01+0.00000000e+00j\n",
      " -4.83272332e-17+0.00000000e+00j -5.22568214e-17+1.38290224e-16j\n",
      " -5.22568214e-17-1.38290224e-16j -4.12413162e-16+0.00000000e+00j] \n",
      "\n",
      "Eigenvectors:  \n",
      " \n",
      " [[-1.87838811e-03+0.00000000e+00j  1.65717562e-02+0.00000000e+00j\n",
      "   4.57333056e-04+0.00000000e+00j ...  2.13312494e-17+3.54128432e-18j\n",
      "   2.13312494e-17-3.54128432e-18j -5.50242761e-17+0.00000000e+00j]\n",
      " [ 1.57342794e-01+0.00000000e+00j  8.14030616e-02+0.00000000e+00j\n",
      "   2.25866214e-01+0.00000000e+00j ...  2.33617866e-16+5.24041538e-17j\n",
      "   2.33617866e-16-5.24041538e-17j -4.02338329e-16+0.00000000e+00j]\n",
      " [ 1.05985085e-01+0.00000000e+00j  4.65921894e-02+0.00000000e+00j\n",
      "   2.65167201e-01+0.00000000e+00j ... -9.17589219e-17-1.94730908e-17j\n",
      "  -9.17589219e-17+1.94730908e-17j  1.53029889e-16+0.00000000e+00j]\n",
      " ...\n",
      " [-1.05402610e-02+0.00000000e+00j -3.81469599e-02+0.00000000e+00j\n",
      "   5.52856262e-03+0.00000000e+00j ... -9.67316600e-18+1.16451896e-17j\n",
      "  -9.67316600e-18-1.16451896e-17j  4.94457448e-17+0.00000000e+00j]\n",
      " [-2.55989442e-01+0.00000000e+00j  2.51889020e-01+0.00000000e+00j\n",
      "   2.26440667e-01+0.00000000e+00j ... -9.33328368e-02-1.31217172e-01j\n",
      "  -9.33328368e-02+1.31217172e-01j -6.66345168e-01+0.00000000e+00j]\n",
      " [-2.32786025e-01+0.00000000e+00j  1.54529803e-01+0.00000000e+00j\n",
      "   2.75320241e-01+0.00000000e+00j ... -4.77883980e-02-3.39070949e-01j\n",
      "  -4.77883980e-02+3.39070949e-01j  1.90355929e-01+0.00000000e+00j]] \n",
      "\n"
     ]
    }
   ],
   "source": [
    "# use 'eig' function to compute Eigenvalues and Eigenvectors of the covariance vectors\n",
    "eig_val, eig_vec = np.linalg.eig(cov_mat)\n",
    "\n",
    "print('Eigenvalues: ', '\\n', '\\n', eig_val, '\\n')\n",
    "print('Eigenvectors: ', '\\n', '\\n', eig_vec, '\\n')"
   ]
  },
  {
   "cell_type": "markdown",
   "metadata": {},
   "source": [
    "**5) Decide the No. of Princiapal Components**"
   ]
  },
  {
   "cell_type": "code",
   "execution_count": 30,
   "metadata": {},
   "outputs": [
    {
     "name": "stdout",
     "output_type": "stream",
     "text": [
      "[(7.021791732999374+0j), (3.3131834374078046+0j), (2.620143757200951+0j), (1.8971438113148202+0j), (1.4985711938914759+0j), (1.2768724520305208+0j), (1.1764710217140895+0j), (1.1344750158558465+0j), (1.1259276821921596+0j), (1.093436934284549+0j), (1.0440116632724479+0j), (1.028966915423302+0j), (0.999080608411793+0j), (0.966885770577017+0j), (0.957630936675665+0j), (0.8940257153337101+0j), (0.8459661650894021+0j), (0.834764728975647+0j), (0.7975648985595455+0j), (0.7704299359464271+0j), (0.6591326308403379+0j), (0.6528406036790155+0j), (0.6144311862459941+0j), (0.5571152482491212+0j), (0.5439590064615208+0j), (0.40112826321759004+0j), (0.3537626440686832+0j), (0.30038045588219286+0j), (0.2138014724307727+0j), (0.19464048901475797+0j), (0.13621177055098752+0j), (0.09992628674667764+0j), (-4.832723321260668e-17+0j), (-5.2256821368847057e-17+1.3829022372414312e-16j), (-5.2256821368847057e-17-1.3829022372414312e-16j), (-4.124131623691277e-16+0j)]\n"
     ]
    }
   ],
   "source": [
    "# Eigenvalues greater than 1\n",
    "# create the list of eigenvalues\n",
    "eig_val = list(eig_val)\n",
    "\n",
    "#'sort(reverse=True)' will sort the eigenvalues in the descending order\n",
    "eig_val.sort(reverse=True)\n",
    "print(eig_val)"
   ]
  },
  {
   "cell_type": "code",
   "execution_count": 31,
   "metadata": {},
   "outputs": [
    {
     "name": "stderr",
     "output_type": "stream",
     "text": [
      "C:\\Users\\ashraf\\anaconda3\\lib\\site-packages\\numpy\\core\\_asarray.py:83: ComplexWarning: Casting complex values to real discards the imaginary part\n",
      "  return array(a, dtype, copy=False, order=order)\n"
     ]
    },
    {
     "data": {
      "image/png": "[encoded data removed]",
      "text/plain": [
       "<Figure size 432x288 with 1 Axes>"
      ]
     },
     "metadata": {
      "needs_background": "light"
     },
     "output_type": "display_data"
    }
   ],
   "source": [
    "# Scree plot\n",
    "# 'bp' represents blue color & pentagonal shape of points\n",
    "plt.plot(eig_val, 'bp')\n",
    "\n",
    "# plot a line plot\n",
    "plt.plot(eig_val)\n",
    "\n",
    "# label the x-axis\n",
    "plt.xlabel('Principal Components')\n",
    "\n",
    "# label the y-axis\n",
    "plt.ylabel('Percentage of explained variance')\n",
    "\n",
    "# use 'annonate' function to draw an arrow between points xy and xytext\n",
    "# 's' is a argument to write text\n",
    "# we can change the facecolor and arrowstyle; this is only for representation purpose\n",
    "plt.annotate(text='Elbow point', xy=(4, 1.5), xytext=(5, 2.5), arrowprops=dict(facecolor='black', arrowstyle='simple'))\n",
    "\n",
    "# title of the plot\n",
    "plt.title(\"Scree Plot\")\n",
    "\n",
    "plt.show()"
   ]
  },
  {
   "cell_type": "markdown",
   "metadata": {},
   "source": [
    "**6) PCA**"
   ]
  },
  {
   "cell_type": "code",
   "execution_count": 32,
   "metadata": {},
   "outputs": [
    {
     "data": {
      "text/plain": [
       "array([[ 1.57486557, -0.27222328, -1.58778585, -2.17954341,  0.92355349],\n",
       "       [ 0.20319675, -0.85811344,  1.05018224,  0.02903493, -0.76668867],\n",
       "       [ 1.7440671 , -0.28132481, -1.39892348, -1.61911608,  0.14982933],\n",
       "       ...,\n",
       "       [ 0.8007876 ,  3.06576114, -0.41418935,  0.02813404,  1.15085413],\n",
       "       [-2.26685356, -1.83761697,  1.64206121, -1.13884632,  0.6339446 ],\n",
       "       [-0.69648102, -0.99315962,  1.91010653, -1.96976405,  0.46587467]])"
      ]
     },
     "execution_count": 32,
     "metadata": {},
     "output_type": "execute_result"
    }
   ],
   "source": [
    "# specify required no. of components\n",
    "# take 'n_components=5' based on the analysis of scree plot\n",
    "pca = PCA(n_components=5, random_state=0)\n",
    "\n",
    "# fit_transform() computes the principal components\n",
    "# pass the standardized data to fit PCA\n",
    "PrincipalComponents = pca.fit_transform(df_num_std)\n",
    "PrincipalComponents"
   ]
  },
  {
   "cell_type": "code",
   "execution_count": 33,
   "metadata": {},
   "outputs": [
    {
     "data": {
      "text/html": [
       "<div>\n",
       "<style scoped>\n",
       "    .dataframe tbody tr th:only-of-type {\n",
       "        vertical-align: middle;\n",
       "    }\n",
       "\n",
       "    .dataframe tbody tr th {\n",
       "        vertical-align: top;\n",
       "    }\n",
       "\n",
       "    .dataframe thead th {\n",
       "        text-align: right;\n",
       "    }\n",
       "</style>\n",
       "<table border=\"1\" class=\"dataframe\">\n",
       "  <thead>\n",
       "    <tr style=\"text-align: right;\">\n",
       "      <th></th>\n",
       "      <th>PC1</th>\n",
       "      <th>PC2</th>\n",
       "      <th>PC3</th>\n",
       "      <th>PC4</th>\n",
       "      <th>PC5</th>\n",
       "    </tr>\n",
       "  </thead>\n",
       "  <tbody>\n",
       "    <tr>\n",
       "      <th>0</th>\n",
       "      <td>1.574866</td>\n",
       "      <td>-0.272223</td>\n",
       "      <td>-1.587786</td>\n",
       "      <td>-2.179543</td>\n",
       "      <td>0.923553</td>\n",
       "    </tr>\n",
       "    <tr>\n",
       "      <th>1</th>\n",
       "      <td>0.203197</td>\n",
       "      <td>-0.858113</td>\n",
       "      <td>1.050182</td>\n",
       "      <td>0.029035</td>\n",
       "      <td>-0.766689</td>\n",
       "    </tr>\n",
       "    <tr>\n",
       "      <th>2</th>\n",
       "      <td>1.744067</td>\n",
       "      <td>-0.281325</td>\n",
       "      <td>-1.398923</td>\n",
       "      <td>-1.619116</td>\n",
       "      <td>0.149829</td>\n",
       "    </tr>\n",
       "    <tr>\n",
       "      <th>3</th>\n",
       "      <td>-1.467107</td>\n",
       "      <td>1.832697</td>\n",
       "      <td>1.515536</td>\n",
       "      <td>-0.118626</td>\n",
       "      <td>-1.524802</td>\n",
       "    </tr>\n",
       "    <tr>\n",
       "      <th>4</th>\n",
       "      <td>4.219838</td>\n",
       "      <td>1.091179</td>\n",
       "      <td>-0.538118</td>\n",
       "      <td>-1.612861</td>\n",
       "      <td>-0.263856</td>\n",
       "    </tr>\n",
       "  </tbody>\n",
       "</table>\n",
       "</div>"
      ],
      "text/plain": [
       "        PC1       PC2       PC3       PC4       PC5\n",
       "0  1.574866 -0.272223 -1.587786 -2.179543  0.923553\n",
       "1  0.203197 -0.858113  1.050182  0.029035 -0.766689\n",
       "2  1.744067 -0.281325 -1.398923 -1.619116  0.149829\n",
       "3 -1.467107  1.832697  1.515536 -0.118626 -1.524802\n",
       "4  4.219838  1.091179 -0.538118 -1.612861 -0.263856"
      ]
     },
     "execution_count": 33,
     "metadata": {},
     "output_type": "execute_result"
    }
   ],
   "source": [
    "# create a dataframe of principal components\n",
    "PCA_df = pd.DataFrame(PrincipalComponents, columns=['PC1', 'PC2', 'PC3', 'PC4', 'PC5'])\n",
    "\n",
    "# head() to display top 5 rows\n",
    "PCA_df.head()"
   ]
  },
  {
   "cell_type": "markdown",
   "metadata": {},
   "source": [
    "### 5. Linear Regression"
   ]
  },
  {
   "cell_type": "code",
   "execution_count": 34,
   "metadata": {},
   "outputs": [],
   "source": [
    "df = pd.DataFrame(df_numerical_features['SalePrice'])\n",
    "df_scaled = pd.DataFrame(StandardScaler().fit_transform(df), columns=['SalePrice'])\n",
    "X = PCA_df\n",
    "y = df_scaled['SalePrice']"
   ]
  },
  {
   "cell_type": "code",
   "execution_count": 35,
   "metadata": {},
   "outputs": [],
   "source": [
    "#We specify this so that the train and test data set always have the same rows, respectively\n",
    "np.random.seed(0)\n",
    "\n",
    "#Splitting the data into Training and Testing sets\n",
    "from sklearn.model_selection import train_test_split\n",
    "\n",
    "X_train, X_test, y_train, y_test = train_test_split(X, y, test_size = 0.3, random_state = 100) #Randomly picked 70% training set, 30% test set"
   ]
  },
  {
   "cell_type": "code",
   "execution_count": 36,
   "metadata": {},
   "outputs": [
    {
     "data": {
      "text/plain": [
       "LinearRegression()"
      ]
     },
     "execution_count": 36,
     "metadata": {},
     "output_type": "execute_result"
    }
   ],
   "source": [
    "# Importing RFE and LinearRegression\n",
    "from sklearn.linear_model import LinearRegression\n",
    "\n",
    "lm = LinearRegression()\n",
    "lm.fit(X_train, y_train) #Training/Fitting the model"
   ]
  },
  {
   "cell_type": "code",
   "execution_count": 37,
   "metadata": {},
   "outputs": [],
   "source": [
    "#y = mx + c, where y = dependent variable, x = independent variable, m = slope, c = constant\n",
    "#Adding a constant variable\n",
    "import statsmodels.api as sm\n",
    "X_train = sm.add_constant(X_train)\n",
    "\n",
    "#add_constant adds a constant column to input data set\n",
    "#By default, statsmodels fits a line passing through the origin, i.e. it doesn't fit an intercept.\n",
    "#Hence, you need to use the command 'add_constant' so that it also fits an intercept."
   ]
  },
  {
   "cell_type": "code",
   "execution_count": 38,
   "metadata": {},
   "outputs": [],
   "source": [
    "lm = sm.OLS(y_train, X_train).fit() #fitting model"
   ]
  },
  {
   "cell_type": "code",
   "execution_count": 39,
   "metadata": {},
   "outputs": [
    {
     "name": "stdout",
     "output_type": "stream",
     "text": [
      "                            OLS Regression Results                            \n",
      "==============================================================================\n",
      "Dep. Variable:              SalePrice   R-squared:                       0.721\n",
      "Model:                            OLS   Adj. R-squared:                  0.719\n",
      "Method:                 Least Squares   F-statistic:                     524.7\n",
      "Date:                Fri, 31 Dec 2021   Prob (F-statistic):          1.65e-278\n",
      "Time:                        22:05:27   Log-Likelihood:                -793.60\n",
      "No. Observations:                1022   AIC:                             1599.\n",
      "Df Residuals:                    1016   BIC:                             1629.\n",
      "Df Model:                           5                                         \n",
      "Covariance Type:            nonrobust                                         \n",
      "==============================================================================\n",
      "                 coef    std err          t      P>|t|      [0.025      0.975]\n",
      "------------------------------------------------------------------------------\n",
      "const         -0.0041      0.017     -0.251      0.802      -0.037       0.028\n",
      "PC1            0.3164      0.006     50.933      0.000       0.304       0.329\n",
      "PC2            0.0006      0.009      0.062      0.950      -0.017       0.018\n",
      "PC3            0.0382      0.010      3.798      0.000       0.018       0.058\n",
      "PC4           -0.0297      0.012     -2.492      0.013      -0.053      -0.006\n",
      "PC5            0.0186      0.013      1.415      0.157      -0.007       0.044\n",
      "==============================================================================\n",
      "Omnibus:                      399.200   Durbin-Watson:                   2.117\n",
      "Prob(Omnibus):                  0.000   Jarque-Bera (JB):            58433.089\n",
      "Skew:                          -0.683   Prob(JB):                         0.00\n",
      "Kurtosis:                      40.018   Cond. No.                         2.66\n",
      "==============================================================================\n",
      "\n",
      "Notes:\n",
      "[1] Standard Errors assume that the covariance matrix of the errors is correctly specified.\n"
     ]
    }
   ],
   "source": [
    "#Let's see the summary of our linear model\n",
    "print(lm.summary())"
   ]
  },
  {
   "cell_type": "code",
   "execution_count": 40,
   "metadata": {},
   "outputs": [
    {
     "data": {
      "text/html": [
       "<div>\n",
       "<style scoped>\n",
       "    .dataframe tbody tr th:only-of-type {\n",
       "        vertical-align: middle;\n",
       "    }\n",
       "\n",
       "    .dataframe tbody tr th {\n",
       "        vertical-align: top;\n",
       "    }\n",
       "\n",
       "    .dataframe thead th {\n",
       "        text-align: right;\n",
       "    }\n",
       "</style>\n",
       "<table border=\"1\" class=\"dataframe\">\n",
       "  <thead>\n",
       "    <tr style=\"text-align: right;\">\n",
       "      <th></th>\n",
       "      <th>Features</th>\n",
       "      <th>VIF</th>\n",
       "    </tr>\n",
       "  </thead>\n",
       "  <tbody>\n",
       "    <tr>\n",
       "      <th>0</th>\n",
       "      <td>const</td>\n",
       "      <td>1.0</td>\n",
       "    </tr>\n",
       "    <tr>\n",
       "      <th>1</th>\n",
       "      <td>PC1</td>\n",
       "      <td>1.0</td>\n",
       "    </tr>\n",
       "    <tr>\n",
       "      <th>2</th>\n",
       "      <td>PC2</td>\n",
       "      <td>1.0</td>\n",
       "    </tr>\n",
       "    <tr>\n",
       "      <th>3</th>\n",
       "      <td>PC3</td>\n",
       "      <td>1.0</td>\n",
       "    </tr>\n",
       "    <tr>\n",
       "      <th>4</th>\n",
       "      <td>PC4</td>\n",
       "      <td>1.0</td>\n",
       "    </tr>\n",
       "    <tr>\n",
       "      <th>5</th>\n",
       "      <td>PC5</td>\n",
       "      <td>1.0</td>\n",
       "    </tr>\n",
       "  </tbody>\n",
       "</table>\n",
       "</div>"
      ],
      "text/plain": [
       "  Features  VIF\n",
       "0    const  1.0\n",
       "1      PC1  1.0\n",
       "2      PC2  1.0\n",
       "3      PC3  1.0\n",
       "4      PC4  1.0\n",
       "5      PC5  1.0"
      ]
     },
     "execution_count": 40,
     "metadata": {},
     "output_type": "execute_result"
    }
   ],
   "source": [
    "#Calculate the VIFs for the model\n",
    "from statsmodels.stats.outliers_influence import variance_inflation_factor\n",
    "\n",
    "#The Variance Inflation Factor (VIF) is a measure of colinearity among predictor variables within a\n",
    "#multiple regression.\n",
    "#A multiple regression is used when a person wants to test the effect of multiple variables on a\n",
    "#particular outcome. Using variance inflation factors helps to identify the severity of any\n",
    "#multicollinearity issues so that the model can be adjusted.\n",
    "\n",
    "vif = pd.DataFrame()\n",
    "x = X_train\n",
    "vif['Features'] = x.columns\n",
    "vif['VIF'] = [variance_inflation_factor(x.values, i) for i in range(x.shape[1])]\n",
    "vif['VIF'] = round(vif['VIF'], 2)\n",
    "vif = vif.sort_values(by = \"VIF\", ascending = False)\n",
    "vif\n",
    "\n",
    "#A VIF above 10 indicates high correlation and is cause for concern."
   ]
  },
  {
   "cell_type": "code",
   "execution_count": 41,
   "metadata": {},
   "outputs": [],
   "source": [
    "#Residual Analysis of the train data\n",
    "#So, now to check if the error terms are also normally distributed (which is infact, one of the major\n",
    "#assumptions of linear regression), let us plot the histogram of the error terms and see what it looks\n",
    "#like.\n",
    "\n",
    "y_pred = lm.predict(X_train)\n",
    "res = (y_pred - y_train)"
   ]
  },
  {
   "cell_type": "code",
   "execution_count": 42,
   "metadata": {},
   "outputs": [
    {
     "name": "stderr",
     "output_type": "stream",
     "text": [
      "C:\\Users\\ashraf\\anaconda3\\lib\\site-packages\\seaborn\\distributions.py:2551: FutureWarning: `distplot` is a deprecated function and will be removed in a future version. Please adapt your code to use either `displot` (a figure-level function with similar flexibility) or `histplot` (an axes-level function for histograms).\n",
      "  warnings.warn(msg, FutureWarning)\n"
     ]
    },
    {
     "data": {
      "image/png": "[encoded data removed]",
      "text/plain": [
       "<Figure size 432x288 with 1 Axes>"
      ]
     },
     "metadata": {
      "needs_background": "light"
     },
     "output_type": "display_data"
    }
   ],
   "source": [
    "#Plot the histogram of error terms\n",
    "import seaborn as sns\n",
    "fig = plt.figure()\n",
    "sns.distplot((y_train - y_pred), bins = 20)\n",
    "fig.suptitle('Error Terms', fontsize = 20)  #Plot heading\n",
    "plt.xlabel('Errors', fontsize = 18)  #X-label\n",
    "plt.show()"
   ]
  },
  {
   "cell_type": "code",
   "execution_count": 43,
   "metadata": {},
   "outputs": [
    {
     "data": {
      "image/png": "[encoded data removed]",
      "text/plain": [
       "<Figure size 432x288 with 1 Axes>"
      ]
     },
     "metadata": {
      "needs_background": "light"
     },
     "output_type": "display_data"
    }
   ],
   "source": [
    "plt.scatter(y_train, res)\n",
    "plt.show()\n",
    "\n",
    "#There may be some relation in the error terms."
   ]
  },
  {
   "cell_type": "code",
   "execution_count": 44,
   "metadata": {},
   "outputs": [],
   "source": [
    "#Model Evaluation\n",
    "#Adding constant variable to test df\n",
    "X_test = sm.add_constant(X_test)"
   ]
  },
  {
   "cell_type": "code",
   "execution_count": 45,
   "metadata": {},
   "outputs": [],
   "source": [
    "#Now let's use our model to make predictions\n",
    "#Creating x_test_new df by dropping variables from x_test\n",
    "X_test_new = X_test[X_train.columns]"
   ]
  },
  {
   "cell_type": "code",
   "execution_count": 46,
   "metadata": {},
   "outputs": [],
   "source": [
    "#Making predictions\n",
    "y_pred1 = lm.predict(X_test_new)"
   ]
  },
  {
   "cell_type": "code",
   "execution_count": 47,
   "metadata": {},
   "outputs": [
    {
     "data": {
      "text/plain": [
       "0.7504202031658431"
      ]
     },
     "execution_count": 47,
     "metadata": {},
     "output_type": "execute_result"
    }
   ],
   "source": [
    "from sklearn.metrics import r2_score\n",
    "r2_score(y_test, y_pred1)"
   ]
  },
  {
   "cell_type": "code",
   "execution_count": 48,
   "metadata": {},
   "outputs": [
    {
     "data": {
      "text/plain": [
       "Text(0, 0.5, 'y_pred')"
      ]
     },
     "execution_count": 48,
     "metadata": {},
     "output_type": "execute_result"
    },
    {
     "data": {
      "image/png": "[encoded data removed]",
      "text/plain": [
       "<Figure size 432x288 with 1 Axes>"
      ]
     },
     "metadata": {
      "needs_background": "light"
     },
     "output_type": "display_data"
    }
   ],
   "source": [
    "#Plotting y_test and y_pred to understand the spread.\n",
    "fig = plt.figure()\n",
    "plt.scatter(y_test, y_pred1)\n",
    "fig.suptitle('y_test vs y_pred', fontsize=20)\n",
    "plt.xlabel('y_test', fontsize=18)\n",
    "plt.ylabel('y_pred', fontsize=16)"
   ]
  },
  {
   "cell_type": "code",
   "execution_count": 49,
   "metadata": {},
   "outputs": [],
   "source": [
    "#We can see that the equation of our best fitted line is:\n",
    "\n",
    "price = 0.31*PC1 + 0.00*PC2 + 0.03*PC3 + 0.02*PC4 + 0.01*PC5"
   ]
  },
  {
   "cell_type": "code",
   "execution_count": null,
   "metadata": {},
   "outputs": [],
   "source": []
  }
 ],
 "metadata": {
  "kernelspec": {
   "display_name": "Python 3",
   "language": "python",
   "name": "python3"
  },
  "language_info": {
   "codemirror_mode": {
    "name": "ipython",
    "version": 3
   },
   "file_extension": ".py",
   "mimetype": "text/x-python",
   "name": "python",
   "nbconvert_exporter": "python",
   "pygments_lexer": "ipython3",
   "version": "3.8.5"
  }
 },
 "nbformat": 4,
 "nbformat_minor": 4
}
