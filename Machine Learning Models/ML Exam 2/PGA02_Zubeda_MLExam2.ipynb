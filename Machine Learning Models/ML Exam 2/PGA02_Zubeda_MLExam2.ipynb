{
 "cells": [
  {
   "cell_type": "markdown",
   "id": "ba296480-7e31-425c-9d8a-ce14e4278f43",
   "metadata": {},
   "source": [
    "# Part I - Unsupervised Learning"
   ]
  },
  {
   "cell_type": "markdown",
   "id": "0ef2f416-7ad6-4097-8930-986d073df953",
   "metadata": {},
   "source": [
    "### Import packages"
   ]
  },
  {
   "cell_type": "code",
   "execution_count": 1,
   "id": "7a07fb65-ec37-4681-8a63-9ae397f1731a",
   "metadata": {},
   "outputs": [],
   "source": [
    "import pandas as pd\n",
    "import numpy as np\n",
    "import seaborn as sns\n",
    "import matplotlib.pyplot as plt\n",
    "import warnings\n",
    "warnings.filterwarnings(\"ignore\")"
   ]
  },
  {
   "cell_type": "markdown",
   "id": "b7931314-d4ac-4041-b82f-c00c5bd83e98",
   "metadata": {},
   "source": [
    "### Import Dataset"
   ]
  },
  {
   "cell_type": "code",
   "execution_count": 2,
   "id": "44ba3414-0121-464a-af78-719efe046513",
   "metadata": {},
   "outputs": [
    {
     "data": {
      "text/html": [
       "<div>\n",
       "<style scoped>\n",
       "    .dataframe tbody tr th:only-of-type {\n",
       "        vertical-align: middle;\n",
       "    }\n",
       "\n",
       "    .dataframe tbody tr th {\n",
       "        vertical-align: top;\n",
       "    }\n",
       "\n",
       "    .dataframe thead th {\n",
       "        text-align: right;\n",
       "    }\n",
       "</style>\n",
       "<table border=\"1\" class=\"dataframe\">\n",
       "  <thead>\n",
       "    <tr style=\"text-align: right;\">\n",
       "      <th></th>\n",
       "      <th>CUST_ID</th>\n",
       "      <th>BALANCE</th>\n",
       "      <th>BALANCE_FREQUENCY</th>\n",
       "      <th>PURCHASES</th>\n",
       "      <th>ONEOFF_PURCHASES</th>\n",
       "      <th>INSTALLMENTS_PURCHASES</th>\n",
       "      <th>CASH_ADVANCE</th>\n",
       "      <th>PURCHASES_FREQUENCY</th>\n",
       "      <th>ONEOFF_PURCHASES_FREQUENCY</th>\n",
       "      <th>PURCHASES_INSTALLMENTS_FREQUENCY</th>\n",
       "      <th>CASH_ADVANCE_FREQUENCY</th>\n",
       "      <th>CASH_ADVANCE_TRX</th>\n",
       "      <th>PURCHASES_TRX</th>\n",
       "      <th>CREDIT_LIMIT</th>\n",
       "      <th>PAYMENTS</th>\n",
       "      <th>MINIMUM_PAYMENTS</th>\n",
       "      <th>PRC_FULL_PAYMENT</th>\n",
       "      <th>TENURE</th>\n",
       "    </tr>\n",
       "  </thead>\n",
       "  <tbody>\n",
       "    <tr>\n",
       "      <th>0</th>\n",
       "      <td>C10001</td>\n",
       "      <td>40.900749</td>\n",
       "      <td>0.818182</td>\n",
       "      <td>95.40</td>\n",
       "      <td>0.00</td>\n",
       "      <td>95.4</td>\n",
       "      <td>0.000000</td>\n",
       "      <td>0.166667</td>\n",
       "      <td>0.000000</td>\n",
       "      <td>0.083333</td>\n",
       "      <td>0.000000</td>\n",
       "      <td>0</td>\n",
       "      <td>2</td>\n",
       "      <td>1000.0</td>\n",
       "      <td>201.802084</td>\n",
       "      <td>139.509787</td>\n",
       "      <td>0.000000</td>\n",
       "      <td>12</td>\n",
       "    </tr>\n",
       "    <tr>\n",
       "      <th>1</th>\n",
       "      <td>C10002</td>\n",
       "      <td>3202.467416</td>\n",
       "      <td>0.909091</td>\n",
       "      <td>0.00</td>\n",
       "      <td>0.00</td>\n",
       "      <td>0.0</td>\n",
       "      <td>6442.945483</td>\n",
       "      <td>0.000000</td>\n",
       "      <td>0.000000</td>\n",
       "      <td>0.000000</td>\n",
       "      <td>0.250000</td>\n",
       "      <td>4</td>\n",
       "      <td>0</td>\n",
       "      <td>7000.0</td>\n",
       "      <td>4103.032597</td>\n",
       "      <td>1072.340217</td>\n",
       "      <td>0.222222</td>\n",
       "      <td>12</td>\n",
       "    </tr>\n",
       "    <tr>\n",
       "      <th>2</th>\n",
       "      <td>C10003</td>\n",
       "      <td>2495.148862</td>\n",
       "      <td>1.000000</td>\n",
       "      <td>773.17</td>\n",
       "      <td>773.17</td>\n",
       "      <td>0.0</td>\n",
       "      <td>0.000000</td>\n",
       "      <td>1.000000</td>\n",
       "      <td>1.000000</td>\n",
       "      <td>0.000000</td>\n",
       "      <td>0.000000</td>\n",
       "      <td>0</td>\n",
       "      <td>12</td>\n",
       "      <td>7500.0</td>\n",
       "      <td>622.066742</td>\n",
       "      <td>627.284787</td>\n",
       "      <td>0.000000</td>\n",
       "      <td>12</td>\n",
       "    </tr>\n",
       "    <tr>\n",
       "      <th>3</th>\n",
       "      <td>C10004</td>\n",
       "      <td>1666.670542</td>\n",
       "      <td>0.636364</td>\n",
       "      <td>1499.00</td>\n",
       "      <td>1499.00</td>\n",
       "      <td>0.0</td>\n",
       "      <td>205.788017</td>\n",
       "      <td>0.083333</td>\n",
       "      <td>0.083333</td>\n",
       "      <td>0.000000</td>\n",
       "      <td>0.083333</td>\n",
       "      <td>1</td>\n",
       "      <td>1</td>\n",
       "      <td>7500.0</td>\n",
       "      <td>0.000000</td>\n",
       "      <td>NaN</td>\n",
       "      <td>0.000000</td>\n",
       "      <td>12</td>\n",
       "    </tr>\n",
       "    <tr>\n",
       "      <th>4</th>\n",
       "      <td>C10005</td>\n",
       "      <td>817.714335</td>\n",
       "      <td>1.000000</td>\n",
       "      <td>16.00</td>\n",
       "      <td>16.00</td>\n",
       "      <td>0.0</td>\n",
       "      <td>0.000000</td>\n",
       "      <td>0.083333</td>\n",
       "      <td>0.083333</td>\n",
       "      <td>0.000000</td>\n",
       "      <td>0.000000</td>\n",
       "      <td>0</td>\n",
       "      <td>1</td>\n",
       "      <td>1200.0</td>\n",
       "      <td>678.334763</td>\n",
       "      <td>244.791237</td>\n",
       "      <td>0.000000</td>\n",
       "      <td>12</td>\n",
       "    </tr>\n",
       "  </tbody>\n",
       "</table>\n",
       "</div>"
      ],
      "text/plain": [
       "  CUST_ID      BALANCE  BALANCE_FREQUENCY  PURCHASES  ONEOFF_PURCHASES  \\\n",
       "0  C10001    40.900749           0.818182      95.40              0.00   \n",
       "1  C10002  3202.467416           0.909091       0.00              0.00   \n",
       "2  C10003  2495.148862           1.000000     773.17            773.17   \n",
       "3  C10004  1666.670542           0.636364    1499.00           1499.00   \n",
       "4  C10005   817.714335           1.000000      16.00             16.00   \n",
       "\n",
       "   INSTALLMENTS_PURCHASES  CASH_ADVANCE  PURCHASES_FREQUENCY  \\\n",
       "0                    95.4      0.000000             0.166667   \n",
       "1                     0.0   6442.945483             0.000000   \n",
       "2                     0.0      0.000000             1.000000   \n",
       "3                     0.0    205.788017             0.083333   \n",
       "4                     0.0      0.000000             0.083333   \n",
       "\n",
       "   ONEOFF_PURCHASES_FREQUENCY  PURCHASES_INSTALLMENTS_FREQUENCY  \\\n",
       "0                    0.000000                          0.083333   \n",
       "1                    0.000000                          0.000000   \n",
       "2                    1.000000                          0.000000   \n",
       "3                    0.083333                          0.000000   \n",
       "4                    0.083333                          0.000000   \n",
       "\n",
       "   CASH_ADVANCE_FREQUENCY  CASH_ADVANCE_TRX  PURCHASES_TRX  CREDIT_LIMIT  \\\n",
       "0                0.000000                 0              2        1000.0   \n",
       "1                0.250000                 4              0        7000.0   \n",
       "2                0.000000                 0             12        7500.0   \n",
       "3                0.083333                 1              1        7500.0   \n",
       "4                0.000000                 0              1        1200.0   \n",
       "\n",
       "      PAYMENTS  MINIMUM_PAYMENTS  PRC_FULL_PAYMENT  TENURE  \n",
       "0   201.802084        139.509787          0.000000      12  \n",
       "1  4103.032597       1072.340217          0.222222      12  \n",
       "2   622.066742        627.284787          0.000000      12  \n",
       "3     0.000000               NaN          0.000000      12  \n",
       "4   678.334763        244.791237          0.000000      12  "
      ]
     },
     "execution_count": 2,
     "metadata": {},
     "output_type": "execute_result"
    }
   ],
   "source": [
    "data = pd.read_csv(\"credit_card.csv\")\n",
    "data.head()"
   ]
  },
  {
   "cell_type": "code",
   "execution_count": 3,
   "id": "4416e51a-945d-492c-a668-365fa36832bd",
   "metadata": {},
   "outputs": [
    {
     "data": {
      "text/plain": [
       "(8950, 18)"
      ]
     },
     "execution_count": 3,
     "metadata": {},
     "output_type": "execute_result"
    }
   ],
   "source": [
    "data.shape"
   ]
  },
  {
   "cell_type": "markdown",
   "id": "763d3117-086e-4a33-b654-88aa532959a2",
   "metadata": {},
   "source": [
    "#### Q1. What does the primary analysis of several categorical features reveal?"
   ]
  },
  {
   "cell_type": "code",
   "execution_count": 4,
   "id": "9d5fa82b-4c62-441c-a7f8-2402cd25e93d",
   "metadata": {},
   "outputs": [
    {
     "name": "stdout",
     "output_type": "stream",
     "text": [
      "<class 'pandas.core.frame.DataFrame'>\n",
      "RangeIndex: 8950 entries, 0 to 8949\n",
      "Data columns (total 18 columns):\n",
      " #   Column                            Non-Null Count  Dtype  \n",
      "---  ------                            --------------  -----  \n",
      " 0   CUST_ID                           8950 non-null   object \n",
      " 1   BALANCE                           8950 non-null   float64\n",
      " 2   BALANCE_FREQUENCY                 8950 non-null   float64\n",
      " 3   PURCHASES                         8950 non-null   float64\n",
      " 4   ONEOFF_PURCHASES                  8950 non-null   float64\n",
      " 5   INSTALLMENTS_PURCHASES            8950 non-null   float64\n",
      " 6   CASH_ADVANCE                      8950 non-null   float64\n",
      " 7   PURCHASES_FREQUENCY               8950 non-null   float64\n",
      " 8   ONEOFF_PURCHASES_FREQUENCY        8950 non-null   float64\n",
      " 9   PURCHASES_INSTALLMENTS_FREQUENCY  8950 non-null   float64\n",
      " 10  CASH_ADVANCE_FREQUENCY            8950 non-null   float64\n",
      " 11  CASH_ADVANCE_TRX                  8950 non-null   int64  \n",
      " 12  PURCHASES_TRX                     8950 non-null   int64  \n",
      " 13  CREDIT_LIMIT                      8949 non-null   float64\n",
      " 14  PAYMENTS                          8950 non-null   float64\n",
      " 15  MINIMUM_PAYMENTS                  8637 non-null   float64\n",
      " 16  PRC_FULL_PAYMENT                  8950 non-null   float64\n",
      " 17  TENURE                            8950 non-null   int64  \n",
      "dtypes: float64(14), int64(3), object(1)\n",
      "memory usage: 1.2+ MB\n"
     ]
    }
   ],
   "source": [
    "data.info()"
   ]
  },
  {
   "cell_type": "code",
   "execution_count": 5,
   "id": "a67199c6-8837-4b4c-8a65-f78420fa6c04",
   "metadata": {},
   "outputs": [
    {
     "data": {
      "text/plain": [
       "<bound method Series.unique of 0       C10001\n",
       "1       C10002\n",
       "2       C10003\n",
       "3       C10004\n",
       "4       C10005\n",
       "         ...  \n",
       "8945    C19186\n",
       "8946    C19187\n",
       "8947    C19188\n",
       "8948    C19189\n",
       "8949    C19190\n",
       "Name: CUST_ID, Length: 8950, dtype: object>"
      ]
     },
     "execution_count": 5,
     "metadata": {},
     "output_type": "execute_result"
    }
   ],
   "source": [
    "data[\"CUST_ID\"].unique"
   ]
  },
  {
   "cell_type": "code",
   "execution_count": 6,
   "id": "b71d7270-d245-44ff-9aca-d8a1a6f67c0d",
   "metadata": {},
   "outputs": [
    {
     "data": {
      "text/plain": [
       "0       C10001\n",
       "1       C10002\n",
       "2       C10003\n",
       "3       C10004\n",
       "4       C10005\n",
       "         ...  \n",
       "8945    C19186\n",
       "8946    C19187\n",
       "8947    C19188\n",
       "8948    C19189\n",
       "8949    C19190\n",
       "Name: CUST_ID, Length: 7996, dtype: object"
      ]
     },
     "execution_count": 6,
     "metadata": {},
     "output_type": "execute_result"
    }
   ],
   "source": [
    "#Customers whose balnace is updated frequently\n",
    "data.loc[data[\"BALANCE_FREQUENCY\"] > 0.5, \"CUST_ID\"]"
   ]
  },
  {
   "cell_type": "code",
   "execution_count": 7,
   "id": "33c1e011-5ed1-47b2-bdac-4d60c805e7f9",
   "metadata": {},
   "outputs": [
    {
     "data": {
      "text/plain": [
       "2       C10003\n",
       "5       C10006\n",
       "6       C10007\n",
       "7       C10008\n",
       "10      C10011\n",
       "         ...  \n",
       "8942    C19183\n",
       "8945    C19186\n",
       "8946    C19187\n",
       "8947    C19188\n",
       "8949    C19190\n",
       "Name: CUST_ID, Length: 4147, dtype: object"
      ]
     },
     "execution_count": 7,
     "metadata": {},
     "output_type": "execute_result"
    }
   ],
   "source": [
    "#Customers who made purchases frequently\n",
    "data.loc[data[\"PURCHASES_FREQUENCY\"] > 0.5, \"CUST_ID\"]"
   ]
  },
  {
   "cell_type": "code",
   "execution_count": 8,
   "id": "5751020d-26ea-4c58-ad1f-68e65d2be000",
   "metadata": {},
   "outputs": [
    {
     "data": {
      "text/plain": [
       "2       C10003\n",
       "6       C10007\n",
       "21      C10022\n",
       "33      C10034\n",
       "48      C10050\n",
       "         ...  \n",
       "8889    C19130\n",
       "8895    C19136\n",
       "8897    C19138\n",
       "8923    C19164\n",
       "8949    C19190\n",
       "Name: CUST_ID, Length: 1343, dtype: object"
      ]
     },
     "execution_count": 8,
     "metadata": {},
     "output_type": "execute_result"
    }
   ],
   "source": [
    "#Customers who made Purchases in one-go frequently\n",
    "data.loc[data[\"ONEOFF_PURCHASES_FREQUENCY\"] > 0.5, \"CUST_ID\"]"
   ]
  },
  {
   "cell_type": "code",
   "execution_count": 9,
   "id": "0382aa33-cd1f-4486-a8da-16682fa75663",
   "metadata": {},
   "outputs": [
    {
     "data": {
      "text/plain": [
       "5       C10006\n",
       "6       C10007\n",
       "7       C10008\n",
       "10      C10011\n",
       "12      C10013\n",
       "         ...  \n",
       "8941    C19182\n",
       "8942    C19183\n",
       "8945    C19186\n",
       "8946    C19187\n",
       "8947    C19188\n",
       "Name: CUST_ID, Length: 3090, dtype: object"
      ]
     },
     "execution_count": 9,
     "metadata": {},
     "output_type": "execute_result"
    }
   ],
   "source": [
    "#Customers who made purchases in installments frequently\n",
    "data.loc[data[\"PURCHASES_INSTALLMENTS_FREQUENCY\"] > 0.5, \"CUST_ID\"]"
   ]
  },
  {
   "cell_type": "markdown",
   "id": "6aeb8b13-e61f-4ab0-be02-cf397209c2d6",
   "metadata": {},
   "source": [
    "From the above results, we can conclude the number of customers are more in terms of balance upodated frequently as compared to\n",
    "purchase made frequently, purchases made in one go frequently or purchases made in installments frequently."
   ]
  },
  {
   "cell_type": "markdown",
   "id": "1a75b04b-28df-48e7-ade9-e82ce98502a7",
   "metadata": {},
   "source": [
    "#### Q2. Perform the following Exploratory Data Analysis tasks:"
   ]
  },
  {
   "cell_type": "markdown",
   "id": "56ba5694-19cc-446f-82e1-64b9531421e9",
   "metadata": {},
   "source": [
    "a. Missing Value Analysis"
   ]
  },
  {
   "cell_type": "code",
   "execution_count": 10,
   "id": "1a4cb833-0140-49a5-8ec8-0562637b0ceb",
   "metadata": {},
   "outputs": [
    {
     "data": {
      "text/plain": [
       "CUST_ID                               0\n",
       "BALANCE                               0\n",
       "BALANCE_FREQUENCY                     0\n",
       "PURCHASES                             0\n",
       "ONEOFF_PURCHASES                      0\n",
       "INSTALLMENTS_PURCHASES                0\n",
       "CASH_ADVANCE                          0\n",
       "PURCHASES_FREQUENCY                   0\n",
       "ONEOFF_PURCHASES_FREQUENCY            0\n",
       "PURCHASES_INSTALLMENTS_FREQUENCY      0\n",
       "CASH_ADVANCE_FREQUENCY                0\n",
       "CASH_ADVANCE_TRX                      0\n",
       "PURCHASES_TRX                         0\n",
       "CREDIT_LIMIT                          1\n",
       "PAYMENTS                              0\n",
       "MINIMUM_PAYMENTS                    313\n",
       "PRC_FULL_PAYMENT                      0\n",
       "TENURE                                0\n",
       "dtype: int64"
      ]
     },
     "execution_count": 10,
     "metadata": {},
     "output_type": "execute_result"
    }
   ],
   "source": [
    "data.isnull().sum()"
   ]
  },
  {
   "cell_type": "code",
   "execution_count": 11,
   "id": "e4ae9dfc-e8fb-439e-81a4-585d1f5df610",
   "metadata": {},
   "outputs": [
    {
     "data": {
      "text/plain": [
       "CUST_ID                             0\n",
       "BALANCE                             0\n",
       "BALANCE_FREQUENCY                   0\n",
       "PURCHASES                           0\n",
       "ONEOFF_PURCHASES                    0\n",
       "INSTALLMENTS_PURCHASES              0\n",
       "CASH_ADVANCE                        0\n",
       "PURCHASES_FREQUENCY                 0\n",
       "ONEOFF_PURCHASES_FREQUENCY          0\n",
       "PURCHASES_INSTALLMENTS_FREQUENCY    0\n",
       "CASH_ADVANCE_FREQUENCY              0\n",
       "CASH_ADVANCE_TRX                    0\n",
       "PURCHASES_TRX                       0\n",
       "CREDIT_LIMIT                        1\n",
       "PAYMENTS                            0\n",
       "MINIMUM_PAYMENTS                    0\n",
       "PRC_FULL_PAYMENT                    0\n",
       "TENURE                              0\n",
       "dtype: int64"
      ]
     },
     "execution_count": 11,
     "metadata": {},
     "output_type": "execute_result"
    }
   ],
   "source": [
    "data[\"MINIMUM_PAYMENTS\"] = data[\"MINIMUM_PAYMENTS\"].fillna(data[\"MINIMUM_PAYMENTS\"].mean())\n",
    "data.isnull().sum()"
   ]
  },
  {
   "cell_type": "code",
   "execution_count": 12,
   "id": "972f8077-e153-4231-8869-bbbc5004af3d",
   "metadata": {},
   "outputs": [
    {
     "data": {
      "text/plain": [
       "CUST_ID                             0\n",
       "BALANCE                             0\n",
       "BALANCE_FREQUENCY                   0\n",
       "PURCHASES                           0\n",
       "ONEOFF_PURCHASES                    0\n",
       "INSTALLMENTS_PURCHASES              0\n",
       "CASH_ADVANCE                        0\n",
       "PURCHASES_FREQUENCY                 0\n",
       "ONEOFF_PURCHASES_FREQUENCY          0\n",
       "PURCHASES_INSTALLMENTS_FREQUENCY    0\n",
       "CASH_ADVANCE_FREQUENCY              0\n",
       "CASH_ADVANCE_TRX                    0\n",
       "PURCHASES_TRX                       0\n",
       "CREDIT_LIMIT                        0\n",
       "PAYMENTS                            0\n",
       "MINIMUM_PAYMENTS                    0\n",
       "PRC_FULL_PAYMENT                    0\n",
       "TENURE                              0\n",
       "dtype: int64"
      ]
     },
     "execution_count": 12,
     "metadata": {},
     "output_type": "execute_result"
    }
   ],
   "source": [
    "data[\"CREDIT_LIMIT\"] = data[\"CREDIT_LIMIT\"].fillna(data[\"CREDIT_LIMIT\"].mean())\n",
    "data.isnull().sum()"
   ]
  },
  {
   "cell_type": "markdown",
   "id": "f890d402-a8b7-407f-b02a-68b5f365ebc1",
   "metadata": {},
   "source": [
    "b. Outlier Treatment using the Z-score method"
   ]
  },
  {
   "cell_type": "code",
   "execution_count": 13,
   "id": "b814aaf8-9d0d-4356-8c71-d9a035d60572",
   "metadata": {},
   "outputs": [
    {
     "data": {
      "text/plain": [
       "['BALANCE',\n",
       " 'BALANCE_FREQUENCY',\n",
       " 'PURCHASES',\n",
       " 'ONEOFF_PURCHASES',\n",
       " 'INSTALLMENTS_PURCHASES',\n",
       " 'CASH_ADVANCE',\n",
       " 'PURCHASES_FREQUENCY',\n",
       " 'ONEOFF_PURCHASES_FREQUENCY',\n",
       " 'PURCHASES_INSTALLMENTS_FREQUENCY',\n",
       " 'CASH_ADVANCE_FREQUENCY',\n",
       " 'CASH_ADVANCE_TRX',\n",
       " 'PURCHASES_TRX',\n",
       " 'CREDIT_LIMIT',\n",
       " 'PAYMENTS',\n",
       " 'MINIMUM_PAYMENTS',\n",
       " 'PRC_FULL_PAYMENT',\n",
       " 'TENURE']"
      ]
     },
     "execution_count": 13,
     "metadata": {},
     "output_type": "execute_result"
    }
   ],
   "source": [
    "num_cols = list(data.describe().columns.values)\n",
    "num_cols"
   ]
  },
  {
   "cell_type": "code",
   "execution_count": 14,
   "id": "780e662e-7f99-40a3-b3d5-1c37da929df2",
   "metadata": {},
   "outputs": [
    {
     "data": {
      "image/png": "[encoded data removed]",
      "text/plain": [
       "<Figure size 432x288 with 1 Axes>"
      ]
     },
     "metadata": {
      "needs_background": "light"
     },
     "output_type": "display_data"
    }
   ],
   "source": [
    "sns.boxplot(data[num_cols[0]])\n",
    "plt.show()"
   ]
  },
  {
   "cell_type": "code",
   "execution_count": 15,
   "id": "4de000dd-c2d3-4a8f-8c4a-42755463e93d",
   "metadata": {},
   "outputs": [
    {
     "data": {
      "image/png": "[encoded data removed]",
      "text/plain": [
       "<Figure size 432x288 with 1 Axes>"
      ]
     },
     "metadata": {
      "needs_background": "light"
     },
     "output_type": "display_data"
    }
   ],
   "source": [
    "sns.boxplot(data[num_cols[1]])\n",
    "plt.show()"
   ]
  },
  {
   "cell_type": "code",
   "execution_count": 16,
   "id": "8a931b4d-b994-4f62-b57d-dc86445b5559",
   "metadata": {},
   "outputs": [
    {
     "data": {
      "image/png": "[encoded data removed]",
      "text/plain": [
       "<Figure size 432x288 with 1 Axes>"
      ]
     },
     "metadata": {
      "needs_background": "light"
     },
     "output_type": "display_data"
    }
   ],
   "source": [
    "sns.boxplot(data[num_cols[2]])\n",
    "plt.show()"
   ]
  },
  {
   "cell_type": "code",
   "execution_count": 17,
   "id": "4c71b471-cdad-4dda-99b6-76a16e02bc7f",
   "metadata": {},
   "outputs": [
    {
     "data": {
      "image/png": "[encoded data removed]",
      "text/plain": [
       "<Figure size 432x288 with 1 Axes>"
      ]
     },
     "metadata": {
      "needs_background": "light"
     },
     "output_type": "display_data"
    }
   ],
   "source": [
    "sns.boxplot(data[num_cols[3]])\n",
    "plt.show()"
   ]
  },
  {
   "cell_type": "code",
   "execution_count": 18,
   "id": "3ef5dad3-4df8-4c5c-a4cd-77c358af93c2",
   "metadata": {},
   "outputs": [
    {
     "data": {
      "image/png": "[encoded data removed]",
      "text/plain": [
       "<Figure size 432x288 with 1 Axes>"
      ]
     },
     "metadata": {
      "needs_background": "light"
     },
     "output_type": "display_data"
    }
   ],
   "source": [
    "sns.boxplot(data[num_cols[4]])\n",
    "plt.show()"
   ]
  },
  {
   "cell_type": "code",
   "execution_count": 19,
   "id": "f20a3afd-fd13-4f11-ade0-33bbc80d7cb4",
   "metadata": {},
   "outputs": [
    {
     "data": {
      "image/png": "[encoded data removed]",
      "text/plain": [
       "<Figure size 432x288 with 1 Axes>"
      ]
     },
     "metadata": {
      "needs_background": "light"
     },
     "output_type": "display_data"
    }
   ],
   "source": [
    "sns.boxplot(data[num_cols[5]])\n",
    "plt.show()"
   ]
  },
  {
   "cell_type": "code",
   "execution_count": 20,
   "id": "1009484e-a70b-49ad-8e71-6afce994fe9f",
   "metadata": {},
   "outputs": [
    {
     "data": {
      "image/png": "[encoded data removed]",
      "text/plain": [
       "<Figure size 432x288 with 1 Axes>"
      ]
     },
     "metadata": {
      "needs_background": "light"
     },
     "output_type": "display_data"
    }
   ],
   "source": [
    "sns.boxplot(data[num_cols[6]])\n",
    "plt.show()"
   ]
  },
  {
   "cell_type": "code",
   "execution_count": 21,
   "id": "ef30acee-0f49-43f3-b125-c5df78ac841b",
   "metadata": {},
   "outputs": [
    {
     "data": {
      "image/png": "[encoded data removed]",
      "text/plain": [
       "<Figure size 432x288 with 1 Axes>"
      ]
     },
     "metadata": {
      "needs_background": "light"
     },
     "output_type": "display_data"
    }
   ],
   "source": [
    "sns.boxplot(data[num_cols[7]])\n",
    "plt.show()"
   ]
  },
  {
   "cell_type": "code",
   "execution_count": 22,
   "id": "5970e9dc-b70d-4841-a78b-984f74e2bd70",
   "metadata": {},
   "outputs": [
    {
     "data": {
      "image/png": "[encoded data removed]",
      "text/plain": [
       "<Figure size 432x288 with 1 Axes>"
      ]
     },
     "metadata": {
      "needs_background": "light"
     },
     "output_type": "display_data"
    }
   ],
   "source": [
    "sns.boxplot(data[num_cols[8]])\n",
    "plt.show()"
   ]
  },
  {
   "cell_type": "code",
   "execution_count": 23,
   "id": "80aa6b29-697b-4b81-b4f3-ff590a839e2b",
   "metadata": {},
   "outputs": [
    {
     "data": {
      "image/png": "[encoded data removed]",
      "text/plain": [
       "<Figure size 432x288 with 1 Axes>"
      ]
     },
     "metadata": {
      "needs_background": "light"
     },
     "output_type": "display_data"
    }
   ],
   "source": [
    "sns.boxplot(data[num_cols[9]])\n",
    "plt.show()"
   ]
  },
  {
   "cell_type": "code",
   "execution_count": 24,
   "id": "d63b1fd6-b1e7-40c5-ad79-e233af695b74",
   "metadata": {},
   "outputs": [
    {
     "data": {
      "image/png": "[encoded data removed]",
      "text/plain": [
       "<Figure size 432x288 with 1 Axes>"
      ]
     },
     "metadata": {
      "needs_background": "light"
     },
     "output_type": "display_data"
    }
   ],
   "source": [
    "sns.boxplot(data[num_cols[10]])\n",
    "plt.show()"
   ]
  },
  {
   "cell_type": "code",
   "execution_count": 25,
   "id": "d3af7b79-8447-49f9-9604-b03c2b6dfa12",
   "metadata": {},
   "outputs": [
    {
     "data": {
      "image/png": "[encoded data removed]",
      "text/plain": [
       "<Figure size 432x288 with 1 Axes>"
      ]
     },
     "metadata": {
      "needs_background": "light"
     },
     "output_type": "display_data"
    }
   ],
   "source": [
    "sns.boxplot(data[num_cols[11]])\n",
    "plt.show()"
   ]
  },
  {
   "cell_type": "code",
   "execution_count": 26,
   "id": "d37d61e5-c41f-46ef-9d35-976b8ad9155b",
   "metadata": {},
   "outputs": [
    {
     "data": {
      "image/png": "[encoded data removed]",
      "text/plain": [
       "<Figure size 432x288 with 1 Axes>"
      ]
     },
     "metadata": {
      "needs_background": "light"
     },
     "output_type": "display_data"
    }
   ],
   "source": [
    "sns.boxplot(data[num_cols[12]])\n",
    "plt.show()"
   ]
  },
  {
   "cell_type": "code",
   "execution_count": 27,
   "id": "a9fb978b-db2d-4e24-9433-4ea06a53e9a0",
   "metadata": {},
   "outputs": [
    {
     "data": {
      "image/png": "[encoded data removed]",
      "text/plain": [
       "<Figure size 432x288 with 1 Axes>"
      ]
     },
     "metadata": {
      "needs_background": "light"
     },
     "output_type": "display_data"
    }
   ],
   "source": [
    "sns.boxplot(data[num_cols[13]])\n",
    "plt.show()"
   ]
  },
  {
   "cell_type": "code",
   "execution_count": 28,
   "id": "1fff2194-3e90-4e6d-85f0-3bfbeaf429d3",
   "metadata": {},
   "outputs": [
    {
     "data": {
      "image/png": "[encoded data removed]",
      "text/plain": [
       "<Figure size 432x288 with 1 Axes>"
      ]
     },
     "metadata": {
      "needs_background": "light"
     },
     "output_type": "display_data"
    }
   ],
   "source": [
    "sns.boxplot(data[num_cols[14]])\n",
    "plt.show()"
   ]
  },
  {
   "cell_type": "code",
   "execution_count": 29,
   "id": "49dbbe0e-2b2c-4c09-b214-71d39b7bb584",
   "metadata": {},
   "outputs": [
    {
     "data": {
      "image/png": "[encoded data removed]",
      "text/plain": [
       "<Figure size 432x288 with 1 Axes>"
      ]
     },
     "metadata": {
      "needs_background": "light"
     },
     "output_type": "display_data"
    }
   ],
   "source": [
    "sns.boxplot(data[num_cols[15]])\n",
    "plt.show()"
   ]
  },
  {
   "cell_type": "code",
   "execution_count": 30,
   "id": "f885b0d9-1645-49f1-a19e-86e3687a2112",
   "metadata": {},
   "outputs": [],
   "source": [
    "data1 = data.copy(deep=True)"
   ]
  },
  {
   "cell_type": "code",
   "execution_count": 31,
   "id": "7060e7a0-eeb1-45a6-ac6a-5bf35f286aab",
   "metadata": {},
   "outputs": [],
   "source": [
    "from scipy.stats import zscore     # To Apply Zscore Treatment\n",
    "\n",
    "abs_zscores = np.abs(zscore(data1[num_cols]))     # Calculate the Z-score value of total bill\n",
    "# The abs() function is used to return the absolute value of a number.\n",
    "filtered = (abs_zscores < 3).all(axis=1)\n",
    "data2 = data1[filtered]"
   ]
  },
  {
   "cell_type": "code",
   "execution_count": 32,
   "id": "0f91f6d3-3f51-4ba5-9bd2-2764a3a94c7f",
   "metadata": {},
   "outputs": [
    {
     "data": {
      "text/plain": [
       "(7434, 18)"
      ]
     },
     "execution_count": 32,
     "metadata": {},
     "output_type": "execute_result"
    }
   ],
   "source": [
    "data2.shape"
   ]
  },
  {
   "cell_type": "markdown",
   "id": "2397f08b-7b0e-4cea-955d-fb92d176e2be",
   "metadata": {},
   "source": [
    "c. Deal with correlated variables"
   ]
  },
  {
   "cell_type": "code",
   "execution_count": 33,
   "id": "b21d4090-265b-4f25-90ab-53b31e121260",
   "metadata": {},
   "outputs": [
    {
     "data": {
      "text/html": [
       "<div>\n",
       "<style scoped>\n",
       "    .dataframe tbody tr th:only-of-type {\n",
       "        vertical-align: middle;\n",
       "    }\n",
       "\n",
       "    .dataframe tbody tr th {\n",
       "        vertical-align: top;\n",
       "    }\n",
       "\n",
       "    .dataframe thead th {\n",
       "        text-align: right;\n",
       "    }\n",
       "</style>\n",
       "<table border=\"1\" class=\"dataframe\">\n",
       "  <thead>\n",
       "    <tr style=\"text-align: right;\">\n",
       "      <th></th>\n",
       "      <th>BALANCE</th>\n",
       "      <th>BALANCE_FREQUENCY</th>\n",
       "      <th>PURCHASES</th>\n",
       "      <th>ONEOFF_PURCHASES</th>\n",
       "      <th>INSTALLMENTS_PURCHASES</th>\n",
       "      <th>CASH_ADVANCE</th>\n",
       "      <th>PURCHASES_FREQUENCY</th>\n",
       "      <th>ONEOFF_PURCHASES_FREQUENCY</th>\n",
       "      <th>PURCHASES_INSTALLMENTS_FREQUENCY</th>\n",
       "      <th>CASH_ADVANCE_FREQUENCY</th>\n",
       "      <th>CASH_ADVANCE_TRX</th>\n",
       "      <th>PURCHASES_TRX</th>\n",
       "      <th>CREDIT_LIMIT</th>\n",
       "      <th>PAYMENTS</th>\n",
       "      <th>MINIMUM_PAYMENTS</th>\n",
       "      <th>PRC_FULL_PAYMENT</th>\n",
       "      <th>TENURE</th>\n",
       "    </tr>\n",
       "  </thead>\n",
       "  <tbody>\n",
       "    <tr>\n",
       "      <th>BALANCE</th>\n",
       "      <td>1.000000</td>\n",
       "      <td>0.349404</td>\n",
       "      <td>0.042223</td>\n",
       "      <td>0.078321</td>\n",
       "      <td>-0.037524</td>\n",
       "      <td>0.509312</td>\n",
       "      <td>-0.145517</td>\n",
       "      <td>0.029860</td>\n",
       "      <td>-0.139821</td>\n",
       "      <td>0.466543</td>\n",
       "      <td>0.435774</td>\n",
       "      <td>0.009701</td>\n",
       "      <td>0.400751</td>\n",
       "      <td>0.240485</td>\n",
       "      <td>0.610902</td>\n",
       "      <td>-0.377288</td>\n",
       "      <td>0.057468</td>\n",
       "    </tr>\n",
       "    <tr>\n",
       "      <th>BALANCE_FREQUENCY</th>\n",
       "      <td>0.349404</td>\n",
       "      <td>1.000000</td>\n",
       "      <td>0.152808</td>\n",
       "      <td>0.113488</td>\n",
       "      <td>0.131446</td>\n",
       "      <td>0.085043</td>\n",
       "      <td>0.226480</td>\n",
       "      <td>0.178007</td>\n",
       "      <td>0.177131</td>\n",
       "      <td>0.186005</td>\n",
       "      <td>0.147070</td>\n",
       "      <td>0.210446</td>\n",
       "      <td>0.067577</td>\n",
       "      <td>0.061599</td>\n",
       "      <td>0.232204</td>\n",
       "      <td>-0.159424</td>\n",
       "      <td>0.104624</td>\n",
       "    </tr>\n",
       "    <tr>\n",
       "      <th>PURCHASES</th>\n",
       "      <td>0.042223</td>\n",
       "      <td>0.152808</td>\n",
       "      <td>1.000000</td>\n",
       "      <td>0.875720</td>\n",
       "      <td>0.652988</td>\n",
       "      <td>-0.143448</td>\n",
       "      <td>0.555402</td>\n",
       "      <td>0.611340</td>\n",
       "      <td>0.412956</td>\n",
       "      <td>-0.197785</td>\n",
       "      <td>-0.158409</td>\n",
       "      <td>0.744789</td>\n",
       "      <td>0.298157</td>\n",
       "      <td>0.438270</td>\n",
       "      <td>0.038342</td>\n",
       "      <td>0.194430</td>\n",
       "      <td>0.072604</td>\n",
       "    </tr>\n",
       "    <tr>\n",
       "      <th>ONEOFF_PURCHASES</th>\n",
       "      <td>0.078321</td>\n",
       "      <td>0.113488</td>\n",
       "      <td>0.875720</td>\n",
       "      <td>1.000000</td>\n",
       "      <td>0.206243</td>\n",
       "      <td>-0.089704</td>\n",
       "      <td>0.337738</td>\n",
       "      <td>0.692882</td>\n",
       "      <td>0.095937</td>\n",
       "      <td>-0.122729</td>\n",
       "      <td>-0.097218</td>\n",
       "      <td>0.552959</td>\n",
       "      <td>0.284639</td>\n",
       "      <td>0.401436</td>\n",
       "      <td>0.014227</td>\n",
       "      <td>0.102127</td>\n",
       "      <td>0.045241</td>\n",
       "    </tr>\n",
       "    <tr>\n",
       "      <th>INSTALLMENTS_PURCHASES</th>\n",
       "      <td>-0.037524</td>\n",
       "      <td>0.131446</td>\n",
       "      <td>0.652988</td>\n",
       "      <td>0.206243</td>\n",
       "      <td>1.000000</td>\n",
       "      <td>-0.150261</td>\n",
       "      <td>0.596025</td>\n",
       "      <td>0.152086</td>\n",
       "      <td>0.686644</td>\n",
       "      <td>-0.208456</td>\n",
       "      <td>-0.168699</td>\n",
       "      <td>0.642291</td>\n",
       "      <td>0.157688</td>\n",
       "      <td>0.258346</td>\n",
       "      <td>0.055252</td>\n",
       "      <td>0.233630</td>\n",
       "      <td>0.076047</td>\n",
       "    </tr>\n",
       "    <tr>\n",
       "      <th>CASH_ADVANCE</th>\n",
       "      <td>0.509312</td>\n",
       "      <td>0.085043</td>\n",
       "      <td>-0.143448</td>\n",
       "      <td>-0.089704</td>\n",
       "      <td>-0.150261</td>\n",
       "      <td>1.000000</td>\n",
       "      <td>-0.287348</td>\n",
       "      <td>-0.123338</td>\n",
       "      <td>-0.238911</td>\n",
       "      <td>0.671845</td>\n",
       "      <td>0.694980</td>\n",
       "      <td>-0.173397</td>\n",
       "      <td>0.221555</td>\n",
       "      <td>0.345054</td>\n",
       "      <td>0.268975</td>\n",
       "      <td>-0.203739</td>\n",
       "      <td>-0.086218</td>\n",
       "    </tr>\n",
       "    <tr>\n",
       "      <th>PURCHASES_FREQUENCY</th>\n",
       "      <td>-0.145517</td>\n",
       "      <td>0.226480</td>\n",
       "      <td>0.555402</td>\n",
       "      <td>0.337738</td>\n",
       "      <td>0.596025</td>\n",
       "      <td>-0.287348</td>\n",
       "      <td>1.000000</td>\n",
       "      <td>0.478305</td>\n",
       "      <td>0.855422</td>\n",
       "      <td>-0.354882</td>\n",
       "      <td>-0.293949</td>\n",
       "      <td>0.725113</td>\n",
       "      <td>0.118490</td>\n",
       "      <td>0.108915</td>\n",
       "      <td>-0.042378</td>\n",
       "      <td>0.307606</td>\n",
       "      <td>0.053851</td>\n",
       "    </tr>\n",
       "    <tr>\n",
       "      <th>ONEOFF_PURCHASES_FREQUENCY</th>\n",
       "      <td>0.029860</td>\n",
       "      <td>0.178007</td>\n",
       "      <td>0.611340</td>\n",
       "      <td>0.692882</td>\n",
       "      <td>0.152086</td>\n",
       "      <td>-0.123338</td>\n",
       "      <td>0.478305</td>\n",
       "      <td>1.000000</td>\n",
       "      <td>0.078747</td>\n",
       "      <td>-0.139606</td>\n",
       "      <td>-0.116999</td>\n",
       "      <td>0.582221</td>\n",
       "      <td>0.274026</td>\n",
       "      <td>0.247869</td>\n",
       "      <td>-0.027150</td>\n",
       "      <td>0.129034</td>\n",
       "      <td>0.061977</td>\n",
       "    </tr>\n",
       "    <tr>\n",
       "      <th>PURCHASES_INSTALLMENTS_FREQUENCY</th>\n",
       "      <td>-0.139821</td>\n",
       "      <td>0.177131</td>\n",
       "      <td>0.412956</td>\n",
       "      <td>0.095937</td>\n",
       "      <td>0.686644</td>\n",
       "      <td>-0.238911</td>\n",
       "      <td>0.855422</td>\n",
       "      <td>0.078747</td>\n",
       "      <td>1.000000</td>\n",
       "      <td>-0.295972</td>\n",
       "      <td>-0.245211</td>\n",
       "      <td>0.643047</td>\n",
       "      <td>0.035968</td>\n",
       "      <td>0.066594</td>\n",
       "      <td>-0.021312</td>\n",
       "      <td>0.256354</td>\n",
       "      <td>0.054076</td>\n",
       "    </tr>\n",
       "    <tr>\n",
       "      <th>CASH_ADVANCE_FREQUENCY</th>\n",
       "      <td>0.466543</td>\n",
       "      <td>0.186005</td>\n",
       "      <td>-0.197785</td>\n",
       "      <td>-0.122729</td>\n",
       "      <td>-0.208456</td>\n",
       "      <td>0.671845</td>\n",
       "      <td>-0.354882</td>\n",
       "      <td>-0.139606</td>\n",
       "      <td>-0.295972</td>\n",
       "      <td>1.000000</td>\n",
       "      <td>0.882863</td>\n",
       "      <td>-0.205582</td>\n",
       "      <td>0.056598</td>\n",
       "      <td>0.173954</td>\n",
       "      <td>0.246989</td>\n",
       "      <td>-0.272413</td>\n",
       "      <td>-0.078395</td>\n",
       "    </tr>\n",
       "    <tr>\n",
       "      <th>CASH_ADVANCE_TRX</th>\n",
       "      <td>0.435774</td>\n",
       "      <td>0.147070</td>\n",
       "      <td>-0.158409</td>\n",
       "      <td>-0.097218</td>\n",
       "      <td>-0.168699</td>\n",
       "      <td>0.694980</td>\n",
       "      <td>-0.293949</td>\n",
       "      <td>-0.116999</td>\n",
       "      <td>-0.245211</td>\n",
       "      <td>0.882863</td>\n",
       "      <td>1.000000</td>\n",
       "      <td>-0.163697</td>\n",
       "      <td>0.073034</td>\n",
       "      <td>0.203713</td>\n",
       "      <td>0.264140</td>\n",
       "      <td>-0.229574</td>\n",
       "      <td>-0.046225</td>\n",
       "    </tr>\n",
       "    <tr>\n",
       "      <th>PURCHASES_TRX</th>\n",
       "      <td>0.009701</td>\n",
       "      <td>0.210446</td>\n",
       "      <td>0.744789</td>\n",
       "      <td>0.552959</td>\n",
       "      <td>0.642291</td>\n",
       "      <td>-0.173397</td>\n",
       "      <td>0.725113</td>\n",
       "      <td>0.582221</td>\n",
       "      <td>0.643047</td>\n",
       "      <td>-0.205582</td>\n",
       "      <td>-0.163697</td>\n",
       "      <td>1.000000</td>\n",
       "      <td>0.210458</td>\n",
       "      <td>0.285237</td>\n",
       "      <td>0.037131</td>\n",
       "      <td>0.193050</td>\n",
       "      <td>0.103801</td>\n",
       "    </tr>\n",
       "    <tr>\n",
       "      <th>CREDIT_LIMIT</th>\n",
       "      <td>0.400751</td>\n",
       "      <td>0.067577</td>\n",
       "      <td>0.298157</td>\n",
       "      <td>0.284639</td>\n",
       "      <td>0.157688</td>\n",
       "      <td>0.221555</td>\n",
       "      <td>0.118490</td>\n",
       "      <td>0.274026</td>\n",
       "      <td>0.035968</td>\n",
       "      <td>0.056598</td>\n",
       "      <td>0.073034</td>\n",
       "      <td>0.210458</td>\n",
       "      <td>1.000000</td>\n",
       "      <td>0.318646</td>\n",
       "      <td>0.127883</td>\n",
       "      <td>0.062309</td>\n",
       "      <td>0.114121</td>\n",
       "    </tr>\n",
       "    <tr>\n",
       "      <th>PAYMENTS</th>\n",
       "      <td>0.240485</td>\n",
       "      <td>0.061599</td>\n",
       "      <td>0.438270</td>\n",
       "      <td>0.401436</td>\n",
       "      <td>0.258346</td>\n",
       "      <td>0.345054</td>\n",
       "      <td>0.108915</td>\n",
       "      <td>0.247869</td>\n",
       "      <td>0.066594</td>\n",
       "      <td>0.173954</td>\n",
       "      <td>0.203713</td>\n",
       "      <td>0.285237</td>\n",
       "      <td>0.318646</td>\n",
       "      <td>1.000000</td>\n",
       "      <td>0.174245</td>\n",
       "      <td>0.081142</td>\n",
       "      <td>0.094779</td>\n",
       "    </tr>\n",
       "    <tr>\n",
       "      <th>MINIMUM_PAYMENTS</th>\n",
       "      <td>0.610902</td>\n",
       "      <td>0.232204</td>\n",
       "      <td>0.038342</td>\n",
       "      <td>0.014227</td>\n",
       "      <td>0.055252</td>\n",
       "      <td>0.268975</td>\n",
       "      <td>-0.042378</td>\n",
       "      <td>-0.027150</td>\n",
       "      <td>-0.021312</td>\n",
       "      <td>0.246989</td>\n",
       "      <td>0.264140</td>\n",
       "      <td>0.037131</td>\n",
       "      <td>0.127883</td>\n",
       "      <td>0.174245</td>\n",
       "      <td>1.000000</td>\n",
       "      <td>-0.261659</td>\n",
       "      <td>0.062021</td>\n",
       "    </tr>\n",
       "    <tr>\n",
       "      <th>PRC_FULL_PAYMENT</th>\n",
       "      <td>-0.377288</td>\n",
       "      <td>-0.159424</td>\n",
       "      <td>0.194430</td>\n",
       "      <td>0.102127</td>\n",
       "      <td>0.233630</td>\n",
       "      <td>-0.203739</td>\n",
       "      <td>0.307606</td>\n",
       "      <td>0.129034</td>\n",
       "      <td>0.256354</td>\n",
       "      <td>-0.272413</td>\n",
       "      <td>-0.229574</td>\n",
       "      <td>0.193050</td>\n",
       "      <td>0.062309</td>\n",
       "      <td>0.081142</td>\n",
       "      <td>-0.261659</td>\n",
       "      <td>1.000000</td>\n",
       "      <td>-0.017408</td>\n",
       "    </tr>\n",
       "    <tr>\n",
       "      <th>TENURE</th>\n",
       "      <td>0.057468</td>\n",
       "      <td>0.104624</td>\n",
       "      <td>0.072604</td>\n",
       "      <td>0.045241</td>\n",
       "      <td>0.076047</td>\n",
       "      <td>-0.086218</td>\n",
       "      <td>0.053851</td>\n",
       "      <td>0.061977</td>\n",
       "      <td>0.054076</td>\n",
       "      <td>-0.078395</td>\n",
       "      <td>-0.046225</td>\n",
       "      <td>0.103801</td>\n",
       "      <td>0.114121</td>\n",
       "      <td>0.094779</td>\n",
       "      <td>0.062021</td>\n",
       "      <td>-0.017408</td>\n",
       "      <td>1.000000</td>\n",
       "    </tr>\n",
       "  </tbody>\n",
       "</table>\n",
       "</div>"
      ],
      "text/plain": [
       "                                   BALANCE  BALANCE_FREQUENCY  PURCHASES  \\\n",
       "BALANCE                           1.000000           0.349404   0.042223   \n",
       "BALANCE_FREQUENCY                 0.349404           1.000000   0.152808   \n",
       "PURCHASES                         0.042223           0.152808   1.000000   \n",
       "ONEOFF_PURCHASES                  0.078321           0.113488   0.875720   \n",
       "INSTALLMENTS_PURCHASES           -0.037524           0.131446   0.652988   \n",
       "CASH_ADVANCE                      0.509312           0.085043  -0.143448   \n",
       "PURCHASES_FREQUENCY              -0.145517           0.226480   0.555402   \n",
       "ONEOFF_PURCHASES_FREQUENCY        0.029860           0.178007   0.611340   \n",
       "PURCHASES_INSTALLMENTS_FREQUENCY -0.139821           0.177131   0.412956   \n",
       "CASH_ADVANCE_FREQUENCY            0.466543           0.186005  -0.197785   \n",
       "CASH_ADVANCE_TRX                  0.435774           0.147070  -0.158409   \n",
       "PURCHASES_TRX                     0.009701           0.210446   0.744789   \n",
       "CREDIT_LIMIT                      0.400751           0.067577   0.298157   \n",
       "PAYMENTS                          0.240485           0.061599   0.438270   \n",
       "MINIMUM_PAYMENTS                  0.610902           0.232204   0.038342   \n",
       "PRC_FULL_PAYMENT                 -0.377288          -0.159424   0.194430   \n",
       "TENURE                            0.057468           0.104624   0.072604   \n",
       "\n",
       "                                  ONEOFF_PURCHASES  INSTALLMENTS_PURCHASES  \\\n",
       "BALANCE                                   0.078321               -0.037524   \n",
       "BALANCE_FREQUENCY                         0.113488                0.131446   \n",
       "PURCHASES                                 0.875720                0.652988   \n",
       "ONEOFF_PURCHASES                          1.000000                0.206243   \n",
       "INSTALLMENTS_PURCHASES                    0.206243                1.000000   \n",
       "CASH_ADVANCE                             -0.089704               -0.150261   \n",
       "PURCHASES_FREQUENCY                       0.337738                0.596025   \n",
       "ONEOFF_PURCHASES_FREQUENCY                0.692882                0.152086   \n",
       "PURCHASES_INSTALLMENTS_FREQUENCY          0.095937                0.686644   \n",
       "CASH_ADVANCE_FREQUENCY                   -0.122729               -0.208456   \n",
       "CASH_ADVANCE_TRX                         -0.097218               -0.168699   \n",
       "PURCHASES_TRX                             0.552959                0.642291   \n",
       "CREDIT_LIMIT                              0.284639                0.157688   \n",
       "PAYMENTS                                  0.401436                0.258346   \n",
       "MINIMUM_PAYMENTS                          0.014227                0.055252   \n",
       "PRC_FULL_PAYMENT                          0.102127                0.233630   \n",
       "TENURE                                    0.045241                0.076047   \n",
       "\n",
       "                                  CASH_ADVANCE  PURCHASES_FREQUENCY  \\\n",
       "BALANCE                               0.509312            -0.145517   \n",
       "BALANCE_FREQUENCY                     0.085043             0.226480   \n",
       "PURCHASES                            -0.143448             0.555402   \n",
       "ONEOFF_PURCHASES                     -0.089704             0.337738   \n",
       "INSTALLMENTS_PURCHASES               -0.150261             0.596025   \n",
       "CASH_ADVANCE                          1.000000            -0.287348   \n",
       "PURCHASES_FREQUENCY                  -0.287348             1.000000   \n",
       "ONEOFF_PURCHASES_FREQUENCY           -0.123338             0.478305   \n",
       "PURCHASES_INSTALLMENTS_FREQUENCY     -0.238911             0.855422   \n",
       "CASH_ADVANCE_FREQUENCY                0.671845            -0.354882   \n",
       "CASH_ADVANCE_TRX                      0.694980            -0.293949   \n",
       "PURCHASES_TRX                        -0.173397             0.725113   \n",
       "CREDIT_LIMIT                          0.221555             0.118490   \n",
       "PAYMENTS                              0.345054             0.108915   \n",
       "MINIMUM_PAYMENTS                      0.268975            -0.042378   \n",
       "PRC_FULL_PAYMENT                     -0.203739             0.307606   \n",
       "TENURE                               -0.086218             0.053851   \n",
       "\n",
       "                                  ONEOFF_PURCHASES_FREQUENCY  \\\n",
       "BALANCE                                             0.029860   \n",
       "BALANCE_FREQUENCY                                   0.178007   \n",
       "PURCHASES                                           0.611340   \n",
       "ONEOFF_PURCHASES                                    0.692882   \n",
       "INSTALLMENTS_PURCHASES                              0.152086   \n",
       "CASH_ADVANCE                                       -0.123338   \n",
       "PURCHASES_FREQUENCY                                 0.478305   \n",
       "ONEOFF_PURCHASES_FREQUENCY                          1.000000   \n",
       "PURCHASES_INSTALLMENTS_FREQUENCY                    0.078747   \n",
       "CASH_ADVANCE_FREQUENCY                             -0.139606   \n",
       "CASH_ADVANCE_TRX                                   -0.116999   \n",
       "PURCHASES_TRX                                       0.582221   \n",
       "CREDIT_LIMIT                                        0.274026   \n",
       "PAYMENTS                                            0.247869   \n",
       "MINIMUM_PAYMENTS                                   -0.027150   \n",
       "PRC_FULL_PAYMENT                                    0.129034   \n",
       "TENURE                                              0.061977   \n",
       "\n",
       "                                  PURCHASES_INSTALLMENTS_FREQUENCY  \\\n",
       "BALANCE                                                  -0.139821   \n",
       "BALANCE_FREQUENCY                                         0.177131   \n",
       "PURCHASES                                                 0.412956   \n",
       "ONEOFF_PURCHASES                                          0.095937   \n",
       "INSTALLMENTS_PURCHASES                                    0.686644   \n",
       "CASH_ADVANCE                                             -0.238911   \n",
       "PURCHASES_FREQUENCY                                       0.855422   \n",
       "ONEOFF_PURCHASES_FREQUENCY                                0.078747   \n",
       "PURCHASES_INSTALLMENTS_FREQUENCY                          1.000000   \n",
       "CASH_ADVANCE_FREQUENCY                                   -0.295972   \n",
       "CASH_ADVANCE_TRX                                         -0.245211   \n",
       "PURCHASES_TRX                                             0.643047   \n",
       "CREDIT_LIMIT                                              0.035968   \n",
       "PAYMENTS                                                  0.066594   \n",
       "MINIMUM_PAYMENTS                                         -0.021312   \n",
       "PRC_FULL_PAYMENT                                          0.256354   \n",
       "TENURE                                                    0.054076   \n",
       "\n",
       "                                  CASH_ADVANCE_FREQUENCY  CASH_ADVANCE_TRX  \\\n",
       "BALANCE                                         0.466543          0.435774   \n",
       "BALANCE_FREQUENCY                               0.186005          0.147070   \n",
       "PURCHASES                                      -0.197785         -0.158409   \n",
       "ONEOFF_PURCHASES                               -0.122729         -0.097218   \n",
       "INSTALLMENTS_PURCHASES                         -0.208456         -0.168699   \n",
       "CASH_ADVANCE                                    0.671845          0.694980   \n",
       "PURCHASES_FREQUENCY                            -0.354882         -0.293949   \n",
       "ONEOFF_PURCHASES_FREQUENCY                     -0.139606         -0.116999   \n",
       "PURCHASES_INSTALLMENTS_FREQUENCY               -0.295972         -0.245211   \n",
       "CASH_ADVANCE_FREQUENCY                          1.000000          0.882863   \n",
       "CASH_ADVANCE_TRX                                0.882863          1.000000   \n",
       "PURCHASES_TRX                                  -0.205582         -0.163697   \n",
       "CREDIT_LIMIT                                    0.056598          0.073034   \n",
       "PAYMENTS                                        0.173954          0.203713   \n",
       "MINIMUM_PAYMENTS                                0.246989          0.264140   \n",
       "PRC_FULL_PAYMENT                               -0.272413         -0.229574   \n",
       "TENURE                                         -0.078395         -0.046225   \n",
       "\n",
       "                                  PURCHASES_TRX  CREDIT_LIMIT  PAYMENTS  \\\n",
       "BALANCE                                0.009701      0.400751  0.240485   \n",
       "BALANCE_FREQUENCY                      0.210446      0.067577  0.061599   \n",
       "PURCHASES                              0.744789      0.298157  0.438270   \n",
       "ONEOFF_PURCHASES                       0.552959      0.284639  0.401436   \n",
       "INSTALLMENTS_PURCHASES                 0.642291      0.157688  0.258346   \n",
       "CASH_ADVANCE                          -0.173397      0.221555  0.345054   \n",
       "PURCHASES_FREQUENCY                    0.725113      0.118490  0.108915   \n",
       "ONEOFF_PURCHASES_FREQUENCY             0.582221      0.274026  0.247869   \n",
       "PURCHASES_INSTALLMENTS_FREQUENCY       0.643047      0.035968  0.066594   \n",
       "CASH_ADVANCE_FREQUENCY                -0.205582      0.056598  0.173954   \n",
       "CASH_ADVANCE_TRX                      -0.163697      0.073034  0.203713   \n",
       "PURCHASES_TRX                          1.000000      0.210458  0.285237   \n",
       "CREDIT_LIMIT                           0.210458      1.000000  0.318646   \n",
       "PAYMENTS                               0.285237      0.318646  1.000000   \n",
       "MINIMUM_PAYMENTS                       0.037131      0.127883  0.174245   \n",
       "PRC_FULL_PAYMENT                       0.193050      0.062309  0.081142   \n",
       "TENURE                                 0.103801      0.114121  0.094779   \n",
       "\n",
       "                                  MINIMUM_PAYMENTS  PRC_FULL_PAYMENT    TENURE  \n",
       "BALANCE                                   0.610902         -0.377288  0.057468  \n",
       "BALANCE_FREQUENCY                         0.232204         -0.159424  0.104624  \n",
       "PURCHASES                                 0.038342          0.194430  0.072604  \n",
       "ONEOFF_PURCHASES                          0.014227          0.102127  0.045241  \n",
       "INSTALLMENTS_PURCHASES                    0.055252          0.233630  0.076047  \n",
       "CASH_ADVANCE                              0.268975         -0.203739 -0.086218  \n",
       "PURCHASES_FREQUENCY                      -0.042378          0.307606  0.053851  \n",
       "ONEOFF_PURCHASES_FREQUENCY               -0.027150          0.129034  0.061977  \n",
       "PURCHASES_INSTALLMENTS_FREQUENCY         -0.021312          0.256354  0.054076  \n",
       "CASH_ADVANCE_FREQUENCY                    0.246989         -0.272413 -0.078395  \n",
       "CASH_ADVANCE_TRX                          0.264140         -0.229574 -0.046225  \n",
       "PURCHASES_TRX                             0.037131          0.193050  0.103801  \n",
       "CREDIT_LIMIT                              0.127883          0.062309  0.114121  \n",
       "PAYMENTS                                  0.174245          0.081142  0.094779  \n",
       "MINIMUM_PAYMENTS                          1.000000         -0.261659  0.062021  \n",
       "PRC_FULL_PAYMENT                         -0.261659          1.000000 -0.017408  \n",
       "TENURE                                    0.062021         -0.017408  1.000000  "
      ]
     },
     "execution_count": 33,
     "metadata": {},
     "output_type": "execute_result"
    }
   ],
   "source": [
    "data2.corr()"
   ]
  },
  {
   "cell_type": "code",
   "execution_count": 34,
   "id": "b59298a1-008f-4eef-96c1-d46f03260a68",
   "metadata": {},
   "outputs": [
    {
     "data": {
      "image/png": "[encoded data removed]",
      "text/plain": [
       "<Figure size 1152x720 with 2 Axes>"
      ]
     },
     "metadata": {
      "needs_background": "light"
     },
     "output_type": "display_data"
    }
   ],
   "source": [
    "corr = data2.corr()\n",
    "plt.figure(figsize=(16, 10))\n",
    "sns.heatmap(corr[(corr >=0.9) | (corr <= -0.9)], annot=True, cmap=\"YlGnBu\")\n",
    "plt.show()"
   ]
  },
  {
   "cell_type": "markdown",
   "id": "fffa104c-48ba-44dd-82f2-0834bde7b0e5",
   "metadata": {},
   "source": [
    "#### Q3. Perform dimensionality reduction using PCA such that the 95% of the variance is explained"
   ]
  },
  {
   "cell_type": "code",
   "execution_count": 35,
   "id": "c03d8fb9-57c6-4c78-a150-57e3a9180a5a",
   "metadata": {},
   "outputs": [],
   "source": [
    "features = data2.drop([\"CUST_ID\"], axis=1)"
   ]
  },
  {
   "cell_type": "code",
   "execution_count": 36,
   "id": "1dca3ebb-aba2-4a6c-b988-3d592e97d571",
   "metadata": {},
   "outputs": [
    {
     "data": {
      "text/html": [
       "<div>\n",
       "<style scoped>\n",
       "    .dataframe tbody tr th:only-of-type {\n",
       "        vertical-align: middle;\n",
       "    }\n",
       "\n",
       "    .dataframe tbody tr th {\n",
       "        vertical-align: top;\n",
       "    }\n",
       "\n",
       "    .dataframe thead th {\n",
       "        text-align: right;\n",
       "    }\n",
       "</style>\n",
       "<table border=\"1\" class=\"dataframe\">\n",
       "  <thead>\n",
       "    <tr style=\"text-align: right;\">\n",
       "      <th></th>\n",
       "      <th>BALANCE</th>\n",
       "      <th>BALANCE_FREQUENCY</th>\n",
       "      <th>PURCHASES</th>\n",
       "      <th>ONEOFF_PURCHASES</th>\n",
       "      <th>INSTALLMENTS_PURCHASES</th>\n",
       "      <th>CASH_ADVANCE</th>\n",
       "      <th>PURCHASES_FREQUENCY</th>\n",
       "      <th>ONEOFF_PURCHASES_FREQUENCY</th>\n",
       "      <th>PURCHASES_INSTALLMENTS_FREQUENCY</th>\n",
       "      <th>CASH_ADVANCE_FREQUENCY</th>\n",
       "      <th>CASH_ADVANCE_TRX</th>\n",
       "      <th>PURCHASES_TRX</th>\n",
       "      <th>CREDIT_LIMIT</th>\n",
       "      <th>PAYMENTS</th>\n",
       "      <th>MINIMUM_PAYMENTS</th>\n",
       "      <th>PRC_FULL_PAYMENT</th>\n",
       "      <th>TENURE</th>\n",
       "    </tr>\n",
       "  </thead>\n",
       "  <tbody>\n",
       "    <tr>\n",
       "      <th>0</th>\n",
       "      <td>-0.809652</td>\n",
       "      <td>-0.334911</td>\n",
       "      <td>-0.641448</td>\n",
       "      <td>-0.543505</td>\n",
       "      <td>-0.448067</td>\n",
       "      <td>-0.543984</td>\n",
       "      <td>-0.805098</td>\n",
       "      <td>-0.668791</td>\n",
       "      <td>-0.698321</td>\n",
       "      <td>-0.690806</td>\n",
       "      <td>-0.587319</td>\n",
       "      <td>-0.665235</td>\n",
       "      <td>-1.021765</td>\n",
       "      <td>-0.762853</td>\n",
       "      <td>-0.577804</td>\n",
       "      <td>-0.531523</td>\n",
       "      <td>0.312187</td>\n",
       "    </tr>\n",
       "    <tr>\n",
       "      <th>1</th>\n",
       "      <td>1.273272</td>\n",
       "      <td>0.091127</td>\n",
       "      <td>-0.734487</td>\n",
       "      <td>-0.543505</td>\n",
       "      <td>-0.636612</td>\n",
       "      <td>4.671914</td>\n",
       "      <td>-1.225631</td>\n",
       "      <td>-0.668791</td>\n",
       "      <td>-0.910579</td>\n",
       "      <td>0.883825</td>\n",
       "      <td>0.427706</td>\n",
       "      <td>-0.797517</td>\n",
       "      <td>1.022039</td>\n",
       "      <td>1.953121</td>\n",
       "      <td>0.623747</td>\n",
       "      <td>0.232637</td>\n",
       "      <td>0.312187</td>\n",
       "    </tr>\n",
       "    <tr>\n",
       "      <th>2</th>\n",
       "      <td>0.807271</td>\n",
       "      <td>0.517164</td>\n",
       "      <td>0.019551</td>\n",
       "      <td>0.430864</td>\n",
       "      <td>-0.636612</td>\n",
       "      <td>-0.543984</td>\n",
       "      <td>1.297564</td>\n",
       "      <td>2.808268</td>\n",
       "      <td>-0.910579</td>\n",
       "      <td>-0.690806</td>\n",
       "      <td>-0.587319</td>\n",
       "      <td>-0.003826</td>\n",
       "      <td>1.192356</td>\n",
       "      <td>-0.470272</td>\n",
       "      <td>0.050485</td>\n",
       "      <td>-0.531523</td>\n",
       "      <td>0.312187</td>\n",
       "    </tr>\n",
       "    <tr>\n",
       "      <th>3</th>\n",
       "      <td>0.261448</td>\n",
       "      <td>-1.186986</td>\n",
       "      <td>0.727420</td>\n",
       "      <td>1.345575</td>\n",
       "      <td>-0.636612</td>\n",
       "      <td>-0.377388</td>\n",
       "      <td>-1.015366</td>\n",
       "      <td>-0.379037</td>\n",
       "      <td>-0.910579</td>\n",
       "      <td>-0.165931</td>\n",
       "      <td>-0.333563</td>\n",
       "      <td>-0.731376</td>\n",
       "      <td>1.192356</td>\n",
       "      <td>-0.903344</td>\n",
       "      <td>0.355657</td>\n",
       "      <td>-0.531523</td>\n",
       "      <td>0.312187</td>\n",
       "    </tr>\n",
       "    <tr>\n",
       "      <th>4</th>\n",
       "      <td>-0.297867</td>\n",
       "      <td>0.517164</td>\n",
       "      <td>-0.718883</td>\n",
       "      <td>-0.523341</td>\n",
       "      <td>-0.636612</td>\n",
       "      <td>-0.543984</td>\n",
       "      <td>-1.015366</td>\n",
       "      <td>-0.379037</td>\n",
       "      <td>-0.910579</td>\n",
       "      <td>-0.690806</td>\n",
       "      <td>-0.587319</td>\n",
       "      <td>-0.731376</td>\n",
       "      <td>-0.953638</td>\n",
       "      <td>-0.431099</td>\n",
       "      <td>-0.442194</td>\n",
       "      <td>-0.531523</td>\n",
       "      <td>0.312187</td>\n",
       "    </tr>\n",
       "  </tbody>\n",
       "</table>\n",
       "</div>"
      ],
      "text/plain": [
       "    BALANCE  BALANCE_FREQUENCY  PURCHASES  ONEOFF_PURCHASES  \\\n",
       "0 -0.809652          -0.334911  -0.641448         -0.543505   \n",
       "1  1.273272           0.091127  -0.734487         -0.543505   \n",
       "2  0.807271           0.517164   0.019551          0.430864   \n",
       "3  0.261448          -1.186986   0.727420          1.345575   \n",
       "4 -0.297867           0.517164  -0.718883         -0.523341   \n",
       "\n",
       "   INSTALLMENTS_PURCHASES  CASH_ADVANCE  PURCHASES_FREQUENCY  \\\n",
       "0               -0.448067     -0.543984            -0.805098   \n",
       "1               -0.636612      4.671914            -1.225631   \n",
       "2               -0.636612     -0.543984             1.297564   \n",
       "3               -0.636612     -0.377388            -1.015366   \n",
       "4               -0.636612     -0.543984            -1.015366   \n",
       "\n",
       "   ONEOFF_PURCHASES_FREQUENCY  PURCHASES_INSTALLMENTS_FREQUENCY  \\\n",
       "0                   -0.668791                         -0.698321   \n",
       "1                   -0.668791                         -0.910579   \n",
       "2                    2.808268                         -0.910579   \n",
       "3                   -0.379037                         -0.910579   \n",
       "4                   -0.379037                         -0.910579   \n",
       "\n",
       "   CASH_ADVANCE_FREQUENCY  CASH_ADVANCE_TRX  PURCHASES_TRX  CREDIT_LIMIT  \\\n",
       "0               -0.690806         -0.587319      -0.665235     -1.021765   \n",
       "1                0.883825          0.427706      -0.797517      1.022039   \n",
       "2               -0.690806         -0.587319      -0.003826      1.192356   \n",
       "3               -0.165931         -0.333563      -0.731376      1.192356   \n",
       "4               -0.690806         -0.587319      -0.731376     -0.953638   \n",
       "\n",
       "   PAYMENTS  MINIMUM_PAYMENTS  PRC_FULL_PAYMENT    TENURE  \n",
       "0 -0.762853         -0.577804         -0.531523  0.312187  \n",
       "1  1.953121          0.623747          0.232637  0.312187  \n",
       "2 -0.470272          0.050485         -0.531523  0.312187  \n",
       "3 -0.903344          0.355657         -0.531523  0.312187  \n",
       "4 -0.431099         -0.442194         -0.531523  0.312187  "
      ]
     },
     "execution_count": 36,
     "metadata": {},
     "output_type": "execute_result"
    }
   ],
   "source": [
    "from sklearn.preprocessing import StandardScaler\n",
    "scaler = StandardScaler()\n",
    "features = scaler.fit_transform(features)\n",
    "features_scaled = pd.DataFrame(features, columns=data.columns[1:36])\n",
    "features_scaled.head()"
   ]
  },
  {
   "cell_type": "code",
   "execution_count": 37,
   "id": "f2ab5159-2902-43bd-b95e-27f7204af60b",
   "metadata": {},
   "outputs": [],
   "source": [
    "from sklearn.decomposition import PCA\n",
    "from numpy.linalg import eig\n",
    "\n",
    "cov_mat = np.cov(features_scaled.T)\n",
    "eig_val, eig_vec = eig(cov_mat)"
   ]
  },
  {
   "cell_type": "code",
   "execution_count": 38,
   "id": "357b3473-69c2-4bb5-ba13-57526e7ffe25",
   "metadata": {},
   "outputs": [
    {
     "name": "stdout",
     "output_type": "stream",
     "text": [
      "[4.92524749996989, 3.4619648024667007, 1.6205949880729977, 1.3097469626127685, 1.0739149207081846, 0.9159096228587275, 0.7940366361452109, 0.6484808634889621, 0.5876553196282568, 0.48123778108034415, 0.3080371418037856, 0.2938291577292953, 0.24045852615894353, 0.1945578820380998, 0.10801446497458307, 0.038566862281458704, 3.366605793546249e-05]\n",
      "\n",
      "                           Features  Eigen_value\n",
      "0                           BALANCE     4.925247\n",
      "1                 BALANCE_FREQUENCY     3.461965\n",
      "2                         PURCHASES     1.620595\n",
      "3                  ONEOFF_PURCHASES     1.309747\n",
      "4            INSTALLMENTS_PURCHASES     1.073915\n",
      "5                      CASH_ADVANCE     0.915910\n",
      "6               PURCHASES_FREQUENCY     0.794037\n",
      "7        ONEOFF_PURCHASES_FREQUENCY     0.648481\n",
      "8  PURCHASES_INSTALLMENTS_FREQUENCY     0.587655\n",
      "9            CASH_ADVANCE_FREQUENCY     0.481238\n",
      "\n",
      "[4.92524749996989, 3.4619648024667007, 1.6205949880729977, 1.3097469626127685, 1.0739149207081846, 0.9159096228587275, 0.7940366361452109, 0.6484808634889621, 0.5876553196282568, 0.48123778108034415, 0.3080371418037856, 0.2938291577292953, 0.24045852615894353, 0.1945578820380998, 0.10801446497458307, 0.038566862281458704, 3.366605793546249e-05]\n"
     ]
    }
   ],
   "source": [
    "eig_val = list(eig_val)\n",
    "print(eig_val)\n",
    "print()\n",
    "\n",
    "cols = pd.Series(data.columns[1:36].values)\n",
    "eig_val_df = pd.DataFrame(columns=[\"Features\", \"Eigen_value\"])\n",
    "eig_val_df[\"Features\"] = cols\n",
    "eig_val_df[\"Eigen_value\"] = eig_val\n",
    "eig_val_df = eig_val_df.sort_values(by=\"Eigen_value\", ascending=False)\n",
    "print(eig_val_df.head(10))\n",
    "print()\n",
    "\n",
    "eig_val.sort(reverse=True)\n",
    "print(eig_val)"
   ]
  },
  {
   "cell_type": "code",
   "execution_count": 39,
   "id": "e8767172-905e-4adb-b4aa-a48eb77ead11",
   "metadata": {},
   "outputs": [
    {
     "data": {
      "text/plain": [
       "(7434, 17)"
      ]
     },
     "execution_count": 39,
     "metadata": {},
     "output_type": "execute_result"
    }
   ],
   "source": [
    "features_scaled.shape"
   ]
  },
  {
   "cell_type": "code",
   "execution_count": 40,
   "id": "de8478a7-bc17-4c59-9e0a-7c29683c000d",
   "metadata": {},
   "outputs": [
    {
     "name": "stdout",
     "output_type": "stream",
     "text": [
      "[2.89681469e-01 2.03617595e-01 9.53162936e-02 7.70335753e-02\n",
      " 6.31629683e-02 5.38697893e-02 4.67017544e-02 3.81408019e-02\n",
      " 3.45633100e-02 2.83042968e-02 1.81173944e-02 1.72817431e-02\n",
      " 1.41427165e-02 1.14430418e-02 6.35293736e-03 2.26833379e-03\n",
      " 1.98008996e-06]\n"
     ]
    }
   ],
   "source": [
    "pca = PCA().fit(features_scaled)\n",
    "print(pca.explained_variance_ratio_)"
   ]
  },
  {
   "cell_type": "code",
   "execution_count": 41,
   "id": "e8441861-6cf8-4f8e-854a-ced189cf910e",
   "metadata": {},
   "outputs": [
    {
     "data": {
      "image/png": "[encoded data removed]",
      "text/plain": [
       "<Figure size 864x432 with 1 Axes>"
      ]
     },
     "metadata": {
      "needs_background": "light"
     },
     "output_type": "display_data"
    }
   ],
   "source": [
    "plt.rcParams['figure.figsize'] = (12, 6)\n",
    "\n",
    "fig, ax = plt.subplots()\n",
    "xi = np.arange(1, 18, step=1)\n",
    "yi = np.cumsum(pca.explained_variance_ratio_)\n",
    "plt.ylim(0.0, 1.1)\n",
    "plt.plot(xi, yi, marker='o', linestyle='--', color='b')\n",
    "\n",
    "plt.xlabel('No. of Components')\n",
    "plt.xticks(np.arange(1, 18, step=1))\n",
    "plt.ylabel('Cumulative variance (%)')\n",
    "plt.title('The No. of components explain variance')\n",
    "\n",
    "plt.axhline(y=0.95, color='r', linestyle='-')\n",
    "plt.text(0.5, 0.85, '95% cut-off threshold', color='red')\n",
    "\n",
    "plt.show()"
   ]
  },
  {
   "cell_type": "code",
   "execution_count": 42,
   "id": "cce3660a-fe9e-4d8d-9c8b-448d5a7571ef",
   "metadata": {},
   "outputs": [
    {
     "data": {
      "text/html": [
       "<div>\n",
       "<style scoped>\n",
       "    .dataframe tbody tr th:only-of-type {\n",
       "        vertical-align: middle;\n",
       "    }\n",
       "\n",
       "    .dataframe tbody tr th {\n",
       "        vertical-align: top;\n",
       "    }\n",
       "\n",
       "    .dataframe thead th {\n",
       "        text-align: right;\n",
       "    }\n",
       "</style>\n",
       "<table border=\"1\" class=\"dataframe\">\n",
       "  <thead>\n",
       "    <tr style=\"text-align: right;\">\n",
       "      <th></th>\n",
       "      <th>BALANCE</th>\n",
       "      <th>BALANCE_FREQUENCY</th>\n",
       "      <th>PURCHASES</th>\n",
       "      <th>ONEOFF_PURCHASES</th>\n",
       "      <th>INSTALLMENTS_PURCHASES</th>\n",
       "      <th>CASH_ADVANCE</th>\n",
       "      <th>PURCHASES_FREQUENCY</th>\n",
       "      <th>ONEOFF_PURCHASES_FREQUENCY</th>\n",
       "      <th>PURCHASES_INSTALLMENTS_FREQUENCY</th>\n",
       "      <th>CASH_ADVANCE_FREQUENCY</th>\n",
       "      <th>CASH_ADVANCE_TRX</th>\n",
       "    </tr>\n",
       "  </thead>\n",
       "  <tbody>\n",
       "    <tr>\n",
       "      <th>0</th>\n",
       "      <td>-1.325625</td>\n",
       "      <td>-2.046626</td>\n",
       "      <td>0.204168</td>\n",
       "      <td>-0.629249</td>\n",
       "      <td>0.063922</td>\n",
       "      <td>-0.321145</td>\n",
       "      <td>0.643574</td>\n",
       "      <td>-0.205845</td>\n",
       "      <td>-0.274637</td>\n",
       "      <td>-0.125446</td>\n",
       "      <td>0.039036</td>\n",
       "    </tr>\n",
       "    <tr>\n",
       "      <th>1</th>\n",
       "      <td>-2.781074</td>\n",
       "      <td>3.311279</td>\n",
       "      <td>0.444409</td>\n",
       "      <td>1.504716</td>\n",
       "      <td>-1.857740</td>\n",
       "      <td>0.175910</td>\n",
       "      <td>-0.372141</td>\n",
       "      <td>0.449321</td>\n",
       "      <td>-1.045414</td>\n",
       "      <td>1.490024</td>\n",
       "      <td>1.296720</td>\n",
       "    </tr>\n",
       "    <tr>\n",
       "      <th>2</th>\n",
       "      <td>1.237429</td>\n",
       "      <td>0.544760</td>\n",
       "      <td>1.472225</td>\n",
       "      <td>-2.058193</td>\n",
       "      <td>0.490464</td>\n",
       "      <td>-0.017539</td>\n",
       "      <td>-1.688912</td>\n",
       "      <td>-0.290765</td>\n",
       "      <td>0.758095</td>\n",
       "      <td>0.996202</td>\n",
       "      <td>-0.779984</td>\n",
       "    </tr>\n",
       "    <tr>\n",
       "      <th>3</th>\n",
       "      <td>-0.606674</td>\n",
       "      <td>-0.007237</td>\n",
       "      <td>1.815941</td>\n",
       "      <td>-1.006197</td>\n",
       "      <td>-0.773933</td>\n",
       "      <td>0.843505</td>\n",
       "      <td>0.180941</td>\n",
       "      <td>-0.717758</td>\n",
       "      <td>0.660198</td>\n",
       "      <td>-1.274210</td>\n",
       "      <td>0.792208</td>\n",
       "    </tr>\n",
       "    <tr>\n",
       "      <th>4</th>\n",
       "      <td>-1.448065</td>\n",
       "      <td>-1.469047</td>\n",
       "      <td>0.273819</td>\n",
       "      <td>-1.139256</td>\n",
       "      <td>0.214302</td>\n",
       "      <td>-0.436232</td>\n",
       "      <td>0.309731</td>\n",
       "      <td>0.229897</td>\n",
       "      <td>-0.805582</td>\n",
       "      <td>-0.032215</td>\n",
       "      <td>-0.095327</td>\n",
       "    </tr>\n",
       "  </tbody>\n",
       "</table>\n",
       "</div>"
      ],
      "text/plain": [
       "    BALANCE  BALANCE_FREQUENCY  PURCHASES  ONEOFF_PURCHASES  \\\n",
       "0 -1.325625          -2.046626   0.204168         -0.629249   \n",
       "1 -2.781074           3.311279   0.444409          1.504716   \n",
       "2  1.237429           0.544760   1.472225         -2.058193   \n",
       "3 -0.606674          -0.007237   1.815941         -1.006197   \n",
       "4 -1.448065          -1.469047   0.273819         -1.139256   \n",
       "\n",
       "   INSTALLMENTS_PURCHASES  CASH_ADVANCE  PURCHASES_FREQUENCY  \\\n",
       "0                0.063922     -0.321145             0.643574   \n",
       "1               -1.857740      0.175910            -0.372141   \n",
       "2                0.490464     -0.017539            -1.688912   \n",
       "3               -0.773933      0.843505             0.180941   \n",
       "4                0.214302     -0.436232             0.309731   \n",
       "\n",
       "   ONEOFF_PURCHASES_FREQUENCY  PURCHASES_INSTALLMENTS_FREQUENCY  \\\n",
       "0                   -0.205845                         -0.274637   \n",
       "1                    0.449321                         -1.045414   \n",
       "2                   -0.290765                          0.758095   \n",
       "3                   -0.717758                          0.660198   \n",
       "4                    0.229897                         -0.805582   \n",
       "\n",
       "   CASH_ADVANCE_FREQUENCY  CASH_ADVANCE_TRX  \n",
       "0               -0.125446          0.039036  \n",
       "1                1.490024          1.296720  \n",
       "2                0.996202         -0.779984  \n",
       "3               -1.274210          0.792208  \n",
       "4               -0.032215         -0.095327  "
      ]
     },
     "execution_count": 42,
     "metadata": {},
     "output_type": "execute_result"
    }
   ],
   "source": [
    "pca = PCA(n_components=11, random_state=123)\n",
    "PrincipalComp = pca.fit_transform(features_scaled)\n",
    "\n",
    "pca_df = pd.DataFrame(PrincipalComp, columns=list(eig_val_df[\"Features\"])[0:11])\n",
    "pca_df.head()"
   ]
  },
  {
   "cell_type": "markdown",
   "id": "7e578c82-2681-423d-b82d-7099211738ac",
   "metadata": {},
   "source": [
    "#### Q4. Find the optimum value of k for k-means clustering using the elbow method. Plot the elbow curve"
   ]
  },
  {
   "cell_type": "code",
   "execution_count": 43,
   "id": "4d1bc6b7-0d2c-40b5-961a-fa951d43cdf8",
   "metadata": {},
   "outputs": [
    {
     "data": {
      "image/png": "[encoded data removed]",
      "text/plain": [
       "<Figure size 864x432 with 1 Axes>"
      ]
     },
     "metadata": {
      "needs_background": "light"
     },
     "output_type": "display_data"
    }
   ],
   "source": [
    "from sklearn.cluster import KMeans\n",
    "\n",
    "wcss = []\n",
    "\n",
    "for i in range(1,11):\n",
    "    km = KMeans(n_clusters=i)\n",
    "    km.fit(pca_df)\n",
    "    wcss.append(km.inertia_)\n",
    "\n",
    "plt.figure(figsize=(12,6))\n",
    "plt.plot(range(1, 11), wcss)\n",
    "plt.plot(range(1, 11), wcss, linewidth=2, color=\"red\", marker =\"8\")\n",
    "plt.xlabel(\"K Value\")\n",
    "plt.xticks(np.arange(1, 11, 1))\n",
    "plt.ylabel(\"WCSS\")\n",
    "plt.show()"
   ]
  },
  {
   "cell_type": "markdown",
   "id": "078d94e1-0e53-4577-b6e7-ccc8b9633ba5",
   "metadata": {},
   "source": [
    "#### Q5. Find the optimum value of k for k-means clustering using the silhouette score method and specify the number of observations in each cluster using a bar plot"
   ]
  },
  {
   "cell_type": "code",
   "execution_count": 44,
   "id": "cd2dbfd5-29be-438d-9f51-58bb9dc3dd99",
   "metadata": {},
   "outputs": [
    {
     "name": "stdout",
     "output_type": "stream",
     "text": [
      "k = 2, Score = 0.21606954020645033\n",
      "k = 3, Score = 0.2156552051400088\n",
      "k = 4, Score = 0.19672741136085198\n",
      "k = 5, Score = 0.19840115235722233\n",
      "k = 6, Score = 0.20497110513014455\n",
      "k = 7, Score = 0.21410700098207644\n",
      "k = 8, Score = 0.21817978450106265\n",
      "k = 9, Score = 0.21382114081524353\n",
      "k = 10, Score = 0.19340138569666315\n"
     ]
    }
   ],
   "source": [
    "from sklearn.metrics import silhouette_score\n",
    "\n",
    "n_clusters = range(2, 11)\n",
    "\n",
    "for k in n_clusters:\n",
    "    kmeans = KMeans(n_clusters=k, random_state=112)\n",
    "    predict = kmeans.fit_predict(pca_df)\n",
    "    score = silhouette_score(pca_df, predict, random_state=1)\n",
    "    print(\"k = {}, Score = {}\".format(k, score))"
   ]
  },
  {
   "cell_type": "code",
   "execution_count": 45,
   "id": "e31803fb-c659-43aa-8614-e6fd2b21ebb3",
   "metadata": {},
   "outputs": [
    {
     "data": {
      "text/plain": [
       "KMeans()"
      ]
     },
     "execution_count": 45,
     "metadata": {},
     "output_type": "execute_result"
    }
   ],
   "source": [
    "kmeans = KMeans(n_clusters=8)\n",
    "kmeans.fit(pca_df)"
   ]
  },
  {
   "cell_type": "code",
   "execution_count": 46,
   "id": "9f9e02fc-74a7-42e8-beb2-28976a467fa2",
   "metadata": {},
   "outputs": [
    {
     "data": {
      "text/html": [
       "<div>\n",
       "<style scoped>\n",
       "    .dataframe tbody tr th:only-of-type {\n",
       "        vertical-align: middle;\n",
       "    }\n",
       "\n",
       "    .dataframe tbody tr th {\n",
       "        vertical-align: top;\n",
       "    }\n",
       "\n",
       "    .dataframe thead th {\n",
       "        text-align: right;\n",
       "    }\n",
       "</style>\n",
       "<table border=\"1\" class=\"dataframe\">\n",
       "  <thead>\n",
       "    <tr style=\"text-align: right;\">\n",
       "      <th></th>\n",
       "      <th>BALANCE</th>\n",
       "      <th>BALANCE_FREQUENCY</th>\n",
       "      <th>PURCHASES</th>\n",
       "      <th>ONEOFF_PURCHASES</th>\n",
       "      <th>INSTALLMENTS_PURCHASES</th>\n",
       "      <th>CASH_ADVANCE</th>\n",
       "      <th>PURCHASES_FREQUENCY</th>\n",
       "      <th>ONEOFF_PURCHASES_FREQUENCY</th>\n",
       "      <th>PURCHASES_INSTALLMENTS_FREQUENCY</th>\n",
       "      <th>CASH_ADVANCE_FREQUENCY</th>\n",
       "      <th>CASH_ADVANCE_TRX</th>\n",
       "      <th>CUST_ID</th>\n",
       "      <th>Cluster</th>\n",
       "    </tr>\n",
       "  </thead>\n",
       "  <tbody>\n",
       "    <tr>\n",
       "      <th>0</th>\n",
       "      <td>40.900749</td>\n",
       "      <td>0.818182</td>\n",
       "      <td>95.40</td>\n",
       "      <td>0.00</td>\n",
       "      <td>95.4</td>\n",
       "      <td>0.000000</td>\n",
       "      <td>0.166667</td>\n",
       "      <td>0.000000</td>\n",
       "      <td>0.083333</td>\n",
       "      <td>0.000000</td>\n",
       "      <td>0</td>\n",
       "      <td>C10001</td>\n",
       "      <td>6</td>\n",
       "    </tr>\n",
       "    <tr>\n",
       "      <th>1</th>\n",
       "      <td>3202.467416</td>\n",
       "      <td>0.909091</td>\n",
       "      <td>0.00</td>\n",
       "      <td>0.00</td>\n",
       "      <td>0.0</td>\n",
       "      <td>6442.945483</td>\n",
       "      <td>0.000000</td>\n",
       "      <td>0.000000</td>\n",
       "      <td>0.000000</td>\n",
       "      <td>0.250000</td>\n",
       "      <td>4</td>\n",
       "      <td>C10002</td>\n",
       "      <td>3</td>\n",
       "    </tr>\n",
       "    <tr>\n",
       "      <th>2</th>\n",
       "      <td>2495.148862</td>\n",
       "      <td>1.000000</td>\n",
       "      <td>773.17</td>\n",
       "      <td>773.17</td>\n",
       "      <td>0.0</td>\n",
       "      <td>0.000000</td>\n",
       "      <td>1.000000</td>\n",
       "      <td>1.000000</td>\n",
       "      <td>0.000000</td>\n",
       "      <td>0.000000</td>\n",
       "      <td>0</td>\n",
       "      <td>C10003</td>\n",
       "      <td>7</td>\n",
       "    </tr>\n",
       "    <tr>\n",
       "      <th>3</th>\n",
       "      <td>1666.670542</td>\n",
       "      <td>0.636364</td>\n",
       "      <td>1499.00</td>\n",
       "      <td>1499.00</td>\n",
       "      <td>0.0</td>\n",
       "      <td>205.788017</td>\n",
       "      <td>0.083333</td>\n",
       "      <td>0.083333</td>\n",
       "      <td>0.000000</td>\n",
       "      <td>0.083333</td>\n",
       "      <td>1</td>\n",
       "      <td>C10004</td>\n",
       "      <td>6</td>\n",
       "    </tr>\n",
       "    <tr>\n",
       "      <th>4</th>\n",
       "      <td>817.714335</td>\n",
       "      <td>1.000000</td>\n",
       "      <td>16.00</td>\n",
       "      <td>16.00</td>\n",
       "      <td>0.0</td>\n",
       "      <td>0.000000</td>\n",
       "      <td>0.083333</td>\n",
       "      <td>0.083333</td>\n",
       "      <td>0.000000</td>\n",
       "      <td>0.000000</td>\n",
       "      <td>0</td>\n",
       "      <td>C10005</td>\n",
       "      <td>6</td>\n",
       "    </tr>\n",
       "  </tbody>\n",
       "</table>\n",
       "</div>"
      ],
      "text/plain": [
       "       BALANCE  BALANCE_FREQUENCY  PURCHASES  ONEOFF_PURCHASES  \\\n",
       "0    40.900749           0.818182      95.40              0.00   \n",
       "1  3202.467416           0.909091       0.00              0.00   \n",
       "2  2495.148862           1.000000     773.17            773.17   \n",
       "3  1666.670542           0.636364    1499.00           1499.00   \n",
       "4   817.714335           1.000000      16.00             16.00   \n",
       "\n",
       "   INSTALLMENTS_PURCHASES  CASH_ADVANCE  PURCHASES_FREQUENCY  \\\n",
       "0                    95.4      0.000000             0.166667   \n",
       "1                     0.0   6442.945483             0.000000   \n",
       "2                     0.0      0.000000             1.000000   \n",
       "3                     0.0    205.788017             0.083333   \n",
       "4                     0.0      0.000000             0.083333   \n",
       "\n",
       "   ONEOFF_PURCHASES_FREQUENCY  PURCHASES_INSTALLMENTS_FREQUENCY  \\\n",
       "0                    0.000000                          0.083333   \n",
       "1                    0.000000                          0.000000   \n",
       "2                    1.000000                          0.000000   \n",
       "3                    0.083333                          0.000000   \n",
       "4                    0.083333                          0.000000   \n",
       "\n",
       "   CASH_ADVANCE_FREQUENCY  CASH_ADVANCE_TRX CUST_ID  Cluster  \n",
       "0                0.000000                 0  C10001        6  \n",
       "1                0.250000                 4  C10002        3  \n",
       "2                0.000000                 0  C10003        7  \n",
       "3                0.083333                 1  C10004        6  \n",
       "4                0.000000                 0  C10005        6  "
      ]
     },
     "execution_count": 46,
     "metadata": {},
     "output_type": "execute_result"
    }
   ],
   "source": [
    "data_output = pd.concat([data2[pca_df.columns], data2[\"CUST_ID\"]], axis=1)\n",
    "\n",
    "\n",
    "# Add a column 'cluster' in the data giving cluster number corresponding to each observation\n",
    "data_output['Cluster'] = kmeans.labels_\n",
    "data_output.head()"
   ]
  },
  {
   "cell_type": "code",
   "execution_count": 47,
   "id": "25f2c21c-b4c0-43f7-9e68-556299ae31aa",
   "metadata": {},
   "outputs": [
    {
     "data": {
      "text/plain": [
       "(array([0, 1, 2, 3, 4, 5, 6, 7], dtype=int32),\n",
       " array([ 939, 1538,  343,  891,  539,  385, 1964,  835]))"
      ]
     },
     "execution_count": 47,
     "metadata": {},
     "output_type": "execute_result"
    }
   ],
   "source": [
    "np.unique(kmeans.labels_, return_counts=True)"
   ]
  },
  {
   "cell_type": "code",
   "execution_count": 48,
   "id": "300e25ed-a2be-4143-b77a-574e1a7af262",
   "metadata": {},
   "outputs": [
    {
     "data": {
      "image/png": "[encoded data removed]",
      "text/plain": [
       "<Figure size 864x432 with 1 Axes>"
      ]
     },
     "metadata": {
      "needs_background": "light"
     },
     "output_type": "display_data"
    }
   ],
   "source": [
    "cluster_count = data_output[\"Cluster\"].value_counts()\n",
    "sns.barplot(x=cluster_count.index, y=cluster_count)\n",
    "\n",
    "plt.title('Cluster Sizes', fontsize=15)\n",
    "plt.xlabel('Clusters',fontsize=15)\n",
    "plt.ylabel('No. of Customers',fontsize=15)\n",
    "\n",
    "plt.show()"
   ]
  },
  {
   "cell_type": "markdown",
   "id": "82999163-ffd0-4235-8643-e3719bc93529",
   "metadata": {},
   "source": [
    "# Part II - Deep Learning"
   ]
  },
  {
   "cell_type": "markdown",
   "id": "de3080a7-46a4-4a5d-ab5e-aec4163f0bf3",
   "metadata": {},
   "source": [
    "### Import important packages"
   ]
  },
  {
   "cell_type": "code",
   "execution_count": 49,
   "id": "4dede4bc-f56e-4d1f-9474-470d61ae351f",
   "metadata": {},
   "outputs": [],
   "source": [
    "from keras.layers import SimpleRNN, Embedding, Dense, LSTM, Dropout\n",
    "from keras.models import Sequential"
   ]
  },
  {
   "cell_type": "markdown",
   "id": "72e186bc-68f3-4698-9e73-a894e3d0fb4b",
   "metadata": {},
   "source": [
    "### Import Dataset"
   ]
  },
  {
   "cell_type": "code",
   "execution_count": 50,
   "id": "974110fc-ecbb-4fc3-a6f5-3b247ad37a12",
   "metadata": {},
   "outputs": [
    {
     "data": {
      "text/html": [
       "<div>\n",
       "<style scoped>\n",
       "    .dataframe tbody tr th:only-of-type {\n",
       "        vertical-align: middle;\n",
       "    }\n",
       "\n",
       "    .dataframe tbody tr th {\n",
       "        vertical-align: top;\n",
       "    }\n",
       "\n",
       "    .dataframe thead th {\n",
       "        text-align: right;\n",
       "    }\n",
       "</style>\n",
       "<table border=\"1\" class=\"dataframe\">\n",
       "  <thead>\n",
       "    <tr style=\"text-align: right;\">\n",
       "      <th></th>\n",
       "      <th>id</th>\n",
       "      <th>candidate</th>\n",
       "      <th>candidate_confidence</th>\n",
       "      <th>relevant_yn</th>\n",
       "      <th>relevant_yn_confidence</th>\n",
       "      <th>sentiment</th>\n",
       "      <th>sentiment_confidence</th>\n",
       "      <th>subject_matter</th>\n",
       "      <th>subject_matter_confidence</th>\n",
       "      <th>candidate_gold</th>\n",
       "      <th>...</th>\n",
       "      <th>relevant_yn_gold</th>\n",
       "      <th>retweet_count</th>\n",
       "      <th>sentiment_gold</th>\n",
       "      <th>subject_matter_gold</th>\n",
       "      <th>text</th>\n",
       "      <th>tweet_coord</th>\n",
       "      <th>tweet_created</th>\n",
       "      <th>tweet_id</th>\n",
       "      <th>tweet_location</th>\n",
       "      <th>user_timezone</th>\n",
       "    </tr>\n",
       "  </thead>\n",
       "  <tbody>\n",
       "    <tr>\n",
       "      <th>0</th>\n",
       "      <td>1</td>\n",
       "      <td>No candidate mentioned</td>\n",
       "      <td>1.0</td>\n",
       "      <td>yes</td>\n",
       "      <td>1.0</td>\n",
       "      <td>Neutral</td>\n",
       "      <td>0.6578</td>\n",
       "      <td>None of the above</td>\n",
       "      <td>1.0000</td>\n",
       "      <td>NaN</td>\n",
       "      <td>...</td>\n",
       "      <td>NaN</td>\n",
       "      <td>5</td>\n",
       "      <td>NaN</td>\n",
       "      <td>NaN</td>\n",
       "      <td>RT @NancyLeeGrahn: How did everyone feel about...</td>\n",
       "      <td>NaN</td>\n",
       "      <td>2015-08-07 09:54:46 -0700</td>\n",
       "      <td>629697200650592256</td>\n",
       "      <td>NaN</td>\n",
       "      <td>Quito</td>\n",
       "    </tr>\n",
       "    <tr>\n",
       "      <th>1</th>\n",
       "      <td>2</td>\n",
       "      <td>Scott Walker</td>\n",
       "      <td>1.0</td>\n",
       "      <td>yes</td>\n",
       "      <td>1.0</td>\n",
       "      <td>Positive</td>\n",
       "      <td>0.6333</td>\n",
       "      <td>None of the above</td>\n",
       "      <td>1.0000</td>\n",
       "      <td>NaN</td>\n",
       "      <td>...</td>\n",
       "      <td>NaN</td>\n",
       "      <td>26</td>\n",
       "      <td>NaN</td>\n",
       "      <td>NaN</td>\n",
       "      <td>RT @ScottWalker: Didn't catch the full #GOPdeb...</td>\n",
       "      <td>NaN</td>\n",
       "      <td>2015-08-07 09:54:46 -0700</td>\n",
       "      <td>629697199560069120</td>\n",
       "      <td>NaN</td>\n",
       "      <td>NaN</td>\n",
       "    </tr>\n",
       "    <tr>\n",
       "      <th>2</th>\n",
       "      <td>3</td>\n",
       "      <td>No candidate mentioned</td>\n",
       "      <td>1.0</td>\n",
       "      <td>yes</td>\n",
       "      <td>1.0</td>\n",
       "      <td>Neutral</td>\n",
       "      <td>0.6629</td>\n",
       "      <td>None of the above</td>\n",
       "      <td>0.6629</td>\n",
       "      <td>NaN</td>\n",
       "      <td>...</td>\n",
       "      <td>NaN</td>\n",
       "      <td>27</td>\n",
       "      <td>NaN</td>\n",
       "      <td>NaN</td>\n",
       "      <td>RT @TJMShow: No mention of Tamir Rice and the ...</td>\n",
       "      <td>NaN</td>\n",
       "      <td>2015-08-07 09:54:46 -0700</td>\n",
       "      <td>629697199312482304</td>\n",
       "      <td>NaN</td>\n",
       "      <td>NaN</td>\n",
       "    </tr>\n",
       "    <tr>\n",
       "      <th>3</th>\n",
       "      <td>4</td>\n",
       "      <td>No candidate mentioned</td>\n",
       "      <td>1.0</td>\n",
       "      <td>yes</td>\n",
       "      <td>1.0</td>\n",
       "      <td>Positive</td>\n",
       "      <td>1.0000</td>\n",
       "      <td>None of the above</td>\n",
       "      <td>0.7039</td>\n",
       "      <td>NaN</td>\n",
       "      <td>...</td>\n",
       "      <td>NaN</td>\n",
       "      <td>138</td>\n",
       "      <td>NaN</td>\n",
       "      <td>NaN</td>\n",
       "      <td>RT @RobGeorge: That Carly Fiorina is trending ...</td>\n",
       "      <td>NaN</td>\n",
       "      <td>2015-08-07 09:54:45 -0700</td>\n",
       "      <td>629697197118861312</td>\n",
       "      <td>Texas</td>\n",
       "      <td>Central Time (US &amp; Canada)</td>\n",
       "    </tr>\n",
       "    <tr>\n",
       "      <th>4</th>\n",
       "      <td>5</td>\n",
       "      <td>Donald Trump</td>\n",
       "      <td>1.0</td>\n",
       "      <td>yes</td>\n",
       "      <td>1.0</td>\n",
       "      <td>Positive</td>\n",
       "      <td>0.7045</td>\n",
       "      <td>None of the above</td>\n",
       "      <td>1.0000</td>\n",
       "      <td>NaN</td>\n",
       "      <td>...</td>\n",
       "      <td>NaN</td>\n",
       "      <td>156</td>\n",
       "      <td>NaN</td>\n",
       "      <td>NaN</td>\n",
       "      <td>RT @DanScavino: #GOPDebate w/ @realDonaldTrump...</td>\n",
       "      <td>NaN</td>\n",
       "      <td>2015-08-07 09:54:45 -0700</td>\n",
       "      <td>629697196967903232</td>\n",
       "      <td>NaN</td>\n",
       "      <td>Arizona</td>\n",
       "    </tr>\n",
       "  </tbody>\n",
       "</table>\n",
       "<p>5 rows × 21 columns</p>\n",
       "</div>"
      ],
      "text/plain": [
       "   id               candidate  candidate_confidence relevant_yn  \\\n",
       "0   1  No candidate mentioned                   1.0         yes   \n",
       "1   2            Scott Walker                   1.0         yes   \n",
       "2   3  No candidate mentioned                   1.0         yes   \n",
       "3   4  No candidate mentioned                   1.0         yes   \n",
       "4   5            Donald Trump                   1.0         yes   \n",
       "\n",
       "   relevant_yn_confidence sentiment  sentiment_confidence     subject_matter  \\\n",
       "0                     1.0   Neutral                0.6578  None of the above   \n",
       "1                     1.0  Positive                0.6333  None of the above   \n",
       "2                     1.0   Neutral                0.6629  None of the above   \n",
       "3                     1.0  Positive                1.0000  None of the above   \n",
       "4                     1.0  Positive                0.7045  None of the above   \n",
       "\n",
       "   subject_matter_confidence candidate_gold  ... relevant_yn_gold  \\\n",
       "0                     1.0000            NaN  ...              NaN   \n",
       "1                     1.0000            NaN  ...              NaN   \n",
       "2                     0.6629            NaN  ...              NaN   \n",
       "3                     0.7039            NaN  ...              NaN   \n",
       "4                     1.0000            NaN  ...              NaN   \n",
       "\n",
       "  retweet_count  sentiment_gold subject_matter_gold  \\\n",
       "0             5             NaN                 NaN   \n",
       "1            26             NaN                 NaN   \n",
       "2            27             NaN                 NaN   \n",
       "3           138             NaN                 NaN   \n",
       "4           156             NaN                 NaN   \n",
       "\n",
       "                                                text tweet_coord  \\\n",
       "0  RT @NancyLeeGrahn: How did everyone feel about...         NaN   \n",
       "1  RT @ScottWalker: Didn't catch the full #GOPdeb...         NaN   \n",
       "2  RT @TJMShow: No mention of Tamir Rice and the ...         NaN   \n",
       "3  RT @RobGeorge: That Carly Fiorina is trending ...         NaN   \n",
       "4  RT @DanScavino: #GOPDebate w/ @realDonaldTrump...         NaN   \n",
       "\n",
       "               tweet_created            tweet_id  tweet_location  \\\n",
       "0  2015-08-07 09:54:46 -0700  629697200650592256             NaN   \n",
       "1  2015-08-07 09:54:46 -0700  629697199560069120             NaN   \n",
       "2  2015-08-07 09:54:46 -0700  629697199312482304             NaN   \n",
       "3  2015-08-07 09:54:45 -0700  629697197118861312           Texas   \n",
       "4  2015-08-07 09:54:45 -0700  629697196967903232             NaN   \n",
       "\n",
       "                user_timezone  \n",
       "0                       Quito  \n",
       "1                         NaN  \n",
       "2                         NaN  \n",
       "3  Central Time (US & Canada)  \n",
       "4                     Arizona  \n",
       "\n",
       "[5 rows x 21 columns]"
      ]
     },
     "execution_count": 50,
     "metadata": {},
     "output_type": "execute_result"
    }
   ],
   "source": [
    "data = pd.read_csv(\"Sentiment.csv\")\n",
    "data.head()"
   ]
  },
  {
   "cell_type": "code",
   "execution_count": 51,
   "id": "945f840e-e2d0-466a-bdf7-5b2ee2eeadbb",
   "metadata": {},
   "outputs": [
    {
     "name": "stdout",
     "output_type": "stream",
     "text": [
      "<class 'pandas.core.frame.DataFrame'>\n",
      "RangeIndex: 13871 entries, 0 to 13870\n",
      "Data columns (total 21 columns):\n",
      " #   Column                     Non-Null Count  Dtype  \n",
      "---  ------                     --------------  -----  \n",
      " 0   id                         13871 non-null  int64  \n",
      " 1   candidate                  13775 non-null  object \n",
      " 2   candidate_confidence       13871 non-null  float64\n",
      " 3   relevant_yn                13871 non-null  object \n",
      " 4   relevant_yn_confidence     13871 non-null  float64\n",
      " 5   sentiment                  13871 non-null  object \n",
      " 6   sentiment_confidence       13871 non-null  float64\n",
      " 7   subject_matter             13545 non-null  object \n",
      " 8   subject_matter_confidence  13871 non-null  float64\n",
      " 9   candidate_gold             28 non-null     object \n",
      " 10  name                       13871 non-null  object \n",
      " 11  relevant_yn_gold           32 non-null     object \n",
      " 12  retweet_count              13871 non-null  int64  \n",
      " 13  sentiment_gold             15 non-null     object \n",
      " 14  subject_matter_gold        18 non-null     object \n",
      " 15  text                       13871 non-null  object \n",
      " 16  tweet_coord                21 non-null     object \n",
      " 17  tweet_created              13871 non-null  object \n",
      " 18  tweet_id                   13871 non-null  int64  \n",
      " 19  tweet_location             9959 non-null   object \n",
      " 20  user_timezone              9468 non-null   object \n",
      "dtypes: float64(4), int64(3), object(14)\n",
      "memory usage: 2.2+ MB\n"
     ]
    }
   ],
   "source": [
    "data.info()"
   ]
  },
  {
   "cell_type": "code",
   "execution_count": 52,
   "id": "ddf67ddd-6657-40f1-986b-5281e4a9002b",
   "metadata": {},
   "outputs": [
    {
     "data": {
      "text/html": [
       "<div>\n",
       "<style scoped>\n",
       "    .dataframe tbody tr th:only-of-type {\n",
       "        vertical-align: middle;\n",
       "    }\n",
       "\n",
       "    .dataframe tbody tr th {\n",
       "        vertical-align: top;\n",
       "    }\n",
       "\n",
       "    .dataframe thead th {\n",
       "        text-align: right;\n",
       "    }\n",
       "</style>\n",
       "<table border=\"1\" class=\"dataframe\">\n",
       "  <thead>\n",
       "    <tr style=\"text-align: right;\">\n",
       "      <th></th>\n",
       "      <th>text</th>\n",
       "      <th>sentiment</th>\n",
       "    </tr>\n",
       "  </thead>\n",
       "  <tbody>\n",
       "    <tr>\n",
       "      <th>0</th>\n",
       "      <td>RT @NancyLeeGrahn: How did everyone feel about...</td>\n",
       "      <td>Neutral</td>\n",
       "    </tr>\n",
       "    <tr>\n",
       "      <th>1</th>\n",
       "      <td>RT @ScottWalker: Didn't catch the full #GOPdeb...</td>\n",
       "      <td>Positive</td>\n",
       "    </tr>\n",
       "    <tr>\n",
       "      <th>2</th>\n",
       "      <td>RT @TJMShow: No mention of Tamir Rice and the ...</td>\n",
       "      <td>Neutral</td>\n",
       "    </tr>\n",
       "    <tr>\n",
       "      <th>3</th>\n",
       "      <td>RT @RobGeorge: That Carly Fiorina is trending ...</td>\n",
       "      <td>Positive</td>\n",
       "    </tr>\n",
       "    <tr>\n",
       "      <th>4</th>\n",
       "      <td>RT @DanScavino: #GOPDebate w/ @realDonaldTrump...</td>\n",
       "      <td>Positive</td>\n",
       "    </tr>\n",
       "  </tbody>\n",
       "</table>\n",
       "</div>"
      ],
      "text/plain": [
       "                                                text sentiment\n",
       "0  RT @NancyLeeGrahn: How did everyone feel about...   Neutral\n",
       "1  RT @ScottWalker: Didn't catch the full #GOPdeb...  Positive\n",
       "2  RT @TJMShow: No mention of Tamir Rice and the ...   Neutral\n",
       "3  RT @RobGeorge: That Carly Fiorina is trending ...  Positive\n",
       "4  RT @DanScavino: #GOPDebate w/ @realDonaldTrump...  Positive"
      ]
     },
     "execution_count": 52,
     "metadata": {},
     "output_type": "execute_result"
    }
   ],
   "source": [
    "data1 = data[[\"text\", \"sentiment\"]]\n",
    "data1.head()"
   ]
  },
  {
   "cell_type": "markdown",
   "id": "40ae9d84-cadc-408b-96b1-dece920a596a",
   "metadata": {},
   "source": [
    "### Understanding Data & Preprocessing"
   ]
  },
  {
   "cell_type": "code",
   "execution_count": 53,
   "id": "dfaa4046-f191-4f5e-a231-6eb64ea5cd9e",
   "metadata": {},
   "outputs": [
    {
     "data": {
      "text/plain": [
       "(13871, 2)"
      ]
     },
     "execution_count": 53,
     "metadata": {},
     "output_type": "execute_result"
    }
   ],
   "source": [
    "data1.shape"
   ]
  },
  {
   "cell_type": "markdown",
   "id": "9064928b-c227-420d-9349-5f6df0ecd943",
   "metadata": {},
   "source": [
    "#### Q1. Print the total number of positive and negative sentiments."
   ]
  },
  {
   "cell_type": "code",
   "execution_count": 54,
   "id": "e8ccfa2a-575d-4015-9432-4e2b210ac65e",
   "metadata": {},
   "outputs": [],
   "source": [
    "data1 = data1[(data1[\"sentiment\"] == 'Positive') | (data1[\"sentiment\"] == 'Negative')]"
   ]
  },
  {
   "cell_type": "code",
   "execution_count": 55,
   "id": "617bd9f6-97bc-4946-99f9-e98b8c286ead",
   "metadata": {},
   "outputs": [
    {
     "data": {
      "text/plain": [
       "(10729, 2)"
      ]
     },
     "execution_count": 55,
     "metadata": {},
     "output_type": "execute_result"
    }
   ],
   "source": [
    "data1.shape"
   ]
  },
  {
   "cell_type": "code",
   "execution_count": 56,
   "id": "198fd9d2-4646-4e7a-b6a9-cc893018b02c",
   "metadata": {},
   "outputs": [
    {
     "data": {
      "text/plain": [
       "Counter({'Positive': 2236, 'Negative': 8493})"
      ]
     },
     "execution_count": 56,
     "metadata": {},
     "output_type": "execute_result"
    }
   ],
   "source": [
    "from collections import Counter\n",
    "Counter(data1[\"sentiment\"])"
   ]
  },
  {
   "cell_type": "code",
   "execution_count": 57,
   "id": "6c8464bc-0eff-4919-86a2-7d965ea25ebc",
   "metadata": {},
   "outputs": [
    {
     "data": {
      "text/plain": [
       "text         0\n",
       "sentiment    0\n",
       "dtype: int64"
      ]
     },
     "execution_count": 57,
     "metadata": {},
     "output_type": "execute_result"
    }
   ],
   "source": [
    "data1.isnull().sum()"
   ]
  },
  {
   "cell_type": "code",
   "execution_count": 58,
   "id": "9a965810-c18b-4a9c-8280-72364e83aa6d",
   "metadata": {},
   "outputs": [
    {
     "data": {
      "text/plain": [
       "1        rt scottwalker didn catch full gopdebate last ...\n",
       "3        rt robgeorge that carly fiorina trending hours...\n",
       "4        rt danscavino gopdebate w realdonaldtrump deli...\n",
       "5        rt gregabbott tx tedcruz on first day i rescin...\n",
       "6        rt warriorwoman i liked happy i heard going mo...\n",
       "                               ...                        \n",
       "13866    rt cappy yarbrough love see men never faced pr...\n",
       "13867    rt georgehenryw who thought huckabee exceeded ...\n",
       "13868    rt lrihendry tedcruz as president i always tel...\n",
       "13869    rt jrehling gopdebate donald trump says time p...\n",
       "13870    rt lrihendry tedcruz headed presidential debat...\n",
       "Name: text, Length: 10729, dtype: object"
      ]
     },
     "execution_count": 58,
     "metadata": {},
     "output_type": "execute_result"
    }
   ],
   "source": [
    "import re\n",
    "from nltk.corpus import stopwords\n",
    "\n",
    "texts = data1[\"text\"]\n",
    "english_stops = set(stopwords.words('english'))\n",
    "\n",
    "texts = texts.replace({'<.*?>': ''}, regex = True)          # remove html tag\n",
    "texts = texts.replace({'[^A-Za-z]': ' '}, regex = True)     # remove non alphabet\n",
    "texts = texts.apply(lambda review: [w for w in review.split() if w not in english_stops])  # remove stop words\n",
    "texts = texts.apply(lambda review: \" \".join([w.lower() for w in review]))   # lower case\n",
    "texts"
   ]
  },
  {
   "cell_type": "code",
   "execution_count": 59,
   "id": "9bd409ef-0821-4ceb-878e-a75565c68b3c",
   "metadata": {},
   "outputs": [],
   "source": [
    "maxlen = 50"
   ]
  },
  {
   "cell_type": "code",
   "execution_count": 60,
   "id": "5831bdfe-8627-4427-be0b-d84158c25dbf",
   "metadata": {},
   "outputs": [
    {
     "data": {
      "text/plain": [
       "array(['rt scottwalker didn catch full gopdebate last night here scott best lines seconds walker http co zsff',\n",
       "       'rt robgeorge that carly fiorina trending hours her debate men completed gopdebate says',\n",
       "       'rt danscavino gopdebate w realdonaldtrump delivered highest ratings history presidential debates trump http co',\n",
       "       ...,\n",
       "       'rt lrihendry tedcruz as president i always tell truth i said i would gopdebates',\n",
       "       'rt jrehling gopdebate donald trump says time political correctness how calling women fat pigs save',\n",
       "       'rt lrihendry tedcruz headed presidential debates go ted gopdebates http co s pz a'],\n",
       "      dtype=object)"
      ]
     },
     "execution_count": 60,
     "metadata": {},
     "output_type": "execute_result"
    }
   ],
   "source": [
    "texts = np.asarray(texts)\n",
    "labels = np.asarray(data1[\"sentiment\"].map({\"Positive\": 0, \"Negative\": 1}))\n",
    "texts"
   ]
  },
  {
   "cell_type": "code",
   "execution_count": 61,
   "id": "453f2993-c6ef-43ff-86be-e26ca538705d",
   "metadata": {},
   "outputs": [
    {
     "data": {
      "text/plain": [
       "array([0, 0, 0, ..., 0, 1, 0])"
      ]
     },
     "execution_count": 61,
     "metadata": {},
     "output_type": "execute_result"
    }
   ],
   "source": [
    "labels"
   ]
  },
  {
   "cell_type": "code",
   "execution_count": 62,
   "id": "8f195793-4b6b-49ec-b1eb-d5f05a8a90b0",
   "metadata": {},
   "outputs": [],
   "source": [
    "#Tokenize\n",
    "from keras.preprocessing.text import Tokenizer\n",
    "from keras.preprocessing.sequence import pad_sequences\n",
    "\n",
    "tokenizer = Tokenizer()\n",
    "tokenizer.fit_on_texts(texts)\n",
    "sequences = tokenizer.texts_to_sequences(texts)\n",
    "X = pad_sequences(sequences, maxlen=maxlen)\n",
    "max_features = len(tokenizer.word_index) + 1"
   ]
  },
  {
   "cell_type": "code",
   "execution_count": 63,
   "id": "b441cee1-2d00-4dd8-b6d0-c3a9fb674446",
   "metadata": {},
   "outputs": [],
   "source": [
    "from imblearn.over_sampling import SMOTE\n",
    "oversample = SMOTE()\n",
    "y = labels\n",
    "X, y = oversample.fit_resample(X, y)"
   ]
  },
  {
   "cell_type": "code",
   "execution_count": 64,
   "id": "4113eada-d99d-4d4d-ac21-b61465a90be7",
   "metadata": {},
   "outputs": [
    {
     "data": {
      "text/plain": [
       "Counter({0: 8493, 1: 8493})"
      ]
     },
     "execution_count": 64,
     "metadata": {},
     "output_type": "execute_result"
    }
   ],
   "source": [
    "Counter(y)"
   ]
  },
  {
   "cell_type": "code",
   "execution_count": 65,
   "id": "281f3f75-6ef2-4960-be3d-c126e78a799c",
   "metadata": {},
   "outputs": [
    {
     "name": "stdout",
     "output_type": "stream",
     "text": [
      "(13588, 50)\n",
      "(3398, 50)\n",
      "(13588,)\n",
      "(3398,)\n"
     ]
    }
   ],
   "source": [
    "from sklearn.model_selection import train_test_split\n",
    "\n",
    "X_train, X_test, y_train, y_test = train_test_split(X, y, test_size=0.2, random_state=123)\n",
    "print(X_train.shape)\n",
    "print(X_test.shape)\n",
    "print(y_train.shape)\n",
    "print(y_test.shape)"
   ]
  },
  {
   "cell_type": "markdown",
   "id": "e2f71064-9b29-46dd-8e68-415f76b485a8",
   "metadata": {},
   "source": [
    "#### Q2. Build a sequential LSTM model to predict positive and negative sentiments."
   ]
  },
  {
   "cell_type": "code",
   "execution_count": 66,
   "id": "f7c6bad4-6c94-43f5-8171-110aa252d0f3",
   "metadata": {},
   "outputs": [
    {
     "name": "stdout",
     "output_type": "stream",
     "text": [
      "Model: \"sequential\"\n",
      "_________________________________________________________________\n",
      " Layer (type)                Output Shape              Param #   \n",
      "=================================================================\n",
      " embedding (Embedding)       (None, 50, 32)            489312    \n",
      "                                                                 \n",
      " lstm (LSTM)                 (None, 64)                24832     \n",
      "                                                                 \n",
      " dense (Dense)               (None, 1)                 65        \n",
      "                                                                 \n",
      "=================================================================\n",
      "Total params: 514,209\n",
      "Trainable params: 514,209\n",
      "Non-trainable params: 0\n",
      "_________________________________________________________________\n"
     ]
    }
   ],
   "source": [
    "model1 = Sequential()\n",
    "model1.add(Embedding(max_features, 32, input_length = maxlen))\n",
    "model1.add(LSTM(64))\n",
    "model1.add(Dense(1, activation='sigmoid'))\n",
    "\n",
    "model1.summary()"
   ]
  },
  {
   "cell_type": "code",
   "execution_count": 67,
   "id": "0d66b0ce-7acc-4b26-bbf0-aed3a366e3c2",
   "metadata": {},
   "outputs": [
    {
     "name": "stdout",
     "output_type": "stream",
     "text": [
      "Epoch 1/25\n",
      "227/227 [==============================] - 4s 7ms/step - loss: 0.5407 - accuracy: 0.7221 - val_loss: 0.4724 - val_accuracy: 0.7743\n",
      "Epoch 2/25\n",
      "227/227 [==============================] - 1s 5ms/step - loss: 0.3198 - accuracy: 0.8674 - val_loss: 0.4621 - val_accuracy: 0.7896\n",
      "Epoch 3/25\n",
      "227/227 [==============================] - 1s 5ms/step - loss: 0.2031 - accuracy: 0.9260 - val_loss: 0.5382 - val_accuracy: 0.7772\n",
      "Epoch 4/25\n",
      "227/227 [==============================] - 1s 5ms/step - loss: 0.1369 - accuracy: 0.9528 - val_loss: 0.7030 - val_accuracy: 0.7710\n",
      "Epoch 5/25\n",
      "227/227 [==============================] - 1s 5ms/step - loss: 0.1024 - accuracy: 0.9645 - val_loss: 0.7984 - val_accuracy: 0.7707\n",
      "Epoch 6/25\n",
      "227/227 [==============================] - 1s 5ms/step - loss: 0.0820 - accuracy: 0.9703 - val_loss: 0.9539 - val_accuracy: 0.7634\n",
      "Epoch 7/25\n",
      "227/227 [==============================] - 1s 5ms/step - loss: 0.0722 - accuracy: 0.9743 - val_loss: 1.0084 - val_accuracy: 0.7607\n",
      "Epoch 8/25\n",
      "227/227 [==============================] - 1s 5ms/step - loss: 0.0650 - accuracy: 0.9764 - val_loss: 1.0439 - val_accuracy: 0.7660\n",
      "Epoch 9/25\n",
      "227/227 [==============================] - 1s 5ms/step - loss: 0.0624 - accuracy: 0.9768 - val_loss: 1.0804 - val_accuracy: 0.7622\n",
      "Epoch 10/25\n",
      "227/227 [==============================] - 1s 5ms/step - loss: 0.0623 - accuracy: 0.9767 - val_loss: 1.1084 - val_accuracy: 0.7643\n",
      "Epoch 11/25\n",
      "227/227 [==============================] - 1s 5ms/step - loss: 0.0570 - accuracy: 0.9789 - val_loss: 1.1988 - val_accuracy: 0.7593\n",
      "Epoch 12/25\n",
      "227/227 [==============================] - 1s 5ms/step - loss: 0.0539 - accuracy: 0.9801 - val_loss: 1.2450 - val_accuracy: 0.7584\n",
      "Epoch 13/25\n",
      "227/227 [==============================] - 1s 5ms/step - loss: 0.0548 - accuracy: 0.9791 - val_loss: 1.3001 - val_accuracy: 0.7590\n",
      "Epoch 14/25\n",
      "227/227 [==============================] - 1s 5ms/step - loss: 0.0528 - accuracy: 0.9793 - val_loss: 1.3677 - val_accuracy: 0.7519\n",
      "Epoch 15/25\n",
      "227/227 [==============================] - 1s 5ms/step - loss: 0.0561 - accuracy: 0.9794 - val_loss: 1.2961 - val_accuracy: 0.7540\n",
      "Epoch 16/25\n",
      "227/227 [==============================] - 1s 5ms/step - loss: 0.0569 - accuracy: 0.9787 - val_loss: 1.2964 - val_accuracy: 0.7519\n",
      "Epoch 17/25\n",
      "227/227 [==============================] - 1s 5ms/step - loss: 0.0519 - accuracy: 0.9806 - val_loss: 1.4134 - val_accuracy: 0.7519\n",
      "Epoch 18/25\n",
      "227/227 [==============================] - 1s 5ms/step - loss: 0.0487 - accuracy: 0.9811 - val_loss: 1.5819 - val_accuracy: 0.7563\n",
      "Epoch 19/25\n",
      "227/227 [==============================] - 1s 5ms/step - loss: 0.0479 - accuracy: 0.9811 - val_loss: 1.4699 - val_accuracy: 0.7496\n",
      "Epoch 20/25\n",
      "227/227 [==============================] - 1s 5ms/step - loss: 0.0487 - accuracy: 0.9813 - val_loss: 1.6099 - val_accuracy: 0.7496\n",
      "Epoch 21/25\n",
      "227/227 [==============================] - 1s 5ms/step - loss: 0.0488 - accuracy: 0.9809 - val_loss: 1.6266 - val_accuracy: 0.7463\n",
      "Epoch 22/25\n",
      "227/227 [==============================] - 1s 5ms/step - loss: 0.0491 - accuracy: 0.9809 - val_loss: 1.6025 - val_accuracy: 0.7519\n",
      "Epoch 23/25\n",
      "227/227 [==============================] - 1s 5ms/step - loss: 0.0470 - accuracy: 0.9815 - val_loss: 1.6394 - val_accuracy: 0.7513\n",
      "Epoch 24/25\n",
      "227/227 [==============================] - 1s 5ms/step - loss: 0.0465 - accuracy: 0.9815 - val_loss: 1.8772 - val_accuracy: 0.7499\n",
      "Epoch 25/25\n",
      "227/227 [==============================] - 1s 5ms/step - loss: 0.0463 - accuracy: 0.9813 - val_loss: 1.8529 - val_accuracy: 0.7490\n"
     ]
    }
   ],
   "source": [
    "model1.compile(optimizer = 'adam', loss = 'binary_crossentropy', metrics = ['accuracy'])\n",
    "hist = model1.fit(X_train, y_train, validation_data=(X_test, y_test), batch_size = 60, epochs = 25, verbose=1)"
   ]
  },
  {
   "cell_type": "code",
   "execution_count": 68,
   "id": "66db71cf-89d3-4865-b649-869162837cd1",
   "metadata": {},
   "outputs": [
    {
     "name": "stdout",
     "output_type": "stream",
     "text": [
      "Model: \"sequential_1\"\n",
      "_________________________________________________________________\n",
      " Layer (type)                Output Shape              Param #   \n",
      "=================================================================\n",
      " embedding_1 (Embedding)     (None, 50, 32)            489312    \n",
      "                                                                 \n",
      " lstm_1 (LSTM)               (None, 128)               82432     \n",
      "                                                                 \n",
      " dropout (Dropout)           (None, 128)               0         \n",
      "                                                                 \n",
      " dense_1 (Dense)             (None, 1)                 129       \n",
      "                                                                 \n",
      "=================================================================\n",
      "Total params: 571,873\n",
      "Trainable params: 571,873\n",
      "Non-trainable params: 0\n",
      "_________________________________________________________________\n"
     ]
    }
   ],
   "source": [
    "model2 = Sequential()\n",
    "model2.add(Embedding(max_features, 32, input_length = maxlen))\n",
    "model2.add(LSTM(128))\n",
    "model2.add(Dropout(0.5))\n",
    "model2.add(Dense(1, activation='sigmoid'))\n",
    "\n",
    "model2.summary()"
   ]
  },
  {
   "cell_type": "code",
   "execution_count": 69,
   "id": "3947c664-c7e1-4794-ac2d-15152287b6a5",
   "metadata": {},
   "outputs": [
    {
     "name": "stdout",
     "output_type": "stream",
     "text": [
      "Epoch 1/25\n",
      "227/227 [==============================] - 3s 8ms/step - loss: 0.5635 - accuracy: 0.6997 - val_loss: 0.4664 - val_accuracy: 0.7716\n",
      "Epoch 2/25\n",
      "227/227 [==============================] - 1s 6ms/step - loss: 0.3349 - accuracy: 0.8633 - val_loss: 0.4642 - val_accuracy: 0.7834\n",
      "Epoch 3/25\n",
      "227/227 [==============================] - 1s 6ms/step - loss: 0.2131 - accuracy: 0.9209 - val_loss: 0.5402 - val_accuracy: 0.7763\n",
      "Epoch 4/25\n",
      "227/227 [==============================] - 1s 6ms/step - loss: 0.1442 - accuracy: 0.9485 - val_loss: 0.5963 - val_accuracy: 0.7740\n",
      "Epoch 5/25\n",
      "227/227 [==============================] - 1s 6ms/step - loss: 0.1077 - accuracy: 0.9633 - val_loss: 0.7579 - val_accuracy: 0.7705\n",
      "Epoch 6/25\n",
      "227/227 [==============================] - 1s 6ms/step - loss: 0.0883 - accuracy: 0.9683 - val_loss: 0.7904 - val_accuracy: 0.7690\n",
      "Epoch 7/25\n",
      "227/227 [==============================] - 1s 6ms/step - loss: 0.0771 - accuracy: 0.9734 - val_loss: 0.9388 - val_accuracy: 0.7590\n",
      "Epoch 8/25\n",
      "227/227 [==============================] - 1s 6ms/step - loss: 0.0663 - accuracy: 0.9780 - val_loss: 1.1966 - val_accuracy: 0.7534\n",
      "Epoch 9/25\n",
      "227/227 [==============================] - 1s 6ms/step - loss: 0.0618 - accuracy: 0.9774 - val_loss: 1.1896 - val_accuracy: 0.7634\n",
      "Epoch 10/25\n",
      "227/227 [==============================] - 1s 6ms/step - loss: 0.0607 - accuracy: 0.9780 - val_loss: 1.2104 - val_accuracy: 0.7575\n",
      "Epoch 11/25\n",
      "227/227 [==============================] - 1s 6ms/step - loss: 0.0587 - accuracy: 0.9784 - val_loss: 1.1602 - val_accuracy: 0.7434\n",
      "Epoch 12/25\n",
      "227/227 [==============================] - 1s 6ms/step - loss: 0.0571 - accuracy: 0.9783 - val_loss: 1.2680 - val_accuracy: 0.7537\n",
      "Epoch 13/25\n",
      "227/227 [==============================] - 1s 6ms/step - loss: 0.0571 - accuracy: 0.9785 - val_loss: 1.4019 - val_accuracy: 0.7584\n",
      "Epoch 14/25\n",
      "227/227 [==============================] - 1s 6ms/step - loss: 0.0584 - accuracy: 0.9784 - val_loss: 1.5133 - val_accuracy: 0.7602\n",
      "Epoch 15/25\n",
      "227/227 [==============================] - 1s 6ms/step - loss: 0.0553 - accuracy: 0.9790 - val_loss: 1.4595 - val_accuracy: 0.7587\n",
      "Epoch 16/25\n",
      "227/227 [==============================] - 1s 6ms/step - loss: 0.0542 - accuracy: 0.9792 - val_loss: 1.3588 - val_accuracy: 0.7552\n",
      "Epoch 17/25\n",
      "227/227 [==============================] - 1s 6ms/step - loss: 0.0560 - accuracy: 0.9790 - val_loss: 1.3953 - val_accuracy: 0.7546\n",
      "Epoch 18/25\n",
      "227/227 [==============================] - 1s 6ms/step - loss: 0.0538 - accuracy: 0.9792 - val_loss: 1.5932 - val_accuracy: 0.7490\n",
      "Epoch 19/25\n",
      "227/227 [==============================] - 1s 6ms/step - loss: 0.0499 - accuracy: 0.9810 - val_loss: 1.6655 - val_accuracy: 0.7481\n",
      "Epoch 20/25\n",
      "227/227 [==============================] - 1s 6ms/step - loss: 0.0486 - accuracy: 0.9805 - val_loss: 1.6364 - val_accuracy: 0.7475\n",
      "Epoch 21/25\n",
      "227/227 [==============================] - 1s 6ms/step - loss: 0.0485 - accuracy: 0.9813 - val_loss: 1.9456 - val_accuracy: 0.7507\n",
      "Epoch 22/25\n",
      "227/227 [==============================] - 1s 6ms/step - loss: 0.0582 - accuracy: 0.9778 - val_loss: 1.6542 - val_accuracy: 0.7501\n",
      "Epoch 23/25\n",
      "227/227 [==============================] - 1s 6ms/step - loss: 0.0588 - accuracy: 0.9781 - val_loss: 1.2391 - val_accuracy: 0.7481\n",
      "Epoch 24/25\n",
      "227/227 [==============================] - 1s 6ms/step - loss: 0.0526 - accuracy: 0.9801 - val_loss: 1.4336 - val_accuracy: 0.7549\n",
      "Epoch 25/25\n",
      "227/227 [==============================] - 1s 6ms/step - loss: 0.0481 - accuracy: 0.9814 - val_loss: 1.6843 - val_accuracy: 0.7569\n"
     ]
    }
   ],
   "source": [
    "model2.compile(optimizer = 'adam', loss = 'binary_crossentropy', metrics = ['accuracy'])\n",
    "hist = model2.fit(X_train, y_train, validation_data=(X_test, y_test), batch_size = 60, epochs = 25, verbose=1)"
   ]
  },
  {
   "cell_type": "code",
   "execution_count": 70,
   "id": "c5218f24-7d51-4d93-bae2-69217c66c43e",
   "metadata": {},
   "outputs": [],
   "source": [
    "from keras.layers import Bidirectional\n",
    "from tensorflow.keras.optimizers import Adam, SGD"
   ]
  },
  {
   "cell_type": "code",
   "execution_count": 71,
   "id": "91838b5d-97e8-46cb-91e8-7188273ac351",
   "metadata": {},
   "outputs": [
    {
     "name": "stdout",
     "output_type": "stream",
     "text": [
      "Model: \"sequential_2\"\n",
      "_________________________________________________________________\n",
      " Layer (type)                Output Shape              Param #   \n",
      "=================================================================\n",
      " embedding_2 (Embedding)     (None, 50, 16)            244656    \n",
      "                                                                 \n",
      " dropout_1 (Dropout)         (None, 50, 16)            0         \n",
      "                                                                 \n",
      " bidirectional (Bidirectiona  (None, 50, 40)           5920      \n",
      " l)                                                              \n",
      "                                                                 \n",
      " bidirectional_1 (Bidirectio  (None, 40)               9760      \n",
      " nal)                                                            \n",
      "                                                                 \n",
      " dense_2 (Dense)             (None, 512)               20992     \n",
      "                                                                 \n",
      " dropout_2 (Dropout)         (None, 512)               0         \n",
      "                                                                 \n",
      " dense_3 (Dense)             (None, 1)                 513       \n",
      "                                                                 \n",
      "=================================================================\n",
      "Total params: 281,841\n",
      "Trainable params: 281,841\n",
      "Non-trainable params: 0\n",
      "_________________________________________________________________\n"
     ]
    }
   ],
   "source": [
    "model3 = Sequential()\n",
    "model3.add(Embedding(max_features, 16, input_length = maxlen))\n",
    "model3.add(Dropout(0.2))\n",
    "model3.add(Bidirectional(LSTM(20, return_sequences=True)))\n",
    "model3.add(Bidirectional(LSTM(20)))\n",
    "model3.add(Dense(512, activation='relu'))\n",
    "model3.add(Dropout(0.5))\n",
    "model3.add(Dense(1, activation='sigmoid'))\n",
    "\n",
    "model3.summary()"
   ]
  },
  {
   "cell_type": "code",
   "execution_count": 72,
   "id": "0994c973-a2f4-438d-87f9-fc02ccacedd4",
   "metadata": {},
   "outputs": [
    {
     "name": "stdout",
     "output_type": "stream",
     "text": [
      "Epoch 1/25\n",
      "227/227 [==============================] - 9s 19ms/step - loss: 0.5229 - accuracy: 0.7273 - val_loss: 0.4814 - val_accuracy: 0.7743\n",
      "Epoch 2/25\n",
      "227/227 [==============================] - 3s 13ms/step - loss: 0.2921 - accuracy: 0.8867 - val_loss: 0.4640 - val_accuracy: 0.7884\n",
      "Epoch 3/25\n",
      "227/227 [==============================] - 3s 13ms/step - loss: 0.1630 - accuracy: 0.9388 - val_loss: 0.7159 - val_accuracy: 0.7743\n",
      "Epoch 4/25\n",
      "227/227 [==============================] - 3s 13ms/step - loss: 0.1185 - accuracy: 0.9564 - val_loss: 1.0791 - val_accuracy: 0.7805\n",
      "Epoch 5/25\n",
      "227/227 [==============================] - 3s 13ms/step - loss: 0.0974 - accuracy: 0.9647 - val_loss: 0.9914 - val_accuracy: 0.7719\n",
      "Epoch 6/25\n",
      "227/227 [==============================] - 3s 13ms/step - loss: 0.0899 - accuracy: 0.9670 - val_loss: 0.8416 - val_accuracy: 0.7743\n",
      "Epoch 7/25\n",
      "227/227 [==============================] - 3s 13ms/step - loss: 0.0859 - accuracy: 0.9688 - val_loss: 0.8431 - val_accuracy: 0.7746\n",
      "Epoch 8/25\n",
      "227/227 [==============================] - 3s 13ms/step - loss: 0.0744 - accuracy: 0.9722 - val_loss: 1.1373 - val_accuracy: 0.7878\n",
      "Epoch 9/25\n",
      "227/227 [==============================] - 3s 13ms/step - loss: 0.0742 - accuracy: 0.9725 - val_loss: 1.0504 - val_accuracy: 0.7799\n",
      "Epoch 10/25\n",
      "227/227 [==============================] - 3s 12ms/step - loss: 0.0682 - accuracy: 0.9753 - val_loss: 1.0220 - val_accuracy: 0.7716\n",
      "Epoch 11/25\n",
      "227/227 [==============================] - 3s 12ms/step - loss: 0.0664 - accuracy: 0.9739 - val_loss: 1.2885 - val_accuracy: 0.7728\n",
      "Epoch 12/25\n",
      "227/227 [==============================] - 3s 13ms/step - loss: 0.0621 - accuracy: 0.9764 - val_loss: 1.2595 - val_accuracy: 0.7746\n",
      "Epoch 13/25\n",
      "227/227 [==============================] - 3s 13ms/step - loss: 0.0630 - accuracy: 0.9767 - val_loss: 1.7994 - val_accuracy: 0.7813\n",
      "Epoch 14/25\n",
      "227/227 [==============================] - 3s 13ms/step - loss: 0.0648 - accuracy: 0.9751 - val_loss: 1.2368 - val_accuracy: 0.7810\n",
      "Epoch 15/25\n",
      "227/227 [==============================] - 3s 12ms/step - loss: 0.0666 - accuracy: 0.9750 - val_loss: 1.3956 - val_accuracy: 0.7719\n",
      "Epoch 16/25\n",
      "227/227 [==============================] - 3s 13ms/step - loss: 0.0619 - accuracy: 0.9764 - val_loss: 1.5997 - val_accuracy: 0.7772\n",
      "Epoch 17/25\n",
      "227/227 [==============================] - 3s 13ms/step - loss: 0.0583 - accuracy: 0.9770 - val_loss: 1.5030 - val_accuracy: 0.7713\n",
      "Epoch 18/25\n",
      "227/227 [==============================] - 3s 13ms/step - loss: 0.0569 - accuracy: 0.9787 - val_loss: 1.2849 - val_accuracy: 0.7755\n",
      "Epoch 19/25\n",
      "227/227 [==============================] - 3s 13ms/step - loss: 0.0605 - accuracy: 0.9770 - val_loss: 1.3292 - val_accuracy: 0.7696\n",
      "Epoch 20/25\n",
      "227/227 [==============================] - 3s 13ms/step - loss: 0.0581 - accuracy: 0.9781 - val_loss: 1.5480 - val_accuracy: 0.7657\n",
      "Epoch 21/25\n",
      "227/227 [==============================] - 3s 12ms/step - loss: 0.0543 - accuracy: 0.9784 - val_loss: 1.7355 - val_accuracy: 0.7743\n",
      "Epoch 22/25\n",
      "227/227 [==============================] - 3s 13ms/step - loss: 0.0607 - accuracy: 0.9773 - val_loss: 1.2900 - val_accuracy: 0.7760\n",
      "Epoch 23/25\n",
      "227/227 [==============================] - 3s 13ms/step - loss: 0.0573 - accuracy: 0.9785 - val_loss: 1.6413 - val_accuracy: 0.7746\n",
      "Epoch 24/25\n",
      "227/227 [==============================] - 3s 13ms/step - loss: 0.0588 - accuracy: 0.9782 - val_loss: 1.1352 - val_accuracy: 0.7678\n",
      "Epoch 25/25\n",
      "227/227 [==============================] - 3s 13ms/step - loss: 0.0579 - accuracy: 0.9779 - val_loss: 1.6498 - val_accuracy: 0.7666\n"
     ]
    }
   ],
   "source": [
    "model3.compile(optimizer = Adam(learning_rate=0.01), loss = 'binary_crossentropy', metrics = ['accuracy'])\n",
    "hist = model3.fit(X_train, y_train, validation_data=(X_test, y_test), batch_size = 60, epochs = 25, verbose=1)"
   ]
  },
  {
   "cell_type": "code",
   "execution_count": 73,
   "id": "72a3e20b-28ca-4a6b-8fb1-5ec262510fd1",
   "metadata": {},
   "outputs": [
    {
     "name": "stdout",
     "output_type": "stream",
     "text": [
      "Model: \"sequential_3\"\n",
      "_________________________________________________________________\n",
      " Layer (type)                Output Shape              Param #   \n",
      "=================================================================\n",
      " embedding_3 (Embedding)     (None, 50, 32)            489312    \n",
      "                                                                 \n",
      " conv1d (Conv1D)             (None, 50, 32)            3104      \n",
      "                                                                 \n",
      " max_pooling1d (MaxPooling1D  (None, 25, 32)           0         \n",
      " )                                                               \n",
      "                                                                 \n",
      " bidirectional_2 (Bidirectio  (None, 64)               16640     \n",
      " nal)                                                            \n",
      "                                                                 \n",
      " dropout_3 (Dropout)         (None, 64)                0         \n",
      "                                                                 \n",
      " dense_4 (Dense)             (None, 1)                 65        \n",
      "                                                                 \n",
      "=================================================================\n",
      "Total params: 509,121\n",
      "Trainable params: 509,121\n",
      "Non-trainable params: 0\n",
      "_________________________________________________________________\n"
     ]
    }
   ],
   "source": [
    "from keras.layers import Conv1D, MaxPooling1D\n",
    "\n",
    "model4 = Sequential()\n",
    "model4.add(Embedding(max_features, 32, input_length=maxlen))\n",
    "model4.add(Conv1D(32, kernel_size=3, padding='same', activation='relu'))\n",
    "model4.add(MaxPooling1D(pool_size=2))\n",
    "model4.add(Bidirectional(LSTM(32)))\n",
    "model4.add(Dropout(0.4))\n",
    "model4.add(Dense(1, activation='sigmoid'))\n",
    "model4.summary()"
   ]
  },
  {
   "cell_type": "code",
   "execution_count": 74,
   "id": "c332541e-ff05-470b-8d4f-5e8a211885ab",
   "metadata": {},
   "outputs": [
    {
     "name": "stdout",
     "output_type": "stream",
     "text": [
      "Epoch 1/20\n",
      "213/213 [==============================] - 5s 10ms/step - loss: 0.6941 - accuracy: 0.5077 - val_loss: 0.6952 - val_accuracy: 0.5026\n",
      "Epoch 2/20\n",
      "213/213 [==============================] - 1s 7ms/step - loss: 0.6918 - accuracy: 0.5224 - val_loss: 0.6868 - val_accuracy: 0.4974\n",
      "Epoch 3/20\n",
      "213/213 [==============================] - 1s 7ms/step - loss: 0.6215 - accuracy: 0.6498 - val_loss: 0.5795 - val_accuracy: 0.7069\n",
      "Epoch 4/20\n",
      "213/213 [==============================] - 1s 7ms/step - loss: 0.5013 - accuracy: 0.7606 - val_loss: 0.4750 - val_accuracy: 0.7722\n",
      "Epoch 5/20\n",
      "213/213 [==============================] - 1s 7ms/step - loss: 0.4268 - accuracy: 0.8096 - val_loss: 0.5856 - val_accuracy: 0.7154\n",
      "Epoch 6/20\n",
      "213/213 [==============================] - 1s 7ms/step - loss: 0.3540 - accuracy: 0.8519 - val_loss: 0.4242 - val_accuracy: 0.8111\n",
      "Epoch 7/20\n",
      "213/213 [==============================] - 1s 6ms/step - loss: 0.2981 - accuracy: 0.8764 - val_loss: 0.4347 - val_accuracy: 0.8190\n",
      "Epoch 8/20\n",
      "213/213 [==============================] - 1s 6ms/step - loss: 0.2445 - accuracy: 0.9057 - val_loss: 0.7475 - val_accuracy: 0.7084\n",
      "Epoch 9/20\n",
      "213/213 [==============================] - 1s 6ms/step - loss: 0.2056 - accuracy: 0.9209 - val_loss: 0.5788 - val_accuracy: 0.7699\n",
      "Epoch 10/20\n",
      "213/213 [==============================] - 1s 6ms/step - loss: 0.1669 - accuracy: 0.9391 - val_loss: 0.5739 - val_accuracy: 0.8117\n",
      "Epoch 11/20\n",
      "213/213 [==============================] - 1s 6ms/step - loss: 0.1317 - accuracy: 0.9526 - val_loss: 0.5937 - val_accuracy: 0.8149\n",
      "Epoch 12/20\n",
      "213/213 [==============================] - 1s 7ms/step - loss: 0.1103 - accuracy: 0.9627 - val_loss: 0.6541 - val_accuracy: 0.8143\n",
      "Epoch 13/20\n",
      "213/213 [==============================] - 1s 6ms/step - loss: 0.0921 - accuracy: 0.9704 - val_loss: 0.7211 - val_accuracy: 0.8134\n",
      "Epoch 14/20\n",
      "213/213 [==============================] - 1s 6ms/step - loss: 0.0817 - accuracy: 0.9710 - val_loss: 0.7300 - val_accuracy: 0.8099\n",
      "Epoch 15/20\n",
      "213/213 [==============================] - 1s 7ms/step - loss: 0.0737 - accuracy: 0.9742 - val_loss: 0.7688 - val_accuracy: 0.8164\n",
      "Epoch 16/20\n",
      "213/213 [==============================] - 1s 7ms/step - loss: 0.0719 - accuracy: 0.9753 - val_loss: 0.8681 - val_accuracy: 0.8087\n",
      "Epoch 17/20\n",
      "213/213 [==============================] - 1s 7ms/step - loss: 0.0662 - accuracy: 0.9780 - val_loss: 0.8432 - val_accuracy: 0.8228\n",
      "Epoch 18/20\n",
      "213/213 [==============================] - 1s 7ms/step - loss: 0.0656 - accuracy: 0.9767 - val_loss: 0.8482 - val_accuracy: 0.8119\n",
      "Epoch 19/20\n",
      "213/213 [==============================] - 1s 7ms/step - loss: 0.0625 - accuracy: 0.9784 - val_loss: 0.9118 - val_accuracy: 0.8167\n",
      "Epoch 20/20\n",
      "213/213 [==============================] - 1s 7ms/step - loss: 0.0581 - accuracy: 0.9798 - val_loss: 0.9064 - val_accuracy: 0.8119\n"
     ]
    }
   ],
   "source": [
    "model4.compile(loss='binary_crossentropy', optimizer=SGD(learning_rate=0.1, momentum=0.8), metrics=['accuracy'])\n",
    "hist = model4.fit(X_train, y_train, validation_data=(X_test, y_test), batch_size=64, epochs=20, verbose=1)"
   ]
  },
  {
   "cell_type": "code",
   "execution_count": 75,
   "id": "b0c36c75-5abe-44e9-967f-9e7ca1d26ba0",
   "metadata": {},
   "outputs": [
    {
     "name": "stdout",
     "output_type": "stream",
     "text": [
      "Accuracy Score:  0.8119482048263684\n",
      "Confusion Matrix: \n",
      "[[1366  324]\n",
      " [ 315 1393]]\n",
      "Classification report: \n",
      "              precision    recall  f1-score   support\n",
      "\n",
      "           0       0.81      0.81      0.81      1690\n",
      "           1       0.81      0.82      0.81      1708\n",
      "\n",
      "    accuracy                           0.81      3398\n",
      "   macro avg       0.81      0.81      0.81      3398\n",
      "weighted avg       0.81      0.81      0.81      3398\n",
      "\n"
     ]
    }
   ],
   "source": [
    "from sklearn.metrics import confusion_matrix, accuracy_score, classification_report\n",
    "\n",
    "y_pred = model4.predict(X_test)\n",
    "y_pred_final = y_pred.round()\n",
    "print(\"Accuracy Score: \", accuracy_score(y_test, y_pred_final))\n",
    "print(\"Confusion Matrix: \")\n",
    "print(confusion_matrix(y_test, y_pred_final))\n",
    "print(\"Classification report: \")\n",
    "print(classification_report(y_test, y_pred_final))"
   ]
  },
  {
   "cell_type": "markdown",
   "id": "ed905c90-97dc-4666-89c2-31472139fb35",
   "metadata": {},
   "source": [
    "#### Q3. Based on the model, check the sentiment for the following two sentences\n",
    "#### a. 'He is a great leader.'\n",
    "#### b. 'He is a terrible leader.'"
   ]
  },
  {
   "cell_type": "code",
   "execution_count": 76,
   "id": "6b956fc2-cfb7-4106-b965-95e9008d21b7",
   "metadata": {},
   "outputs": [
    {
     "data": {
      "text/plain": [
       "array(['He is a great leader', 'He is a terrible leader'], dtype='<U23')"
      ]
     },
     "execution_count": 76,
     "metadata": {},
     "output_type": "execute_result"
    }
   ],
   "source": [
    "test = np.asarray([\"He is a great leader\", \"He is a terrible leader\"])\n",
    "test"
   ]
  },
  {
   "cell_type": "code",
   "execution_count": 77,
   "id": "1c56009a-9c48-4734-b84f-b04af69da7e3",
   "metadata": {},
   "outputs": [],
   "source": [
    "tokenizer.fit_on_texts(test)\n",
    "sequences = tokenizer.texts_to_sequences(test)\n",
    "X_test1 = pad_sequences(sequences, maxlen=maxlen)"
   ]
  },
  {
   "cell_type": "code",
   "execution_count": 78,
   "id": "4435e510-00b0-456e-942e-0dd5a2e77187",
   "metadata": {},
   "outputs": [
    {
     "data": {
      "text/plain": [
       "array([[0.],\n",
       "       [0.]], dtype=float32)"
      ]
     },
     "execution_count": 78,
     "metadata": {},
     "output_type": "execute_result"
    }
   ],
   "source": [
    "y_pred = model4.predict(X_test1)\n",
    "y_pred_final = y_pred.round()\n",
    "y_pred_final"
   ]
  },
  {
   "cell_type": "markdown",
   "id": "7d7ff5f9-3269-420a-88e4-6396e6abbc62",
   "metadata": {},
   "source": [
    "From the above results, we can conclude that both the statements are predicted as \"Positive\" sentiments."
   ]
  },
  {
   "cell_type": "code",
   "execution_count": null,
   "id": "51297ff1-f213-46b3-824b-7e32d47525eb",
   "metadata": {},
   "outputs": [],
   "source": []
  }
 ],
 "metadata": {
  "kernelspec": {
   "display_name": "default:Python",
   "language": "python",
   "name": "conda-env-default-py"
  },
  "language_info": {
   "codemirror_mode": {
    "name": "ipython",
    "version": 3
   },
   "file_extension": ".py",
   "mimetype": "text/x-python",
   "name": "python",
   "nbconvert_exporter": "python",
   "pygments_lexer": "ipython3",
   "version": "3.9.7"
  }
 },
 "nbformat": 4,
 "nbformat_minor": 5
}
