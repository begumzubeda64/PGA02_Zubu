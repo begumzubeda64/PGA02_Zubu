{
  "nbformat": 4,
  "nbformat_minor": 0,
  "metadata": {
    "colab": {
      "name": "SparkML.ipynb",
      "provenance": [],
      "collapsed_sections": []
    },
    "kernelspec": {
      "name": "python3",
      "display_name": "Python 3"
    },
    "language_info": {
      "name": "python"
    },
    "accelerator": "GPU"
  },
  "cells": [
    {
      "cell_type": "code",
      "execution_count": 1,
      "metadata": {
        "colab": {
          "base_uri": "https://localhost:8080/"
        },
        "id": "D64LfB92fgRY",
        "outputId": "dbc21bea-5649-40c6-b4c3-cf0afc17c71b"
      },
      "outputs": [
        {
          "output_type": "stream",
          "name": "stdout",
          "text": [
            "Collecting pyspark\n",
            "  Downloading pyspark-3.2.1.tar.gz (281.4 MB)\n",
            "\u001b[K     |████████████████████████████████| 281.4 MB 38 kB/s \n",
            "\u001b[?25hCollecting py4j==0.10.9.3\n",
            "  Downloading py4j-0.10.9.3-py2.py3-none-any.whl (198 kB)\n",
            "\u001b[K     |████████████████████████████████| 198 kB 46.6 MB/s \n",
            "\u001b[?25hBuilding wheels for collected packages: pyspark\n",
            "  Building wheel for pyspark (setup.py) ... \u001b[?25l\u001b[?25hdone\n",
            "  Created wheel for pyspark: filename=pyspark-3.2.1-py2.py3-none-any.whl size=281853642 sha256=4135b10a1535c20af656cfd6699e77f7c3ec97bf551d9e1ba0ba9f8d7b25b293\n",
            "  Stored in directory: /root/.cache/pip/wheels/9f/f5/07/7cd8017084dce4e93e84e92efd1e1d5334db05f2e83bcef74f\n",
            "Successfully built pyspark\n",
            "Installing collected packages: py4j, pyspark\n",
            "Successfully installed py4j-0.10.9.3 pyspark-3.2.1\n"
          ]
        }
      ],
      "source": [
        "pip install pyspark"
      ]
    },
    {
      "cell_type": "code",
      "source": [
        "from pyspark import SparkConf, SparkContext\n",
        "from pyspark.sql import SQLContext"
      ],
      "metadata": {
        "id": "-8UKZwo7fr0W"
      },
      "execution_count": 1,
      "outputs": []
    },
    {
      "cell_type": "code",
      "source": [
        "sc = SparkContext()\n",
        "sqlContext = SQLContext(sc)"
      ],
      "metadata": {
        "colab": {
          "base_uri": "https://localhost:8080/"
        },
        "id": "JafDWwdSf4FJ",
        "outputId": "27f162f3-ba42-428d-b277-4f1073dc8612"
      },
      "execution_count": 2,
      "outputs": [
        {
          "output_type": "stream",
          "name": "stderr",
          "text": [
            "/usr/local/lib/python3.7/dist-packages/pyspark/sql/context.py:79: FutureWarning: Deprecated in 3.0.0. Use SparkSession.builder.getOrCreate() instead.\n",
            "  FutureWarning\n"
          ]
        }
      ]
    },
    {
      "cell_type": "code",
      "source": [
        "company_df = sqlContext.read.format('com.databricks.spark.csv').options(header='true', inferschema='true').load('/content/sample_data/Fortune5002017.csv')"
      ],
      "metadata": {
        "id": "2Bkr7i7QgFyq"
      },
      "execution_count": 3,
      "outputs": []
    },
    {
      "cell_type": "code",
      "source": [
        "company_df.take(1)"
      ],
      "metadata": {
        "colab": {
          "base_uri": "https://localhost:8080/"
        },
        "id": "SiMDbKCohMAM",
        "outputId": "a50f1c66-66b5-485b-e70b-87b0cb76105f"
      },
      "execution_count": 4,
      "outputs": [
        {
          "output_type": "execute_result",
          "data": {
            "text/plain": [
              "[Row(Rank=1, Company Name='Walmart', Number of Employees=2300000, Previous Rank=1, Revenues='$4,85,873', Revenue Change='0.80%', Profits='$13,643.0', Profit Change='-7.20%', Assets='$1,98,825', Market Value='$2,18,619')]"
            ]
          },
          "metadata": {},
          "execution_count": 4
        }
      ]
    },
    {
      "cell_type": "code",
      "source": [
        "company_df.cache()"
      ],
      "metadata": {
        "colab": {
          "base_uri": "https://localhost:8080/"
        },
        "id": "EzhJ1RfQhOnp",
        "outputId": "b6607d18-16c7-4577-e222-c84eea2010ed"
      },
      "execution_count": 5,
      "outputs": [
        {
          "output_type": "execute_result",
          "data": {
            "text/plain": [
              "DataFrame[Rank: int, Company Name: string, Number of Employees: int, Previous Rank: int, Revenues: string, Revenue Change: string, Profits: string, Profit Change: string, Assets: string, Market Value: string]"
            ]
          },
          "metadata": {},
          "execution_count": 5
        }
      ]
    },
    {
      "cell_type": "code",
      "source": [
        "company_df.printSchema()"
      ],
      "metadata": {
        "colab": {
          "base_uri": "https://localhost:8080/"
        },
        "id": "Y5D33yz3hRkV",
        "outputId": "a98c893e-a861-4f37-cdb9-2742f362b260"
      },
      "execution_count": 6,
      "outputs": [
        {
          "output_type": "stream",
          "name": "stdout",
          "text": [
            "root\n",
            " |-- Rank: integer (nullable = true)\n",
            " |-- Company Name: string (nullable = true)\n",
            " |-- Number of Employees: integer (nullable = true)\n",
            " |-- Previous Rank: integer (nullable = true)\n",
            " |-- Revenues: string (nullable = true)\n",
            " |-- Revenue Change: string (nullable = true)\n",
            " |-- Profits: string (nullable = true)\n",
            " |-- Profit Change: string (nullable = true)\n",
            " |-- Assets: string (nullable = true)\n",
            " |-- Market Value: string (nullable = true)\n",
            "\n"
          ]
        }
      ]
    },
    {
      "cell_type": "code",
      "source": [
        "company_df.describe().toPandas().transpose()"
      ],
      "metadata": {
        "colab": {
          "base_uri": "https://localhost:8080/",
          "height": 473
        },
        "id": "TWhsqlW9hX8_",
        "outputId": "325f046a-8539-42c7-dc8a-f3cbdc430c5c"
      },
      "execution_count": 7,
      "outputs": [
        {
          "output_type": "execute_result",
          "data": {
            "text/plain": [
              "                         0                  1                   2          3  \\\n",
              "summary              count               mean              stddev        min   \n",
              "Rank                   500              250.5   144.4818327679989          1   \n",
              "Company Name           500               None                None         3M   \n",
              "Number of Employees    500          56955.526  123622.28829319982       1326   \n",
              "Previous Rank          492  257.1117886178862  154.04809767869145          1   \n",
              "Revenues               500               None                None  $1,00,288   \n",
              "Revenue Change         500               None                None          -   \n",
              "Profits                500               None                None   $1,006.0   \n",
              "Profit Change          500               None                None          -   \n",
              "Assets                 500               None                None  $1,00,245   \n",
              "Market Value           500               None                None  $1,00,595   \n",
              "\n",
              "                                  4  \n",
              "summary                         max  \n",
              "Rank                            500  \n",
              "Company Name         salesforce.com  \n",
              "Number of Employees         2300000  \n",
              "Previous Rank                   761  \n",
              "Revenues                    $94,595  \n",
              "Revenue Change               94.50%  \n",
              "Profits                      -$97.0  \n",
              "Profit Change                99.70%  \n",
              "Assets                      $95,377  \n",
              "Market Value                      -  "
            ],
            "text/html": [
              "\n",
              "  <div id=\"df-c1e988f3-fa26-472e-95f4-ac78768ae50e\">\n",
              "    <div class=\"colab-df-container\">\n",
              "      <div>\n",
              "<style scoped>\n",
              "    .dataframe tbody tr th:only-of-type {\n",
              "        vertical-align: middle;\n",
              "    }\n",
              "\n",
              "    .dataframe tbody tr th {\n",
              "        vertical-align: top;\n",
              "    }\n",
              "\n",
              "    .dataframe thead th {\n",
              "        text-align: right;\n",
              "    }\n",
              "</style>\n",
              "<table border=\"1\" class=\"dataframe\">\n",
              "  <thead>\n",
              "    <tr style=\"text-align: right;\">\n",
              "      <th></th>\n",
              "      <th>0</th>\n",
              "      <th>1</th>\n",
              "      <th>2</th>\n",
              "      <th>3</th>\n",
              "      <th>4</th>\n",
              "    </tr>\n",
              "  </thead>\n",
              "  <tbody>\n",
              "    <tr>\n",
              "      <th>summary</th>\n",
              "      <td>count</td>\n",
              "      <td>mean</td>\n",
              "      <td>stddev</td>\n",
              "      <td>min</td>\n",
              "      <td>max</td>\n",
              "    </tr>\n",
              "    <tr>\n",
              "      <th>Rank</th>\n",
              "      <td>500</td>\n",
              "      <td>250.5</td>\n",
              "      <td>144.4818327679989</td>\n",
              "      <td>1</td>\n",
              "      <td>500</td>\n",
              "    </tr>\n",
              "    <tr>\n",
              "      <th>Company Name</th>\n",
              "      <td>500</td>\n",
              "      <td>None</td>\n",
              "      <td>None</td>\n",
              "      <td>3M</td>\n",
              "      <td>salesforce.com</td>\n",
              "    </tr>\n",
              "    <tr>\n",
              "      <th>Number of Employees</th>\n",
              "      <td>500</td>\n",
              "      <td>56955.526</td>\n",
              "      <td>123622.28829319982</td>\n",
              "      <td>1326</td>\n",
              "      <td>2300000</td>\n",
              "    </tr>\n",
              "    <tr>\n",
              "      <th>Previous Rank</th>\n",
              "      <td>492</td>\n",
              "      <td>257.1117886178862</td>\n",
              "      <td>154.04809767869145</td>\n",
              "      <td>1</td>\n",
              "      <td>761</td>\n",
              "    </tr>\n",
              "    <tr>\n",
              "      <th>Revenues</th>\n",
              "      <td>500</td>\n",
              "      <td>None</td>\n",
              "      <td>None</td>\n",
              "      <td>$1,00,288</td>\n",
              "      <td>$94,595</td>\n",
              "    </tr>\n",
              "    <tr>\n",
              "      <th>Revenue Change</th>\n",
              "      <td>500</td>\n",
              "      <td>None</td>\n",
              "      <td>None</td>\n",
              "      <td>-</td>\n",
              "      <td>94.50%</td>\n",
              "    </tr>\n",
              "    <tr>\n",
              "      <th>Profits</th>\n",
              "      <td>500</td>\n",
              "      <td>None</td>\n",
              "      <td>None</td>\n",
              "      <td>$1,006.0</td>\n",
              "      <td>-$97.0</td>\n",
              "    </tr>\n",
              "    <tr>\n",
              "      <th>Profit Change</th>\n",
              "      <td>500</td>\n",
              "      <td>None</td>\n",
              "      <td>None</td>\n",
              "      <td>-</td>\n",
              "      <td>99.70%</td>\n",
              "    </tr>\n",
              "    <tr>\n",
              "      <th>Assets</th>\n",
              "      <td>500</td>\n",
              "      <td>None</td>\n",
              "      <td>None</td>\n",
              "      <td>$1,00,245</td>\n",
              "      <td>$95,377</td>\n",
              "    </tr>\n",
              "    <tr>\n",
              "      <th>Market Value</th>\n",
              "      <td>500</td>\n",
              "      <td>None</td>\n",
              "      <td>None</td>\n",
              "      <td>$1,00,595</td>\n",
              "      <td>-</td>\n",
              "    </tr>\n",
              "  </tbody>\n",
              "</table>\n",
              "</div>\n",
              "      <button class=\"colab-df-convert\" onclick=\"convertToInteractive('df-c1e988f3-fa26-472e-95f4-ac78768ae50e')\"\n",
              "              title=\"Convert this dataframe to an interactive table.\"\n",
              "              style=\"display:none;\">\n",
              "        \n",
              "  <svg xmlns=\"http://www.w3.org/2000/svg\" height=\"24px\"viewBox=\"0 0 24 24\"\n",
              "       width=\"24px\">\n",
              "    <path d=\"M0 0h24v24H0V0z\" fill=\"none\"/>\n",
              "    <path d=\"M18.56 5.44l.94 2.06.94-2.06 2.06-.94-2.06-.94-.94-2.06-.94 2.06-2.06.94zm-11 1L8.5 8.5l.94-2.06 2.06-.94-2.06-.94L8.5 2.5l-.94 2.06-2.06.94zm10 10l.94 2.06.94-2.06 2.06-.94-2.06-.94-.94-2.06-.94 2.06-2.06.94z\"/><path d=\"M17.41 7.96l-1.37-1.37c-.4-.4-.92-.59-1.43-.59-.52 0-1.04.2-1.43.59L10.3 9.45l-7.72 7.72c-.78.78-.78 2.05 0 2.83L4 21.41c.39.39.9.59 1.41.59.51 0 1.02-.2 1.41-.59l7.78-7.78 2.81-2.81c.8-.78.8-2.07 0-2.86zM5.41 20L4 18.59l7.72-7.72 1.47 1.35L5.41 20z\"/>\n",
              "  </svg>\n",
              "      </button>\n",
              "      \n",
              "  <style>\n",
              "    .colab-df-container {\n",
              "      display:flex;\n",
              "      flex-wrap:wrap;\n",
              "      gap: 12px;\n",
              "    }\n",
              "\n",
              "    .colab-df-convert {\n",
              "      background-color: #E8F0FE;\n",
              "      border: none;\n",
              "      border-radius: 50%;\n",
              "      cursor: pointer;\n",
              "      display: none;\n",
              "      fill: #1967D2;\n",
              "      height: 32px;\n",
              "      padding: 0 0 0 0;\n",
              "      width: 32px;\n",
              "    }\n",
              "\n",
              "    .colab-df-convert:hover {\n",
              "      background-color: #E2EBFA;\n",
              "      box-shadow: 0px 1px 2px rgba(60, 64, 67, 0.3), 0px 1px 3px 1px rgba(60, 64, 67, 0.15);\n",
              "      fill: #174EA6;\n",
              "    }\n",
              "\n",
              "    [theme=dark] .colab-df-convert {\n",
              "      background-color: #3B4455;\n",
              "      fill: #D2E3FC;\n",
              "    }\n",
              "\n",
              "    [theme=dark] .colab-df-convert:hover {\n",
              "      background-color: #434B5C;\n",
              "      box-shadow: 0px 1px 3px 1px rgba(0, 0, 0, 0.15);\n",
              "      filter: drop-shadow(0px 1px 2px rgba(0, 0, 0, 0.3));\n",
              "      fill: #FFFFFF;\n",
              "    }\n",
              "  </style>\n",
              "\n",
              "      <script>\n",
              "        const buttonEl =\n",
              "          document.querySelector('#df-c1e988f3-fa26-472e-95f4-ac78768ae50e button.colab-df-convert');\n",
              "        buttonEl.style.display =\n",
              "          google.colab.kernel.accessAllowed ? 'block' : 'none';\n",
              "\n",
              "        async function convertToInteractive(key) {\n",
              "          const element = document.querySelector('#df-c1e988f3-fa26-472e-95f4-ac78768ae50e');\n",
              "          const dataTable =\n",
              "            await google.colab.kernel.invokeFunction('convertToInteractive',\n",
              "                                                     [key], {});\n",
              "          if (!dataTable) return;\n",
              "\n",
              "          const docLinkHtml = 'Like what you see? Visit the ' +\n",
              "            '<a target=\"_blank\" href=https://colab.research.google.com/notebooks/data_table.ipynb>data table notebook</a>'\n",
              "            + ' to learn more about interactive tables.';\n",
              "          element.innerHTML = '';\n",
              "          dataTable['output_type'] = 'display_data';\n",
              "          await google.colab.output.renderOutput(dataTable, element);\n",
              "          const docLink = document.createElement('div');\n",
              "          docLink.innerHTML = docLinkHtml;\n",
              "          element.appendChild(docLink);\n",
              "        }\n",
              "      </script>\n",
              "    </div>\n",
              "  </div>\n",
              "  "
            ]
          },
          "metadata": {},
          "execution_count": 7
        }
      ]
    },
    {
      "cell_type": "code",
      "source": [
        "import pandas as pd\n",
        "numeric_features = [t[0] for t in company_df.dtypes if t[1] == 'int' or t[1] == 'double']\n",
        "sampled_data = company_df.select(numeric_features).sample(False, 0.8).toPandas()"
      ],
      "metadata": {
        "id": "lNisD271hg8w"
      },
      "execution_count": 8,
      "outputs": []
    },
    {
      "cell_type": "code",
      "source": [
        "from pandas.plotting import scatter_matrix\n",
        "\n",
        "axs = scatter_matrix(sampled_data, figsize=(10, 10))\n",
        "n = len(sampled_data.columns)\n",
        "for i in range(n):\n",
        "\tv = axs[i, 0]\n",
        "\tv.yaxis.label.set_rotation(0)\n",
        "\tv.yaxis.label.set_ha('right')\n",
        "\tv.set_yticks(())\n",
        "\th = axs[n-1, i]\n",
        "\th.xaxis.label.set_rotation(90)\n",
        "\th.set_xticks(())"
      ],
      "metadata": {
        "colab": {
          "base_uri": "https://localhost:8080/",
          "height": 650
        },
        "id": "X-d5DjO1orPc",
        "outputId": "ac285ada-f31b-430e-a9d3-2d63505a5a21"
      },
      "execution_count": 9,
      "outputs": [
        {
          "output_type": "display_data",
          "data": {
            "text/plain": [
              "<Figure size 720x720 with 9 Axes>"
            ],
            "image/png": "[encoded data removed]"
          },
          "metadata": {
            "needs_background": "light"
          }
        }
      ]
    },
    {
      "cell_type": "code",
      "source": [
        "import six\n",
        "for i in company_df.columns:\n",
        "\tif not( isinstance(company_df.select(i).take(1)[0][0], six.string_types)):\n",
        "\t\tprint( \"Correlation to Employees for \", i, company_df.stat.corr('Number of Employees',i))"
      ],
      "metadata": {
        "colab": {
          "base_uri": "https://localhost:8080/"
        },
        "id": "8aWsK6YooyZ0",
        "outputId": "69fb2428-2150-4327-9d2b-b645c733372b"
      },
      "execution_count": 10,
      "outputs": [
        {
          "output_type": "stream",
          "name": "stdout",
          "text": [
            "Correlation to Employees for  Rank -0.34535285439684765\n",
            "Correlation to Employees for  Number of Employees 1.0\n",
            "Correlation to Employees for  Previous Rank -0.3372052389045615\n"
          ]
        }
      ]
    },
    {
      "cell_type": "code",
      "source": [
        "from pyspark.ml.feature import VectorAssembler\n",
        "vectorAssembler = VectorAssembler(inputCols = ['Rank', 'Number of Employees'], outputCol = 'features')\n",
        "\n",
        "tcompany_df = vectorAssembler.transform(company_df)\n",
        "tcompany_df = tcompany_df.select(['features', 'Number of Employees'])\n",
        "tcompany_df.show(3)"
      ],
      "metadata": {
        "colab": {
          "base_uri": "https://localhost:8080/"
        },
        "id": "VxLrD-Zno5rN",
        "outputId": "2f34ba05-ca46-40bc-fb5f-68391e56f889"
      },
      "execution_count": 11,
      "outputs": [
        {
          "output_type": "stream",
          "name": "stdout",
          "text": [
            "+---------------+-------------------+\n",
            "|       features|Number of Employees|\n",
            "+---------------+-------------------+\n",
            "|[1.0,2300000.0]|            2300000|\n",
            "| [2.0,367700.0]|             367700|\n",
            "| [3.0,116000.0]|             116000|\n",
            "+---------------+-------------------+\n",
            "only showing top 3 rows\n",
            "\n"
          ]
        }
      ]
    },
    {
      "cell_type": "code",
      "source": [
        "splits = tcompany_df.randomSplit([0.7, 0.3])\n",
        "train_df = splits[0]\n",
        "test_df = splits[1]"
      ],
      "metadata": {
        "id": "P88JticypAGz"
      },
      "execution_count": 12,
      "outputs": []
    },
    {
      "cell_type": "code",
      "source": [
        "from pyspark.ml.regression import LinearRegression\n",
        "\n",
        "lr = LinearRegression(featuresCol = 'features', labelCol='Number of Employees', maxIter=10, regParam=0.3, elasticNetParam=0.8)\n",
        "lr_model = lr.fit(train_df)\n",
        "print(\"Coefficients: \" + str(lr_model.coefficients))\n",
        "print(\"Intercept: \" + str(lr_model.intercept))"
      ],
      "metadata": {
        "colab": {
          "base_uri": "https://localhost:8080/"
        },
        "id": "u9xOlI-WpC76",
        "outputId": "59d20850-0247-425b-9be1-4eeab283a6ff"
      },
      "execution_count": 13,
      "outputs": [
        {
          "output_type": "stream",
          "name": "stdout",
          "text": [
            "Coefficients: [0.0,0.9999978845557138]\n",
            "Intercept: 0.12026832131250305\n"
          ]
        }
      ]
    }
  ]
}