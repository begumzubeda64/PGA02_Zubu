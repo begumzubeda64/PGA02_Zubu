{
  "nbformat": 4,
  "nbformat_minor": 0,
  "metadata": {
    "colab": {
      "name": "Zubeda_PGA02_BigDataExam.ipynb",
      "provenance": [],
      "collapsed_sections": []
    },
    "kernelspec": {
      "name": "python3",
      "display_name": "Python 3"
    },
    "language_info": {
      "name": "python"
    },
    "accelerator": "GPU"
  },
  "cells": [
    {
      "cell_type": "markdown",
      "source": [
        "### **Import Libraries**"
      ],
      "metadata": {
        "id": "gZdZIcHy8RQH"
      }
    },
    {
      "cell_type": "code",
      "source": [
        "pip install pyspark"
      ],
      "metadata": {
        "colab": {
          "base_uri": "https://localhost:8080/"
        },
        "id": "rEGwfpEQ8eXO",
        "outputId": "c0973ba1-13c4-4a2d-8042-3ca761ce4a93"
      },
      "execution_count": 1,
      "outputs": [
        {
          "output_type": "stream",
          "name": "stdout",
          "text": [
            "Collecting pyspark\n",
            "  Downloading pyspark-3.2.1.tar.gz (281.4 MB)\n",
            "\u001b[K     |████████████████████████████████| 281.4 MB 36 kB/s \n",
            "\u001b[?25hCollecting py4j==0.10.9.3\n",
            "  Downloading py4j-0.10.9.3-py2.py3-none-any.whl (198 kB)\n",
            "\u001b[K     |████████████████████████████████| 198 kB 62.8 MB/s \n",
            "\u001b[?25hBuilding wheels for collected packages: pyspark\n",
            "  Building wheel for pyspark (setup.py) ... \u001b[?25l\u001b[?25hdone\n",
            "  Created wheel for pyspark: filename=pyspark-3.2.1-py2.py3-none-any.whl size=281853642 sha256=2582178602a13fca1d58f0a915ac39f69763c1475bfea5ab592eeb76132d994d\n",
            "  Stored in directory: /root/.cache/pip/wheels/9f/f5/07/7cd8017084dce4e93e84e92efd1e1d5334db05f2e83bcef74f\n",
            "Successfully built pyspark\n",
            "Installing collected packages: py4j, pyspark\n",
            "Successfully installed py4j-0.10.9.3 pyspark-3.2.1\n"
          ]
        }
      ]
    },
    {
      "cell_type": "code",
      "source": [
        "from pyspark import SparkConf, SparkContext\n",
        "from pyspark.sql import SQLContext\n",
        "\n",
        "sc= SparkContext()\n",
        "sqlContext = SQLContext(sc)"
      ],
      "metadata": {
        "colab": {
          "base_uri": "https://localhost:8080/"
        },
        "id": "8H4Cig-V8aBN",
        "outputId": "b57e8301-3781-47e2-b85f-6d97c0f95cd3"
      },
      "execution_count": 2,
      "outputs": [
        {
          "output_type": "stream",
          "name": "stderr",
          "text": [
            "/usr/local/lib/python3.7/dist-packages/pyspark/sql/context.py:79: FutureWarning: Deprecated in 3.0.0. Use SparkSession.builder.getOrCreate() instead.\n",
            "  FutureWarning\n"
          ]
        }
      ]
    },
    {
      "cell_type": "code",
      "source": [
        "df = sqlContext.read.format('com.databricks.spark.csv').options(header='true', inferschema='true').load('/content/sample_data/boston.csv')"
      ],
      "metadata": {
        "id": "FRL7c9v184YR"
      },
      "execution_count": 3,
      "outputs": []
    },
    {
      "cell_type": "code",
      "source": [
        "df.take(1)"
      ],
      "metadata": {
        "colab": {
          "base_uri": "https://localhost:8080/"
        },
        "id": "RW99utxJ9IPD",
        "outputId": "6ffc4e37-8125-4d33-d6de-73b6fb8de9a4"
      },
      "execution_count": 4,
      "outputs": [
        {
          "output_type": "execute_result",
          "data": {
            "text/plain": [
              "[Row(CRIM=0.00632, ZN=18.0, INDUS=2.309999943, CHAS=0, NOX=0.537999988, RM=6.574999809, AGE=65.19999695, DIS=4.090000153, RAD=1, TAX=296, PT=15.30000019, B=396.8999939, LSTAT=4.980000019, MV=24.0)]"
            ]
          },
          "metadata": {},
          "execution_count": 4
        }
      ]
    },
    {
      "cell_type": "code",
      "source": [
        "df.show(10, truncate=False)"
      ],
      "metadata": {
        "colab": {
          "base_uri": "https://localhost:8080/"
        },
        "id": "5ZQNO1vQ9M4W",
        "outputId": "801aeed5-7bfd-4bfe-8776-1e796aac985e"
      },
      "execution_count": 5,
      "outputs": [
        {
          "output_type": "stream",
          "name": "stdout",
          "text": [
            "+-----------+----+-----------+----+-----------+-----------+-----------+-----------+---+---+-----------+-----------+-----------+-----------+\n",
            "|CRIM       |ZN  |INDUS      |CHAS|NOX        |RM         |AGE        |DIS        |RAD|TAX|PT         |B          |LSTAT      |MV         |\n",
            "+-----------+----+-----------+----+-----------+-----------+-----------+-----------+---+---+-----------+-----------+-----------+-----------+\n",
            "|0.00632    |18.0|2.309999943|0   |0.537999988|6.574999809|65.19999695|4.090000153|1  |296|15.30000019|396.8999939|4.980000019|24.0       |\n",
            "|0.027310001|0.0 |7.070000172|0   |0.469000012|6.421000004|78.90000153|4.967100143|2  |242|17.79999924|396.8999939|9.140000343|21.60000038|\n",
            "|0.02729    |0.0 |7.070000172|0   |0.469000012|7.184999943|61.09999847|4.967100143|2  |242|17.79999924|392.8299866|4.03000021 |34.70000076|\n",
            "|0.032370001|0.0 |2.180000067|0   |0.458000004|6.998000145|45.79999924|6.062200069|3  |222|18.70000076|394.6300049|2.940000057|33.40000153|\n",
            "|0.069049999|0.0 |2.180000067|0   |0.458000004|7.146999836|54.20000076|6.062200069|3  |222|18.70000076|396.8999939|5.329999924|36.20000076|\n",
            "|0.029850001|0.0 |2.180000067|0   |0.458000004|6.429999828|58.70000076|6.062200069|3  |222|18.70000076|394.1199951|5.210000038|28.70000076|\n",
            "|0.088289998|12.5|7.869999886|0   |0.523999989|6.012000084|66.59999847|5.560500145|5  |311|15.19999981|395.6000061|12.43000031|22.89999962|\n",
            "|0.144549996|12.5|7.869999886|0   |0.523999989|6.171999931|96.09999847|5.950500011|5  |311|15.19999981|396.8999939|19.14999962|27.10000038|\n",
            "|0.211239994|12.5|7.869999886|0   |0.523999989|5.631000042|100.0      |6.082099915|5  |311|15.19999981|386.6300049|29.93000031|16.5       |\n",
            "|0.170039997|12.5|7.869999886|0   |0.523999989|6.004000187|85.90000153|6.592100143|5  |311|15.19999981|386.7099915|17.10000038|18.89999962|\n",
            "+-----------+----+-----------+----+-----------+-----------+-----------+-----------+---+---+-----------+-----------+-----------+-----------+\n",
            "only showing top 10 rows\n",
            "\n"
          ]
        }
      ]
    },
    {
      "cell_type": "code",
      "source": [
        "df.printSchema()"
      ],
      "metadata": {
        "colab": {
          "base_uri": "https://localhost:8080/"
        },
        "id": "cH96Www39SN6",
        "outputId": "ca1eb566-9c59-4ac3-fc02-435f422efa82"
      },
      "execution_count": 6,
      "outputs": [
        {
          "output_type": "stream",
          "name": "stdout",
          "text": [
            "root\n",
            " |-- CRIM: double (nullable = true)\n",
            " |-- ZN: double (nullable = true)\n",
            " |-- INDUS: double (nullable = true)\n",
            " |-- CHAS: integer (nullable = true)\n",
            " |-- NOX: double (nullable = true)\n",
            " |-- RM: double (nullable = true)\n",
            " |-- AGE: double (nullable = true)\n",
            " |-- DIS: double (nullable = true)\n",
            " |-- RAD: integer (nullable = true)\n",
            " |-- TAX: integer (nullable = true)\n",
            " |-- PT: double (nullable = true)\n",
            " |-- B: double (nullable = true)\n",
            " |-- LSTAT: double (nullable = true)\n",
            " |-- MV: double (nullable = true)\n",
            "\n"
          ]
        }
      ]
    },
    {
      "cell_type": "markdown",
      "source": [
        "### **Correlation between Independent and Dependent variable**"
      ],
      "metadata": {
        "id": "kC2-r90J9ayn"
      }
    },
    {
      "cell_type": "code",
      "source": [
        "import six\n",
        "for col in df.columns:\n",
        "    if not(isinstance(df.select(col).take(1)[0][0], six.string_types)):\n",
        "        print(\"Correlation between MV and \", col, \" \", df.stat.corr(\"MV\", col))"
      ],
      "metadata": {
        "colab": {
          "base_uri": "https://localhost:8080/"
        },
        "id": "ze_gW9Mm9WIb",
        "outputId": "aa1c756a-ece2-4e77-c61f-9ee08fdf4897"
      },
      "execution_count": 7,
      "outputs": [
        {
          "output_type": "stream",
          "name": "stdout",
          "text": [
            "Correlation between MV and  CRIM   -0.3883046116575088\n",
            "Correlation between MV and  ZN   0.36044534463752903\n",
            "Correlation between MV and  INDUS   -0.48372517128143383\n",
            "Correlation between MV and  CHAS   0.17526017775291847\n",
            "Correlation between MV and  NOX   -0.4273207763683772\n",
            "Correlation between MV and  RM   0.695359937127267\n",
            "Correlation between MV and  AGE   -0.37695456714288667\n",
            "Correlation between MV and  DIS   0.24992873873512172\n",
            "Correlation between MV and  RAD   -0.3816262315669168\n",
            "Correlation between MV and  TAX   -0.46853593528654536\n",
            "Correlation between MV and  PT   -0.5077867038116085\n",
            "Correlation between MV and  B   0.3334608226834164\n",
            "Correlation between MV and  LSTAT   -0.7376627294671615\n",
            "Correlation between MV and  MV   1.0\n"
          ]
        }
      ]
    },
    {
      "cell_type": "code",
      "source": [
        "from pyspark.ml.feature import VectorAssembler\n",
        "\n",
        "vectAssembler = VectorAssembler(inputCols = ['CRIM', 'ZN', 'INDUS', 'CHAS', 'NOX', 'RM', 'AGE', 'DIS', 'RAD', 'TAX', 'PT', 'B', 'LSTAT'], outputCol = 'features')\n",
        "vdf = vectAssembler.transform(df)\n",
        "vdf = vdf.select(['features', 'MV'])\n",
        "vdf.show(5)"
      ],
      "metadata": {
        "colab": {
          "base_uri": "https://localhost:8080/"
        },
        "id": "_hff7neM-gCq",
        "outputId": "622989f8-7030-430f-88ce-3ac85886b5b4"
      },
      "execution_count": 8,
      "outputs": [
        {
          "output_type": "stream",
          "name": "stdout",
          "text": [
            "+--------------------+-----------+\n",
            "|            features|         MV|\n",
            "+--------------------+-----------+\n",
            "|[0.00632,18.0,2.3...|       24.0|\n",
            "|[0.027310001,0.0,...|21.60000038|\n",
            "|[0.02729,0.0,7.07...|34.70000076|\n",
            "|[0.032370001,0.0,...|33.40000153|\n",
            "|[0.069049999,0.0,...|36.20000076|\n",
            "+--------------------+-----------+\n",
            "only showing top 5 rows\n",
            "\n"
          ]
        }
      ]
    },
    {
      "cell_type": "code",
      "source": [
        "from pyspark.ml.feature import StandardScaler\n",
        "\n",
        "scaler = StandardScaler(inputCol=\"features\", outputCol=\"scaled_features\",\n",
        "                        withStd=True, withMean=False)\n",
        "\n",
        "scalerModel = scaler.fit(vdf)\n",
        "scaledData = scalerModel.transform(vdf)\n",
        "scaledData.show(5)"
      ],
      "metadata": {
        "colab": {
          "base_uri": "https://localhost:8080/"
        },
        "id": "jPZsGprQF_L3",
        "outputId": "76a488fd-ca7a-43f9-e936-036cdf01d4a6"
      },
      "execution_count": 9,
      "outputs": [
        {
          "output_type": "stream",
          "name": "stdout",
          "text": [
            "+--------------------+-----------+--------------------+\n",
            "|            features|         MV|     scaled_features|\n",
            "+--------------------+-----------+--------------------+\n",
            "|[0.00632,18.0,2.3...|       24.0|[7.34751714521701...|\n",
            "|[0.027310001,0.0,...|21.60000038|[0.00317501108518...|\n",
            "|[0.02729,0.0,7.07...|34.70000076|[0.00317268580526...|\n",
            "|[0.032370001,0.0,...|33.40000153|[0.00376327748952...|\n",
            "|[0.069049999,0.0,...|36.20000076|[0.00802762739762...|\n",
            "+--------------------+-----------+--------------------+\n",
            "only showing top 5 rows\n",
            "\n"
          ]
        }
      ]
    },
    {
      "cell_type": "code",
      "source": [
        "vdf2 = scaledData.select(['scaled_features', 'MV'])\n",
        "\n",
        "vdf2.show(5)"
      ],
      "metadata": {
        "colab": {
          "base_uri": "https://localhost:8080/"
        },
        "id": "nYM1UXPzGOuY",
        "outputId": "62bbac7f-0085-4530-81d7-88a86826d13a"
      },
      "execution_count": 10,
      "outputs": [
        {
          "output_type": "stream",
          "name": "stdout",
          "text": [
            "+--------------------+-----------+\n",
            "|     scaled_features|         MV|\n",
            "+--------------------+-----------+\n",
            "|[7.34751714521701...|       24.0|\n",
            "|[0.00317501108518...|21.60000038|\n",
            "|[0.00317268580526...|34.70000076|\n",
            "|[0.00376327748952...|33.40000153|\n",
            "|[0.00802762739762...|36.20000076|\n",
            "+--------------------+-----------+\n",
            "only showing top 5 rows\n",
            "\n"
          ]
        }
      ]
    },
    {
      "cell_type": "markdown",
      "source": [
        "### **Splitting file into Train & Test Datasets**"
      ],
      "metadata": {
        "id": "YK8f3WuU_DaI"
      }
    },
    {
      "cell_type": "markdown",
      "source": [
        "Not Scaled Data"
      ],
      "metadata": {
        "id": "saBzGvBuLmCo"
      }
    },
    {
      "cell_type": "code",
      "source": [
        "splits = vdf.randomSplit([0.7, 0.3])\n",
        "train_vdf = splits[0]\n",
        "test_vdf = splits[1]"
      ],
      "metadata": {
        "id": "ez-spjmOLki-"
      },
      "execution_count": 11,
      "outputs": []
    },
    {
      "cell_type": "markdown",
      "source": [
        "Scaled Data"
      ],
      "metadata": {
        "id": "7lfTRSdwL0oq"
      }
    },
    {
      "cell_type": "code",
      "source": [
        "splits = vdf2.randomSplit([0.7, 0.3])\n",
        "train_vdf2 = splits[0]\n",
        "test_vdf2 = splits[1]"
      ],
      "metadata": {
        "id": "tKjwsj-W_BqE"
      },
      "execution_count": 12,
      "outputs": []
    },
    {
      "cell_type": "markdown",
      "source": [
        "##**Scaled Data**"
      ],
      "metadata": {
        "id": "I9EXkT8fL5JU"
      }
    },
    {
      "cell_type": "markdown",
      "source": [
        "### **Linear Regression**"
      ],
      "metadata": {
        "id": "DHvjs3JG_VnU"
      }
    },
    {
      "cell_type": "code",
      "source": [
        "from pyspark.ml.regression import LinearRegression\n",
        "\n",
        "lreg = LinearRegression(featuresCol='scaled_features', labelCol='MV', maxIter=10, regParam=0.3, elasticNetParam=0.8)\n",
        "lreg_model = lreg.fit(train_vdf2)\n",
        "print(\"LR Coefficients: \" + str(lreg_model.coefficients))\n",
        "print(\"LR Intercept: \" + str(lreg_model.intercept))"
      ],
      "metadata": {
        "colab": {
          "base_uri": "https://localhost:8080/"
        },
        "id": "X9mKkV61_Sm4",
        "outputId": "3dd02307-b2fd-4802-cad1-4410ee08bde3"
      },
      "execution_count": 13,
      "outputs": [
        {
          "output_type": "stream",
          "name": "stdout",
          "text": [
            "LR Coefficients: [-0.2569573806330271,0.17171145807530963,0.0,0.6183055435226239,-0.5837152318473628,3.392186615361845,-0.06298555413115847,-1.392371519737105,0.0,-0.27395688018751685,-1.6713702674644804,1.166767290921547,-3.295040636448978]\n",
            "LR Intercept: 13.59108932377271\n"
          ]
        }
      ]
    },
    {
      "cell_type": "markdown",
      "source": [
        "### **Evaluation**"
      ],
      "metadata": {
        "id": "32i71VsUAAqT"
      }
    },
    {
      "cell_type": "code",
      "source": [
        "lsummary = lreg_model.summary"
      ],
      "metadata": {
        "id": "rhbF6LPF_4-M"
      },
      "execution_count": 14,
      "outputs": []
    },
    {
      "cell_type": "code",
      "source": [
        "rmse = lsummary.rootMeanSquaredError\n",
        "rsquare = lsummary.r2\n",
        "\n",
        "print(\"Root Mean Squared Error: \", str(rmse))\n",
        "print(\"R-Squared: \", str(rsquare))"
      ],
      "metadata": {
        "colab": {
          "base_uri": "https://localhost:8080/"
        },
        "id": "5q1FrA8kAZmj",
        "outputId": "b3169946-15c6-45f9-d6e6-b8efce88e46c"
      },
      "execution_count": 15,
      "outputs": [
        {
          "output_type": "stream",
          "name": "stdout",
          "text": [
            "Root Mean Squared Error:  5.009007752450976\n",
            "R-Squared:  0.7059706691151533\n"
          ]
        }
      ]
    },
    {
      "cell_type": "code",
      "source": [
        "pred = lreg_model.transform(test_vdf2)"
      ],
      "metadata": {
        "id": "mv0MfbOPC0b2"
      },
      "execution_count": 16,
      "outputs": []
    },
    {
      "cell_type": "code",
      "source": [
        "pred.show(5)"
      ],
      "metadata": {
        "colab": {
          "base_uri": "https://localhost:8080/"
        },
        "id": "UEDK8PPyDfk8",
        "outputId": "12f2872a-f22f-43bd-cbcd-c09c1a27d53b"
      },
      "execution_count": 17,
      "outputs": [
        {
          "output_type": "stream",
          "name": "stdout",
          "text": [
            "+--------------------+-----------+------------------+\n",
            "|     scaled_features|         MV|        prediction|\n",
            "+--------------------+-----------+------------------+\n",
            "|[0.00105329913505...|32.20000076| 30.72783270835537|\n",
            "|[0.00127418968214...|       22.0|27.235205082779576|\n",
            "|[0.00160552550277...|       50.0| 38.40374449311538|\n",
            "|[0.00217402801606...|23.10000038|  25.4993662292038|\n",
            "|[0.00226819702777...|       33.0|26.289938971306356|\n",
            "+--------------------+-----------+------------------+\n",
            "only showing top 5 rows\n",
            "\n"
          ]
        }
      ]
    },
    {
      "cell_type": "code",
      "source": [
        "result = lreg_model.evaluate(test_vdf2)"
      ],
      "metadata": {
        "id": "Ym7PPd0bDpx2"
      },
      "execution_count": 19,
      "outputs": []
    },
    {
      "cell_type": "code",
      "source": [
        "print(\"Root Mean Squared Error Test Data: \", str(result.rootMeanSquaredError))\n",
        "print(\"R-Squared Test Data: \", str(result.r2))"
      ],
      "metadata": {
        "colab": {
          "base_uri": "https://localhost:8080/"
        },
        "id": "vPfV9NSwHq6g",
        "outputId": "6e5342a6-95cb-48de-fcad-25ab8bccd412"
      },
      "execution_count": 20,
      "outputs": [
        {
          "output_type": "stream",
          "name": "stdout",
          "text": [
            "Root Mean Squared Error Test Data:  4.676370921317646\n",
            "R-Squared Test Data:  0.7342709117623074\n"
          ]
        }
      ]
    },
    {
      "cell_type": "markdown",
      "source": [
        "##**Not Scaled Data**"
      ],
      "metadata": {
        "id": "l8n8uuU6MK1d"
      }
    },
    {
      "cell_type": "markdown",
      "source": [
        "### **Linear Regression**"
      ],
      "metadata": {
        "id": "3c3kEpTRMmjX"
      }
    },
    {
      "cell_type": "code",
      "source": [
        "lreg = LinearRegression(featuresCol='features', labelCol='MV', maxIter=10, regParam=0.3, elasticNetParam=0.8)\n",
        "lreg_model = lreg.fit(train_vdf)\n",
        "print(\"LR Coefficients: \" + str(lreg_model.coefficients))\n",
        "print(\"LR Intercept: \" + str(lreg_model.intercept))"
      ],
      "metadata": {
        "colab": {
          "base_uri": "https://localhost:8080/"
        },
        "id": "FMapX7XAMNqk",
        "outputId": "847933df-fa93-4916-dda2-3a4d1405e7bb"
      },
      "execution_count": 22,
      "outputs": [
        {
          "output_type": "stream",
          "name": "stdout",
          "text": [
            "LR Coefficients: [-0.0545401858034031,0.015967442495788964,0.0,1.8276461096379344,-3.4792783659551114,4.224345433907338,-0.001126314172838157,-0.4455836341123504,0.0,-0.0019115683915978037,-0.8136538931342597,0.006314286033431694,-0.45845639335862814]\n",
            "LR Intercept: 18.772472354905137\n"
          ]
        }
      ]
    },
    {
      "cell_type": "code",
      "source": [
        "lsummary = lreg_model.summary"
      ],
      "metadata": {
        "id": "O7lPfoffMY4k"
      },
      "execution_count": 23,
      "outputs": []
    },
    {
      "cell_type": "code",
      "source": [
        "rmse = lsummary.rootMeanSquaredError\n",
        "rsquare = lsummary.r2\n",
        "\n",
        "print(\"Root Mean Squared Error: \", str(rmse))\n",
        "print(\"R-Squared: \", str(rsquare))"
      ],
      "metadata": {
        "colab": {
          "base_uri": "https://localhost:8080/"
        },
        "id": "YTouGI-zMwqK",
        "outputId": "8dcb0f05-4a1a-48c9-95d4-ef2b797f50ad"
      },
      "execution_count": 24,
      "outputs": [
        {
          "output_type": "stream",
          "name": "stdout",
          "text": [
            "Root Mean Squared Error:  4.76650165930665\n",
            "R-Squared:  0.7239410963716459\n"
          ]
        }
      ]
    },
    {
      "cell_type": "code",
      "source": [
        "pred = lreg_model.transform(test_vdf)\n",
        "\n",
        "pred.show(5)"
      ],
      "metadata": {
        "colab": {
          "base_uri": "https://localhost:8080/"
        },
        "id": "1jF1WtsHMzda",
        "outputId": "64832cfb-0b4e-41da-f6ea-79ed82439c9d"
      },
      "execution_count": 26,
      "outputs": [
        {
          "output_type": "stream",
          "name": "stdout",
          "text": [
            "+--------------------+-----------+------------------+\n",
            "|            features|         MV|        prediction|\n",
            "+--------------------+-----------+------------------+\n",
            "|[0.00632,18.0,2.3...|       24.0|30.275185792539613|\n",
            "|[0.01096,55.0,2.2...|       22.0| 27.96130712185799|\n",
            "|[0.01301,35.0,1.5...|32.70000076| 32.01082286806058|\n",
            "|[0.01381,80.0,0.4...|       50.0|  38.2183026898455|\n",
            "|[0.01439,60.0,2.9...|29.10000038|30.610580244065545|\n",
            "+--------------------+-----------+------------------+\n",
            "only showing top 5 rows\n",
            "\n"
          ]
        }
      ]
    },
    {
      "cell_type": "code",
      "source": [
        "result = lreg_model.evaluate(test_vdf)\n",
        "\n",
        "print(\"Root Mean Squared Error Test Data: \", str(result.rootMeanSquaredError))\n",
        "print(\"R-Squared Test Data: \", str(result.r2))"
      ],
      "metadata": {
        "colab": {
          "base_uri": "https://localhost:8080/"
        },
        "id": "_8d3aJIWM8Q2",
        "outputId": "38c7d98e-f344-43fa-ed3d-511a2c276a89"
      },
      "execution_count": 27,
      "outputs": [
        {
          "output_type": "stream",
          "name": "stdout",
          "text": [
            "Root Mean Squared Error Test Data:  5.352522972080572\n",
            "R-Squared Test Data:  0.6767562594454459\n"
          ]
        }
      ]
    }
  ]
}