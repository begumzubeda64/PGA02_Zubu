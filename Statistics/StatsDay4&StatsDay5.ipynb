{
 "cells": [
  {
   "cell_type": "code",
   "execution_count": 3,
   "metadata": {},
   "outputs": [
    {
     "data": {
      "text/plain": [
       "Ttest_1sampResult(statistic=1.2674612253287467, pvalue=0.23680061493494728)"
      ]
     },
     "execution_count": 3,
     "metadata": {},
     "output_type": "execute_result"
    }
   ],
   "source": [
    "#X: No of furniture items produced by machine A then M: Avg mean of furniture items produced by machine A\n",
    "\n",
    "#Hypothesis: Two sided One Sample t test for mean \n",
    "#H0: The mean no produced by machine A. M = 30\n",
    "#Ha: The mean no produced by machine A not equal to 30. M != 30\n",
    "import pandas as pd\n",
    "df_production = pd.read_csv(r\"C:\\zubeda\\PGA-02\\Statistics\\HypothesisTestingDataSet\\Production.csv\")\n",
    "\n",
    "from scipy.stats import ttest_1samp\n",
    "ttest_1samp(df_production[\"Items Produced\"], 30)\n",
    "#P-value greater than level of significance 0.05. Hence accept H0."
   ]
  },
  {
   "cell_type": "code",
   "execution_count": 1,
   "metadata": {},
   "outputs": [
    {
     "name": "stdout",
     "output_type": "stream",
     "text": [
      "Ttest_1sampResult(statistic=-2.1981495173443797, pvalue=0.04525698313212501)\n"
     ]
    },
    {
     "data": {
      "text/plain": [
       "0.022628491566062506"
      ]
     },
     "execution_count": 1,
     "metadata": {},
     "output_type": "execute_result"
    }
   ],
   "source": [
    "#X: The life of bulbs\n",
    "\n",
    "#Hypothesis: One sided One Sample t test for mean \n",
    "#H0: The mean life of bulb in hours. M=45000\n",
    "#Ha: The mean life of bulb in hours. M<45000\n",
    "\n",
    "import pandas as pd\n",
    "df_lifespan = pd.read_csv(r\"C:\\zubeda\\PGA-02\\Statistics\\HypothesisTestingDataSet\\LifeSpan.csv\")\n",
    "\n",
    "from scipy.stats import ttest_1samp\n",
    "\n",
    "t_test_less = ttest_1samp(df_lifespan[\"life\"], 45000)\n",
    "print(t_test_less)\n",
    "\n",
    "#Divide p-value by 2 for one sided\n",
    "p_value_less = t_test_less.pvalue / 2\n",
    "\n",
    "p_value_less"
   ]
  },
  {
   "cell_type": "code",
   "execution_count": 2,
   "metadata": {},
   "outputs": [
    {
     "data": {
      "text/plain": [
       "Ttest_indResult(statistic=0.5169140149580205, pvalue=0.6115094596012607)"
      ]
     },
     "execution_count": 2,
     "metadata": {},
     "output_type": "execute_result"
    }
   ],
   "source": [
    "#X: The gain in weight due to diet A\n",
    "#Y: The gain in weight due to diet B\n",
    "\n",
    "#MA: The avg gain in weight due to diet A\n",
    "#MB: The avg gain in weight due to diet B\n",
    "\n",
    "#Hypothesis: Two Sample t test for mean \n",
    "#H0: MA = MB\n",
    "#Ha: MA != MB\n",
    "\n",
    "df_diet = pd.read_csv(r\"C:\\zubeda\\PGA-02\\Statistics\\HypothesisTestingDataSet\\Diet_data.csv\")\n",
    "\n",
    "from scipy.stats import ttest_ind\n",
    "\n",
    "ttest_ind(df_diet[\"Diet A\"], df_diet[\"Diet B\"])"
   ]
  },
  {
   "cell_type": "code",
   "execution_count": 3,
   "metadata": {},
   "outputs": [
    {
     "data": {
      "text/plain": [
       "Ttest_relResult(statistic=-2.2785119632047284, pvalue=0.048680802344322635)"
      ]
     },
     "execution_count": 3,
     "metadata": {},
     "output_type": "execute_result"
    }
   ],
   "source": [
    "#X: Hours of sleep before medication\n",
    "#Y: Hours of sleep after medication\n",
    "\n",
    "#MB: The avg sleep before medication\n",
    "#MA: The avg sleep after medication\n",
    "\n",
    "#Hypothesis: Paired t test for mean \n",
    "#H0: MA=MB\n",
    "#Ha: MA!=MB\n",
    "\n",
    "df_sleep = pd.read_csv(r\"C:\\zubeda\\PGA-02\\Statistics\\HypothesisTestingDataSet\\Sleep_data.csv\")\n",
    "\n",
    "from scipy.stats import ttest_rel\n",
    "\n",
    "ttest_rel(df_sleep[\"Hours of Sleep (Before)\"], df_sleep[\"Hours of Sleep (After)\"])"
   ]
  },
  {
   "cell_type": "code",
   "execution_count": 5,
   "metadata": {},
   "outputs": [
    {
     "data": {
      "text/plain": [
       "(-4.431740748679182, 9.347536680921983e-06)"
      ]
     },
     "execution_count": 5,
     "metadata": {},
     "output_type": "execute_result"
    }
   ],
   "source": [
    "#X: The breaking strength of glass rod\n",
    "#M: The avg breaking strength of glass rod\n",
    "\n",
    "#Hypothesis: One large sample z test\n",
    "#H0: M=55\n",
    "#Ha: M!=55\n",
    "\n",
    "df_strength = pd.read_csv(r\"C:\\zubeda\\PGA-02\\Statistics\\HypothesisTestingDataSet\\Strength.csv\")\n",
    "\n",
    "from statsmodels.stats import weightstats as ws\n",
    "\n",
    "ws.ztest(df_strength[\"Strength(in lbs)\"], value=55)\n",
    "\n",
    "#pvalue e-06 = 10 raise to -6 close to 0.0 less than level of significance 0.05"
   ]
  },
  {
   "cell_type": "code",
   "execution_count": 6,
   "metadata": {},
   "outputs": [
    {
     "data": {
      "text/plain": [
       "(-1.1390306751872912, 0.25469036008906554)"
      ]
     },
     "execution_count": 6,
     "metadata": {},
     "output_type": "execute_result"
    }
   ],
   "source": [
    "#X: Yeild due to fertilizer 1\n",
    "#Y: Yeild due to fertilizer 2\n",
    "\n",
    "#MA: Avg yeild due to fertilizer 1\n",
    "#MB: Avg yeild due to fertilizer 2\n",
    "\n",
    "#Hypothesis: Two large sample z test\n",
    "#H0: MA=MB\n",
    "#Ha: MA!=MB\n",
    "\n",
    "df_fertilizer = pd.read_csv(r\"C:\\zubeda\\PGA-02\\Statistics\\HypothesisTestingDataSet\\Fertilizer.csv\")\n",
    "\n",
    "from statsmodels.stats import weightstats as ws\n",
    "\n",
    "ws.ztest(df_fertilizer[\"Fertilizer 1\"], x2=df_fertilizer[\"Fertilizer 2\"])"
   ]
  },
  {
   "cell_type": "code",
   "execution_count": 7,
   "metadata": {},
   "outputs": [
    {
     "name": "stdout",
     "output_type": "stream",
     "text": [
      "The test statistic is  0.9541043043136597  & its p-value is  4.790976618096465e-06\n"
     ]
    }
   ],
   "source": [
    "import numpy as np\n",
    "\n",
    "rainfall_in_mm = np.random.random(200)*100\n",
    "\n",
    "#Hypothesis: Shapiro checking of data normality\n",
    "#H0: Data is normally distributed\n",
    "#H1: Data is not normally distributed\n",
    "\n",
    "from scipy.stats import shapiro\n",
    "\n",
    "stat, p = shapiro(rainfall_in_mm)\n",
    "\n",
    "print(\"The test statistic is \", stat, \" & its p-value is \", p)"
   ]
  },
  {
   "cell_type": "code",
   "execution_count": 10,
   "metadata": {},
   "outputs": [
    {
     "name": "stdout",
     "output_type": "stream",
     "text": [
      "The test statistic is  1.0179934269523043  & its p-value is  0.6010983502597917\n"
     ]
    }
   ],
   "source": [
    "diameter_in_mm = np.random.normal(loc=4, scale=0.7, size=6000) + np.random.normal(loc=5, scale=0.1, size=6000)\n",
    "\n",
    "from scipy.stats import jarque_bera\n",
    "\n",
    "stat, p = jarque_bera(diameter_in_mm)\n",
    "\n",
    "print(\"The test statistic is \", stat, \" & its p-value is \", p)"
   ]
  },
  {
   "cell_type": "code",
   "execution_count": null,
   "metadata": {},
   "outputs": [],
   "source": []
  }
 ],
 "metadata": {
  "kernelspec": {
   "display_name": "Python 3",
   "language": "python",
   "name": "python3"
  },
  "language_info": {
   "codemirror_mode": {
    "name": "ipython",
    "version": 3
   },
   "file_extension": ".py",
   "mimetype": "text/x-python",
   "name": "python",
   "nbconvert_exporter": "python",
   "pygments_lexer": "ipython3",
   "version": "3.8.5"
  }
 },
 "nbformat": 4,
 "nbformat_minor": 4
}
