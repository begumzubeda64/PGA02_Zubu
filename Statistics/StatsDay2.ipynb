{
 "cells": [
  {
   "cell_type": "code",
   "execution_count": 3,
   "metadata": {},
   "outputs": [
    {
     "name": "stdout",
     "output_type": "stream",
     "text": [
      "Probaility getting a Jack Card is 8.0%\n"
     ]
    }
   ],
   "source": [
    "#Probability\n",
    "cards = 52 #Sample space total num of cards in a deck\n",
    "jacks = 4 #Num of jacks card in a deck of cards\n",
    "\n",
    "jack_prob = jacks/cards\n",
    "\n",
    "print(\"Probaility getting a Jack Card is {}%\".format(round(jack_prob, 2) * 100))"
   ]
  },
  {
   "cell_type": "code",
   "execution_count": 6,
   "metadata": {},
   "outputs": [
    {
     "name": "stdout",
     "output_type": "stream",
     "text": [
      "Probability getting an Ace card after drawing a King card is 7.8%\n"
     ]
    }
   ],
   "source": [
    "#Probability King or Ace card drawn as 1st card\n",
    "cards = 52\n",
    "card_drawn = 1\n",
    "\n",
    "cards = cards - card_drawn\n",
    "\n",
    "def event_proba(event_outcome, sample_space):\n",
    "    probability = (event_outcome / sample_space) * 100\n",
    "    return round(probability, 1)\n",
    "\n",
    "#Assume King card was drawn\n",
    "aces = 4\n",
    "aces_prob = event_proba(aces, cards)\n",
    "\n",
    "print(\"Probability getting an Ace card after drawing a King card is {}%\". format(aces_prob))"
   ]
  },
  {
   "cell_type": "code",
   "execution_count": 7,
   "metadata": {},
   "outputs": [
    {
     "name": "stdout",
     "output_type": "stream",
     "text": [
      "Probability getting an Ace card after drawing one Ace card first is 5.9%\n"
     ]
    }
   ],
   "source": [
    "#Assume Ace card was drawn\n",
    "aces_drawn = 1\n",
    "aces = aces - aces_drawn\n",
    "\n",
    "aces_prob = event_proba(aces, cards)\n",
    "\n",
    "print(\"Probability getting an Ace card after drawing one Ace card first is {}%\". format(aces_prob))"
   ]
  },
  {
   "cell_type": "code",
   "execution_count": 8,
   "metadata": {},
   "outputs": [
    {
     "name": "stdout",
     "output_type": "stream",
     "text": [
      "Probability getting Heart or Club card is 50.0%\n"
     ]
    }
   ],
   "source": [
    "#Mutually Exclusive Event\n",
    "cards = 52\n",
    "\n",
    "hearts = 13\n",
    "clubs = 13\n",
    "\n",
    "#Drawing a heart or club card\n",
    "heart_or_club = event_proba(hearts, cards) + event_proba(clubs, cards)\n",
    "\n",
    "print(\"Probability getting Heart or Club card is {}%\". format(heart_or_club))"
   ]
  },
  {
   "cell_type": "code",
   "execution_count": 9,
   "metadata": {},
   "outputs": [
    {
     "name": "stdout",
     "output_type": "stream",
     "text": [
      "Probability getting King, Queen or Ace card is 23.1%\n"
     ]
    }
   ],
   "source": [
    "cards = 52\n",
    "\n",
    "kings = 4\n",
    "queens = 4\n",
    "aces = 4\n",
    "\n",
    "#Drawing a King, Queen or Ace card\n",
    "probability = event_proba(kings, cards) + event_proba(queens, cards) + event_proba(aces, cards)\n",
    "\n",
    "print(\"Probability getting King, Queen or Ace card is {}%\". format(probability))"
   ]
  },
  {
   "cell_type": "code",
   "execution_count": 12,
   "metadata": {},
   "outputs": [
    {
     "name": "stdout",
     "output_type": "stream",
     "text": [
      "Probability getting Hearts or an Ace card is 30.8%\n"
     ]
    }
   ],
   "source": [
    "#Non-Mutually Exclusive Event\n",
    "cards = 52\n",
    "hearts = 13\n",
    "aces = 4\n",
    "ace_of_hearts = 1\n",
    "\n",
    "#Drawing Hearts or an Ace card\n",
    "heart_or_aces = event_proba(hearts, cards) + event_proba(aces, cards) - event_proba(ace_of_hearts, cards)\n",
    "\n",
    "print(\"Probability getting Hearts or an Ace card is {}%\". format(round(heart_or_aces, 1)))"
   ]
  },
  {
   "cell_type": "code",
   "execution_count": 13,
   "metadata": {},
   "outputs": [
    {
     "name": "stdout",
     "output_type": "stream",
     "text": [
      "Probability getting Red or a Face card is 61.6%\n"
     ]
    }
   ],
   "source": [
    "cards = 52\n",
    "red_cards = 26\n",
    "face_cards = 12\n",
    "red_face_cards = 6\n",
    "\n",
    "#Drawing Red or an Face card\n",
    "red_or_face = event_proba(red_cards, cards) + event_proba(face_cards, cards) - event_proba(red_face_cards, cards)\n",
    "\n",
    "print(\"Probability getting Red or a Face card is {}%\". format(round(red_or_face, 1)))"
   ]
  },
  {
   "cell_type": "code",
   "execution_count": null,
   "metadata": {},
   "outputs": [],
   "source": []
  }
 ],
 "metadata": {
  "kernelspec": {
   "display_name": "Python 3",
   "language": "python",
   "name": "python3"
  },
  "language_info": {
   "codemirror_mode": {
    "name": "ipython",
    "version": 3
   },
   "file_extension": ".py",
   "mimetype": "text/x-python",
   "name": "python",
   "nbconvert_exporter": "python",
   "pygments_lexer": "ipython3",
   "version": "3.8.5"
  }
 },
 "nbformat": 4,
 "nbformat_minor": 4
}
