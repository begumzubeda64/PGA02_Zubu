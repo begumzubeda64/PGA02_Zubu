{
 "cells": [
  {
   "cell_type": "code",
   "execution_count": 1,
   "metadata": {},
   "outputs": [
    {
     "data": {
      "text/plain": [
       "F_onewayResult(statistic=7.044871794871795, pvalue=0.0031129438989961743)"
      ]
     },
     "execution_count": 1,
     "metadata": {},
     "output_type": "execute_result"
    }
   ],
   "source": [
    "from scipy.stats import f_oneway\n",
    "\n",
    "#One way Anova\n",
    "#H0: All the mean of programmes are equal\n",
    "#H1: Any one or more group(s) are not equal\n",
    "\n",
    "programme_1 = [9, 12, 14, 11, 13]\n",
    "programme_2 = [10, 6, 9, 9, 10]\n",
    "programme_3 = [12, 14, 11, 13, 11]\n",
    "programme_4 = [9, 8, 11, 7, 8]\n",
    "\n",
    "f_oneway(programme_1, programme_2, programme_3, programme_4)"
   ]
  },
  {
   "cell_type": "code",
   "execution_count": 4,
   "metadata": {},
   "outputs": [
    {
     "name": "stdout",
     "output_type": "stream",
     "text": [
      "   programme_1  programme_2  programme_3  programme_4\n",
      "0            9           10           12            9\n",
      "1           12            6           14            8\n",
      "2           14            9           11           11\n",
      "3           11            9           13            7\n",
      "4           13           10           11            8\n",
      "\n",
      "    id    programme  number of tasks\n",
      "0    0  programme_1                9\n",
      "1    0  programme_2               10\n",
      "2    0  programme_3               12\n",
      "3    0  programme_4                9\n",
      "4    1  programme_1               12\n",
      "5    1  programme_2                6\n",
      "6    1  programme_3               14\n",
      "7    1  programme_4                8\n",
      "8    2  programme_1               14\n",
      "9    2  programme_2                9\n",
      "10   2  programme_3               11\n",
      "11   2  programme_4               11\n",
      "12   3  programme_1               11\n",
      "13   3  programme_2                9\n",
      "14   3  programme_3               13\n",
      "15   3  programme_4                7\n",
      "16   4  programme_1               13\n",
      "17   4  programme_2               10\n",
      "18   4  programme_3               11\n",
      "19   4  programme_4                8\n",
      "\n"
     ]
    },
    {
     "data": {
      "text/html": [
       "<table class=\"simpletable\">\n",
       "<caption>Multiple Comparison of Means - Tukey HSD, FWER=0.05</caption>\n",
       "<tr>\n",
       "    <th>group1</th>      <th>group2</th>    <th>meandiff</th>  <th>p-adj</th>  <th>lower</th>   <th>upper</th>  <th>reject</th>\n",
       "</tr>\n",
       "<tr>\n",
       "  <td>programme_1</td> <td>programme_2</td>   <td>-3.0</td>   <td>0.0428</td> <td>-5.9179</td> <td>-0.0821</td>  <td>True</td> \n",
       "</tr>\n",
       "<tr>\n",
       "  <td>programme_1</td> <td>programme_3</td>    <td>0.4</td>     <td>0.9</td>  <td>-2.5179</td> <td>3.3179</td>   <td>False</td>\n",
       "</tr>\n",
       "<tr>\n",
       "  <td>programme_1</td> <td>programme_4</td>   <td>-3.2</td>   <td>0.0292</td> <td>-6.1179</td> <td>-0.2821</td>  <td>True</td> \n",
       "</tr>\n",
       "<tr>\n",
       "  <td>programme_2</td> <td>programme_3</td>    <td>3.4</td>   <td>0.0198</td> <td>0.4821</td>  <td>6.3179</td>   <td>True</td> \n",
       "</tr>\n",
       "<tr>\n",
       "  <td>programme_2</td> <td>programme_4</td>   <td>-0.2</td>     <td>0.9</td>  <td>-3.1179</td> <td>2.7179</td>   <td>False</td>\n",
       "</tr>\n",
       "<tr>\n",
       "  <td>programme_3</td> <td>programme_4</td>   <td>-3.6</td>   <td>0.0133</td> <td>-6.5179</td> <td>-0.6821</td>  <td>True</td> \n",
       "</tr>\n",
       "</table>"
      ],
      "text/plain": [
       "<class 'statsmodels.iolib.table.SimpleTable'>"
      ]
     },
     "execution_count": 4,
     "metadata": {},
     "output_type": "execute_result"
    }
   ],
   "source": [
    "import pandas as pd\n",
    "from statsmodels.stats.multicomp import (pairwise_tukeyhsd, MultiComparison)\n",
    "\n",
    "df_programme = pd.DataFrame({\n",
    "    'programme_1' : [9, 12, 14, 11, 13],\n",
    "    'programme_2' : [10, 6, 9, 9, 10],\n",
    "    'programme_3' : [12, 14, 11, 13, 11],\n",
    "    'programme_4' : [9, 8, 11, 7, 8]\n",
    "})\n",
    "print(df_programme)\n",
    "print()\n",
    "\n",
    "stacked_data = df_programme.stack().reset_index()\n",
    "stacked_data = stacked_data.rename(columns={'level_0': 'id', 'level_1': 'programme', 0: 'number of tasks'})\n",
    "print(stacked_data)\n",
    "print()\n",
    "\n",
    "MultiComp = MultiComparison(stacked_data[\"number of tasks\"], stacked_data[\"programme\"])\n",
    "\n",
    "MultiComp.tukeyhsd().summary()"
   ]
  },
  {
   "cell_type": "code",
   "execution_count": 5,
   "metadata": {},
   "outputs": [
    {
     "data": {
      "text/plain": [
       "(17.640883327199113, 0.0014503134604129857)"
      ]
     },
     "execution_count": 5,
     "metadata": {},
     "output_type": "execute_result"
    }
   ],
   "source": [
    "from scipy.stats import chi2_contingency\n",
    "import numpy as np\n",
    "\n",
    "#Chi square test for independence\n",
    "#H0: IQ and Music are independent variables\n",
    "#H1: IQ and Music are dependent variables\n",
    "\n",
    "frequencies = np.array([[45, 32, 13], [58, 62, 30], [87, 126, 87]])\n",
    "\n",
    "statistics, p, dof, expctd = chi2_contingency(frequencies)\n",
    "\n",
    "statistics, p"
   ]
  },
  {
   "cell_type": "code",
   "execution_count": 6,
   "metadata": {},
   "outputs": [
    {
     "data": {
      "text/plain": [
       "Power_divergenceResult(statistic=60.59627630121817, pvalue=6.945216514453092e-14)"
      ]
     },
     "execution_count": 6,
     "metadata": {},
     "output_type": "execute_result"
    }
   ],
   "source": [
    "#Chi square test for goodness of fit\n",
    "#H0: No difference btw observed ans estimated frequencies from specifies distribution\n",
    "#H1: Difference btw observed ans estimated frequencies from specifies distribution\n",
    "from scipy.stats import chisquare\n",
    "\n",
    "observed_frequencies = [280, 190, 90]\n",
    "\n",
    "expected_frequencies = [560 * 0.43, 560 * 0.48, 560 * 0.09]\n",
    "\n",
    "chisquare(observed_frequencies, expected_frequencies)"
   ]
  },
  {
   "cell_type": "code",
   "execution_count": null,
   "metadata": {},
   "outputs": [],
   "source": []
  }
 ],
 "metadata": {
  "kernelspec": {
   "display_name": "Python 3",
   "language": "python",
   "name": "python3"
  },
  "language_info": {
   "codemirror_mode": {
    "name": "ipython",
    "version": 3
   },
   "file_extension": ".py",
   "mimetype": "text/x-python",
   "name": "python",
   "nbconvert_exporter": "python",
   "pygments_lexer": "ipython3",
   "version": "3.8.5"
  }
 },
 "nbformat": 4,
 "nbformat_minor": 4
}
