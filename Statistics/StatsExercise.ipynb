{
 "cells": [
  {
   "cell_type": "code",
   "execution_count": 55,
   "metadata": {},
   "outputs": [
    {
     "data": {
      "text/plain": [
       "0.035470892953328774"
      ]
     },
     "execution_count": 55,
     "metadata": {},
     "output_type": "execute_result"
    }
   ],
   "source": [
    "#Let's begin with some hands-on practice exercises\n",
    "#Huge Fruit Basket (HFB) is a grocery shop that sells fruits. It is observed that 20% of their customers complain about the fruits purchased by them for many reasons (bad quality, foul smell and less quantity). On Friday, 30 customers purchased fruits from HFB.\n",
    "\n",
    "#1. Calculate the probability that exactly 10 customers will complain about the purchased products.\n",
    "\n",
    "from scipy import stats\n",
    "\n",
    "stats.binom.pmf(10, 30, 0.20)"
   ]
  },
  {
   "cell_type": "code",
   "execution_count": 56,
   "metadata": {},
   "outputs": [
    {
     "data": {
      "image/png": "[encoded data removed]",
      "text/plain": [
       "<Figure size 432x288 with 1 Axes>"
      ]
     },
     "metadata": {
      "needs_background": "light"
     },
     "output_type": "display_data"
    }
   ],
   "source": [
    "#2. Create a list of all possible number of successes (0 to 15) and corresponding Probability Mass Function (PMF) values and draw a bar plot. In other words; Calculate the probability that exactly n customers will complain about the purchased products; where n is 0 to 15.\n",
    "\n",
    "import numpy as np\n",
    "import matplotlib.pyplot as plt\n",
    "\n",
    "n = np.arange(0, 16)\n",
    "\n",
    "pmf = stats.binom.pmf(n, 30, 0.20)\n",
    "\n",
    "plt.bar(n, pmf)\n",
    "\n",
    "plt.show()"
   ]
  },
  {
   "cell_type": "code",
   "execution_count": 9,
   "metadata": {},
   "outputs": [
    {
     "data": {
      "text/plain": [
       "0.035470892953328774"
      ]
     },
     "execution_count": 9,
     "metadata": {},
     "output_type": "execute_result"
    }
   ],
   "source": [
    "#3. Calculate the probability that maximum of 10 customers will complain about the fruits purchased by them.\n",
    "\n",
    "stats.binom.pmf(10, 30, 0.20)"
   ]
  },
  {
   "cell_type": "code",
   "execution_count": 10,
   "metadata": {},
   "outputs": [
    {
     "data": {
      "text/plain": [
       "0.035470892953328774"
      ]
     },
     "execution_count": 10,
     "metadata": {},
     "output_type": "execute_result"
    }
   ],
   "source": [
    "#4. Calculate the probability that more than 10 customers will complain about the fruits purchased by them.\n",
    "\n",
    "stats.binom.pmf(10, 30, 0.20)"
   ]
  },
  {
   "cell_type": "code",
   "execution_count": 11,
   "metadata": {},
   "outputs": [
    {
     "name": "stdout",
     "output_type": "stream",
     "text": [
      "Average:  6.0\n",
      "Variane:  4.800000000000001\n"
     ]
    }
   ],
   "source": [
    "# 5. Find the average number of customers who are likely to complain about the fruits. Also find the variance of the number of complaints.\n",
    "\n",
    "#Average\n",
    "average = 30 * 0.20\n",
    "print(\"Average: \", average)\n",
    "\n",
    "#Variance\n",
    "variance = 30 * 0.20 * (1 - 0.20)\n",
    "print(\"Variane: \", variance)"
   ]
  },
  {
   "cell_type": "code",
   "execution_count": 12,
   "metadata": {},
   "outputs": [
    {
     "data": {
      "text/plain": [
       "0.8633088691526637"
      ]
     },
     "execution_count": 12,
     "metadata": {},
     "output_type": "execute_result"
    }
   ],
   "source": [
    "#The number of customer returns in a retail chain per day follows a poisson distribution at a rate of 25 returns per day.\n",
    "\n",
    "#6. Calculate the probability that the number of returns exceeds 30 in a day.\n",
    "\n",
    "stats.poisson.cdf(30, 25)"
   ]
  },
  {
   "cell_type": "code",
   "execution_count": 3,
   "metadata": {},
   "outputs": [
    {
     "data": {
      "text/plain": [
       "0.03122539333667613"
      ]
     },
     "execution_count": 3,
     "metadata": {},
     "output_type": "execute_result"
    }
   ],
   "source": [
    "#7. The IQ of students follows normal distribution with mean 95 and variance 10. What is the probability that the any student selected at random will have IQ more than 102?\n",
    "\n",
    "stats.norm.pdf(102, loc=95, scale=10)"
   ]
  },
  {
   "cell_type": "code",
   "execution_count": 4,
   "metadata": {},
   "outputs": [
    {
     "data": {
      "text/plain": [
       "0.1991482734714558"
      ]
     },
     "execution_count": 4,
     "metadata": {},
     "output_type": "execute_result"
    }
   ],
   "source": [
    "#8. The number of road accidents on the day follow Poisson distribution with mean equals to 3. What is the probability that on a day exactly 1 accident will happen?\n",
    "\n",
    "stats.poisson.cdf(1, 3)"
   ]
  },
  {
   "cell_type": "code",
   "execution_count": 9,
   "metadata": {},
   "outputs": [
    {
     "name": "stdout",
     "output_type": "stream",
     "text": [
      "The test statistic is  0.9307892322540283  and its p-value is  0.0009826880414038897\n"
     ]
    }
   ],
   "source": [
    "#9. Consider the following data does it follow a normal distribution?.\n",
    "\n",
    "data = np.array([75, 97, 70, 25, 80, 40, 82, 72, 82, 46, 72, 64, 24, 66, 78, 34, 37,\n",
    "    64, 75, 94, 76, 96, 88, 37, 29, 51, 67, 45, 69, 59, 81, 66, 30, 52,\n",
    "    66, 85, 80, 74, 69, 83, 66, 84, 76, 73, 77, 85, 72, 71, 71, 75, 59,\n",
    "    84, 65, 64, 86, 58, 85, 61, 79, 61, 68, 61, 60, 78, 76, 80, 57, 75])\n",
    "\n",
    "stat, p = stats.shapiro(data)\n",
    "\n",
    "print(\"The test statistic is \", stat, \" and its p-value is \", p)"
   ]
  },
  {
   "cell_type": "code",
   "execution_count": 10,
   "metadata": {},
   "outputs": [
    {
     "name": "stdout",
     "output_type": "stream",
     "text": [
      "Probability of getting atleast twpo heads is  50.0\n"
     ]
    }
   ],
   "source": [
    "#10. Consider three coins are tossed simultaneously.\n",
    "#1) How many outcomes have at least two heads?\n",
    "#2) What is the probability of the this event?\n",
    "\n",
    "#Let H: Head of the coin tossed and T: Tail of the coin tossed\n",
    "#Three coins tossed simultaneously have the following outcomes: {HHH, HHT, HTH, THH, HTT, THT, TTH, TTT}\n",
    "\n",
    "total = 8\n",
    "num_heads = 4\n",
    "\n",
    "probability = (num_heads / total) * 100\n",
    "\n",
    "print(\"Probability of getting atleast twpo heads is \", probability)"
   ]
  },
  {
   "cell_type": "code",
   "execution_count": 11,
   "metadata": {},
   "outputs": [],
   "source": [
    "# 11. A textile industry observed that on an average its employees can stitch 34 garment on a particular day with variance 3. What are minimum and maximum number of garments that can be produced?\n",
    "\n"
   ]
  },
  {
   "cell_type": "code",
   "execution_count": 57,
   "metadata": {},
   "outputs": [
    {
     "name": "stdout",
     "output_type": "stream",
     "text": [
      "Mean:  32.68421052631579\n",
      "Median:  24.0\n",
      "Mode:  0    17\n",
      "1    45\n",
      "dtype: int64\n",
      "Quantile 25%:  16.5\n"
     ]
    }
   ],
   "source": [
    "# 12. A telecom industry is keen to know the call duration of its customers to introduce new prepaid plans. The data for call duration in minutes is given as follows:\n",
    "#Call duration (in minutes): 23, 03, 13, 04, 45, 35, 48, 98, 65, 45, 75, 24, 15, 25, 34, 17, 16, 17, 19\n",
    "#Obtain the descriptive statistics of the data.\n",
    "import pandas as pd\n",
    "data = pd.Series([23, 3, 13, 4, 45, 35, 48, 98, 65, 45, 75, 24, 15, 25, 34, 17, 16, 17, 19])\n",
    "\n",
    "print(\"Mean: \", np.mean(data))\n",
    "print(\"Median: \", np.median(data))\n",
    "print(\"Mode: \", data.mode())\n",
    "print(\"Quantile 25%: \", data.quantile(0.25))"
   ]
  },
  {
   "cell_type": "code",
   "execution_count": 58,
   "metadata": {},
   "outputs": [
    {
     "name": "stdout",
     "output_type": "stream",
     "text": [
      "Mean:  27.05\n",
      "Standard Deviation:  6.1682655584856265\n",
      "Sample size:  40\n"
     ]
    },
    {
     "data": {
      "text/plain": [
       "(-2.9866976252232313, 0.0028200849973177844)"
      ]
     },
     "execution_count": 58,
     "metadata": {},
     "output_type": "execute_result"
    }
   ],
   "source": [
    "# ClickDart is an e-commerce company. It claims that the product will be delivered within 30 days of placing the order. The data is given below that contains the delivery time of 40 products. The population mean is 30 and the population standard deviation of the delivery time is 12.5 days.\n",
    "\n",
    "data = [16.0, 16.0, 30.0, 37.0, 25.0, 22.0, 19.0, 35.0, 27.0, 32.0, 34.0, 28.0, 24.0, 35.0, 24.0, 21.0, 32.0, 29.0, 24.0, 35.0, 28.0, 29.0, 18.0, 31.0, 28.0, 33.0, 32.0, 24.0, 25.0, 22.0, 21.0, 27.0, 41.0, 23.0, 23.0, 16.0, 24.0, 38.0, 26.0, 28.0]\n",
    "\n",
    "#13. Calculate the mean and standard deviation of these observations and check if calculate Z-statistics can be applied or not\n",
    "print(\"Mean: \", np.mean(data))\n",
    "print(\"Standard Deviation: \", np.std(data))\n",
    "print(\"Sample size: \", len(data))\n",
    "\n",
    "#14. Conduct a hypothesis test at significance level a = 0.05 to verify the claim made by the e-commerce company 'ClickDart'.\n",
    "from statsmodels.stats import weightstats as ws\n",
    "\n",
    "ws.ztest(data, value=30)"
   ]
  },
  {
   "cell_type": "code",
   "execution_count": 17,
   "metadata": {},
   "outputs": [
    {
     "name": "stdout",
     "output_type": "stream",
     "text": [
      "Sample size:  40\n"
     ]
    },
    {
     "data": {
      "text/plain": [
       "(-3.6653028762755846, 0.00024704603730101753)"
      ]
     },
     "execution_count": 17,
     "metadata": {},
     "output_type": "execute_result"
    }
   ],
   "source": [
    "#Glitch Productions (GP) is a newly formed movie production house based out of Atlanta. GP was interested in understanding the production cost required for producing a Hollywood movie. The industry believes that the production house will require 70 million dollars on average. It is assumed that the Hollywood movie production cost follows a normal distribution. The production costs of 40 Hollywood movies in millions of dollars are given below.\n",
    "\n",
    "data = [81, 89, 53, 56, 77, 58, 78, 45, 62, 55, 72, 8, 10, 16, 8, 33, 36, 32, 66, 62, 48, 84, 67, 91, 62, 46, 89, 99, 92, 77, 29, 66, 44, 26, 66, 67,25, 35, 57, 63]\n",
    "\n",
    "print(\"Sample size: \", len(data))\n",
    "\n",
    "#15. Conduct an appropriate hypothesis test at a = 0.05 to check whether the belief about average production cost is correct.\n",
    "\n",
    "ws.ztest(data, value=70)"
   ]
  },
  {
   "cell_type": "code",
   "execution_count": 38,
   "metadata": {},
   "outputs": [
    {
     "name": "stdout",
     "output_type": "stream",
     "text": [
      "Data: \n",
      "       Sizzlers  Pizza  Total\n",
      "Boys         40     30     70\n",
      "Girls        35     60     85\n",
      "Total        65     90    155\n",
      "\n",
      "Marginal Probability: \n",
      "       Sizzlers     Pizza     Total\n",
      "Boys   0.258065  0.193548  0.451613\n",
      "Girls  0.225806  0.387097  0.548387\n",
      "Total  0.419355  0.580645  1.000000\n",
      "\n",
      "The probability that a girl is chosen given that she likes Pizza:  0.6666666666666666\n",
      "\n",
      "The probability that the favourite dish for both boys and girls is sizzlers:  0.41935483870967744\n",
      "\n",
      "The probability that the favourite food is Pizza given that he is a boy:  0.42857142857142855\n"
     ]
    }
   ],
   "source": [
    "df = pd.DataFrame({\"Sizzlers\": [40, 35, 65], \"Pizza\": [30, 60, 90], \"Total\": [70, 85, 155]}, index=[\"Boys\", \"Girls\", \"Total\"])\n",
    "print(\"Data: \")\n",
    "print(df)\n",
    "\n",
    "print()\n",
    "\n",
    "probability_df = df / df.loc[\"Total\", \"Total\"]\n",
    "print(\"Marginal Probability: \")\n",
    "print(probability_df)\n",
    "\n",
    "print()\n",
    "#16. What is the probability that a girl is chosen given that she likes Pizza? \n",
    "# P(y='girl'|x='pizza') = P(y='girl',x='pizza') / P(x='pizza')\n",
    "prob1 = probability_df.loc[\"Girls\", \"Pizza\"] / probability_df.loc[\"Total\", \"Pizza\"]\n",
    "print(\"The probability that a girl is chosen given that she likes Pizza: \", prob1)\n",
    "\n",
    "print()\n",
    "#18. What is the probability that the favourite dish for both boys and girls is sizzlers?\n",
    "prob2 = probability_df.loc[\"Total\", \"Sizzlers\"]\n",
    "print(\"The probability that the favourite dish for both boys and girls is sizzlers: \", prob2)\n",
    "\n",
    "print()\n",
    "#19. What is the probability that the favourite food is Pizza given that he is a boy?\n",
    "# P(y='pizza'|x='boy') = P(y='pizza',x='boy') / P(x='boy')\n",
    "prob3 = probability_df.loc[\"Boys\", \"Pizza\"] / probability_df.loc[\"Boys\", \"Total\"]\n",
    "print(\"The probability that the favourite food is Pizza given that he is a boy: \", prob3)"
   ]
  },
  {
   "cell_type": "code",
   "execution_count": 42,
   "metadata": {},
   "outputs": [],
   "source": [
    "#20. An experiment to study obesity in male workers shows that the average BMI for 36 workers is 23.79. While rechecking the forms, it was noticed that the BMI of a worker was misread as 21.32 instead of 27.32. Find the correct average BMI.\n"
   ]
  },
  {
   "cell_type": "code",
   "execution_count": 44,
   "metadata": {},
   "outputs": [
    {
     "data": {
      "text/plain": [
       "0.4454660564320138"
      ]
     },
     "execution_count": 44,
     "metadata": {},
     "output_type": "execute_result"
    }
   ],
   "source": [
    "#21. Write a function that returns the type of skewness in the given data.\n",
    "# Consider the age of 15 students enrolled in data science program.\n",
    "\n",
    "age = [22, 29, 24, 32, 37, 26, 25, 45, 28, 22, 39, 47, 23, 36, 43]\n",
    "\n",
    "# Hint: Use the skew() from scipy library.\n",
    "\n",
    "stats.skew(age)\n",
    "\n",
    "#Since skewness is close to zero then the data is normally distributed."
   ]
  },
  {
   "cell_type": "code",
   "execution_count": 46,
   "metadata": {},
   "outputs": [
    {
     "name": "stdout",
     "output_type": "stream",
     "text": [
      "The machine produced the highest number of paperclips on  8 th day\n"
     ]
    }
   ],
   "source": [
    "#22. A machine produced, on average, 40 paperclips in 10 days. Observation for one of the days is missing from the data. Find the missing observation to identify the day on which the machine produced the highest number of paperclips.\n",
    "#Consider the number of paperclips produced by a machine in 10 days. 'x' denotes missing data.\n",
    "\n",
    "#Lets assume x = 40\n",
    "\n",
    "x = 40 #Average paperclips\n",
    "num_clips = [41, 35, 42, x, 46, 34, 32, 47, 44, 39]\n",
    "highest = max(num_clips)\n",
    "\n",
    "print(\"The machine produced the highest number of paperclips on \", num_clips.index(highest) + 1, \"th day\")\n"
   ]
  },
  {
   "cell_type": "code",
   "execution_count": 47,
   "metadata": {},
   "outputs": [
    {
     "name": "stdout",
     "output_type": "stream",
     "text": [
      "The range of height for the middle 50% of the data is  6.0\n"
     ]
    }
   ],
   "source": [
    "#23. Consider the height of 12 students in a class. Obtain the range of height for the middle 50% of the data.\n",
    "#Consider the height of 12 students in a class.\n",
    "\n",
    "height = pd.Series([162, 158, 149, 167, 162, 154, 172, 160, 164, 159, 175, 163])\n",
    "\n",
    "#Interquartile range q3 - q1\n",
    "print(\"The range of height for the middle 50% of the data is \", height.quantile(0.75) - height.quantile(0.25))"
   ]
  },
  {
   "cell_type": "code",
   "execution_count": 48,
   "metadata": {},
   "outputs": [
    {
     "name": "stdout",
     "output_type": "stream",
     "text": [
      "Median:  -2.75264\n"
     ]
    }
   ],
   "source": [
    "#24. The ratings of the movies selected for an award are negatively skewed with Karl Pearson's coefficient of skewness as -0.46. The average rating is 3.52, with a standard deviation of 1.7. Find the median rating of the movies.\n",
    "\n",
    "sk = -0.46\n",
    "mean = 3.52\n",
    "sd = 1.7\n",
    "\n",
    "#Sk = (3*mean - 3*median) / sd\n",
    "median = 3 * mean / 3 * sd * sk\n",
    "print(\"Median: \", median)"
   ]
  },
  {
   "cell_type": "code",
   "execution_count": 54,
   "metadata": {},
   "outputs": [
    {
     "name": "stdout",
     "output_type": "stream",
     "text": [
      "Coefficient of variation for Sheldon:  19.45762838254265\n",
      "Coefficient of variation for Ross:  21.145192478821624\n",
      "Coefficient of variation for Joey:  16.246899718045814\n",
      "\n",
      "The number of new subscribers data for Joey has more consistency\n"
     ]
    }
   ],
   "source": [
    "#25. A study reports the monthly count of new subscribers of bloggers; Sheldon, Ross and Joey for a year. Find out who has more consistency in the number of new subscribers?\n",
    "#The count of new subscribers (in thousands) is given below:\n",
    "months = [\"Jan\", \"Feb\", \"Mar\", \"Apr\", \"May\", \"Jun\", \"July\", \"Aug\", \"Sept\", \"Oct\", \"Nov\", \"Dec\"]\n",
    "sheldon = [3, 5.1, 2.9, 3.7, 4.2, 4.2, 4.3, 5.2, 3.7, 4.4, 5.2, 3.4]\n",
    "ross = [4, 4.6, 3.1, 4.2, 5.4, 3.4, 5, 6.2, 4.2, 3.5, 4.1, 5.5]\n",
    "joey = [4.3, 5, 4.5, 5.1, 6, 5, 4.8, 5.4, 5.1, 6.4, 4.2, 3.4]\n",
    "\n",
    "subs = pd.DataFrame({\"Months\": months, \"Sheldon\": sheldon, \"Ross\": ross, \"Joey\": joey})\n",
    "\n",
    "mean_sheldon = subs[\"Sheldon\"].mean()\n",
    "std_sheldon = subs[\"Sheldon\"].std()\n",
    "cv_sheldon = (std_sheldon / mean_sheldon) * 100\n",
    "print(\"Coefficient of variation for Sheldon: \", cv_sheldon)\n",
    "\n",
    "mean_ross = subs[\"Ross\"].mean()\n",
    "std_ross = subs[\"Ross\"].std()\n",
    "cv_ross = (std_ross / mean_ross) * 100\n",
    "print(\"Coefficient of variation for Ross: \", cv_ross)\n",
    "\n",
    "mean_joey = subs[\"Joey\"].mean()\n",
    "std_joey = subs[\"Joey\"].std()\n",
    "cv_joey = (std_joey / mean_joey) * 100\n",
    "print(\"Coefficient of variation for Joey: \", cv_joey)\n",
    "\n",
    "print()\n",
    "\n",
    "if cv_sheldon < cv_ross and cv_sheldon < cv_joey:\n",
    "    print(\"The number of new subscribers data for Sheldon has more consistency\")\n",
    "elif cv_joey < cv_ross and cv_joey < cv_sheldon:\n",
    "    print(\"The number of new subscribers data for Joey has more consistency\")\n",
    "else:\n",
    "    print(\"The number of new subscribers data for Ross has more consistency\")"
   ]
  },
  {
   "cell_type": "code",
   "execution_count": 59,
   "metadata": {},
   "outputs": [
    {
     "data": {
      "text/plain": [
       "(-1.3181466899835235, 0.18745454730541933)"
      ]
     },
     "execution_count": 59,
     "metadata": {},
     "output_type": "execute_result"
    }
   ],
   "source": [
    "#26. It has been claimed from past observations that the average diameter of bolts from a manufacturing process is 1.25 cm. Based on the collected sample of size 150, is there evidence to suggest that the average diameter is not 1.25 cm?\n",
    "\n",
    "diameters = pd.Series([0.89, 1.39, 1.29, 1.36, 1.39, 1.44, 1.24, 0.82, 1.25, 0.85, 0.75, 1.34, 0.84, 1.27, 1.04, 1.36, 1.18, 1.49, 1.54, 0.83, 1.11, 1.14, 1.3 , 0.99, 1.21, 1.51, 1.02, 1.19, 1.05, 1.23, 0.76, 0.81, 0.92, 0.82, 1.64, 1.02, 1.61, 1.2, 1.17, 1.61, 1.23, 1.11, 1.17, 1.63, 1.33, 1.07, 0.94, 1.53, 1.38, 0.8 , 0.95, 1.4 , 1.09, 1.32, 1.43, 1.12, 1.2 , 0.94, 0.98, 1.54, 1.21, 1.4 , 1.13, 0.75, 1.02, 0.99, 1.49, 1.34, 1.57, 1.51, 1.42, 1.27, 0.78, 1.52, 1.5 , 1.13, 1.17, 1.17, 1.21, 1.14, 1.23, 1.46, 1.62, 1.11, 1.28, 1.25, 1.48, 0.76, 1.45, 1.38, 1.15, 0.95, 1.13, 1.24, 1.41, 1.38, 0.86, 1.39, 1.57, 1.32, 1.43, 1.55, 0.89, 1.06, 1.27, 1.46, 0.94, 1.53, 0.87, 1.47, 1.04, 1.12, 1.09, 1.45, 1.37, 1.18, 1.22, 1.29, 1.28, 1.59, 1.06, 1.49, 1.01, 1.31, 1.21, 1.32, 1.59, 0.85, 1.06, 0.82, 1.31, 1.32, 1.05, 1.6 , 0.87, 0.85, 1.13, 1.55, 1.15, 1.11, 1.58, 1.47, 1.52, 1.31, 1.16, 1.12, 0.85, 1.61, 1.42, 1.61]);\n",
    "\n",
    "ws.ztest(diameters, value=1.25)\n",
    "#Since p-value is greater than 0.05, the claim that the average diameter of bolts from a manufacturing process is 1.25 cm is True and there is weak evidence against the claim."
   ]
  },
  {
   "cell_type": "code",
   "execution_count": 60,
   "metadata": {},
   "outputs": [
    {
     "data": {
      "text/plain": [
       "Ttest_relResult(statistic=1.1784158720975104, pvalue=0.27713277282901)"
      ]
     },
     "execution_count": 60,
     "metadata": {},
     "output_type": "execute_result"
    }
   ],
   "source": [
    "#27. Tesco Pharma claims to have produced a new drug which reduces the systolic Blood Pressure after usage of a week.\n",
    "#The BP of 8 patients are recorded before medication and after medication. Do the data suggest that the drug is effective in reducing the systolic blood pressure?\n",
    "\n",
    "df = pd.DataFrame({\"Before\": [90, 85, 78, 88, 90, 100, 92, 81], \"After\": [85, 87, 82, 83, 82, 99, 94, 78]})\n",
    "\n",
    "from scipy.stats import ttest_rel\n",
    "ttest_rel(df[\"Before\"], df[\"After\"])"
   ]
  },
  {
   "cell_type": "code",
   "execution_count": 61,
   "metadata": {},
   "outputs": [
    {
     "data": {
      "text/plain": [
       "Ttest_indResult(statistic=-0.7059501484609986, pvalue=0.4892561782804804)"
      ]
     },
     "execution_count": 61,
     "metadata": {},
     "output_type": "execute_result"
    }
   ],
   "source": [
    "#28. A researcher at BioSeed limited, claims to have modified the existing seed. The yeild for the two types of seeds is recorded for 10 equally sized farms. Is there enough evidence to claim that the there is no difference in the yeild due to the seed type?\n",
    "\n",
    "df = pd.DataFrame({\"Original\": [450, 340, 562, 563, 234, 546, 876, 649, 736, 745], \"Modified\": [345, 576, 675, 674, 865, 457, 776, 567, 568, 753]})\n",
    "\n",
    "from scipy.stats import ttest_ind\n",
    "ttest_ind(df[\"Original\"], df[\"Modified\"])"
   ]
  },
  {
   "cell_type": "code",
   "execution_count": 65,
   "metadata": {},
   "outputs": [
    {
     "name": "stdout",
     "output_type": "stream",
     "text": [
      "The test statistic is  403.2052617150959  and its p-value is  0.0\n"
     ]
    }
   ],
   "source": [
    "#29. Draw a random sample using np.random.random() of size 7000. Test whether the data follows normal distribution.\n",
    "\n",
    "data = np.random.random(size=7000)\n",
    "\n",
    "stat, p = stats.jarque_bera(data)\n",
    "\n",
    "print(\"The test statistic is \", stat, \" and its p-value is \", p)"
   ]
  },
  {
   "cell_type": "code",
   "execution_count": 68,
   "metadata": {},
   "outputs": [
    {
     "data": {
      "text/plain": [
       "0.12093235199999994"
      ]
     },
     "execution_count": 68,
     "metadata": {},
     "output_type": "execute_result"
    }
   ],
   "source": [
    "#30. Assume that in a MCQ test, there are 10 questions, and each question has four options out which only one is correct. Steve knew answers to only 2 questions and has randomly marked answers for other questions. To pass the test one must answer 4 questions correctly. What is the probability that steve will pass?\n",
    "\n",
    "stats.binom.pmf(2, 10, 0.40)"
   ]
  },
  {
   "cell_type": "code",
   "execution_count": null,
   "metadata": {},
   "outputs": [],
   "source": []
  }
 ],
 "metadata": {
  "kernelspec": {
   "display_name": "Python 3",
   "language": "python",
   "name": "python3"
  },
  "language_info": {
   "codemirror_mode": {
    "name": "ipython",
    "version": 3
   },
   "file_extension": ".py",
   "mimetype": "text/x-python",
   "name": "python",
   "nbconvert_exporter": "python",
   "pygments_lexer": "ipython3",
   "version": "3.8.5"
  }
 },
 "nbformat": 4,
 "nbformat_minor": 4
}
