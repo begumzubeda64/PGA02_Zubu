{
 "cells": [
  {
   "cell_type": "code",
   "execution_count": 1,
   "metadata": {},
   "outputs": [
    {
     "name": "stdout",
     "output_type": "stream",
     "text": [
      "Mean:  30.193\n"
     ]
    }
   ],
   "source": [
    "#1) Measure of Central Tendency\n",
    "#Mean\n",
    "import numpy as np\n",
    "rain_mm = [21.2, 21, 98, 25, 22.8, 22.1, 20.8, 24.7, 24.33, 22]\n",
    "\n",
    "print(\"Mean: \", np.mean(rain_mm))"
   ]
  },
  {
   "cell_type": "code",
   "execution_count": 2,
   "metadata": {},
   "outputs": [
    {
     "name": "stdout",
     "output_type": "stream",
     "text": [
      "Median:  22.450000000000003\n"
     ]
    }
   ],
   "source": [
    "#Median\n",
    "rain_mm = [21.2, 21, 98, 25, 22.8, 22.1, 20.8, 24.7, 24.33, 22]\n",
    "\n",
    "print(\"Median: \", np.median(rain_mm))"
   ]
  },
  {
   "cell_type": "code",
   "execution_count": 9,
   "metadata": {},
   "outputs": [
    {
     "name": "stdout",
     "output_type": "stream",
     "text": [
      "Mode: \n",
      "0    212\n",
      "1    275\n",
      "dtype: int64\n"
     ]
    }
   ],
   "source": [
    "#Mode\n",
    "import pandas as pd\n",
    "daily_sal = pd.Series([212, 121, 398, 245, 228, 275, 208, 212, 293, 275, 190, 514, 275, 322, 212])\n",
    "\n",
    "print(\"Mode: \")\n",
    "print(daily_sal.mode())"
   ]
  },
  {
   "cell_type": "code",
   "execution_count": 10,
   "metadata": {},
   "outputs": [
    {
     "name": "stdout",
     "output_type": "stream",
     "text": [
      "Q1:  212.0\n",
      "Q2:  245.0\n",
      "Q3:  284.0\n"
     ]
    }
   ],
   "source": [
    "#Quantile\n",
    "daily_sal = pd.Series([212, 121, 398, 245, 228, 275, 208, 212, 293, 275, 190, 514, 275, 322, 212])\n",
    "\n",
    "print(\"Q1: \", daily_sal.quantile(0.25)) #Quartile 1\n",
    "print(\"Q2: \", daily_sal.quantile(0.50)) #Quartile 2\n",
    "print(\"Q3: \", daily_sal.quantile(0.75)) #Quartile 3"
   ]
  },
  {
   "cell_type": "code",
   "execution_count": 12,
   "metadata": {},
   "outputs": [
    {
     "name": "stdout",
     "output_type": "stream",
     "text": [
      "D1:  197.2\n",
      "D5:  245.0\n",
      "D9:  367.6\n"
     ]
    }
   ],
   "source": [
    "#Deciles\n",
    "daily_sal = pd.Series([212, 121, 398, 245, 228, 275, 208, 212, 293, 275, 190, 514, 275, 322, 212])\n",
    "\n",
    "print(\"D1: \", daily_sal.quantile(0.10)) #Decile 1\n",
    "print(\"D5: \", daily_sal.quantile(0.50)) #Decile 5\n",
    "print(\"D9: \", daily_sal.quantile(0.90)) #Decile 9"
   ]
  },
  {
   "cell_type": "code",
   "execution_count": 14,
   "metadata": {},
   "outputs": [
    {
     "name": "stdout",
     "output_type": "stream",
     "text": [
      "P10:  197.2\n",
      "P50:  245.0\n",
      "P99:  497.76\n"
     ]
    }
   ],
   "source": [
    "#Percentiles\n",
    "daily_sal = pd.Series([212, 121, 398, 245, 228, 275, 208, 212, 293, 275, 190, 514, 275, 322, 212])\n",
    "\n",
    "print(\"P10: \", daily_sal.quantile(0.10)) #Percentile 10\n",
    "print(\"P50: \", daily_sal.quantile(0.50)) #Percentile 50\n",
    "print(\"P99: \", daily_sal.quantile(0.99)) #Percentile 99"
   ]
  },
  {
   "cell_type": "code",
   "execution_count": 16,
   "metadata": {},
   "outputs": [
    {
     "name": "stdout",
     "output_type": "stream",
     "text": [
      "Range:  173\n"
     ]
    }
   ],
   "source": [
    "#2) Measure of Dispersion\n",
    "#Range\n",
    "sales_A = np.array([412, 329, 309, 325, 378, 321, 428, 319, 353, 482])\n",
    "\n",
    "print(\"Range: \", sales_A.max() - sales_A.min())"
   ]
  },
  {
   "cell_type": "code",
   "execution_count": 17,
   "metadata": {},
   "outputs": [
    {
     "name": "stdout",
     "output_type": "stream",
     "text": [
      "Range:  173\n"
     ]
    }
   ],
   "source": [
    "sales_A = np.array([452, 479, 309, 425, 478, 321, 428, 319, 353, 482])\n",
    "\n",
    "print(\"Range: \", sales_A.max() - sales_A.min())"
   ]
  },
  {
   "cell_type": "code",
   "execution_count": 20,
   "metadata": {},
   "outputs": [
    {
     "name": "stdout",
     "output_type": "stream",
     "text": [
      "Variance:  115.34228100000003\n"
     ]
    }
   ],
   "source": [
    "#Variance\n",
    "rain_mm = [41.2, 21.6, 58, 25, 32.8, 22.1, 30.8, 24.7, 34.33, 23]\n",
    "\n",
    "print(\"Variance: \", np.var(rain_mm))"
   ]
  },
  {
   "cell_type": "code",
   "execution_count": 21,
   "metadata": {},
   "outputs": [
    {
     "name": "stdout",
     "output_type": "stream",
     "text": [
      "Standard Deviation:  10.739752371446933\n"
     ]
    }
   ],
   "source": [
    "#Standard Deviation\n",
    "rain_mm = [41.2, 21.6, 58, 25, 32.8, 22.1, 30.8, 24.7, 34.33, 23]\n",
    "\n",
    "print(\"Standard Deviation: \", np.std(rain_mm))"
   ]
  },
  {
   "cell_type": "code",
   "execution_count": 22,
   "metadata": {},
   "outputs": [
    {
     "name": "stdout",
     "output_type": "stream",
     "text": [
      "Salary A CV:  3.5211267605633805\n"
     ]
    }
   ],
   "source": [
    "#Coefficient of variation\n",
    "expected_sal_A = 568\n",
    "std_sal_A = 20\n",
    "cv = (std_sal_A / expected_sal_A) * 100\n",
    "print(\"Salary A CV: \", cv)"
   ]
  },
  {
   "cell_type": "code",
   "execution_count": 23,
   "metadata": {},
   "outputs": [
    {
     "name": "stdout",
     "output_type": "stream",
     "text": [
      "Salary B CV:  4.487179487179487\n"
     ]
    }
   ],
   "source": [
    "expected_sal_B = 780\n",
    "std_sal_B = 35\n",
    "cv = (std_sal_B / expected_sal_B) * 100\n",
    "print(\"Salary B CV: \", cv)"
   ]
  },
  {
   "cell_type": "code",
   "execution_count": 25,
   "metadata": {},
   "outputs": [
    {
     "name": "stdout",
     "output_type": "stream",
     "text": [
      "IQR:  90.5\n"
     ]
    }
   ],
   "source": [
    "#Interquartile range (Q3 - Q1)\n",
    "#(data >= Q1 - 1.5 * IQR) & (data <= Q3 + 1.5 * IQR) lower & Upper outliers not included\n",
    "#Quantile\n",
    "daily_sal = pd.Series([212, 121, 398, 245, 228, 275, 208, 212, 293, 275, 190, 514, 275, 322, 312])\n",
    "\n",
    "Q1 =  daily_sal.quantile(0.25) #Quartile 1\n",
    "Q3 =  daily_sal.quantile(0.75) #Quartile 3\n",
    "\n",
    "print(\"IQR: \", (Q3 - Q1))"
   ]
  },
  {
   "cell_type": "code",
   "execution_count": null,
   "metadata": {},
   "outputs": [],
   "source": []
  }
 ],
 "metadata": {
  "kernelspec": {
   "display_name": "Python 3",
   "language": "python",
   "name": "python3"
  },
  "language_info": {
   "codemirror_mode": {
    "name": "ipython",
    "version": 3
   },
   "file_extension": ".py",
   "mimetype": "text/x-python",
   "name": "python",
   "nbconvert_exporter": "python",
   "pygments_lexer": "ipython3",
   "version": "3.8.5"
  }
 },
 "nbformat": 4,
 "nbformat_minor": 4
}
